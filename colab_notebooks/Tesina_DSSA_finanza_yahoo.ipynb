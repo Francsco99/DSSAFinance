{
  "nbformat": 4,
  "nbformat_minor": 0,
  "metadata": {
    "colab": {
      "provenance": [],
      "authorship_tag": "ABX9TyOqVPjAU5iFer9Va9GLVX5G",
      "include_colab_link": true
    },
    "kernelspec": {
      "name": "python3",
      "display_name": "Python 3"
    },
    "language_info": {
      "name": "python"
    }
  },
  "cells": [
    {
      "cell_type": "markdown",
      "metadata": {
        "id": "view-in-github",
        "colab_type": "text"
      },
      "source": [
        "<a href=\"https://colab.research.google.com/github/Francsco99/DSSAFinance/blob/main/Tesina_DSSA_finanza_yahoo.ipynb\" target=\"_parent\"><img src=\"https://colab.research.google.com/assets/colab-badge.svg\" alt=\"Open In Colab\"/></a>"
      ]
    },
    {
      "cell_type": "code",
      "execution_count": null,
      "metadata": {
        "id": "6FyhoHEB3v0-"
      },
      "outputs": [],
      "source": [
        "#Description: This program attempts to optimize a users portfolio using the Efficient Frontier & Python\n"
      ]
    },
    {
      "cell_type": "code",
      "source": [
        "#Import the python libraries\n",
        "\n",
        "#pandas is used to retrieve data from yahoo finance\n",
        "from pandas_datareader import data as web\n",
        "import pandas as pd\n",
        "\n",
        "#yahoo finance\n",
        "!pip install yfinance\n",
        "import yfinance as yfin\n",
        "yfin.pdr_override()\n",
        "\n",
        "import numpy as np\n",
        "\n",
        "#random library to generate weights values\n",
        "import random\n",
        "\n",
        "#matplotlib to plot the data\n",
        "import matplotlib.pyplot as plt\n",
        "plt.style.use('classic')"
      ],
      "metadata": {
        "id": "lwWsY-pB38In",
        "colab": {
          "base_uri": "https://localhost:8080/",
          "height": 973
        },
        "outputId": "849f454f-7009-499e-c522-4aba754a0830"
      },
      "execution_count": null,
      "outputs": [
        {
          "output_type": "stream",
          "name": "stdout",
          "text": [
            "Looking in indexes: https://pypi.org/simple, https://us-python.pkg.dev/colab-wheels/public/simple/\n",
            "Collecting yfinance\n",
            "  Downloading yfinance-0.2.9-py2.py3-none-any.whl (55 kB)\n",
            "\u001b[2K     \u001b[90m━━━━━━━━━━━━━━━━━━━━━━━━━━━━━━━━━━━━━━━━\u001b[0m \u001b[32m55.9/55.9 KB\u001b[0m \u001b[31m3.6 MB/s\u001b[0m eta \u001b[36m0:00:00\u001b[0m\n",
            "\u001b[?25hRequirement already satisfied: numpy>=1.16.5 in /usr/local/lib/python3.8/dist-packages (from yfinance) (1.21.6)\n",
            "Requirement already satisfied: pytz>=2022.5 in /usr/local/lib/python3.8/dist-packages (from yfinance) (2022.7)\n",
            "Requirement already satisfied: multitasking>=0.0.7 in /usr/local/lib/python3.8/dist-packages (from yfinance) (0.0.11)\n",
            "Requirement already satisfied: lxml>=4.9.1 in /usr/local/lib/python3.8/dist-packages (from yfinance) (4.9.2)\n",
            "Collecting html5lib>=1.1\n",
            "  Downloading html5lib-1.1-py2.py3-none-any.whl (112 kB)\n",
            "\u001b[2K     \u001b[90m━━━━━━━━━━━━━━━━━━━━━━━━━━━━━━━━━━━━━━━\u001b[0m \u001b[32m112.2/112.2 KB\u001b[0m \u001b[31m9.7 MB/s\u001b[0m eta \u001b[36m0:00:00\u001b[0m\n",
            "\u001b[?25hCollecting requests>=2.26\n",
            "  Downloading requests-2.28.2-py3-none-any.whl (62 kB)\n",
            "\u001b[2K     \u001b[90m━━━━━━━━━━━━━━━━━━━━━━━━━━━━━━━━━━━━━━━━\u001b[0m \u001b[32m62.8/62.8 KB\u001b[0m \u001b[31m4.1 MB/s\u001b[0m eta \u001b[36m0:00:00\u001b[0m\n",
            "\u001b[?25hRequirement already satisfied: pandas>=1.3.0 in /usr/local/lib/python3.8/dist-packages (from yfinance) (1.3.5)\n",
            "Collecting frozendict>=2.3.4\n",
            "  Downloading frozendict-2.3.4-cp38-cp38-manylinux_2_17_x86_64.manylinux2014_x86_64.whl (110 kB)\n",
            "\u001b[2K     \u001b[90m━━━━━━━━━━━━━━━━━━━━━━━━━━━━━━━━━━━━━━━\u001b[0m \u001b[32m111.0/111.0 KB\u001b[0m \u001b[31m8.7 MB/s\u001b[0m eta \u001b[36m0:00:00\u001b[0m\n",
            "\u001b[?25hCollecting beautifulsoup4>=4.11.1\n",
            "  Downloading beautifulsoup4-4.11.1-py3-none-any.whl (128 kB)\n",
            "\u001b[2K     \u001b[90m━━━━━━━━━━━━━━━━━━━━━━━━━━━━━━━━━━━━━━━\u001b[0m \u001b[32m128.2/128.2 KB\u001b[0m \u001b[31m8.1 MB/s\u001b[0m eta \u001b[36m0:00:00\u001b[0m\n",
            "\u001b[?25hRequirement already satisfied: appdirs>=1.4.4 in /usr/local/lib/python3.8/dist-packages (from yfinance) (1.4.4)\n",
            "Collecting cryptography>=3.3.2\n",
            "  Downloading cryptography-39.0.0-cp36-abi3-manylinux_2_28_x86_64.whl (4.2 MB)\n",
            "\u001b[2K     \u001b[90m━━━━━━━━━━━━━━━━━━━━━━━━━━━━━━━━━━━━━━━━\u001b[0m \u001b[32m4.2/4.2 MB\u001b[0m \u001b[31m68.6 MB/s\u001b[0m eta \u001b[36m0:00:00\u001b[0m\n",
            "\u001b[?25hCollecting soupsieve>1.2\n",
            "  Downloading soupsieve-2.3.2.post1-py3-none-any.whl (37 kB)\n",
            "Requirement already satisfied: cffi>=1.12 in /usr/local/lib/python3.8/dist-packages (from cryptography>=3.3.2->yfinance) (1.15.1)\n",
            "Requirement already satisfied: six>=1.9 in /usr/local/lib/python3.8/dist-packages (from html5lib>=1.1->yfinance) (1.15.0)\n",
            "Requirement already satisfied: webencodings in /usr/local/lib/python3.8/dist-packages (from html5lib>=1.1->yfinance) (0.5.1)\n",
            "Requirement already satisfied: python-dateutil>=2.7.3 in /usr/local/lib/python3.8/dist-packages (from pandas>=1.3.0->yfinance) (2.8.2)\n",
            "Requirement already satisfied: charset-normalizer<4,>=2 in /usr/local/lib/python3.8/dist-packages (from requests>=2.26->yfinance) (2.1.1)\n",
            "Requirement already satisfied: urllib3<1.27,>=1.21.1 in /usr/local/lib/python3.8/dist-packages (from requests>=2.26->yfinance) (1.24.3)\n",
            "Requirement already satisfied: idna<4,>=2.5 in /usr/local/lib/python3.8/dist-packages (from requests>=2.26->yfinance) (2.10)\n",
            "Requirement already satisfied: certifi>=2017.4.17 in /usr/local/lib/python3.8/dist-packages (from requests>=2.26->yfinance) (2022.12.7)\n",
            "Requirement already satisfied: pycparser in /usr/local/lib/python3.8/dist-packages (from cffi>=1.12->cryptography>=3.3.2->yfinance) (2.21)\n",
            "Installing collected packages: soupsieve, requests, html5lib, frozendict, cryptography, beautifulsoup4, yfinance\n",
            "  Attempting uninstall: requests\n",
            "    Found existing installation: requests 2.25.1\n",
            "    Uninstalling requests-2.25.1:\n",
            "      Successfully uninstalled requests-2.25.1\n",
            "  Attempting uninstall: html5lib\n",
            "    Found existing installation: html5lib 1.0.1\n",
            "    Uninstalling html5lib-1.0.1:\n",
            "      Successfully uninstalled html5lib-1.0.1\n",
            "  Attempting uninstall: beautifulsoup4\n",
            "    Found existing installation: beautifulsoup4 4.6.3\n",
            "    Uninstalling beautifulsoup4-4.6.3:\n",
            "      Successfully uninstalled beautifulsoup4-4.6.3\n",
            "Successfully installed beautifulsoup4-4.11.1 cryptography-39.0.0 frozendict-2.3.4 html5lib-1.1 requests-2.28.2 soupsieve-2.3.2.post1 yfinance-0.2.9\n"
          ]
        },
        {
          "output_type": "display_data",
          "data": {
            "application/vnd.colab-display-data+json": {
              "pip_warning": {
                "packages": [
                  "requests"
                ]
              }
            }
          },
          "metadata": {}
        }
      ]
    },
    {
      "cell_type": "code",
      "source": [
        "#Portfolio definition, first 100 stocks of SP500 index\n",
        "\n",
        "#removed BKNG for plot legibility\n",
        "#Added FRT\n",
        "sp500_first100 = ['AAPL','MSFT','AMZN','GOOGL','BRK-B','GOOG','XOM','UNH','JNJ','NVDA','JPM','V','TSLA','PG','CVX','HD','MA','META',\n",
        "                  'MRK','LLY','ABBV','PFE','PEP','KO','BAC','TMO','AVGO','COST','WMT','ABT','MCD','CSCO','DIS','DHR','ACN','VZ','CMCSA',\n",
        "                  'NEE','WFC','LIN','ADBE','PM','NKE','BMY','TXN','COP','CRM','NFLX','AMGN','RTX','T','HON','ORCL','QCOM','UPS','CAT','IBM',\n",
        "                  'UNP','LOW','MS','SPGI','SBUX','GS','INTC','SCHW','BA','CVS','ELV','DE','PLD','BLK','AMD','INTU','MDT','GILD','AMT','LMT',\n",
        "                  'ADP','C','CI','TJX','AMAT','CB','ISRG','AXP','PYPL','MDLZ','TMUS','NOW','SYK','ADI','MMC','GE','SLB','MO','VRTX','DUK','EOG',\n",
        "                  'REGN','FRT']"
      ],
      "metadata": {
        "id": "dAyyifgx4l-f"
      },
      "execution_count": null,
      "outputs": []
    },
    {
      "cell_type": "code",
      "source": [
        "#Portfolio definition, i choose the stocks\n",
        "my_portfolio = ['GC=F','NVR','BKNG','AZO','CMG','IMMR']"
      ],
      "metadata": {
        "id": "gwQd9lBaUvoe"
      },
      "execution_count": null,
      "outputs": []
    },
    {
      "cell_type": "code",
      "source": [
        "#Generate a array of random weights for the stokcs in the portfolio my_portfolio\n",
        "\n",
        "num_stocks = len(my_portfolio) #choose here the portfolio\n",
        "\n",
        "# Generate a array of 50 random numbers between 0 and 1\n",
        "weights = np.array([random.uniform(0,1) for _ in range(num_stocks)])\n",
        "\n",
        "# Scale the numbers so that their sum is equal to 1\n",
        "s = np.sum(weights)\n",
        "weights = np.round(weights/s, 5)\n",
        "\n",
        "print(weights)"
      ],
      "metadata": {
        "colab": {
          "base_uri": "https://localhost:8080/"
        },
        "id": "tHRCRsLwPntm",
        "outputId": "33dbc215-de59-4424-9e2e-0d5e0b2da708"
      },
      "execution_count": null,
      "outputs": [
        {
          "output_type": "stream",
          "name": "stdout",
          "text": [
            "[0.15555 0.15968 0.09019 0.04889 0.33344 0.21225]\n"
          ]
        }
      ]
    },
    {
      "cell_type": "code",
      "source": [
        "#Or assing custom weights\n",
        "\n",
        "#weights = np.array([0.1, 0.1])"
      ],
      "metadata": {
        "id": "4S9A-y545pl8"
      },
      "execution_count": null,
      "outputs": []
    },
    {
      "cell_type": "code",
      "source": [
        "#Get the portfolio starting date\n",
        "stockStartDate = '2018-01-01'\n",
        "\n",
        "#Get the portfolio ending date\n",
        "stockEndDate = '2020-01-01'"
      ],
      "metadata": {
        "id": "2dHxvyMJ-EfH"
      },
      "execution_count": null,
      "outputs": []
    },
    {
      "cell_type": "code",
      "source": [
        "#Get the Adjusted Close information for each stock in the portfolio\n",
        "df = web.get_data_yahoo(my_portfolio, stockStartDate,stockEndDate)['Adj Close']"
      ],
      "metadata": {
        "colab": {
          "base_uri": "https://localhost:8080/"
        },
        "id": "dPlPGTS8Ne4S",
        "outputId": "cb5dc3dd-171f-4ab5-acb4-b79c39ecd0c2"
      },
      "execution_count": null,
      "outputs": [
        {
          "output_type": "stream",
          "name": "stdout",
          "text": [
            "[*********************100%***********************]  6 of 6 completed\n"
          ]
        }
      ]
    },
    {
      "cell_type": "code",
      "source": [
        "#Show the values of the data frame\n",
        "df"
      ],
      "metadata": {
        "colab": {
          "base_uri": "https://localhost:8080/",
          "height": 455
        },
        "id": "WZ0YNlreNmsY",
        "outputId": "af8b1a6a-84ea-4fd3-b7df-cacce41e5dd5"
      },
      "execution_count": null,
      "outputs": [
        {
          "output_type": "execute_result",
          "data": {
            "text/plain": [
              "                                   AZO         BKNG         CMG         GC=F  \\\n",
              "Date                                                                           \n",
              "2018-01-02 00:00:00-05:00   736.539978  1784.750000  292.950012  1313.699951   \n",
              "2018-01-03 00:00:00-05:00   749.429993  1824.160034  309.000000  1316.199951   \n",
              "2018-01-04 00:00:00-05:00   761.260010  1807.250000  307.109985  1319.400024   \n",
              "2018-01-05 00:00:00-05:00   775.500000  1823.540039  313.790009  1320.300049   \n",
              "2018-01-08 00:00:00-05:00   766.479980  1851.810059  318.470001  1318.599976   \n",
              "...                                ...          ...         ...          ...   \n",
              "2019-12-24 00:00:00-05:00  1219.310059  2044.000000  828.890015  1499.099976   \n",
              "2019-12-26 00:00:00-05:00  1210.719971  2064.320068  838.599976  1509.300049   \n",
              "2019-12-27 00:00:00-05:00  1202.589966  2072.540039  836.789978  1513.800049   \n",
              "2019-12-30 00:00:00-05:00  1183.250000  2053.870117  836.070007  1514.500000   \n",
              "2019-12-31 00:00:00-05:00  1191.310059  2053.729980  837.109985  1519.500000   \n",
              "\n",
              "                               IMMR          NVR  \n",
              "Date                                              \n",
              "2018-01-02 00:00:00-05:00  6.968404  3529.610107  \n",
              "2018-01-03 00:00:00-05:00  7.351715  3562.830078  \n",
              "2018-01-04 00:00:00-05:00  7.273087  3520.510010  \n",
              "2018-01-05 00:00:00-05:00  7.410686  3567.000000  \n",
              "2018-01-08 00:00:00-05:00  7.518799  3624.800049  \n",
              "...                             ...          ...  \n",
              "2019-12-24 00:00:00-05:00  7.715369  3817.149902  \n",
              "2019-12-26 00:00:00-05:00  7.636741  3810.550049  \n",
              "2019-12-27 00:00:00-05:00  7.450000  3816.370117  \n",
              "2019-12-30 00:00:00-05:00  7.391029  3823.000000  \n",
              "2019-12-31 00:00:00-05:00  7.302572  3808.409912  \n",
              "\n",
              "[503 rows x 6 columns]"
            ],
            "text/html": [
              "\n",
              "  <div id=\"df-41a1d989-d0ff-43e7-845d-0544a003d802\">\n",
              "    <div class=\"colab-df-container\">\n",
              "      <div>\n",
              "<style scoped>\n",
              "    .dataframe tbody tr th:only-of-type {\n",
              "        vertical-align: middle;\n",
              "    }\n",
              "\n",
              "    .dataframe tbody tr th {\n",
              "        vertical-align: top;\n",
              "    }\n",
              "\n",
              "    .dataframe thead th {\n",
              "        text-align: right;\n",
              "    }\n",
              "</style>\n",
              "<table border=\"1\" class=\"dataframe\">\n",
              "  <thead>\n",
              "    <tr style=\"text-align: right;\">\n",
              "      <th></th>\n",
              "      <th>AZO</th>\n",
              "      <th>BKNG</th>\n",
              "      <th>CMG</th>\n",
              "      <th>GC=F</th>\n",
              "      <th>IMMR</th>\n",
              "      <th>NVR</th>\n",
              "    </tr>\n",
              "    <tr>\n",
              "      <th>Date</th>\n",
              "      <th></th>\n",
              "      <th></th>\n",
              "      <th></th>\n",
              "      <th></th>\n",
              "      <th></th>\n",
              "      <th></th>\n",
              "    </tr>\n",
              "  </thead>\n",
              "  <tbody>\n",
              "    <tr>\n",
              "      <th>2018-01-02 00:00:00-05:00</th>\n",
              "      <td>736.539978</td>\n",
              "      <td>1784.750000</td>\n",
              "      <td>292.950012</td>\n",
              "      <td>1313.699951</td>\n",
              "      <td>6.968404</td>\n",
              "      <td>3529.610107</td>\n",
              "    </tr>\n",
              "    <tr>\n",
              "      <th>2018-01-03 00:00:00-05:00</th>\n",
              "      <td>749.429993</td>\n",
              "      <td>1824.160034</td>\n",
              "      <td>309.000000</td>\n",
              "      <td>1316.199951</td>\n",
              "      <td>7.351715</td>\n",
              "      <td>3562.830078</td>\n",
              "    </tr>\n",
              "    <tr>\n",
              "      <th>2018-01-04 00:00:00-05:00</th>\n",
              "      <td>761.260010</td>\n",
              "      <td>1807.250000</td>\n",
              "      <td>307.109985</td>\n",
              "      <td>1319.400024</td>\n",
              "      <td>7.273087</td>\n",
              "      <td>3520.510010</td>\n",
              "    </tr>\n",
              "    <tr>\n",
              "      <th>2018-01-05 00:00:00-05:00</th>\n",
              "      <td>775.500000</td>\n",
              "      <td>1823.540039</td>\n",
              "      <td>313.790009</td>\n",
              "      <td>1320.300049</td>\n",
              "      <td>7.410686</td>\n",
              "      <td>3567.000000</td>\n",
              "    </tr>\n",
              "    <tr>\n",
              "      <th>2018-01-08 00:00:00-05:00</th>\n",
              "      <td>766.479980</td>\n",
              "      <td>1851.810059</td>\n",
              "      <td>318.470001</td>\n",
              "      <td>1318.599976</td>\n",
              "      <td>7.518799</td>\n",
              "      <td>3624.800049</td>\n",
              "    </tr>\n",
              "    <tr>\n",
              "      <th>...</th>\n",
              "      <td>...</td>\n",
              "      <td>...</td>\n",
              "      <td>...</td>\n",
              "      <td>...</td>\n",
              "      <td>...</td>\n",
              "      <td>...</td>\n",
              "    </tr>\n",
              "    <tr>\n",
              "      <th>2019-12-24 00:00:00-05:00</th>\n",
              "      <td>1219.310059</td>\n",
              "      <td>2044.000000</td>\n",
              "      <td>828.890015</td>\n",
              "      <td>1499.099976</td>\n",
              "      <td>7.715369</td>\n",
              "      <td>3817.149902</td>\n",
              "    </tr>\n",
              "    <tr>\n",
              "      <th>2019-12-26 00:00:00-05:00</th>\n",
              "      <td>1210.719971</td>\n",
              "      <td>2064.320068</td>\n",
              "      <td>838.599976</td>\n",
              "      <td>1509.300049</td>\n",
              "      <td>7.636741</td>\n",
              "      <td>3810.550049</td>\n",
              "    </tr>\n",
              "    <tr>\n",
              "      <th>2019-12-27 00:00:00-05:00</th>\n",
              "      <td>1202.589966</td>\n",
              "      <td>2072.540039</td>\n",
              "      <td>836.789978</td>\n",
              "      <td>1513.800049</td>\n",
              "      <td>7.450000</td>\n",
              "      <td>3816.370117</td>\n",
              "    </tr>\n",
              "    <tr>\n",
              "      <th>2019-12-30 00:00:00-05:00</th>\n",
              "      <td>1183.250000</td>\n",
              "      <td>2053.870117</td>\n",
              "      <td>836.070007</td>\n",
              "      <td>1514.500000</td>\n",
              "      <td>7.391029</td>\n",
              "      <td>3823.000000</td>\n",
              "    </tr>\n",
              "    <tr>\n",
              "      <th>2019-12-31 00:00:00-05:00</th>\n",
              "      <td>1191.310059</td>\n",
              "      <td>2053.729980</td>\n",
              "      <td>837.109985</td>\n",
              "      <td>1519.500000</td>\n",
              "      <td>7.302572</td>\n",
              "      <td>3808.409912</td>\n",
              "    </tr>\n",
              "  </tbody>\n",
              "</table>\n",
              "<p>503 rows × 6 columns</p>\n",
              "</div>\n",
              "      <button class=\"colab-df-convert\" onclick=\"convertToInteractive('df-41a1d989-d0ff-43e7-845d-0544a003d802')\"\n",
              "              title=\"Convert this dataframe to an interactive table.\"\n",
              "              style=\"display:none;\">\n",
              "        \n",
              "  <svg xmlns=\"http://www.w3.org/2000/svg\" height=\"24px\"viewBox=\"0 0 24 24\"\n",
              "       width=\"24px\">\n",
              "    <path d=\"M0 0h24v24H0V0z\" fill=\"none\"/>\n",
              "    <path d=\"M18.56 5.44l.94 2.06.94-2.06 2.06-.94-2.06-.94-.94-2.06-.94 2.06-2.06.94zm-11 1L8.5 8.5l.94-2.06 2.06-.94-2.06-.94L8.5 2.5l-.94 2.06-2.06.94zm10 10l.94 2.06.94-2.06 2.06-.94-2.06-.94-.94-2.06-.94 2.06-2.06.94z\"/><path d=\"M17.41 7.96l-1.37-1.37c-.4-.4-.92-.59-1.43-.59-.52 0-1.04.2-1.43.59L10.3 9.45l-7.72 7.72c-.78.78-.78 2.05 0 2.83L4 21.41c.39.39.9.59 1.41.59.51 0 1.02-.2 1.41-.59l7.78-7.78 2.81-2.81c.8-.78.8-2.07 0-2.86zM5.41 20L4 18.59l7.72-7.72 1.47 1.35L5.41 20z\"/>\n",
              "  </svg>\n",
              "      </button>\n",
              "      \n",
              "  <style>\n",
              "    .colab-df-container {\n",
              "      display:flex;\n",
              "      flex-wrap:wrap;\n",
              "      gap: 12px;\n",
              "    }\n",
              "\n",
              "    .colab-df-convert {\n",
              "      background-color: #E8F0FE;\n",
              "      border: none;\n",
              "      border-radius: 50%;\n",
              "      cursor: pointer;\n",
              "      display: none;\n",
              "      fill: #1967D2;\n",
              "      height: 32px;\n",
              "      padding: 0 0 0 0;\n",
              "      width: 32px;\n",
              "    }\n",
              "\n",
              "    .colab-df-convert:hover {\n",
              "      background-color: #E2EBFA;\n",
              "      box-shadow: 0px 1px 2px rgba(60, 64, 67, 0.3), 0px 1px 3px 1px rgba(60, 64, 67, 0.15);\n",
              "      fill: #174EA6;\n",
              "    }\n",
              "\n",
              "    [theme=dark] .colab-df-convert {\n",
              "      background-color: #3B4455;\n",
              "      fill: #D2E3FC;\n",
              "    }\n",
              "\n",
              "    [theme=dark] .colab-df-convert:hover {\n",
              "      background-color: #434B5C;\n",
              "      box-shadow: 0px 1px 3px 1px rgba(0, 0, 0, 0.15);\n",
              "      filter: drop-shadow(0px 1px 2px rgba(0, 0, 0, 0.3));\n",
              "      fill: #FFFFFF;\n",
              "    }\n",
              "  </style>\n",
              "\n",
              "      <script>\n",
              "        const buttonEl =\n",
              "          document.querySelector('#df-41a1d989-d0ff-43e7-845d-0544a003d802 button.colab-df-convert');\n",
              "        buttonEl.style.display =\n",
              "          google.colab.kernel.accessAllowed ? 'block' : 'none';\n",
              "\n",
              "        async function convertToInteractive(key) {\n",
              "          const element = document.querySelector('#df-41a1d989-d0ff-43e7-845d-0544a003d802');\n",
              "          const dataTable =\n",
              "            await google.colab.kernel.invokeFunction('convertToInteractive',\n",
              "                                                     [key], {});\n",
              "          if (!dataTable) return;\n",
              "\n",
              "          const docLinkHtml = 'Like what you see? Visit the ' +\n",
              "            '<a target=\"_blank\" href=https://colab.research.google.com/notebooks/data_table.ipynb>data table notebook</a>'\n",
              "            + ' to learn more about interactive tables.';\n",
              "          element.innerHTML = '';\n",
              "          dataTable['output_type'] = 'display_data';\n",
              "          await google.colab.output.renderOutput(dataTable, element);\n",
              "          const docLink = document.createElement('div');\n",
              "          docLink.innerHTML = docLinkHtml;\n",
              "          element.appendChild(docLink);\n",
              "        }\n",
              "      </script>\n",
              "    </div>\n",
              "  </div>\n",
              "  "
            ]
          },
          "metadata": {},
          "execution_count": 9
        }
      ]
    },
    {
      "cell_type": "code",
      "source": [
        "#Visually show the portfolio\n",
        "title = 'Portfolio Close Price History'\n",
        "\n",
        "#Get the stocks\n",
        "my_stocks = df\n",
        "\n",
        "#Create and plot the graph\n",
        "for c in my_stocks.columns.values:\n",
        "  plt.plot(my_stocks[c], label = c)\n",
        "plt.title(title)\n",
        "plt.xlabel('Date',fontsize = 18)\n",
        "plt.ylabel('Close Price USD ($)', fontsize = 18)\n",
        "#plt.legend(my_stocks.columns.values, loc = 'upper right')\n",
        "\n",
        "#Download plot\n",
        "#plt.savefig(\"fig.pdf\")\n",
        "#from google.colab import files\n",
        "#files.download(\"fig.pdf\")\n",
        "\n",
        "#Show the plot\n",
        "plt.show()"
      ],
      "metadata": {
        "colab": {
          "base_uri": "https://localhost:8080/",
          "height": 476
        },
        "id": "-tmO1N8bGo3-",
        "outputId": "7af78682-c2ed-429b-cfd0-51ae2e2696c0"
      },
      "execution_count": null,
      "outputs": [
        {
          "output_type": "display_data",
          "data": {
            "text/plain": [
              "<Figure size 640x480 with 1 Axes>"
            ],
            "image/png": "[encoded data removed]"
          },
          "metadata": {}
        }
      ]
    },
    {
      "cell_type": "code",
      "source": [
        "#Calculate the daily simple return = stock_price/stock_price_precedent -1\n",
        "returns = df.pct_change()\n",
        "\n",
        "#Show the daily simple return\n",
        "returns"
      ],
      "metadata": {
        "colab": {
          "base_uri": "https://localhost:8080/",
          "height": 455
        },
        "id": "n7krwojsHeOF",
        "outputId": "d8c477b3-1c40-4d28-cae6-5eee17cd93f6"
      },
      "execution_count": null,
      "outputs": [
        {
          "output_type": "execute_result",
          "data": {
            "text/plain": [
              "                                AZO      BKNG       CMG      GC=F      IMMR  \\\n",
              "Date                                                                          \n",
              "2018-01-02 00:00:00-05:00       NaN       NaN       NaN       NaN       NaN   \n",
              "2018-01-03 00:00:00-05:00  0.017501  0.022082  0.054787  0.001903  0.055007   \n",
              "2018-01-04 00:00:00-05:00  0.015785 -0.009270 -0.006117  0.002431 -0.010695   \n",
              "2018-01-05 00:00:00-05:00  0.018706  0.009014  0.021751  0.000682  0.018919   \n",
              "2018-01-08 00:00:00-05:00 -0.011631  0.015503  0.014914 -0.001288  0.014589   \n",
              "...                             ...       ...       ...       ...       ...   \n",
              "2019-12-24 00:00:00-05:00  0.004482  0.005856  0.000724  0.011197  0.003836   \n",
              "2019-12-26 00:00:00-05:00 -0.007045  0.009941  0.011714  0.006804 -0.010191   \n",
              "2019-12-27 00:00:00-05:00 -0.006715  0.003982 -0.002158  0.002982 -0.024453   \n",
              "2019-12-30 00:00:00-05:00 -0.016082 -0.009008 -0.000860  0.000462 -0.007916   \n",
              "2019-12-31 00:00:00-05:00  0.006812 -0.000068  0.001244  0.003301 -0.011968   \n",
              "\n",
              "                                NVR  \n",
              "Date                                 \n",
              "2018-01-02 00:00:00-05:00       NaN  \n",
              "2018-01-03 00:00:00-05:00  0.009412  \n",
              "2018-01-04 00:00:00-05:00 -0.011878  \n",
              "2018-01-05 00:00:00-05:00  0.013205  \n",
              "2018-01-08 00:00:00-05:00  0.016204  \n",
              "...                             ...  \n",
              "2019-12-24 00:00:00-05:00  0.008039  \n",
              "2019-12-26 00:00:00-05:00 -0.001729  \n",
              "2019-12-27 00:00:00-05:00  0.001527  \n",
              "2019-12-30 00:00:00-05:00  0.001737  \n",
              "2019-12-31 00:00:00-05:00 -0.003816  \n",
              "\n",
              "[503 rows x 6 columns]"
            ],
            "text/html": [
              "\n",
              "  <div id=\"df-89f5379b-d36c-40f0-8058-ca297273f791\">\n",
              "    <div class=\"colab-df-container\">\n",
              "      <div>\n",
              "<style scoped>\n",
              "    .dataframe tbody tr th:only-of-type {\n",
              "        vertical-align: middle;\n",
              "    }\n",
              "\n",
              "    .dataframe tbody tr th {\n",
              "        vertical-align: top;\n",
              "    }\n",
              "\n",
              "    .dataframe thead th {\n",
              "        text-align: right;\n",
              "    }\n",
              "</style>\n",
              "<table border=\"1\" class=\"dataframe\">\n",
              "  <thead>\n",
              "    <tr style=\"text-align: right;\">\n",
              "      <th></th>\n",
              "      <th>AZO</th>\n",
              "      <th>BKNG</th>\n",
              "      <th>CMG</th>\n",
              "      <th>GC=F</th>\n",
              "      <th>IMMR</th>\n",
              "      <th>NVR</th>\n",
              "    </tr>\n",
              "    <tr>\n",
              "      <th>Date</th>\n",
              "      <th></th>\n",
              "      <th></th>\n",
              "      <th></th>\n",
              "      <th></th>\n",
              "      <th></th>\n",
              "      <th></th>\n",
              "    </tr>\n",
              "  </thead>\n",
              "  <tbody>\n",
              "    <tr>\n",
              "      <th>2018-01-02 00:00:00-05:00</th>\n",
              "      <td>NaN</td>\n",
              "      <td>NaN</td>\n",
              "      <td>NaN</td>\n",
              "      <td>NaN</td>\n",
              "      <td>NaN</td>\n",
              "      <td>NaN</td>\n",
              "    </tr>\n",
              "    <tr>\n",
              "      <th>2018-01-03 00:00:00-05:00</th>\n",
              "      <td>0.017501</td>\n",
              "      <td>0.022082</td>\n",
              "      <td>0.054787</td>\n",
              "      <td>0.001903</td>\n",
              "      <td>0.055007</td>\n",
              "      <td>0.009412</td>\n",
              "    </tr>\n",
              "    <tr>\n",
              "      <th>2018-01-04 00:00:00-05:00</th>\n",
              "      <td>0.015785</td>\n",
              "      <td>-0.009270</td>\n",
              "      <td>-0.006117</td>\n",
              "      <td>0.002431</td>\n",
              "      <td>-0.010695</td>\n",
              "      <td>-0.011878</td>\n",
              "    </tr>\n",
              "    <tr>\n",
              "      <th>2018-01-05 00:00:00-05:00</th>\n",
              "      <td>0.018706</td>\n",
              "      <td>0.009014</td>\n",
              "      <td>0.021751</td>\n",
              "      <td>0.000682</td>\n",
              "      <td>0.018919</td>\n",
              "      <td>0.013205</td>\n",
              "    </tr>\n",
              "    <tr>\n",
              "      <th>2018-01-08 00:00:00-05:00</th>\n",
              "      <td>-0.011631</td>\n",
              "      <td>0.015503</td>\n",
              "      <td>0.014914</td>\n",
              "      <td>-0.001288</td>\n",
              "      <td>0.014589</td>\n",
              "      <td>0.016204</td>\n",
              "    </tr>\n",
              "    <tr>\n",
              "      <th>...</th>\n",
              "      <td>...</td>\n",
              "      <td>...</td>\n",
              "      <td>...</td>\n",
              "      <td>...</td>\n",
              "      <td>...</td>\n",
              "      <td>...</td>\n",
              "    </tr>\n",
              "    <tr>\n",
              "      <th>2019-12-24 00:00:00-05:00</th>\n",
              "      <td>0.004482</td>\n",
              "      <td>0.005856</td>\n",
              "      <td>0.000724</td>\n",
              "      <td>0.011197</td>\n",
              "      <td>0.003836</td>\n",
              "      <td>0.008039</td>\n",
              "    </tr>\n",
              "    <tr>\n",
              "      <th>2019-12-26 00:00:00-05:00</th>\n",
              "      <td>-0.007045</td>\n",
              "      <td>0.009941</td>\n",
              "      <td>0.011714</td>\n",
              "      <td>0.006804</td>\n",
              "      <td>-0.010191</td>\n",
              "      <td>-0.001729</td>\n",
              "    </tr>\n",
              "    <tr>\n",
              "      <th>2019-12-27 00:00:00-05:00</th>\n",
              "      <td>-0.006715</td>\n",
              "      <td>0.003982</td>\n",
              "      <td>-0.002158</td>\n",
              "      <td>0.002982</td>\n",
              "      <td>-0.024453</td>\n",
              "      <td>0.001527</td>\n",
              "    </tr>\n",
              "    <tr>\n",
              "      <th>2019-12-30 00:00:00-05:00</th>\n",
              "      <td>-0.016082</td>\n",
              "      <td>-0.009008</td>\n",
              "      <td>-0.000860</td>\n",
              "      <td>0.000462</td>\n",
              "      <td>-0.007916</td>\n",
              "      <td>0.001737</td>\n",
              "    </tr>\n",
              "    <tr>\n",
              "      <th>2019-12-31 00:00:00-05:00</th>\n",
              "      <td>0.006812</td>\n",
              "      <td>-0.000068</td>\n",
              "      <td>0.001244</td>\n",
              "      <td>0.003301</td>\n",
              "      <td>-0.011968</td>\n",
              "      <td>-0.003816</td>\n",
              "    </tr>\n",
              "  </tbody>\n",
              "</table>\n",
              "<p>503 rows × 6 columns</p>\n",
              "</div>\n",
              "      <button class=\"colab-df-convert\" onclick=\"convertToInteractive('df-89f5379b-d36c-40f0-8058-ca297273f791')\"\n",
              "              title=\"Convert this dataframe to an interactive table.\"\n",
              "              style=\"display:none;\">\n",
              "        \n",
              "  <svg xmlns=\"http://www.w3.org/2000/svg\" height=\"24px\"viewBox=\"0 0 24 24\"\n",
              "       width=\"24px\">\n",
              "    <path d=\"M0 0h24v24H0V0z\" fill=\"none\"/>\n",
              "    <path d=\"M18.56 5.44l.94 2.06.94-2.06 2.06-.94-2.06-.94-.94-2.06-.94 2.06-2.06.94zm-11 1L8.5 8.5l.94-2.06 2.06-.94-2.06-.94L8.5 2.5l-.94 2.06-2.06.94zm10 10l.94 2.06.94-2.06 2.06-.94-2.06-.94-.94-2.06-.94 2.06-2.06.94z\"/><path d=\"M17.41 7.96l-1.37-1.37c-.4-.4-.92-.59-1.43-.59-.52 0-1.04.2-1.43.59L10.3 9.45l-7.72 7.72c-.78.78-.78 2.05 0 2.83L4 21.41c.39.39.9.59 1.41.59.51 0 1.02-.2 1.41-.59l7.78-7.78 2.81-2.81c.8-.78.8-2.07 0-2.86zM5.41 20L4 18.59l7.72-7.72 1.47 1.35L5.41 20z\"/>\n",
              "  </svg>\n",
              "      </button>\n",
              "      \n",
              "  <style>\n",
              "    .colab-df-container {\n",
              "      display:flex;\n",
              "      flex-wrap:wrap;\n",
              "      gap: 12px;\n",
              "    }\n",
              "\n",
              "    .colab-df-convert {\n",
              "      background-color: #E8F0FE;\n",
              "      border: none;\n",
              "      border-radius: 50%;\n",
              "      cursor: pointer;\n",
              "      display: none;\n",
              "      fill: #1967D2;\n",
              "      height: 32px;\n",
              "      padding: 0 0 0 0;\n",
              "      width: 32px;\n",
              "    }\n",
              "\n",
              "    .colab-df-convert:hover {\n",
              "      background-color: #E2EBFA;\n",
              "      box-shadow: 0px 1px 2px rgba(60, 64, 67, 0.3), 0px 1px 3px 1px rgba(60, 64, 67, 0.15);\n",
              "      fill: #174EA6;\n",
              "    }\n",
              "\n",
              "    [theme=dark] .colab-df-convert {\n",
              "      background-color: #3B4455;\n",
              "      fill: #D2E3FC;\n",
              "    }\n",
              "\n",
              "    [theme=dark] .colab-df-convert:hover {\n",
              "      background-color: #434B5C;\n",
              "      box-shadow: 0px 1px 3px 1px rgba(0, 0, 0, 0.15);\n",
              "      filter: drop-shadow(0px 1px 2px rgba(0, 0, 0, 0.3));\n",
              "      fill: #FFFFFF;\n",
              "    }\n",
              "  </style>\n",
              "\n",
              "      <script>\n",
              "        const buttonEl =\n",
              "          document.querySelector('#df-89f5379b-d36c-40f0-8058-ca297273f791 button.colab-df-convert');\n",
              "        buttonEl.style.display =\n",
              "          google.colab.kernel.accessAllowed ? 'block' : 'none';\n",
              "\n",
              "        async function convertToInteractive(key) {\n",
              "          const element = document.querySelector('#df-89f5379b-d36c-40f0-8058-ca297273f791');\n",
              "          const dataTable =\n",
              "            await google.colab.kernel.invokeFunction('convertToInteractive',\n",
              "                                                     [key], {});\n",
              "          if (!dataTable) return;\n",
              "\n",
              "          const docLinkHtml = 'Like what you see? Visit the ' +\n",
              "            '<a target=\"_blank\" href=https://colab.research.google.com/notebooks/data_table.ipynb>data table notebook</a>'\n",
              "            + ' to learn more about interactive tables.';\n",
              "          element.innerHTML = '';\n",
              "          dataTable['output_type'] = 'display_data';\n",
              "          await google.colab.output.renderOutput(dataTable, element);\n",
              "          const docLink = document.createElement('div');\n",
              "          docLink.innerHTML = docLinkHtml;\n",
              "          element.appendChild(docLink);\n",
              "        }\n",
              "      </script>\n",
              "    </div>\n",
              "  </div>\n",
              "  "
            ]
          },
          "metadata": {},
          "execution_count": 11
        }
      ]
    },
    {
      "cell_type": "code",
      "source": [
        "#Create and show the annualized covariance matrix\n",
        "cov_matrix_annual = returns.cov() * 252 #252 trading days in a year\n",
        "\n",
        "#Show the matrix\n",
        "cov_matrix_annual"
      ],
      "metadata": {
        "colab": {
          "base_uri": "https://localhost:8080/",
          "height": 238
        },
        "id": "iwyVAFLkIABw",
        "outputId": "10114938-117a-408c-a560-979eb0ed201f"
      },
      "execution_count": null,
      "outputs": [
        {
          "output_type": "execute_result",
          "data": {
            "text/plain": [
              "           AZO      BKNG       CMG      GC=F      IMMR       NVR\n",
              "AZO   0.058570  0.007740  0.014643 -0.000399  0.007510  0.011024\n",
              "BKNG  0.007740  0.062657  0.019105 -0.001358  0.024609  0.016333\n",
              "CMG   0.014643  0.019105  0.133087 -0.000625  0.019796  0.027678\n",
              "GC=F -0.000399 -0.001358 -0.000625  0.012211  0.001407  0.002142\n",
              "IMMR  0.007510  0.024609  0.019796  0.001407  0.244065  0.007738\n",
              "NVR   0.011024  0.016333  0.027678  0.002142  0.007738  0.085478"
            ],
            "text/html": [
              "\n",
              "  <div id=\"df-bb1891b0-f9ee-4588-80bc-d7226761d512\">\n",
              "    <div class=\"colab-df-container\">\n",
              "      <div>\n",
              "<style scoped>\n",
              "    .dataframe tbody tr th:only-of-type {\n",
              "        vertical-align: middle;\n",
              "    }\n",
              "\n",
              "    .dataframe tbody tr th {\n",
              "        vertical-align: top;\n",
              "    }\n",
              "\n",
              "    .dataframe thead th {\n",
              "        text-align: right;\n",
              "    }\n",
              "</style>\n",
              "<table border=\"1\" class=\"dataframe\">\n",
              "  <thead>\n",
              "    <tr style=\"text-align: right;\">\n",
              "      <th></th>\n",
              "      <th>AZO</th>\n",
              "      <th>BKNG</th>\n",
              "      <th>CMG</th>\n",
              "      <th>GC=F</th>\n",
              "      <th>IMMR</th>\n",
              "      <th>NVR</th>\n",
              "    </tr>\n",
              "  </thead>\n",
              "  <tbody>\n",
              "    <tr>\n",
              "      <th>AZO</th>\n",
              "      <td>0.058570</td>\n",
              "      <td>0.007740</td>\n",
              "      <td>0.014643</td>\n",
              "      <td>-0.000399</td>\n",
              "      <td>0.007510</td>\n",
              "      <td>0.011024</td>\n",
              "    </tr>\n",
              "    <tr>\n",
              "      <th>BKNG</th>\n",
              "      <td>0.007740</td>\n",
              "      <td>0.062657</td>\n",
              "      <td>0.019105</td>\n",
              "      <td>-0.001358</td>\n",
              "      <td>0.024609</td>\n",
              "      <td>0.016333</td>\n",
              "    </tr>\n",
              "    <tr>\n",
              "      <th>CMG</th>\n",
              "      <td>0.014643</td>\n",
              "      <td>0.019105</td>\n",
              "      <td>0.133087</td>\n",
              "      <td>-0.000625</td>\n",
              "      <td>0.019796</td>\n",
              "      <td>0.027678</td>\n",
              "    </tr>\n",
              "    <tr>\n",
              "      <th>GC=F</th>\n",
              "      <td>-0.000399</td>\n",
              "      <td>-0.001358</td>\n",
              "      <td>-0.000625</td>\n",
              "      <td>0.012211</td>\n",
              "      <td>0.001407</td>\n",
              "      <td>0.002142</td>\n",
              "    </tr>\n",
              "    <tr>\n",
              "      <th>IMMR</th>\n",
              "      <td>0.007510</td>\n",
              "      <td>0.024609</td>\n",
              "      <td>0.019796</td>\n",
              "      <td>0.001407</td>\n",
              "      <td>0.244065</td>\n",
              "      <td>0.007738</td>\n",
              "    </tr>\n",
              "    <tr>\n",
              "      <th>NVR</th>\n",
              "      <td>0.011024</td>\n",
              "      <td>0.016333</td>\n",
              "      <td>0.027678</td>\n",
              "      <td>0.002142</td>\n",
              "      <td>0.007738</td>\n",
              "      <td>0.085478</td>\n",
              "    </tr>\n",
              "  </tbody>\n",
              "</table>\n",
              "</div>\n",
              "      <button class=\"colab-df-convert\" onclick=\"convertToInteractive('df-bb1891b0-f9ee-4588-80bc-d7226761d512')\"\n",
              "              title=\"Convert this dataframe to an interactive table.\"\n",
              "              style=\"display:none;\">\n",
              "        \n",
              "  <svg xmlns=\"http://www.w3.org/2000/svg\" height=\"24px\"viewBox=\"0 0 24 24\"\n",
              "       width=\"24px\">\n",
              "    <path d=\"M0 0h24v24H0V0z\" fill=\"none\"/>\n",
              "    <path d=\"M18.56 5.44l.94 2.06.94-2.06 2.06-.94-2.06-.94-.94-2.06-.94 2.06-2.06.94zm-11 1L8.5 8.5l.94-2.06 2.06-.94-2.06-.94L8.5 2.5l-.94 2.06-2.06.94zm10 10l.94 2.06.94-2.06 2.06-.94-2.06-.94-.94-2.06-.94 2.06-2.06.94z\"/><path d=\"M17.41 7.96l-1.37-1.37c-.4-.4-.92-.59-1.43-.59-.52 0-1.04.2-1.43.59L10.3 9.45l-7.72 7.72c-.78.78-.78 2.05 0 2.83L4 21.41c.39.39.9.59 1.41.59.51 0 1.02-.2 1.41-.59l7.78-7.78 2.81-2.81c.8-.78.8-2.07 0-2.86zM5.41 20L4 18.59l7.72-7.72 1.47 1.35L5.41 20z\"/>\n",
              "  </svg>\n",
              "      </button>\n",
              "      \n",
              "  <style>\n",
              "    .colab-df-container {\n",
              "      display:flex;\n",
              "      flex-wrap:wrap;\n",
              "      gap: 12px;\n",
              "    }\n",
              "\n",
              "    .colab-df-convert {\n",
              "      background-color: #E8F0FE;\n",
              "      border: none;\n",
              "      border-radius: 50%;\n",
              "      cursor: pointer;\n",
              "      display: none;\n",
              "      fill: #1967D2;\n",
              "      height: 32px;\n",
              "      padding: 0 0 0 0;\n",
              "      width: 32px;\n",
              "    }\n",
              "\n",
              "    .colab-df-convert:hover {\n",
              "      background-color: #E2EBFA;\n",
              "      box-shadow: 0px 1px 2px rgba(60, 64, 67, 0.3), 0px 1px 3px 1px rgba(60, 64, 67, 0.15);\n",
              "      fill: #174EA6;\n",
              "    }\n",
              "\n",
              "    [theme=dark] .colab-df-convert {\n",
              "      background-color: #3B4455;\n",
              "      fill: #D2E3FC;\n",
              "    }\n",
              "\n",
              "    [theme=dark] .colab-df-convert:hover {\n",
              "      background-color: #434B5C;\n",
              "      box-shadow: 0px 1px 3px 1px rgba(0, 0, 0, 0.15);\n",
              "      filter: drop-shadow(0px 1px 2px rgba(0, 0, 0, 0.3));\n",
              "      fill: #FFFFFF;\n",
              "    }\n",
              "  </style>\n",
              "\n",
              "      <script>\n",
              "        const buttonEl =\n",
              "          document.querySelector('#df-bb1891b0-f9ee-4588-80bc-d7226761d512 button.colab-df-convert');\n",
              "        buttonEl.style.display =\n",
              "          google.colab.kernel.accessAllowed ? 'block' : 'none';\n",
              "\n",
              "        async function convertToInteractive(key) {\n",
              "          const element = document.querySelector('#df-bb1891b0-f9ee-4588-80bc-d7226761d512');\n",
              "          const dataTable =\n",
              "            await google.colab.kernel.invokeFunction('convertToInteractive',\n",
              "                                                     [key], {});\n",
              "          if (!dataTable) return;\n",
              "\n",
              "          const docLinkHtml = 'Like what you see? Visit the ' +\n",
              "            '<a target=\"_blank\" href=https://colab.research.google.com/notebooks/data_table.ipynb>data table notebook</a>'\n",
              "            + ' to learn more about interactive tables.';\n",
              "          element.innerHTML = '';\n",
              "          dataTable['output_type'] = 'display_data';\n",
              "          await google.colab.output.renderOutput(dataTable, element);\n",
              "          const docLink = document.createElement('div');\n",
              "          docLink.innerHTML = docLinkHtml;\n",
              "          element.appendChild(docLink);\n",
              "        }\n",
              "      </script>\n",
              "    </div>\n",
              "  </div>\n",
              "  "
            ]
          },
          "metadata": {},
          "execution_count": 12
        }
      ]
    },
    {
      "cell_type": "code",
      "source": [
        "#Calculate the portfolio variance\n",
        "port_variance = np.dot(weights.T, np.dot(cov_matrix_annual,weights))\n",
        "port_variance"
      ],
      "metadata": {
        "colab": {
          "base_uri": "https://localhost:8080/"
        },
        "id": "0NUPCe15I-6p",
        "outputId": "2b7eaf42-e15e-4204-f43b-614666750dfb"
      },
      "execution_count": null,
      "outputs": [
        {
          "output_type": "execute_result",
          "data": {
            "text/plain": [
              "0.0450964855955368"
            ]
          },
          "metadata": {},
          "execution_count": 13
        }
      ]
    },
    {
      "cell_type": "code",
      "source": [
        "#Calculate the portfolio volatility aka standard deviation\n",
        "port_volatility = np.sqrt(port_variance)\n",
        "port_volatility"
      ],
      "metadata": {
        "colab": {
          "base_uri": "https://localhost:8080/"
        },
        "id": "ljcyzgo-JU3y",
        "outputId": "2e00f69f-d9b1-4974-b01e-cabe3bc46040"
      },
      "execution_count": null,
      "outputs": [
        {
          "output_type": "execute_result",
          "data": {
            "text/plain": [
              "0.21235933131260515"
            ]
          },
          "metadata": {},
          "execution_count": 14
        }
      ]
    },
    {
      "cell_type": "code",
      "source": [
        "#Calculate the annual portfolio return\n",
        "portfolioSimpleAnnualReturn = np.sum(returns.mean()*weights)*252\n",
        "portfolioSimpleAnnualReturn"
      ],
      "metadata": {
        "id": "2eMH7W8IJl23",
        "colab": {
          "base_uri": "https://localhost:8080/"
        },
        "outputId": "407796ce-5f9a-4f06-af72-f50c83d278bc"
      },
      "execution_count": null,
      "outputs": [
        {
          "output_type": "execute_result",
          "data": {
            "text/plain": [
              "0.18018176324008356"
            ]
          },
          "metadata": {},
          "execution_count": 15
        }
      ]
    },
    {
      "cell_type": "code",
      "source": [
        "#Show the expected annual return, volatility (risk), and variance\n",
        "\n",
        "percent_var = str(round(port_variance,2)*100)+'%'\n",
        "percent_vols = str(round(port_volatility,2)*100)+'%'\n",
        "percent_ret = str(round(portfolioSimpleAnnualReturn,2)*100)+'%'\n",
        "\n",
        "print('Expected annual return: '+ percent_ret)\n",
        "print('Annual volatility (risk): '+percent_vols)\n",
        "print('Annual variance: '+percent_var)"
      ],
      "metadata": {
        "id": "dp681a0GJ8BZ",
        "colab": {
          "base_uri": "https://localhost:8080/"
        },
        "outputId": "8f224249-5001-40c1-e4c9-28f71d59837d"
      },
      "execution_count": null,
      "outputs": [
        {
          "output_type": "stream",
          "name": "stdout",
          "text": [
            "Expected annual return: 18.0%\n",
            "Annual volatility (risk): 21.0%\n",
            "Annual variance: 5.0%\n"
          ]
        }
      ]
    },
    {
      "cell_type": "code",
      "source": [
        "pip install PyPortfolioOpt"
      ],
      "metadata": {
        "id": "4z6baaJ1KMj1",
        "colab": {
          "base_uri": "https://localhost:8080/",
          "height": 954
        },
        "outputId": "02020808-e63e-47cb-e16e-002476001283"
      },
      "execution_count": null,
      "outputs": [
        {
          "output_type": "stream",
          "name": "stdout",
          "text": [
            "Looking in indexes: https://pypi.org/simple, https://us-python.pkg.dev/colab-wheels/public/simple/\n",
            "Collecting PyPortfolioOpt\n",
            "  Downloading pyportfolioopt-1.5.4-py3-none-any.whl (61 kB)\n",
            "\u001b[2K     \u001b[90m━━━━━━━━━━━━━━━━━━━━━━━━━━━━━━━━━━━━━━━━\u001b[0m \u001b[32m61.9/61.9 KB\u001b[0m \u001b[31m7.3 MB/s\u001b[0m eta \u001b[36m0:00:00\u001b[0m\n",
            "\u001b[?25hCollecting numpy<2.0.0,>=1.22.4\n",
            "  Downloading numpy-1.24.1-cp38-cp38-manylinux_2_17_x86_64.manylinux2014_x86_64.whl (17.3 MB)\n",
            "\u001b[2K     \u001b[90m━━━━━━━━━━━━━━━━━━━━━━━━━━━━━━━━━━━━━━━\u001b[0m \u001b[32m17.3/17.3 MB\u001b[0m \u001b[31m100.4 MB/s\u001b[0m eta \u001b[36m0:00:00\u001b[0m\n",
            "\u001b[?25hRequirement already satisfied: scipy<2.0,>=1.3 in /usr/local/lib/python3.8/dist-packages (from PyPortfolioOpt) (1.7.3)\n",
            "Requirement already satisfied: cvxpy<2.0.0,>=1.1.10 in /usr/local/lib/python3.8/dist-packages (from PyPortfolioOpt) (1.2.3)\n",
            "Requirement already satisfied: pandas>=0.19 in /usr/local/lib/python3.8/dist-packages (from PyPortfolioOpt) (1.3.5)\n",
            "Requirement already satisfied: osqp>=0.4.1 in /usr/local/lib/python3.8/dist-packages (from cvxpy<2.0.0,>=1.1.10->PyPortfolioOpt) (0.6.2.post0)\n",
            "Requirement already satisfied: scs>=1.1.6 in /usr/local/lib/python3.8/dist-packages (from cvxpy<2.0.0,>=1.1.10->PyPortfolioOpt) (3.2.2)\n",
            "Requirement already satisfied: ecos>=2 in /usr/local/lib/python3.8/dist-packages (from cvxpy<2.0.0,>=1.1.10->PyPortfolioOpt) (2.0.12)\n",
            "Requirement already satisfied: setuptools<=64.0.2 in /usr/local/lib/python3.8/dist-packages (from cvxpy<2.0.0,>=1.1.10->PyPortfolioOpt) (57.4.0)\n",
            "Requirement already satisfied: python-dateutil>=2.7.3 in /usr/local/lib/python3.8/dist-packages (from pandas>=0.19->PyPortfolioOpt) (2.8.2)\n",
            "Requirement already satisfied: pytz>=2017.3 in /usr/local/lib/python3.8/dist-packages (from pandas>=0.19->PyPortfolioOpt) (2022.7)\n",
            "  Downloading numpy-1.22.4-cp38-cp38-manylinux_2_17_x86_64.manylinux2014_x86_64.whl (16.9 MB)\n",
            "\u001b[2K     \u001b[90m━━━━━━━━━━━━━━━━━━━━━━━━━━━━━━━━━━━━━━━\u001b[0m \u001b[32m16.9/16.9 MB\u001b[0m \u001b[31m115.8 MB/s\u001b[0m eta \u001b[36m0:00:00\u001b[0m\n",
            "\u001b[?25hRequirement already satisfied: qdldl in /usr/local/lib/python3.8/dist-packages (from osqp>=0.4.1->cvxpy<2.0.0,>=1.1.10->PyPortfolioOpt) (0.1.5.post2)\n",
            "Requirement already satisfied: six>=1.5 in /usr/local/lib/python3.8/dist-packages (from python-dateutil>=2.7.3->pandas>=0.19->PyPortfolioOpt) (1.15.0)\n",
            "Installing collected packages: numpy, PyPortfolioOpt\n",
            "  Attempting uninstall: numpy\n",
            "    Found existing installation: numpy 1.21.6\n",
            "    Uninstalling numpy-1.21.6:\n",
            "      Successfully uninstalled numpy-1.21.6\n",
            "Successfully installed PyPortfolioOpt-1.5.4 numpy-1.22.4\n"
          ]
        },
        {
          "output_type": "display_data",
          "data": {
            "application/vnd.colab-display-data+json": {
              "pip_warning": {
                "packages": [
                  "numpy"
                ]
              }
            }
          },
          "metadata": {}
        }
      ]
    },
    {
      "cell_type": "code",
      "source": [
        "from pypfopt.efficient_frontier import efficient_frontier\n",
        "from pypfopt import risk_models\n",
        "from pypfopt import expected_returns"
      ],
      "metadata": {
        "id": "AkpIboKiLE3h"
      },
      "execution_count": null,
      "outputs": []
    },
    {
      "cell_type": "code",
      "source": [
        "from pypfopt.efficient_frontier.efficient_semivariance import EfficientFrontier\n",
        "#Portfolio Optimization!\n",
        "\n",
        "#Calculate the expected returns and the annualised sample covariance matrix of asset returns\n",
        "\n",
        "mu = expected_returns.mean_historical_return(df)\n",
        "S = risk_models.sample_cov(df)\n",
        "\n",
        "#Optimize for maximal Sharpe Ratio\n",
        "ef = EfficientFrontier(mu,S)\n",
        "weights = ef.max_sharpe()\n",
        "cleaned_weights = ef.clean_weights()\n",
        "print(cleaned_weights)\n",
        "ef.portfolio_performance(verbose=True)"
      ],
      "metadata": {
        "id": "2znfA_QkLSaK",
        "colab": {
          "base_uri": "https://localhost:8080/"
        },
        "outputId": "a8f2876f-0bdb-4a13-9dd3-71a030a347a6"
      },
      "execution_count": null,
      "outputs": [
        {
          "output_type": "stream",
          "name": "stdout",
          "text": [
            "OrderedDict([('AZO', 0.24711), ('BKNG', 0.0), ('CMG', 0.36955), ('GC=F', 0.38334), ('IMMR', 0.0), ('NVR', 0.0)])\n",
            "Expected annual return: 35.3%\n",
            "Annual volatility: 16.1%\n",
            "Sharpe Ratio: 2.07\n"
          ]
        },
        {
          "output_type": "execute_result",
          "data": {
            "text/plain": [
              "(0.3529695189898953, 0.1611457270962799, 2.0662634063573755)"
            ]
          },
          "metadata": {},
          "execution_count": 19
        }
      ]
    },
    {
      "cell_type": "code",
      "source": [
        "#Get the discrete allocation of each share per stock\n",
        "from pypfopt.discrete_allocation import DiscreteAllocation, get_latest_prices\n",
        "\n",
        "latest_prices = get_latest_prices(df)\n",
        "weights = cleaned_weights\n",
        "da = DiscreteAllocation(weights,latest_prices, total_portfolio_value=15000)\n",
        "\n",
        "allocation, leftover = da.lp_portfolio()\n",
        "print('Discrete allocation: ',allocation)\n",
        "print('Funds remaining: ${:.2f}'.format(leftover))"
      ],
      "metadata": {
        "id": "rlTl7Kz7M_NJ",
        "colab": {
          "base_uri": "https://localhost:8080/"
        },
        "outputId": "4de12815-3f78-464a-e38e-d2a6d0f7ae05"
      },
      "execution_count": null,
      "outputs": [
        {
          "output_type": "stream",
          "name": "stdout",
          "text": [
            "Discrete allocation:  {'AZO': 3, 'CMG': 6, 'GC=F': 4, 'IMMR': 15}\n",
            "Funds remaining: $215.87\n"
          ]
        }
      ]
    }
  ]
}