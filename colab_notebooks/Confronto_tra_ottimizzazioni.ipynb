{
  "cells": [
    {
      "cell_type": "markdown",
      "metadata": {
        "id": "view-in-github",
        "colab_type": "text"
      },
      "source": [
        "<a href=\"https://colab.research.google.com/github/Francsco99/DSSAFinance/blob/main/Confronto_tra_ottimizzazioni.ipynb\" target=\"_parent\"><img src=\"https://colab.research.google.com/assets/colab-badge.svg\" alt=\"Open In Colab\"/></a>"
      ]
    },
    {
      "cell_type": "markdown",
      "metadata": {
        "id": "4f_McWuapdOA"
      },
      "source": [
        "#Import useful libraries"
      ]
    },
    {
      "cell_type": "code",
      "execution_count": null,
      "metadata": {
        "colab": {
          "base_uri": "https://localhost:8080/",
          "height": 1000
        },
        "id": "XAT2eAu1SsCw",
        "outputId": "01d17fa8-58d9-4bb8-dfa8-d785b256c49f"
      },
      "outputs": [
        {
          "name": "stdout",
          "output_type": "stream",
          "text": [
            "Looking in indexes: https://pypi.org/simple, https://us-python.pkg.dev/colab-wheels/public/simple/\n",
            "Collecting yfinance\n",
            "  Downloading yfinance-0.2.12-py2.py3-none-any.whl (59 kB)\n",
            "\u001b[2K     \u001b[90m━━━━━━━━━━━━━━━━━━━━━━━━━━━━━━━━━━━━━━━━\u001b[0m \u001b[32m59.2/59.2 KB\u001b[0m \u001b[31m1.7 MB/s\u001b[0m eta \u001b[36m0:00:00\u001b[0m\n",
            "\u001b[?25hCollecting beautifulsoup4>=4.11.1\n",
            "  Downloading beautifulsoup4-4.11.2-py3-none-any.whl (129 kB)\n",
            "\u001b[2K     \u001b[90m━━━━━━━━━━━━━━━━━━━━━━━━━━━━━━━━━━━━━━━\u001b[0m \u001b[32m129.4/129.4 KB\u001b[0m \u001b[31m6.0 MB/s\u001b[0m eta \u001b[36m0:00:00\u001b[0m\n",
            "\u001b[?25hRequirement already satisfied: multitasking>=0.0.7 in /usr/local/lib/python3.8/dist-packages (from yfinance) (0.0.11)\n",
            "Requirement already satisfied: lxml>=4.9.1 in /usr/local/lib/python3.8/dist-packages (from yfinance) (4.9.2)\n",
            "Requirement already satisfied: appdirs>=1.4.4 in /usr/local/lib/python3.8/dist-packages (from yfinance) (1.4.4)\n",
            "Requirement already satisfied: numpy>=1.16.5 in /usr/local/lib/python3.8/dist-packages (from yfinance) (1.22.4)\n",
            "Requirement already satisfied: pandas>=1.3.0 in /usr/local/lib/python3.8/dist-packages (from yfinance) (1.3.5)\n",
            "Collecting requests>=2.26\n",
            "  Downloading requests-2.28.2-py3-none-any.whl (62 kB)\n",
            "\u001b[2K     \u001b[90m━━━━━━━━━━━━━━━━━━━━━━━━━━━━━━━━━━━━━━━━\u001b[0m \u001b[32m62.8/62.8 KB\u001b[0m \u001b[31m2.2 MB/s\u001b[0m eta \u001b[36m0:00:00\u001b[0m\n",
            "\u001b[?25hCollecting frozendict>=2.3.4\n",
            "  Downloading frozendict-2.3.5-cp38-cp38-manylinux_2_17_x86_64.manylinux2014_x86_64.whl (111 kB)\n",
            "\u001b[2K     \u001b[90m━━━━━━━━━━━━━━━━━━━━━━━━━━━━━━━━━━━━━━━\u001b[0m \u001b[32m111.2/111.2 KB\u001b[0m \u001b[31m4.0 MB/s\u001b[0m eta \u001b[36m0:00:00\u001b[0m\n",
            "\u001b[?25hCollecting cryptography>=3.3.2\n",
            "  Downloading cryptography-39.0.2-cp36-abi3-manylinux_2_28_x86_64.whl (4.2 MB)\n",
            "\u001b[2K     \u001b[90m━━━━━━━━━━━━━━━━━━━━━━━━━━━━━━━━━━━━━━━━\u001b[0m \u001b[32m4.2/4.2 MB\u001b[0m \u001b[31m22.4 MB/s\u001b[0m eta \u001b[36m0:00:00\u001b[0m\n",
            "\u001b[?25hRequirement already satisfied: pytz>=2022.5 in /usr/local/lib/python3.8/dist-packages (from yfinance) (2022.7.1)\n",
            "Collecting html5lib>=1.1\n",
            "  Downloading html5lib-1.1-py2.py3-none-any.whl (112 kB)\n",
            "\u001b[2K     \u001b[90m━━━━━━━━━━━━━━━━━━━━━━━━━━━━━━━━━━━━━━━\u001b[0m \u001b[32m112.2/112.2 KB\u001b[0m \u001b[31m2.5 MB/s\u001b[0m eta \u001b[36m0:00:00\u001b[0m\n",
            "\u001b[?25hCollecting soupsieve>1.2\n",
            "  Downloading soupsieve-2.4-py3-none-any.whl (37 kB)\n",
            "Requirement already satisfied: cffi>=1.12 in /usr/local/lib/python3.8/dist-packages (from cryptography>=3.3.2->yfinance) (1.15.1)\n",
            "Requirement already satisfied: webencodings in /usr/local/lib/python3.8/dist-packages (from html5lib>=1.1->yfinance) (0.5.1)\n",
            "Requirement already satisfied: six>=1.9 in /usr/local/lib/python3.8/dist-packages (from html5lib>=1.1->yfinance) (1.15.0)\n",
            "Requirement already satisfied: python-dateutil>=2.7.3 in /usr/local/lib/python3.8/dist-packages (from pandas>=1.3.0->yfinance) (2.8.2)\n",
            "Requirement already satisfied: idna<4,>=2.5 in /usr/local/lib/python3.8/dist-packages (from requests>=2.26->yfinance) (2.10)\n",
            "Requirement already satisfied: certifi>=2017.4.17 in /usr/local/lib/python3.8/dist-packages (from requests>=2.26->yfinance) (2022.12.7)\n",
            "Requirement already satisfied: charset-normalizer<4,>=2 in /usr/local/lib/python3.8/dist-packages (from requests>=2.26->yfinance) (3.0.1)\n",
            "Requirement already satisfied: urllib3<1.27,>=1.21.1 in /usr/local/lib/python3.8/dist-packages (from requests>=2.26->yfinance) (1.26.14)\n",
            "Requirement already satisfied: pycparser in /usr/local/lib/python3.8/dist-packages (from cffi>=1.12->cryptography>=3.3.2->yfinance) (2.21)\n",
            "Installing collected packages: soupsieve, requests, html5lib, frozendict, cryptography, beautifulsoup4, yfinance\n",
            "  Attempting uninstall: requests\n",
            "    Found existing installation: requests 2.25.1\n",
            "    Uninstalling requests-2.25.1:\n",
            "      Successfully uninstalled requests-2.25.1\n",
            "  Attempting uninstall: html5lib\n",
            "    Found existing installation: html5lib 1.0.1\n",
            "    Uninstalling html5lib-1.0.1:\n",
            "      Successfully uninstalled html5lib-1.0.1\n",
            "  Attempting uninstall: beautifulsoup4\n",
            "    Found existing installation: beautifulsoup4 4.6.3\n",
            "    Uninstalling beautifulsoup4-4.6.3:\n",
            "      Successfully uninstalled beautifulsoup4-4.6.3\n",
            "Successfully installed beautifulsoup4-4.11.2 cryptography-39.0.2 frozendict-2.3.5 html5lib-1.1 requests-2.28.2 soupsieve-2.4 yfinance-0.2.12\n"
          ]
        },
        {
          "data": {
            "application/vnd.colab-display-data+json": {
              "pip_warning": {
                "packages": [
                  "requests"
                ]
              }
            }
          },
          "metadata": {},
          "output_type": "display_data"
        },
        {
          "name": "stdout",
          "output_type": "stream",
          "text": [
            "Looking in indexes: https://pypi.org/simple, https://us-python.pkg.dev/colab-wheels/public/simple/\n",
            "Collecting PyPortfolioOpt\n",
            "  Downloading pyportfolioopt-1.5.4-py3-none-any.whl (61 kB)\n",
            "\u001b[2K     \u001b[90m━━━━━━━━━━━━━━━━━━━━━━━━━━━━━━━━━━━━━━━━\u001b[0m \u001b[32m61.9/61.9 KB\u001b[0m \u001b[31m2.3 MB/s\u001b[0m eta \u001b[36m0:00:00\u001b[0m\n",
            "\u001b[?25hRequirement already satisfied: pandas>=0.19 in /usr/local/lib/python3.8/dist-packages (from PyPortfolioOpt) (1.3.5)\n",
            "Requirement already satisfied: numpy<2.0.0,>=1.22.4 in /usr/local/lib/python3.8/dist-packages (from PyPortfolioOpt) (1.22.4)\n",
            "Requirement already satisfied: cvxpy<2.0.0,>=1.1.10 in /usr/local/lib/python3.8/dist-packages (from PyPortfolioOpt) (1.2.3)\n",
            "Requirement already satisfied: scipy<2.0,>=1.3 in /usr/local/lib/python3.8/dist-packages (from PyPortfolioOpt) (1.10.1)\n",
            "Requirement already satisfied: setuptools<=64.0.2 in /usr/local/lib/python3.8/dist-packages (from cvxpy<2.0.0,>=1.1.10->PyPortfolioOpt) (57.4.0)\n",
            "Requirement already satisfied: scs>=1.1.6 in /usr/local/lib/python3.8/dist-packages (from cvxpy<2.0.0,>=1.1.10->PyPortfolioOpt) (3.2.2)\n",
            "Requirement already satisfied: osqp>=0.4.1 in /usr/local/lib/python3.8/dist-packages (from cvxpy<2.0.0,>=1.1.10->PyPortfolioOpt) (0.6.2.post0)\n",
            "Requirement already satisfied: ecos>=2 in /usr/local/lib/python3.8/dist-packages (from cvxpy<2.0.0,>=1.1.10->PyPortfolioOpt) (2.0.12)\n",
            "Requirement already satisfied: pytz>=2017.3 in /usr/local/lib/python3.8/dist-packages (from pandas>=0.19->PyPortfolioOpt) (2022.7.1)\n",
            "Requirement already satisfied: python-dateutil>=2.7.3 in /usr/local/lib/python3.8/dist-packages (from pandas>=0.19->PyPortfolioOpt) (2.8.2)\n",
            "Requirement already satisfied: qdldl in /usr/local/lib/python3.8/dist-packages (from osqp>=0.4.1->cvxpy<2.0.0,>=1.1.10->PyPortfolioOpt) (0.1.5.post3)\n",
            "Requirement already satisfied: six>=1.5 in /usr/local/lib/python3.8/dist-packages (from python-dateutil>=2.7.3->pandas>=0.19->PyPortfolioOpt) (1.15.0)\n",
            "Installing collected packages: PyPortfolioOpt\n",
            "Successfully installed PyPortfolioOpt-1.5.4\n"
          ]
        }
      ],
      "source": [
        "#Import the python libraries\n",
        "\n",
        "#pandas is used to retrieve data from yahoo finance\n",
        "from pandas_datareader import data as web\n",
        "import pandas as pd\n",
        "\n",
        "#yahoo finance\n",
        "!pip install yfinance\n",
        "import yfinance as yfin\n",
        "yfin.pdr_override()\n",
        "\n",
        "import numpy as np\n",
        "import random\n",
        "\n",
        "from google.colab import drive\n",
        "\n",
        "#matplotlib to plot the data\n",
        "import matplotlib.pyplot as plt\n",
        "plt.style.use('classic')\n",
        "\n",
        "import seaborn as sns\n",
        "\n",
        "#scipy.optimize to run optimization\n",
        "from scipy.optimize import minimize\n",
        "\n",
        "\n",
        "!pip install PyPortfolioOpt\n",
        "#Import libraries\n",
        "from pypfopt.efficient_frontier import efficient_frontier\n",
        "from pypfopt import risk_models\n",
        "from pypfopt import expected_returns\n",
        "\n",
        "from pypfopt.efficient_frontier.efficient_semivariance import EfficientFrontier\n"
      ]
    },
    {
      "cell_type": "markdown",
      "metadata": {
        "id": "0MNRScz_phsx"
      },
      "source": [
        "#Getting data for the portfolios"
      ]
    },
    {
      "cell_type": "code",
      "execution_count": null,
      "metadata": {
        "colab": {
          "base_uri": "https://localhost:8080/"
        },
        "id": "u_lG-AicS91L",
        "outputId": "cbcfa611-ca93-46a7-b121-ab35f15cf07a"
      },
      "outputs": [
        {
          "name": "stdout",
          "output_type": "stream",
          "text": [
            "Mounted at /content/drive\n",
            "  Symbol                 Name       Last    Change    %Chg       High  \\\n",
            "0    MMM           3M Company  115.25.00       1.7  +1.50%  127.55.00   \n",
            "1    ABT  Abbott Laboratories  110.35.00  -1.12.00  -1.01%  111.26.00   \n",
            "2   ABBV           Abbvie Inc  146.28.00  -1.12.00  -0.76%  260.19.00   \n",
            "3    ACN        Accenture Plc  277.27.00      3.01  +1.10%  279.42.00   \n",
            "4   ATVI  Activision Blizzard   77.01.00      1.01  +1.34%   77.16.00   \n",
            "\n",
            "         Low   Volume        Time  \n",
            "0  113.46.00  4114400  2023-01-27  \n",
            "1  110.21.00  4860800  2023-01-27  \n",
            "2  146.15.00  4591400  2023-01-27  \n",
            "3  273.34.00  2101100  2023-01-27  \n",
            "4   75.22.00  4382700  2023-01-27  \n"
          ]
        }
      ],
      "source": [
        "#Mount google drive location\n",
        "drive.mount('/content/drive')\n",
        "\n",
        "#Load csv file\n",
        "df_tickers = pd.read_csv('/content/drive/My Drive/sp500.csv')\n",
        "\n",
        "#Show the first rows of the data frame\n",
        "print(df_tickers.head())\n",
        "\n",
        "#Extract the first column 'Symbol' names\n",
        "data = df_tickers['Symbol'].values"
      ]
    },
    {
      "cell_type": "code",
      "execution_count": null,
      "metadata": {
        "id": "8YCiw6yS7cI9"
      },
      "outputs": [],
      "source": [
        "#Number of portfolios\n",
        "n=10"
      ]
    },
    {
      "cell_type": "code",
      "execution_count": null,
      "metadata": {
        "id": "sxIxqnxeTMyY"
      },
      "outputs": [],
      "source": [
        "# Array to contain the portfolios\n",
        "initial_portfolios = []\n",
        "\n",
        "#Create 10 portfolios with 100 random stocks each\n",
        "for _ in range(n):\n",
        "    # Create a list of 100 random tickers from the imported file\n",
        "    lista_random = list(random.sample(list(data), 100))\n",
        "    # Append the list\n",
        "    initial_portfolios.append(lista_random)"
      ]
    },
    {
      "cell_type": "code",
      "execution_count": null,
      "metadata": {
        "id": "EPSShhvbbQE-"
      },
      "outputs": [],
      "source": [
        "# Ordina ogni lista dell'array in ordine alfabetico\n",
        "portfolios = []\n",
        "\n",
        "for lista in initial_portfolios:\n",
        "  sl = list(sorted(lista))\n",
        "  portfolios.append(sl)"
      ]
    },
    {
      "cell_type": "code",
      "execution_count": null,
      "metadata": {
        "id": "_5NVv0Rex_xJ"
      },
      "outputs": [],
      "source": [
        "#Portfolio starting and ending dates for historical data\n",
        "stockStartDate = '2017-01-01'\n",
        "stockEndDate = '2019-01-01'"
      ]
    },
    {
      "cell_type": "code",
      "execution_count": null,
      "metadata": {
        "colab": {
          "background_save": true,
          "base_uri": "https://localhost:8080/"
        },
        "id": "awP6NKgVW87u",
        "outputId": "4c7985a9-00ae-403c-a38f-5ade3d8e55b1"
      },
      "outputs": [
        {
          "name": "stdout",
          "output_type": "stream",
          "text": [
            "[*********************100%***********************]  100 of 100 completed\n",
            "[*********************100%***********************]  100 of 100 completed\n",
            "[*********************100%***********************]  100 of 100 completed\n",
            "[*********************100%***********************]  100 of 100 completed\n",
            "[*********************100%***********************]  100 of 100 completed\n",
            "[*********************100%***********************]  100 of 100 completed\n",
            "[*********************100%***********************]  100 of 100 completed\n",
            "[*********************100%***********************]  100 of 100 completed\n",
            "[*********************100%***********************]  100 of 100 completed\n",
            "[*********************100%***********************]  100 of 100 completed\n"
          ]
        }
      ],
      "source": [
        "# Array to contain pandas acquired data\n",
        "historicalDF = []\n",
        "\n",
        "#Get data for each portfolio\n",
        "for p in portfolios:\n",
        "  #Get the Adjusted Close information for each stock in the portfolio\n",
        "  data = web.get_data_yahoo(p, stockStartDate,stockEndDate)['Adj Close']\n",
        "  #Append the portfolios\n",
        "  historicalDF.append(data)"
      ]
    },
    {
      "cell_type": "code",
      "execution_count": null,
      "metadata": {
        "colab": {
          "background_save": true
        },
        "id": "IDxrl1S47WAx"
      },
      "outputs": [],
      "source": [
        "#Portfolio t0 investment date\n",
        "initialStartInvestimentDate = '2019-01-01'\n",
        "initialEndInvestimentDate = '2019-01-03'"
      ]
    },
    {
      "cell_type": "code",
      "execution_count": null,
      "metadata": {
        "colab": {
          "background_save": true
        },
        "id": "zcLPj3M86jLB",
        "outputId": "294ce2a2-da26-41f5-9a47-d99fbb1f0096"
      },
      "outputs": [
        {
          "name": "stdout",
          "output_type": "stream",
          "text": [
            "[*********************100%***********************]  100 of 100 completed\n",
            "[*********************100%***********************]  100 of 100 completed\n",
            "[*********************100%***********************]  100 of 100 completed\n",
            "[*********************100%***********************]  100 of 100 completed\n",
            "[*********************100%***********************]  100 of 100 completed\n",
            "[*********************100%***********************]  100 of 100 completed\n",
            "[*********************100%***********************]  100 of 100 completed\n",
            "[*********************100%***********************]  100 of 100 completed\n",
            "[*********************100%***********************]  100 of 100 completed\n",
            "[*********************100%***********************]  100 of 100 completed\n"
          ]
        }
      ],
      "source": [
        "startDF = []\n",
        "for p in portfolios:\n",
        "  startData = web.get_data_yahoo(p, initialStartInvestimentDate,initialEndInvestimentDate)['Adj Close']\n",
        "  startDF.append(startData)"
      ]
    },
    {
      "cell_type": "code",
      "execution_count": null,
      "metadata": {
        "colab": {
          "background_save": true
        },
        "id": "i1eufvZ27X3C"
      },
      "outputs": [],
      "source": [
        "#Portfolio final investment date\n",
        "finalStartInvestmentDate = '2022-01-01'\n",
        "finalEndInvestmentDate = '2022-01-04'"
      ]
    },
    {
      "cell_type": "code",
      "execution_count": null,
      "metadata": {
        "colab": {
          "background_save": true
        },
        "id": "atOA6wcB4I6D",
        "outputId": "0194a6c2-2708-4bba-8474-184903ac90da"
      },
      "outputs": [
        {
          "name": "stdout",
          "output_type": "stream",
          "text": [
            "[*********************100%***********************]  100 of 100 completed\n",
            "[*********************100%***********************]  100 of 100 completed\n",
            "[*********************100%***********************]  100 of 100 completed\n",
            "[*********************100%***********************]  100 of 100 completed\n",
            "[*********************100%***********************]  100 of 100 completed\n",
            "[*********************100%***********************]  100 of 100 completed\n",
            "[*********************100%***********************]  100 of 100 completed\n",
            "[*********************100%***********************]  100 of 100 completed\n",
            "[*********************100%***********************]  100 of 100 completed\n",
            "[*********************100%***********************]  100 of 100 completed\n"
          ]
        }
      ],
      "source": [
        "finalDF = []\n",
        "for p in portfolios:\n",
        "  finalData = web.get_data_yahoo(p, finalStartInvestmentDate,finalEndInvestmentDate)['Adj Close']\n",
        "  finalDF.append(finalData)"
      ]
    },
    {
      "cell_type": "markdown",
      "metadata": {
        "id": "MOwEOHSEbMrl"
      },
      "source": [
        "#Initial setting of the portfolios, random weights assigned for each stock."
      ]
    },
    {
      "cell_type": "code",
      "execution_count": null,
      "metadata": {
        "colab": {
          "background_save": true
        },
        "id": "jHrc_UWfbC2O"
      },
      "outputs": [],
      "source": [
        "#Calculate random initial weights for each portfolio \n",
        "\n",
        "#Initialize empty array to contain the ordered dict for each portfolio\n",
        "initial_weights = []\n",
        "\n",
        "# Itera su ogni portfolio\n",
        "for portfolio in portfolios:\n",
        "    # Genera pesi casuali per ogni stock\n",
        "    weights = [random.uniform(0, 1) for _ in range(len(portfolio))]\n",
        "    # Normalizza i pesi\n",
        "    total_weight = sum(weights)\n",
        "    weights = [weight/total_weight for weight in weights]\n",
        "    # Crea un dizionario dei pesi per questo portfolio\n",
        "    portfolio_dict = dict(zip(portfolio, weights))\n",
        "    # Aggiungi il dizionario alla lista di dizionari dei pesi\n",
        "    initial_weights.append(portfolio_dict)"
      ]
    },
    {
      "cell_type": "code",
      "execution_count": null,
      "metadata": {
        "colab": {
          "background_save": true
        },
        "id": "Pd-gky2c-Uih"
      },
      "outputs": [],
      "source": [
        "# Capitale iniziale\n",
        "capital = 10000\n",
        "\n",
        "# Array vuoto per i dizionari delle quantità\n",
        "portfolio_quantities = []\n",
        "\n",
        "# Loop sui portfoli per creare i dizionari delle quantità\n",
        "for i, portfolio in enumerate(portfolios):\n",
        "    # Accedi ai pesi normalizzati per questo portfolio\n",
        "    weights_dict = initial_weights[i]\n",
        "    # Calcola le quantità di denaro da allocare per ogni stock\n",
        "    amounts = [weights_dict[stock] * capital for stock in portfolio]\n",
        "    # Crea un dizionario delle quantità per questo portfolio\n",
        "    portfolio_dict = dict(zip(portfolio, amounts))\n",
        "    # Aggiungi il dizionario alla lista di dizionari delle quantità\n",
        "    portfolio_quantities.append(portfolio_dict)"
      ]
    },
    {
      "cell_type": "code",
      "execution_count": null,
      "metadata": {
        "colab": {
          "background_save": true
        },
        "id": "WcfC7b_lQAfN"
      },
      "outputs": [],
      "source": [
        "#Array di dizionari con azione e prezzo di chiusura per ogni portfolio\n",
        "close_prices_t0 = []\n",
        "\n",
        "#Prendi ogni portfolio nel dataframe e convertilo in dizionario\n",
        "for portfolio in startDF:\n",
        "  prices = portfolio.to_dict()\n",
        "\n",
        "  #Crea nuovo dizionario per ripulire i timestamp\n",
        "  prices_new = {}\n",
        "  for key in prices.keys():\n",
        "    nv= list(prices[key].values())[0]\n",
        "    prices_new[key] = nv\n",
        "  close_prices_t0.append(prices_new)"
      ]
    },
    {
      "cell_type": "code",
      "execution_count": null,
      "metadata": {
        "colab": {
          "background_save": true
        },
        "id": "KXuLVnlqTvN7"
      },
      "outputs": [],
      "source": [
        "# Array vuoto per i nuovi dizionari contenenti le azioni e il numero di azioni acquistabili\n",
        "portfolio_stocks = []\n",
        "\n",
        "# Loop sui portfoli per creare i nuovi dizionari\n",
        "for i, portfolio_dict in enumerate(portfolio_quantities):\n",
        "    # Crea un nuovo dizionario per questo portfolio\n",
        "    new_dict = {}\n",
        "    for stock, investment in portfolio_dict.items():\n",
        "        # Accedi al prezzo di chiusura per questa azione\n",
        "        closing_price = close_prices_t0[i][stock]\n",
        "        # Calcola la quantità di azioni acquistabile in base all'investimento e il prezzo di chiusura\n",
        "        quantity = (investment / closing_price)\n",
        "        # Aggiungi l'azione e il numero di azioni acquistabili al dizionario\n",
        "        new_dict[stock] = quantity\n",
        "    # Aggiungi il nuovo dizionario alla lista di nuovi dizionari\n",
        "    portfolio_stocks.append(new_dict)"
      ]
    },
    {
      "cell_type": "markdown",
      "metadata": {
        "id": "-Chrqj-UZk04"
      },
      "source": [
        "# Calculate useful parameters"
      ]
    },
    {
      "cell_type": "code",
      "execution_count": null,
      "metadata": {
        "colab": {
          "background_save": true
        },
        "id": "qM590rlOZggH"
      },
      "outputs": [],
      "source": [
        "#Calculate simple return for each portfolio\n",
        "\n",
        "#Initialize empty array\n",
        "returns = []\n",
        "\n",
        "for data in historicalDF:\n",
        "  #Calculate the daily simple return = stock_price/stock_price_precedent -1\n",
        "  r = data.pct_change()\n",
        "  #Append the result\n",
        "  returns.append(r)"
      ]
    },
    {
      "cell_type": "code",
      "execution_count": null,
      "metadata": {
        "colab": {
          "background_save": true
        },
        "id": "vwLsWqJTaYfH"
      },
      "outputs": [],
      "source": [
        "#Calculate the annual covariance matrix for each portfolio\n",
        "\n",
        "#Initalize empty array\n",
        "cov_matrix_annual = []\n",
        "\n",
        "for r in returns:\n",
        "  #Create and show the annualized covariance matrix\n",
        "  cov_matrix = r.cov() * 252 #252 trading days in a year\n",
        "  #Append the result\n",
        "  cov_matrix_annual.append(cov_matrix)"
      ]
    },
    {
      "cell_type": "code",
      "execution_count": null,
      "metadata": {
        "colab": {
          "background_save": true
        },
        "id": "m23tBeobgFmc"
      },
      "outputs": [],
      "source": [
        "#Calculate variance for each portfolio\n",
        "\n",
        "#Initialize empty array\n",
        "variances = []\n",
        "\n",
        "for i in range(n):\n",
        "  current_weights = np.array(list(initial_weights[i].values()))\n",
        "  current_cov_matrix = cov_matrix_annual[i]\n",
        "  port_variance = np.dot(current_weights.T, np.dot(current_cov_matrix,current_weights))\n",
        "  #Append the result\n",
        "  variances.append(port_variance)"
      ]
    },
    {
      "cell_type": "code",
      "execution_count": null,
      "metadata": {
        "colab": {
          "background_save": true
        },
        "id": "aokLhZ6Ti6vF"
      },
      "outputs": [],
      "source": [
        "#Calculate each portfolio volatility (std deviation)\n",
        "volatilities = []\n",
        "for v in variances:\n",
        "  port_volatility = np.sqrt(v)\n",
        "  #Append the result\n",
        "  volatilities.append(port_volatility)"
      ]
    },
    {
      "cell_type": "code",
      "execution_count": null,
      "metadata": {
        "colab": {
          "background_save": true
        },
        "id": "NrO8NWYAjX-U"
      },
      "outputs": [],
      "source": [
        "#Calculate the annual portfolio return for each portfolio\n",
        "\n",
        "#Initialize empty array\n",
        "simpleAnnualReturns = []\n",
        "\n",
        "for i in range(len(returns)):\n",
        "  current_return = returns[i]\n",
        "  current_weights = np.array(list(initial_weights[i].values()))\n",
        "  portfolioSimpleAnnualReturn = np.sum(current_return.mean()*current_weights)*252\n",
        "  #Append the result\n",
        "  simpleAnnualReturns.append(portfolioSimpleAnnualReturn)"
      ]
    },
    {
      "cell_type": "code",
      "execution_count": null,
      "metadata": {
        "colab": {
          "background_save": true
        },
        "id": "RJtm7BmHFaMN",
        "outputId": "6a55bbc4-e8b4-4696-fcc3-140dfc553467"
      },
      "outputs": [
        {
          "name": "stdout",
          "output_type": "stream",
          "text": [
            "portfolio 1\n",
            "variance: 0,01524769387714916026\n",
            "volatility: 0,12348155278076625163\n",
            "annual return: 0,09477260602773131259\n",
            "\n",
            "\n",
            "portfolio 2\n",
            "variance: 0,01445187726679150568\n",
            "volatility: 0,12021596094858413850\n",
            "annual return: 0,07137712237790055925\n",
            "\n",
            "\n",
            "portfolio 3\n",
            "variance: 0,01909437018213036921\n",
            "volatility: 0,13818238014352760001\n",
            "annual return: 0,03386905439155191155\n",
            "\n",
            "\n",
            "portfolio 4\n",
            "variance: 0,01753302739506898064\n",
            "volatility: 0,13241233853032344236\n",
            "annual return: 0,10454160037675773454\n",
            "\n",
            "\n",
            "portfolio 5\n",
            "variance: 0,01543381769541307680\n",
            "volatility: 0,12423291711705507223\n",
            "annual return: 0,08629411046181233169\n",
            "\n",
            "\n",
            "portfolio 6\n",
            "variance: 0,01869938533987864152\n",
            "volatility: 0,13674569587332041642\n",
            "annual return: 0,07750987380685590844\n",
            "\n",
            "\n",
            "portfolio 7\n",
            "variance: 0,01344544129686584683\n",
            "volatility: 0,11595447941699296712\n",
            "annual return: 0,11470327630076580794\n",
            "\n",
            "\n",
            "portfolio 8\n",
            "variance: 0,01540899320125137771\n",
            "volatility: 0,12413296581187198420\n",
            "annual return: 0,10336962479136366233\n",
            "\n",
            "\n",
            "portfolio 9\n",
            "variance: 0,01815398077922379325\n",
            "volatility: 0,13473670910046672833\n",
            "annual return: 0,08684608642550888102\n",
            "\n",
            "\n",
            "portfolio 10\n",
            "variance: 0,01577899516451386486\n",
            "volatility: 0,12561447036274867028\n",
            "annual return: 0,07852722024681858815\n",
            "\n",
            "\n"
          ]
        }
      ],
      "source": [
        "#Print the variance and volatility for each portfolio\n",
        "for j in range(n):\n",
        "  print(f\"portfolio {j+1}\")\n",
        "  print(\"variance: {:.20f}\".format(variances[j]).replace(\".\",\",\"))\n",
        "  print(\"volatility: {:.20f}\".format(volatilities[j]).replace(\".\",\",\"))\n",
        "  print(\"annual return: {:.20f}\".format(simpleAnnualReturns[j]).replace(\".\",\",\"))\n",
        "  print(\"\\n\")"
      ]
    },
    {
      "cell_type": "markdown",
      "metadata": {
        "id": "_hb0OsvVHwez"
      },
      "source": [
        "#Calculate performances before optimization"
      ]
    },
    {
      "cell_type": "code",
      "execution_count": null,
      "metadata": {
        "colab": {
          "background_save": true
        },
        "id": "cgoJ65DokkCn"
      },
      "outputs": [],
      "source": [
        "#Calculate the expected annual return, volatility (risk), and variance for each portfolio\n",
        "percent_variances = []\n",
        "percent_volatilities = []\n",
        "percent_returns = []\n",
        "\n",
        "for i in range(n):\n",
        "  current_variance = variances[i]\n",
        "  current_vol = volatilities[i]\n",
        "  current_ret = simpleAnnualReturns[i]\n",
        "\n",
        "  percent_var = (current_variance)*100\n",
        "  percent_vols = (current_vol)*100\n",
        "  percent_ret = (current_ret)*100\n",
        "\n",
        "  #Append the results\n",
        "  percent_variances.append(percent_var)\n",
        "  percent_volatilities.append(percent_vols)\n",
        "  percent_returns.append(percent_ret)"
      ]
    },
    {
      "cell_type": "markdown",
      "metadata": {
        "id": "DjpKxFqV-9gk"
      },
      "source": [
        "#vediamo come va il portfolio senza ottimizzazione, al tempo finale gennaio 2022\n",
        "spoiler, va bene"
      ]
    },
    {
      "cell_type": "code",
      "execution_count": null,
      "metadata": {
        "colab": {
          "background_save": true
        },
        "id": "nBC0ryIE-m4J"
      },
      "outputs": [],
      "source": [
        "#Array di dizionari con azione e prezzo di chiusura per ogni portfolio\n",
        "close_prices_tf = []\n",
        "\n",
        "#Prendi ogni portfolio nel dataframe e convertilo in dizionario\n",
        "for portfolio in finalDF:\n",
        "  prices = portfolio.to_dict()\n",
        "\n",
        "  #Crea nuovo dizionario per ripulire i timestamp\n",
        "  prices_new = {}\n",
        "  for key in prices.keys():\n",
        "    nv= list(prices[key].values())[0]\n",
        "    prices_new[key] = nv\n",
        "  close_prices_tf.append(prices_new)"
      ]
    },
    {
      "cell_type": "code",
      "execution_count": null,
      "metadata": {
        "colab": {
          "background_save": true
        },
        "id": "Zf-oE4s1_Ghq"
      },
      "outputs": [],
      "source": [
        "# Array vuoto per i nuovi dizionari contenenti le azioni e il numero di azioni acquistabili\n",
        "portfolio_quantities_tf = []\n",
        "\n",
        "# Loop sui portfoli per creare i nuovi dizionari\n",
        "for i, portfolio_dict in enumerate(portfolio_stocks):\n",
        "    # Crea un nuovo dizionario per questo portfolio\n",
        "    new_dict = {}\n",
        "    for stock, investment in portfolio_dict.items():\n",
        "        # Accedi al prezzo di chiusura per questa azione\n",
        "        closing_price = close_prices_tf[i][stock]\n",
        "        # Calcola la quantità di azioni acquistabile in base all'investimento e il prezzo di chiusura\n",
        "        quantity = (investment * closing_price)\n",
        "        # Aggiungi l'azione e il numero di azioni acquistabili al dizionario\n",
        "        new_dict[stock] = quantity\n",
        "    # Aggiungi il nuovo dizionario alla lista di nuovi dizionari\n",
        "    portfolio_quantities_tf.append(new_dict)"
      ]
    },
    {
      "cell_type": "code",
      "execution_count": null,
      "metadata": {
        "colab": {
          "background_save": true
        },
        "id": "BHICrkoQ_wGT",
        "outputId": "ea922c72-5372-4a51-d23d-a370efce75d0"
      },
      "outputs": [
        {
          "name": "stdout",
          "output_type": "stream",
          "text": [
            "['AAPL', 'ABBV', 'ABT', 'ADM', 'ADP', 'ALL', 'AMCR', 'AMD', 'AON', 'AOS', 'APH', 'APTV', 'ATO', 'AXP', 'BAC', 'BKR', 'BMY', 'C', 'CBRE', 'CHRW', 'CINF', 'CL', 'CMCSA', 'CMI', 'COO', 'CSGP', 'CSX', 'CVX', 'DE', 'DHI', 'DLR', 'DPZ', 'DRI', 'DUK', 'DVA', 'EXR', 'FDX', 'FIS', 'FISV', 'FMC', 'FRT', 'GL', 'GOOG', 'GPN', 'GWW', 'HD', 'HIG', 'HII', 'HPE', 'IEX', 'IPG', 'ISRG', 'ITW', 'JBHT', 'KIM', 'KLAC', 'KO', 'L', 'LNC', 'LYB', 'MA', 'MCO', 'META', 'MKTX', 'MMM', 'MSFT', 'MTD', 'MU', 'NTRS', 'ODFL', 'PAYX', 'PFG', 'PGR', 'PH', 'PNC', 'PRU', 'PXD', 'RL', 'ROL', 'RSG', 'SCHW', 'SNPS', 'STX', 'SYY', 'TAP', 'TGT', 'TRV', 'TT', 'TXN', 'TXT', 'UNH', 'URI', 'VFC', 'VRSK', 'VRTX', 'WEC', 'WELL', 'WM', 'ZBH', 'ZION']\n",
            "quantita iniziali\n",
            "{'AAPL': 45.070135337991445, 'ABBV': 67.27592305533008, 'ABT': 79.32785326593276, 'ADM': 96.93216482929809, 'ADP': 36.96074472783317, 'ALL': 126.14148741191681, 'AMCR': 166.42203170352442, 'AMD': 127.67774284704439, 'AON': 35.34739134602893, 'AOS': 146.96459881657023, 'APH': 119.75575592351555, 'APTV': 93.58367224056289, 'ATO': 116.9986714619392, 'AXP': 59.640350242160984, 'BAC': 133.24983088843393, 'BKR': 174.07198805343194, 'BMY': 184.83269686528442, 'C': 0.06510291240203776, 'CBRE': 118.97415101797603, 'CHRW': 95.55336095955838, 'CINF': 185.77075574329578, 'CL': 122.21623116350189, 'CMCSA': 69.91193217859526, 'CMI': 13.004157996610626, 'COO': 7.061611996939301, 'CSGP': 5.804081474811293, 'CSX': 64.39230645537953, 'CVX': 157.49518489250062, 'DE': 144.0806961665677, 'DHI': 61.68338635532452, 'DLR': 141.30070829123628, 'DPZ': 157.7382880483464, 'DRI': 78.83886301436212, 'DUK': 79.93793457320677, 'DVA': 140.9781010786155, 'EXR': 111.38096466799813, 'FDX': 174.7614455479435, 'FIS': 180.26059726879464, 'FISV': 61.60281453042507, 'FMC': 67.0542037503706, 'FRT': 71.49683614442685, 'GL': 171.9537887674601, 'GOOG': 66.24464717218551, 'GPN': 102.46618781899627, 'GWW': 36.796498095580205, 'HD': 67.98284477676113, 'HIG': 87.02785102622923, 'HII': 64.484990874431, 'HPE': 33.711236367194964, 'IEX': 29.412041153673687, 'IPG': 41.153271678439516, 'ISRG': 110.56150017439333, 'ITW': 10.949071467625341, 'JBHT': 76.25033570422451, 'KIM': 119.85392891480329, 'KLAC': 30.691335773743877, 'KO': 135.56944202806997, 'L': 112.22572231237176, 'LNC': 157.3791470245722, 'LYB': 64.22929866062681, 'MA': 62.88662752992653, 'MCO': 69.3653277741592, 'META': 89.84237883685128, 'MKTX': 180.54231037807673, 'MMM': 80.8674298654596, 'MSFT': 39.13372841704054, 'MTD': 40.89004216689785, 'MU': 148.3104171922219, 'NTRS': 164.45823866383282, 'ODFL': 27.271061788528073, 'PAYX': 111.50359573921331, 'PFG': 192.44065110765808, 'PGR': 152.13292855514155, 'PH': 91.90068349662243, 'PNC': 129.64414752804166, 'PRU': 87.35053890811561, 'PXD': 80.01807568366122, 'RL': 92.63113964389207, 'ROL': 7.834448181516885, 'RSG': 151.89764217177424, 'SCHW': 121.86077894336704, 'SNPS': 107.14388419025997, 'STX': 91.07635810050442, 'SYY': 132.93811778382985, 'TAP': 179.6387929705927, 'TGT': 76.53672723227402, 'TRV': 179.47543486796735, 'TT': 58.60132015366341, 'TXN': 110.02193987347616, 'TXT': 130.04680376098852, 'UNH': 19.908816942908565, 'URI': 112.88252018053433, 'VFC': 164.07299048367278, 'VRSK': 135.71249518955753, 'VRTX': 172.6269573491478, 'WEC': 183.74866738189323, 'WELL': 181.61040888059023, 'WM': 49.55607322948406, 'ZBH': 146.0353072654596, 'ZION': 5.024296553825657}\n",
            "quantita finali\n",
            "{'AAPL': 214.03618635792228, 'ABBV': 119.30342936067758, 'ABT': 166.4101009441349, 'ADM': 176.13485147130916, 'ADP': 73.82228184799706, 'ALL': 195.51575943997307, 'AMCR': 244.00241449845143, 'AMD': 1018.7097644405801, 'AON': 73.90591086254936, 'AOS': 298.799092763783, 'APH': 267.3054108662271, 'APTV': 257.4500103461477, 'ATO': 146.62339289464498, 'AXP': 109.54979378771948, 'BAC': 263.8887292611302, 'BKR': 229.88573078264307, 'BMY': 239.97962691611554, 'C': 0.08461580139542794, 'CBRE': 323.78964874687, 'CHRW': 128.25122146601706, 'CINF': 307.5216850811707, 'CL': 187.35554479641334, 'CMCSA': 109.0271848826191, 'CMI': 23.22477790433629, 'COO': 11.88736589716201, 'CSGP': 13.670941699035764, 'CSX': 120.10484769538051, 'CVX': 189.85284152818724, 'DE': 361.1902877028976, 'DHI': 188.33032806340438, 'DLR': 264.6758471378224, 'DPZ': 372.7167071197726, 'DRI': 124.9524525613214, 'DUK': 110.59317096773698, 'DVA': 314.5776608260181, 'EXR': 317.96521581018317, 'FDX': 294.6851233143197, 'FIS': 209.2533606591606, 'FISV': 91.81131634146655, 'FMC': 120.02891706360637, 'FRT': 94.64044894790267, 'GL': 221.05643977897597, 'GOOG': 183.78177967468739, 'GPN': 143.8833970541941, 'GWW': 71.5352776536925, 'HD': 172.96359849101293, 'HIG': 150.05773219466056, 'HII': 67.79198995462328, 'HPE': 44.9357314561662, 'IEX': 56.846622044384446, 'IPG': 87.08370133103134, 'ISRG': 256.2204505965283, 'ITW': 22.647578512082855, 'JBHT': 169.46632906293323, 'KIM': 240.64536083871738, 'KLAC': 154.99054352964546, 'KO': 194.11961525090706, 'L': 146.9742021972233, 'LNC': 243.68893522613533, 'LYB': 92.21486619527347, 'MA': 125.67732528298902, 'MCO': 193.84769086012204, 'META': 224.16893677023933, 'MKTX': 348.5933709158421, 'MMM': 83.26825975214233, 'MSFT': 135.56508291544202, 'MTD': 125.42139436765893, 'MU': 434.67893114788467, 'NTRS': 257.38527441155156, 'ODFL': 116.04968609439133, 'PAYX': 251.69458815862023, 'PFG': 361.0128141740862, 'PGR': 302.15701136776926, 'PH': 203.17905258253094, 'PNC': 260.05968298850394, 'PRU': 135.31930797720275, 'PXD': 134.21551401823993, 'RL': 111.89761087673637, 'ROL': 11.422552266596993, 'RSG': 303.1174394211344, 'SCHW': 262.8430529515759, 'SNPS': 460.31714253754683, 'STX': 301.61970077725846, 'SYY': 182.81530994558324, 'TAP': 158.69956315365525, 'TGT': 291.7425884504073, 'TRV': 261.49234798868247, 'TT': 171.9495898603533, 'TXN': 240.49369384524175, 'TXT': 216.48316511012393, 'UNH': 43.0473348441114, 'URI': 352.22302935970555, 'VFC': 193.90932437418746, 'VRSK': 282.27844356561457, 'VRTX': 234.12162469216295, 'WEC': 284.50300562673556, 'WELL': 269.25114368985913, 'WM': 95.90208749772282, 'ZBH': 188.42455122603457, 'ZION': 8.491844374498179}\n",
            "prezzi iniziali\n",
            "{'AAPL': 38.047054290771484, 'ABBV': 72.80840301513672, 'ABT': 64.89282989501953, 'ADM': 36.46630096435547, 'ADP': 119.88691711425781, 'ALL': 73.79255676269531, 'AMCR': 7.701457500457764, 'AMD': 18.829999923706055, 'AON': 138.95541381835938, 'AOS': 40.1462516784668, 'APH': 38.31843566894531, 'APTV': 60.35228729248047, 'ATO': 81.24024963378906, 'AXP': 90.0909423828125, 'BAC': 22.641014099121094, 'BKR': 18.36278533935547, 'BMY': 45.861595153808594, 'C': 46.21674728393555, 'CBRE': 39.93000030517578, 'CHRW': 78.20926666259766, 'CINF': 68.32861328125, 'CL': 54.88182830810547, 'CMCSA': 31.451847076416016, 'CMI': 118.92054748535156, 'COO': 250.4298553466797, 'CSGP': 33.47200012207031, 'CSX': 19.565160751342773, 'CVX': 94.65721130371094, 'DE': 139.66070556640625, 'DHI': 33.98639678955078, 'DLR': 89.81627655029297, 'DPZ': 234.12948608398438, 'DRI': 89.84027099609375, 'DUK': 71.25413513183594, 'DVA': 51.72999954223633, 'EXR': 76.79471588134766, 'FDX': 153.33169555664062, 'FIS': 95.97760772705078, 'FISV': 72.20999908447266, 'FMC': 60.40400314331055, 'FRT': 98.9881820678711, 'GL': 73.70155334472656, 'GOOG': 52.29249954223633, 'GPN': 100.07086944580078, 'GWW': 258.3540954589844, 'HD': 156.673095703125, 'HIG': 39.20661163330078, 'HII': 175.85031127929688, 'HPE': 11.727640151977539, 'IEX': 119.07335662841797, 'IPG': 17.020347595214844, 'ISRG': 155.3433380126953, 'ITW': 114.7796401977539, 'JBHT': 89.80838012695312, 'KIM': 12.242120742797852, 'KLAC': 84.77450561523438, 'KO': 41.41399002075195, 'L': 44.13274383544922, 'LNC': 44.74101257324219, 'LYB': 64.88760375976562, 'MA': 185.37332153320312, 'MCO': 135.63868713378906, 'META': 135.67999267578125, 'MKTX': 203.0525665283203, 'MMM': 163.4301300048828, 'MSFT': 96.6326675415039, 'MTD': 546.0399780273438, 'MU': 32.418785095214844, 'NTRS': 74.8942642211914, 'ODFL': 80.95679473876953, 'PAYX': 57.702510833740234, 'PFG': 37.70132064819336, 'PGR': 51.13649368286133, 'PH': 139.9230194091797, 'PNC': 103.22821044921875, 'PRU': 66.99622344970703, 'PXD': 109.55769348144531, 'RL': 97.16051483154297, 'ROL': 22.68752098083496, 'RSG': 66.8888931274414, 'SCHW': 39.199241638183594, 'SNPS': 84.05000305175781, 'STX': 32.749446868896484, 'SYY': 55.70010757446289, 'TAP': 51.677001953125, 'TGT': 60.58796310424805, 'TRV': 106.89910888671875, 'TT': 66.1192626953125, 'TXN': 84.19861602783203, 'TXT': 45.80577850341797, 'UNH': 229.3604278564453, 'URI': 105.62000274658203, 'VFC': 59.35774230957031, 'VRSK': 105.82852172851562, 'VRTX': 164.0800018310547, 'WEC': 59.713069915771484, 'WELL': 57.29283142089844, 'WM': 82.76399230957031, 'ZBH': 96.36150360107422, 'ZION': 36.702110290527344}\n",
            "quantita finali\n",
            "{'AAPL': 180.68386840820312, 'ABBV': 129.1144256591797, 'ABT': 136.12901306152344, 'ADM': 66.2626953125, 'ADP': 239.45204162597656, 'ALL': 114.37638854980469, 'AMCR': 11.291619300842285, 'AMD': 150.24000549316406, 'AON': 290.5342102050781, 'AOS': 81.62281036376953, 'APH': 85.5301284790039, 'APTV': 166.02999877929688, 'ATO': 101.81073760986328, 'AXP': 165.482666015625, 'BAC': 44.83839416503906, 'BKR': 24.25055503845215, 'BMY': 59.544921875, 'C': 60.06900405883789, 'CBRE': 108.66999816894531, 'CHRW': 104.9720687866211, 'CINF': 113.11000061035156, 'CL': 84.13297271728516, 'CMCSA': 49.04894256591797, 'CMI': 212.38616943359375, 'COO': 421.5682373046875, 'CSGP': 78.83999633789062, 'CSX': 36.49303436279297, 'CVX': 114.10469818115234, 'DE': 350.1099853515625, 'DHI': 103.7665023803711, 'DLR': 168.2383575439453, 'DPZ': 553.219970703125, 'DRI': 142.38868713378906, 'DUK': 98.57923889160156, 'DVA': 115.43000030517578, 'EXR': 219.22999572753906, 'FDX': 258.54998779296875, 'FIS': 111.41445922851562, 'FISV': 107.62000274658203, 'FMC': 108.12487030029297, 'FRT': 131.03077697753906, 'GL': 94.74756622314453, 'GOOG': 145.07449340820312, 'GPN': 140.51988220214844, 'GWW': 502.2606201171875, 'HD': 398.6114807128906, 'HIG': 67.60198211669922, 'HII': 184.8684844970703, 'HPE': 15.632475852966309, 'IEX': 230.14105224609375, 'IPG': 36.01645278930664, 'ISRG': 360.0, 'ITW': 237.4156494140625, 'JBHT': 199.5990753173828, 'KIM': 24.579999923706055, 'KLAC': 428.10931396484375, 'KO': 59.29999923706055, 'L': 57.797576904296875, 'LNC': 69.2778549194336, 'LYB': 93.16000366210938, 'MA': 370.4638671875, 'MCO': 379.0545959472656, 'META': 338.5400085449219, 'MKTX': 392.05645751953125, 'MMM': 168.28211975097656, 'MSFT': 334.75, 'MTD': 1674.8599853515625, 'MU': 95.01532745361328, 'NTRS': 117.21322631835938, 'ODFL': 344.5047607421875, 'PAYX': 130.25059509277344, 'PFG': 70.72653198242188, 'PGR': 101.56414031982422, 'PH': 309.3494567871094, 'PNC': 207.0706329345703, 'PRU': 103.78736877441406, 'PXD': 183.76275634765625, 'RL': 117.36905670166016, 'ROL': 33.07819366455078, 'RSG': 133.4792938232422, 'SCHW': 84.5493392944336, 'SNPS': 361.1000061035156, 'STX': 108.45710754394531, 'SYY': 76.5982894897461, 'TAP': 45.653377532958984, 'TGT': 230.94911193847656, 'TRV': 155.75, 'TT': 194.00894165039062, 'TXN': 184.04725646972656, 'TXT': 76.2508544921875, 'UNH': 495.92877197265625, 'URI': 329.56207275390625, 'VFC': 70.15182495117188, 'VRSK': 220.1205596923828, 'VRTX': 222.52999877929688, 'WEC': 92.45535278320312, 'WELL': 84.94094848632812, 'WM': 160.16683959960938, 'ZBH': 124.33207702636719, 'ZION': 62.03228759765625}\n",
            "\n",
            "\n",
            "['ACGL', 'AEP', 'AFL', 'APD', 'APTV', 'BAX', 'BIIB', 'BIO', 'CAG', 'CCI', 'CDAY', 'CE', 'CFG', 'CHRW', 'CINF', 'CNC', 'CNP', 'COF', 'CSGP', 'CTRA', 'CTSH', 'DD', 'DHI', 'DLR', 'DOV', 'DXCM', 'EA', 'ED', 'EIX', 'EL', 'EOG', 'EQR', 'ESS', 'F', 'FANG', 'FRT', 'GE', 'GIS', 'GOOG', 'GOOGL', 'HAS', 'HBAN', 'IBM', 'ICE', 'IEX', 'ILMN', 'INCY', 'IP', 'IRM', 'JPM', 'KEYS', 'KMB', 'KMI', 'LNC', 'LOW', 'MA', 'MCHP', 'MCO', 'MDT', 'MGM', 'MKC', 'MKTX', 'MNST', 'MO', 'MSI', 'MTB', 'NTRS', 'OMC', 'ORCL', 'OXY', 'PCAR', 'PEAK', 'PG', 'PHM', 'RCL', 'RJF', 'ROK', 'SBUX', 'SIVB', 'SJM', 'SO', 'SPGI', 'STT', 'SYF', 'TEL', 'TFC', 'TRV', 'TSLA', 'TXN', 'TYL', 'UAL', 'UNH', 'V', 'VLO', 'WEC', 'WELL', 'WMB', 'WY', 'XYL', 'ZTS']\n",
            "quantita iniziali\n",
            "{'ACGL': 90.90037862063424, 'AEP': 53.7688317525685, 'AFL': 10.991425574250371, 'APD': 9.201091920303972, 'APTV': 198.4647236534831, 'BAX': 92.22347535986044, 'BIIB': 143.56350295608397, 'BIO': 208.00603055040838, 'CAG': 171.98185029640183, 'CCI': 30.86023027896355, 'CDAY': 46.84991605067838, 'CE': 37.49628443786398, 'CFG': 44.04700485976082, 'CHRW': 10.662976221902257, 'CINF': 206.9383526464495, 'CNC': 163.97797152452216, 'CNP': 67.67327595590821, 'COF': 182.46303534324122, 'CSGP': 0.0780257166412669, 'CTRA': 134.0603384693617, 'CTSH': 167.08424803539035, 'DD': 112.45416421515382, 'DHI': 22.590705378163783, 'DLR': 122.20612571778479, 'DOV': 16.161618261585918, 'DXCM': 2.0329031015430443, 'EA': 192.08823494186262, 'ED': 166.0443412563444, 'EIX': 159.57929464174413, 'EL': 186.79242924857147, 'EOG': 205.14491919620357, 'EQR': 104.79801811268347, 'ESS': 85.20996860706592, 'F': 134.49722717173285, 'FANG': 50.50411588296279, 'FRT': 204.61905041554058, 'GE': 40.602146148297976, 'GIS': 143.37292531838372, 'GOOG': 197.46140896786724, 'GOOGL': 157.67367116890009, 'HAS': 58.000538154061886, 'HBAN': 29.915488338136676, 'IBM': 73.2338184862625, 'ICE': 200.08798483390774, 'IEX': 6.737301426608102, 'ILMN': 57.35552708717605, 'INCY': 56.38857890885173, 'IP': 44.06659346891155, 'IRM': 8.481625903381486, 'JPM': 173.9513926000485, 'KEYS': 83.40286340948946, 'KMB': 93.2212734307673, 'KMI': 187.09901325206172, 'LNC': 108.35216892401407, 'LOW': 60.55710169145501, 'MA': 10.63335710175553, 'MCHP': 14.24528133495064, 'MCO': 122.90292381797435, 'MDT': 159.08050202855358, 'MGM': 62.74509552351579, 'MKC': 152.109894132366, 'MKTX': 150.93904615370772, 'MNST': 97.87311226557786, 'MO': 72.78150968660712, 'MSI': 55.792426229912884, 'MTB': 80.56662671664198, 'NTRS': 31.749378302315378, 'OMC': 104.41898001443886, 'ORCL': 109.67166002566645, 'OXY': 115.86098042738169, 'PCAR': 25.6643386697156, 'PEAK': 16.751648504092564, 'PG': 53.35393624052625, 'PHM': 9.529408410775343, 'RCL': 109.83103611748516, 'RJF': 91.81323160417693, 'ROK': 125.49477983857255, 'SBUX': 154.2077025361552, 'SIVB': 160.60062870765225, 'SJM': 138.39000139912102, 'SO': 110.56231274413922, 'SPGI': 119.09424602074789, 'STT': 133.39804648654737, 'SYF': 58.88560784386191, 'TEL': 134.2687209398835, 'TFC': 201.2482425347501, 'TRV': 162.84288008877238, 'TSLA': 20.709747427052832, 'TXN': 180.75917313657143, 'TYL': 133.6039231968165, 'UAL': 41.84511030556637, 'UNH': 54.14441153339303, 'V': 142.31406669707266, 'VLO': 173.47947873945867, 'WEC': 3.355958432063653, 'WELL': 29.9265946141756, 'WMB': 120.6805314153753, 'WY': 63.76874126026026, 'XYL': 179.31717723419078, 'ZTS': 92.81003566746217}\n",
            "quantita finali\n",
            "{'ACGL': 154.62434958455358, 'AEP': 74.64041356426927, 'AFL': 15.518754594032448, 'APD': 18.657084318638777, 'APTV': 545.9792711125101, 'BAX': 129.88550694771158, 'BIIB': 115.03361857373179, 'BIO': 670.6935733274034, 'CAG': 301.156506364762, 'CCI': 69.04676883285916, 'CDAY': 145.6288669778165, 'CE': 75.30359419064628, 'CFG': 84.30642988415114, 'CHRW': 15.372410086024098, 'CINF': 342.56219588917423, 'CNC': 239.87220525154487, 'CNP': 75.5465980731818, 'COF': 375.83303831592843, 'CSGP': 0.1837818831209507, 'CTRA': 134.26910348282343, 'CTSH': 251.45178522812415, 'DD': 126.36121986153312, 'DHI': 70.59706892689977, 'DLR': 228.90904563169883, 'DOV': 43.22157152423061, 'DXCM': 9.191835030206594, 'EA': 324.5738415521172, 'ED': 218.12929280915736, 'EIX': 225.06586129562612, 'EL': 542.5456012907595, 'EOG': 244.9899653385033, 'EQR': 165.53971980455003, 'ESS': 144.26803641124997, 'F': 441.18702572757223, 'FANG': 63.21328257125149, 'FRT': 282.6147363691332, 'GE': 64.15421747558602, 'GIS': 287.31863223858437, 'GOOG': 547.8149662849003, 'GOOGL': 433.5218592421414, 'HAS': 84.73628509243736, 'HBAN': 44.80452898292582, 'IBM': 110.00364127985829, 'ICE': 374.3582463355555, 'IEX': 13.02163542052225, 'ILMN': 74.17153380588506, 'INCY': 65.62402707049387, 'IP': 63.57044038871718, 'IRM': 17.683226668384112, 'JPM': 320.52117854598305, 'KEYS': 275.19415675501614, 'KMB': 134.10587670903664, 'KMI': 246.9645418890009, 'LNC': 167.774593537112, 'LOW': 180.1490194979411, 'MA': 21.25049190608404, 'MCHP': 37.39259776407716, 'MCO': 346.8099631483351, 'MDT': 211.2893738959448, 'MGM': 116.30869552890641, 'MKC': 228.79487187508204, 'MKTX': 294.9835044533489, 'MNST': 193.77913603314693, 'MO': 96.04176687170165, 'MSI': 137.94342070791384, 'MTB': 96.51445993609447, 'NTRS': 51.16745752554308, 'OMC': 123.5936582799275, 'ORCL': 227.92788675030363, 'OXY': 64.63760223984137, 'PCAR': 45.53926555348528, 'PEAK': 26.77701937564112, 'PG': 102.83513539144622, 'PHM': 21.441036591582606, 'RCL': 93.97705075244387, 'RJF': 201.00102176444292, 'ROK': 304.956275301985, 'SBUX': 293.2724160231941, 'SIVB': 564.3409619065753, 'SJM': 227.37702567582875, 'SO': 203.77833885094134, 'SPGI': 335.0450514972624, 'STT': 223.09420859330243, 'SYF': 126.95538690593774, 'TEL': 308.89735582498184, 'TFC': 318.7453397469464, 'TRV': 237.25904404728155, 'TSLA': 400.60524815256775, 'TXN': 409.1838647423164, 'TYL': 384.04526884994584, 'UAL': 22.612664898253797, 'UNH': 118.57170403074302, 'V': 243.4518087743874, 'VLO': 214.26992995852092, 'WEC': 5.195950651874302, 'WELL': 44.36843908222079, 'WMB': 184.16967967017592, 'WY': 139.79403951642078, 'XYL': 330.62547362309334, 'ZTS': 263.7763894881692}\n",
            "prezzi iniziali\n",
            "{'ACGL': 26.190000534057617, 'AEP': 63.2801399230957, 'AFL': 41.013675689697266, 'APD': 145.88426208496094, 'APTV': 60.35228729248047, 'BAX': 61.47945785522461, 'BIIB': 304.69000244140625, 'BIO': 228.0800018310547, 'CAG': 18.588260650634766, 'CCI': 92.84872436523438, 'CDAY': 33.7599983215332, 'CE': 83.02827453613281, 'CFG': 25.48054313659668, 'CHRW': 74.84416198730469, 'CINF': 68.32860565185547, 'CNC': 56.5, 'CNP': 24.585081100463867, 'COF': 71.74319458007812, 'CSGP': 33.47200012207031, 'CTRA': 19.53957176208496, 'CTSH': 59.51731872558594, 'DD': 71.46926879882812, 'DHI': 33.59330749511719, 'DLR': 93.47411346435547, 'DOV': 66.4674072265625, 'DXCM': 28.795000076293945, 'EA': 79.27983856201172, 'ED': 64.18599700927734, 'EIX': 47.86687088012695, 'EL': 127.22579193115234, 'EOG': 75.7767105102539, 'EQR': 57.64723587036133, 'ESS': 209.00262451171875, 'F': 6.602705001831055, 'FANG': 82.0255355834961, 'FRT': 98.98817443847656, 'GE': 47.54778289794922, 'GIS': 33.31303787231445, 'GOOG': 52.29249954223633, 'GOOGL': 52.73400115966797, 'HAS': 69.9336166381836, 'HBAN': 10.087220191955566, 'IBM': 89.48931121826172, 'ICE': 71.59394836425781, 'IEX': 119.0733413696289, 'ILMN': 294.5199890136719, 'INCY': 63.560001373291016, 'IP': 32.11239242553711, 'IRM': 24.615249633789062, 'JPM': 87.2339859008789, 'KEYS': 61.41999816894531, 'KMB': 98.12295532226562, 'KMI': 12.195344924926758, 'LNC': 44.74101638793945, 'LOW': 85.6073989868164, 'MA': 185.3733367919922, 'MCHP': 33.52494430541992, 'MCO': 135.638671875, 'MDT': 79.883056640625, 'MGM': 24.535112380981445, 'MKC': 63.70409393310547, 'MKTX': 203.05250549316406, 'MNST': 48.7599983215332, 'MO': 36.352195739746094, 'MSI': 108.1644058227539, 'MTB': 127.45280456542969, 'NTRS': 74.89427947998047, 'OMC': 62.426490783691406, 'ORCL': 42.13814926147461, 'OXY': 55.67412567138672, 'PCAR': 33.24282455444336, 'PEAK': 22.39983558654785, 'PG': 81.95574951171875, 'PHM': 24.92904281616211, 'RCL': 94.46607208251953, 'RJF': 46.32025909423828, 'ROK': 139.2114715576172, 'SBUX': 61.352359771728516, 'SIVB': 195.83999633789062, 'SJM': 82.65785217285156, 'SO': 36.609657287597656, 'SPGI': 163.58572387695312, 'STT': 56.475894927978516, 'SYF': 21.690919876098633, 'TEL': 69.74835205078125, 'TFC': 37.85566329956055, 'TRV': 106.89910125732422, 'TSLA': 20.674667358398438, 'TXN': 84.19857788085938, 'TYL': 182.24000549316406, 'UAL': 84.18000030517578, 'UNH': 229.36041259765625, 'V': 129.23057556152344, 'VLO': 61.74772644042969, 'WEC': 61.571800231933594, 'WELL': 57.29282760620117, 'WMB': 17.364606857299805, 'WY': 17.784011840820312, 'XYL': 63.18722915649414, 'ZTS': 82.21170806884766}\n",
            "quantita finali\n",
            "{'ACGL': 44.54999923706055, 'AEP': 87.84375, 'AFL': 57.90706253051758, 'APD': 295.80999755859375, 'APTV': 166.02999877929688, 'BAX': 86.58631134033203, 'BIIB': 244.13999938964844, 'BIO': 735.4199829101562, 'CAG': 32.5498046875, 'CCI': 207.74000549316406, 'CDAY': 104.94000244140625, 'CE': 166.74525451660156, 'CFG': 48.77002716064453, 'CHRW': 107.9000015258789, 'CINF': 113.11000061035156, 'CNC': 82.6500015258789, 'CNP': 27.44538688659668, 'COF': 147.77493286132812, 'CSGP': 78.83999633789062, 'CTRA': 19.56999969482422, 'CTSH': 89.56999969482422, 'DD': 80.30777740478516, 'DHI': 104.98074340820312, 'DLR': 175.08999633789062, 'DOV': 177.75607299804688, 'DXCM': 130.19749450683594, 'EA': 133.96011352539062, 'ED': 84.3199234008789, 'EIX': 67.51000213623047, 'EL': 369.5320739746094, 'EOG': 90.4947280883789, 'EQR': 91.05999755859375, 'ESS': 353.8599853515625, 'F': 21.658645629882812, 'FANG': 102.66694641113281, 'FRT': 136.72000122070312, 'GE': 75.1288070678711, 'GIS': 66.75916290283203, 'GOOG': 145.07449340820312, 'GOOGL': 144.9915008544922, 'HAS': 102.16999816894531, 'HBAN': 15.107664108276367, 'IBM': 134.4208221435547, 'ICE': 133.9499969482422, 'IEX': 230.14105224609375, 'ILMN': 380.8699951171875, 'INCY': 73.97000122070312, 'IP': 46.3253173828125, 'IRM': 51.31999969482422, 'JPM': 160.73651123046875, 'KEYS': 202.66000366210938, 'KMB': 141.15731811523438, 'KMI': 16.097454071044922, 'LNC': 69.2778549194336, 'LOW': 254.67019653320312, 'MA': 370.4638671875, 'MCHP': 88.0, 'MCO': 382.7479553222656, 'MDT': 106.0999984741211, 'MGM': 45.47999954223633, 'MKC': 95.81999969482422, 'MKTX': 396.8299865722656, 'MNST': 96.54000091552734, 'MO': 47.970001220703125, 'MSI': 267.42999267578125, 'MTB': 152.6815643310547, 'NTRS': 120.69999694824219, 'OMC': 73.88999938964844, 'ORCL': 87.57466888427734, 'OXY': 31.059999465942383, 'PCAR': 58.98666763305664, 'PEAK': 35.80548095703125, 'PG': 157.96267700195312, 'PHM': 56.09000015258789, 'RCL': 80.83000183105469, 'RJF': 101.40607452392578, 'ROK': 338.28826904296875, 'SBUX': 116.68000030517578, 'SIVB': 688.1699829101562, 'SJM': 135.80819702148438, 'SO': 67.47557067871094, 'SPGI': 460.2118835449219, 'STT': 94.44999694824219, 'SYF': 46.764892578125, 'TEL': 160.46240234375, 'TFC': 59.957374572753906, 'TRV': 155.75, 'TSLA': 399.9266662597656, 'TXN': 190.60000610351562, 'TYL': 523.8499755859375, 'UAL': 45.4900016784668, 'UNH': 502.2799987792969, 'V': 221.07032775878906, 'VLO': 76.26654815673828, 'WEC': 95.33015441894531, 'WELL': 84.94094848632812, 'WMB': 26.5, 'WY': 38.986167907714844, 'XYL': 116.50477600097656, 'ZTS': 233.65476989746094}\n",
            "\n",
            "\n",
            "['A', 'AAP', 'AAPL', 'ACN', 'ADP', 'AFL', 'ALB', 'AMD', 'AME', 'ANET', 'APD', 'ARE', 'ATO', 'ATVI', 'BBY', 'BEN', 'BLK', 'BR', 'CBRE', 'CDNS', 'CHD', 'CHRW', 'CMCSA', 'CMS', 'COST', 'CSCO', 'CTSH', 'CVX', 'CZR', 'DD', 'DRI', 'DTE', 'DXC', 'ECL', 'EFX', 'EPAM', 'ETN', 'EVRG', 'EW', 'FDX', 'FITB', 'FTNT', 'GD', 'GE', 'GILD', 'GL', 'GLW', 'GPN', 'GWW', 'HIG', 'HPE', 'HRL', 'HST', 'IDXX', 'IFF', 'INTC', 'IP', 'IQV', 'IRM', 'JNJ', 'JPM', 'K', 'KLAC', 'LEN', 'LH', 'MA', 'MAR', 'MCK', 'MCO', 'MET', 'META', 'MHK', 'MKTX', 'MMC', 'MMM', 'MPC', 'MRNA', 'MTCH', 'MU', 'NCLH', 'NFLX', 'NI', 'NWL', 'NXPI', 'ORLY', 'PCG', 'PRU', 'PXD', 'REGN', 'RHI', 'SJM', 'STX', 'TER', 'TFX', 'TGT', 'TRV', 'TSN', 'VFC', 'WYNN', 'XEL']\n",
            "quantita iniziali\n",
            "{'A': 12.790536064336782, 'AAP': 10.458854793329563, 'AAPL': 18.554859666113835, 'ACN': 73.09795703316091, 'ADP': 38.22018039739685, 'AFL': 69.22181663376357, 'ALB': 56.88982617366586, 'AMD': 160.84017150558225, 'AME': 34.418947397326065, 'ANET': 73.55522528399194, 'APD': 23.43141701233716, 'ARE': 35.84652294277602, 'ATO': 81.29346268161724, 'ATVI': 176.4600917458381, 'BBY': 82.46506187728859, 'BEN': 160.28451034046785, 'BLK': 184.53476728868296, 'BR': 130.27405947457214, 'CBRE': 132.66948296691913, 'CDNS': 16.824340918744184, 'CHD': 74.63176622436431, 'CHRW': 100.08299411066623, 'CMCSA': 130.4648479088774, 'CMS': 76.11767228130496, 'COST': 34.05170077069371, 'CSCO': 152.57718614000296, 'CTSH': 42.319807562813054, 'CVX': 145.11788938581395, 'CZR': 39.69513307479755, 'DD': 52.47474333937752, 'DRI': 116.49180385192793, 'DTE': 171.5301177937091, 'DXC': 67.66007166933193, 'ECL': 97.57653197628441, 'EFX': 130.43377794038568, 'EPAM': 162.19701663947617, 'ETN': 180.93670173601404, 'EVRG': 65.43061004053128, 'EW': 71.43180075860647, 'FDX': 51.90865346970498, 'FITB': 94.15291785643109, 'FTNT': 154.80123558619792, 'GD': 85.51185513834002, 'GE': 127.79773631132753, 'GILD': 166.43551788098873, 'GL': 144.1359867662747, 'GLW': 47.480981179522054, 'GPN': 105.67020942319951, 'GWW': 194.67903525535348, 'HIG': 152.79343566722318, 'HPE': 123.59436974458465, 'HRL': 32.42829344183733, 'HST': 5.854320625267251, 'IDXX': 196.08057560679157, 'IFF': 131.79308420959742, 'INTC': 76.26945106792061, 'IP': 167.0265247205198, 'IQV': 173.51036372435186, 'IRM': 149.62156849873966, 'JNJ': 116.69561830602473, 'JPM': 86.5053424170547, 'K': 128.7550282010526, 'KLAC': 49.59294250938773, 'LEN': 83.28320936744107, 'LH': 156.72250445281907, 'MA': 30.509007698626746, 'MAR': 57.7493027299909, 'MCK': 137.21680166534705, 'MCO': 8.018003052367643, 'MET': 160.58386303208584, 'META': 49.7491160726195, 'MHK': 117.98037905006117, 'MKTX': 143.9341250686843, 'MMC': 191.46377424200534, 'MMM': 131.02683803576952, 'MPC': 106.22064570850074, 'MRNA': 182.40796086583748, 'MTCH': 114.93027053079223, 'MU': 134.70746979956039, 'NCLH': 177.52558511944426, 'NFLX': 4.5070468775212955, 'NI': 157.68122987237737, 'NWL': 131.86575417082875, 'NXPI': 93.69758337056453, 'ORLY': 42.71305327145665, 'PCG': 181.42879778358355, 'PRU': 39.61781462503848, 'PXD': 77.40669127416342, 'REGN': 101.28563156003368, 'RHI': 19.936110241402893, 'SJM': 142.84304112975863, 'STX': 11.56346535636313, 'TER': 31.438678187946564, 'TFX': 188.00868611121697, 'TGT': 58.99163906351995, 'TRV': 52.321264464361434, 'TSN': 76.55969151710553, 'VFC': 127.49572724491166, 'WYNN': 115.97268604121348, 'XEL': 114.18723833409815}\n",
            "quantita finali\n",
            "{'A': 31.350138217912054, 'AAP': 16.652808338624922, 'AAPL': 88.76301525239938, 'ACN': 223.8712377587455, 'ADP': 77.79086181211956, 'AFL': 95.2861245957948, 'ALB': 181.5207103900261, 'AMD': 1283.3047450041693, 'AME': 75.26966928336435, 'ANET': 198.76505337070023, 'APD': 47.511961264040856, 'ARE': 78.81672776150636, 'ATO': 104.40521423021627, 'ATVI': 259.4498914662633, 'BBY': 177.88574358043766, 'BEN': 212.66815397358542, 'BLK': 478.8391043901009, 'BR': 265.5898458768052, 'CBRE': 361.0616669397132, 'CDNS': 71.28259025954989, 'CHD': 122.17602094935262, 'CHRW': 144.28585783716085, 'CMCSA': 210.47375028821259, 'CMS': 110.68097880685946, 'COST': 100.08159990604119, 'CSCO': 255.37189064150832, 'CTSH': 63.6887754968143, 'CVX': 187.14636662852416, 'CZR': 97.76822298724811, 'DD': 58.9642244603608, 'DRI': 191.4767735525733, 'DTE': 253.36313362110815, 'DXC': 42.910210053564825, 'ECL': 161.3317343093816, 'EFX': 413.01856355619805, 'EPAM': 911.1522598309767, 'ETN': 493.22501020930486, 'EVRG': 91.64370863377312, 'EW': 184.28485350429094, 'FDX': 87.52906785926973, 'FITB': 202.10468239751614, 'FTNT': 740.0601105564931, 'GD': 124.6587320275523, 'GE': 201.92933634678033, 'GILD': 224.34956195476457, 'GL': 185.29504356184708, 'GLW': 66.21336392143111, 'GPN': 149.6286311304748, 'GWW': 383.13859616336134, 'HIG': 269.41546969694093, 'HPE': 170.09498091351148, 'HRL': 41.89852320323579, 'HST': 6.731636800170786, 'IDXX': 678.1146628067473, 'IFF': 161.59539087199903, 'INTC': 91.6580828521061, 'IP': 240.9523608983126, 'IQV': 415.26519107416794, 'IRM': 311.9439521819139, 'JNJ': 174.25575542941144, 'JPM': 159.39391968989884, 'K': 169.8800709605007, 'KLAC': 254.52691252164811, 'LEN': 242.9721547239239, 'LH': 373.9144485210359, 'MA': 60.971480755460234, 'MAR': 90.47082103151239, 'MCK': 312.55208966029807, 'MCO': 22.625361089158684, 'MET': 273.797131161317, 'META': 124.13080107228816, 'MHK': 183.0088596720753, 'MKTX': 281.2935905182444, 'MMC': 432.39153555065747, 'MMM': 141.13519709610756, 'MPC': 136.98052817103434, 'MRNA': 2796.8031292602195, 'MTCH': 364.0181532208545, 'MU': 397.86311170199957, 'NCLH': 92.90980256931117, 'NFLX': 10.058934971160843, 'NI': 197.44439171713384, 'NWL': 193.77519926554535, 'NXPI': 305.37993473482493, 'ORLY': 87.13387931947956, 'PCG': 93.07755037273319, 'PRU': 64.34976493871454, 'PXD': 129.83539088595342, 'REGN': 170.54080298073245, 'RHI': 41.93547222794373, 'SJM': 234.69342079881812, 'STX': 39.95553374970797, 'TER': 166.87179233350298, 'TFX': 253.98242879410597, 'TGT': 224.86428869445527, 'TRV': 76.23110806804804, 'TSN': 138.66197320399218, 'VFC': 158.32326811472115, 'WYNN': 101.53485100961143, 'XEL': 179.24100126894456}\n",
            "prezzi iniziali\n",
            "{'A': 63.84223937988281, 'AAP': 148.71051025390625, 'AAPL': 38.04703903198242, 'ACN': 132.6175079345703, 'ADP': 119.88690948486328, 'AFL': 42.06732177734375, 'ALB': 74.17398834228516, 'AMD': 18.829999923706055, 'AME': 65.69671630859375, 'ANET': 52.63750076293945, 'APD': 145.88426208496094, 'ARE': 99.9805679321289, 'ATO': 81.24028778076172, 'ATVI': 45.85447692871094, 'BBY': 47.341243743896484, 'BEN': 25.180570602416992, 'BLK': 351.3620300292969, 'BR': 88.75749969482422, 'CBRE': 39.93000030517578, 'CDNS': 43.22999954223633, 'CHD': 61.96341323852539, 'CHRW': 74.84416961669922, 'CMCSA': 31.451839447021484, 'CMS': 42.89973068237305, 'COST': 192.8170623779297, 'CSCO': 37.73624038696289, 'CTSH': 59.51731872558594, 'CVX': 91.51629638671875, 'CZR': 37.95000076293945, 'DD': 71.46926879882812, 'DRI': 89.84027862548828, 'DTE': 80.6864013671875, 'DXC': 52.396484375, 'ECL': 139.00559997558594, 'EFX': 89.52393341064453, 'EPAM': 114.31999969482422, 'ETN': 61.87193298339844, 'EVRG': 48.66401290893555, 'EW': 49.746665954589844, 'FDX': 153.3317108154297, 'FITB': 20.810060501098633, 'FTNT': 13.935999870300293, 'GD': 141.5117645263672, 'GE': 47.54777908325195, 'GILD': 53.84405517578125, 'GL': 73.7015609741211, 'GLW': 26.49085235595703, 'GPN': 100.07087707519531, 'GWW': 258.3541259765625, 'HIG': 39.20661926269531, 'HPE': 11.727642059326172, 'HRL': 37.82556915283203, 'HST': 15.358419418334961, 'IDXX': 182.4600067138672, 'IFF': 121.61846923828125, 'INTC': 44.27648162841797, 'IP': 32.11239242553711, 'IQV': 114.30999755859375, 'IRM': 24.615251541137695, 'JNJ': 114.14421844482422, 'JPM': 87.2339859008789, 'K': 48.58918762207031, 'KLAC': 84.77450561523438, 'LEN': 38.17822265625, 'LH': 124.97916412353516, 'MA': 185.37330627441406, 'MAR': 104.6269760131836, 'MCK': 108.73511505126953, 'MCO': 135.63868713378906, 'MET': 36.82680130004883, 'META': 135.67999267578125, 'MHK': 118.5999984741211, 'MKTX': 203.0525360107422, 'MMC': 73.7968521118164, 'MMM': 163.43014526367188, 'MPC': 50.54256057739258, 'MRNA': 15.329999923706055, 'MTCH': 42.380001068115234, 'MU': 32.41878890991211, 'NCLH': 42.380001068115234, 'NFLX': 267.6600036621094, 'NI': 21.80179786682129, 'NWL': 15.046052932739258, 'NXPI': 70.94361114501953, 'ORLY': 341.1499938964844, 'PCG': 23.799999237060547, 'PRU': 66.99622344970703, 'PXD': 109.55770111083984, 'REGN': 372.44000244140625, 'RHI': 51.83854675292969, 'SJM': 82.6578598022461, 'STX': 32.74945068359375, 'TER': 31.295156478881836, 'TFX': 247.78150939941406, 'TGT': 60.58795166015625, 'TRV': 106.89910125732422, 'TSN': 48.23834991455078, 'VFC': 59.357730865478516, 'WYNN': 100.25052642822266, 'XEL': 43.28184509277344}\n",
            "quantita finali\n",
            "{'A': 156.47999572753906, 'AAP': 236.77999877929688, 'AAPL': 182.00999450683594, 'ACN': 406.156982421875, 'ADP': 244.00999450683594, 'AFL': 57.90706253051758, 'ALB': 236.6699981689453, 'AMD': 150.24000549316406, 'AME': 143.6699981689453, 'ANET': 142.24000549316406, 'APD': 295.80999755859375, 'ARE': 219.8300018310547, 'ATO': 104.33692169189453, 'ATVI': 67.41999816894531, 'BBY': 102.12000274658203, 'BEN': 33.40999984741211, 'BLK': 911.72998046875, 'BR': 180.9499969482422, 'CBRE': 108.66999816894531, 'CDNS': 183.16000366210938, 'CHD': 101.4372787475586, 'CHRW': 107.9000015258789, 'CMCSA': 50.7400016784668, 'CMS': 62.37952423095703, 'COST': 566.7100219726562, 'CSCO': 63.15999984741211, 'CTSH': 89.56999969482422, 'CVX': 118.02088928222656, 'CZR': 93.47000122070312, 'DD': 80.30777740478516, 'DRI': 147.6698455810547, 'DTE': 119.18000030517578, 'DXC': 33.22999954223633, 'ECL': 229.8300018310547, 'EFX': 283.4775390625, 'EPAM': 642.2000122070312, 'ETN': 168.66000366210938, 'EVRG': 68.16000366210938, 'EW': 128.33999633789062, 'FDX': 258.54998779296875, 'FITB': 44.66999816894531, 'FTNT': 66.6240005493164, 'GD': 206.29510498046875, 'GE': 75.1288070678711, 'GILD': 72.58000183105469, 'GL': 94.74756622314453, 'GLW': 36.9421272277832, 'GPN': 141.6999969482422, 'GWW': 508.45452880859375, 'HIG': 69.13169860839844, 'HPE': 16.139999389648438, 'HRL': 48.87199783325195, 'HST': 17.65999984741211, 'IDXX': 631.010009765625, 'IFF': 149.1199951171875, 'INTC': 53.209999084472656, 'IP': 46.3253173828125, 'IQV': 273.5799865722656, 'IRM': 51.31999969482422, 'JNJ': 170.4458770751953, 'JPM': 160.73651123046875, 'K': 64.10883331298828, 'KLAC': 435.0899963378906, 'LEN': 111.3819351196289, 'LH': 298.17999267578125, 'MA': 370.4638671875, 'MAR': 163.91000366210938, 'MCK': 247.67657470703125, 'MCO': 382.7479553222656, 'MET': 62.79007339477539, 'META': 338.5400085449219, 'MHK': 183.97000122070312, 'MKTX': 396.8299865722656, 'MMC': 166.6588592529297, 'MMM': 176.038330078125, 'MPC': 65.17891693115234, 'MRNA': 235.0500030517578, 'MTCH': 134.22999572753906, 'MU': 95.75, 'NCLH': 22.18000030517578, 'NFLX': 597.3699951171875, 'NI': 27.299652099609375, 'NWL': 22.110000610351562, 'NXPI': 231.22000122070312, 'ORLY': 695.9400024414062, 'PCG': 12.210000038146973, 'PRU': 108.81951141357422, 'PXD': 183.76275634765625, 'REGN': 627.0999755859375, 'RHI': 109.04203033447266, 'SJM': 135.80819702148438, 'STX': 113.16000366210938, 'TER': 166.11000061035156, 'TFX': 334.7300109863281, 'TGT': 230.94911193847656, 'TRV': 155.75, 'TSN': 87.36744689941406, 'VFC': 73.70999908447266, 'WYNN': 87.7699966430664, 'XEL': 67.94000244140625}\n",
            "\n",
            "\n",
            "['A', 'ADI', 'AEE', 'AKAM', 'ALGN', 'AMAT', 'AMT', 'APA', 'APTV', 'ARE', 'AXP', 'AZO', 'BAX', 'BSX', 'CAG', 'CAH', 'CDAY', 'CE', 'CMA', 'CMCSA', 'CMG', 'CMI', 'CMS', 'COST', 'CRM', 'CSX', 'CTAS', 'CVX', 'DLR', 'DPZ', 'EA', 'EBAY', 'EOG', 'EPAM', 'ETR', 'FITB', 'GEN', 'GNRC', 'GOOG', 'GS', 'GWW', 'HCA', 'HON', 'HPQ', 'HST', 'HUM', 'IEX', 'IR', 'JCI', 'JPM', 'KEY', 'KHC', 'LYV', 'MCHP', 'MDT', 'MNST', 'MSI', 'NRG', 'O', 'OKE', 'ORCL', 'PCAR', 'PG', 'PHM', 'PKI', 'PM', 'PSA', 'QRVO', 'RE', 'REGN', 'RJF', 'RL', 'RMD', 'ROK', 'ROL', 'RSG', 'SBNY', 'SCHW', 'SEDG', 'SNPS', 'STE', 'STLD', 'STZ', 'SWK', 'TECH', 'TFC', 'TPR', 'TRMB', 'TSCO', 'TXN', 'TXT', 'UHS', 'URI', 'VRSK', 'VRSN', 'VTRS', 'WBD', 'WM', 'WST', 'ZBH']\n",
            "quantita iniziali\n",
            "{'A': 157.48285721525656, 'ADI': 41.03347725782032, 'AEE': 31.166575206386337, 'AKAM': 196.0258392291087, 'ALGN': 105.5190914950443, 'AMAT': 128.2234420063198, 'AMT': 174.52596897791364, 'APA': 157.29887504004742, 'APTV': 164.0614473675203, 'ARE': 176.48541212205586, 'AXP': 149.3444278804125, 'AZO': 197.84126565031872, 'BAX': 25.29431571234431, 'BSX': 17.11734679297009, 'CAG': 38.62292466040742, 'CAH': 134.9865378000861, 'CDAY': 49.49682902223711, 'CE': 197.23182972012432, 'CMA': 67.10303686196977, 'CMCSA': 35.73487767399172, 'CMG': 60.77670244132982, 'CMI': 75.79480915378288, 'CMS': 50.094819081835695, 'COST': 120.77752738891719, 'CRM': 56.38416404176769, 'CSX': 60.286839296179764, 'CTAS': 148.63760884816088, 'CVX': 158.98510478083045, 'DLR': 150.33903924309772, 'DPZ': 79.47061303713366, 'EA': 196.51337233517185, 'EBAY': 3.2434388205058213, 'EOG': 184.7992214091406, 'EPAM': 163.2367970943297, 'ETR': 89.51655311226605, 'FITB': 188.4054177682883, 'GEN': 54.650357070472296, 'GNRC': 56.49908816724575, 'GOOG': 112.44221684054477, 'GS': 91.0375557985074, 'GWW': 137.51922477310998, 'HCA': 14.082947827726995, 'HON': 186.89137435272926, 'HPQ': 8.664115211329921, 'HST': 138.69419809795065, 'HUM': 169.57928045884313, 'IEX': 194.15295069818833, 'IR': 164.50122821131234, 'JCI': 62.74656372668498, 'JPM': 90.87694902257905, 'KEY': 116.7376108466617, 'KHC': 60.75400037250883, 'LYV': 64.55065446096229, 'MCHP': 180.86606815939749, 'MDT': 157.2994892283408, 'MNST': 14.238689636260009, 'MSI': 74.06383161774208, 'NRG': 106.35804528650891, 'O': 33.66429443758177, 'OKE': 121.84219059684234, 'ORCL': 42.2955638287463, 'PCAR': 96.05504765491024, 'PG': 80.83618662854877, 'PHM': 55.90174044370059, 'PKI': 14.963636093663478, 'PM': 196.20316450553554, 'PSA': 1.0821004631290518, 'QRVO': 64.1828129578245, 'RE': 20.435060475836277, 'REGN': 123.53232697234085, 'RJF': 25.537146168607656, 'RL': 170.51322742748738, 'RMD': 77.5228128966437, 'ROK': 71.34050249443192, 'ROL': 67.80909955310749, 'RSG': 3.6365111143937097, 'SBNY': 33.81891884416139, 'SCHW': 163.56461357829795, 'SEDG': 100.25341856818001, 'SNPS': 192.4092399582545, 'STE': 73.0589144534117, 'STLD': 90.28624596649449, 'STZ': 195.26234704639037, 'SWK': 54.61658923468403, 'TECH': 133.5347450491194, 'TFC': 69.98617748071737, 'TPR': 72.37064712816658, 'TRMB': 67.58461008485968, 'TSCO': 87.41715346236856, 'TXN': 76.94295857827352, 'TXT': 28.356410389951513, 'UHS': 123.94857579744912, 'URI': 144.0181768513871, 'VRSK': 95.88474935807034, 'VRSN': 141.55118424762682, 'VTRS': 197.56759901683085, 'WBD': 35.28717202057226, 'WM': 41.95389885283019, 'WST': 200.9605107414474, 'ZBH': 22.94687316644531}\n",
            "quantita finali\n",
            "{'A': 383.4740764683857, 'ADI': 88.87628522134513, 'AEE': 46.96904594342225, 'AKAM': 390.3575231616858, 'ALGN': 338.3220245757551, 'AMAT': 644.0487173246198, 'AMT': 337.2290311701076, 'APA': 175.7102453766797, 'APTV': 451.33536984526023, 'ARE': 376.2915692485257, 'AXP': 274.3218350699796, 'AZO': 482.5483700515585, 'BAX': 34.87663609302913, 'BSX': 21.419036420176578, 'CAG': 70.14502902719704, 'CAH': 174.6493857021452, 'CDAY': 153.85656447507597, 'CE': 386.7304081129232, 'CMA': 98.14064291138078, 'CMCSA': 55.48293895228606, 'CMG': 231.76054128081933, 'CMI': 139.01044473390732, 'CMS': 72.83991812728559, 'COST': 351.43751896516005, 'CRM': 106.26262338899278, 'CSX': 111.84152947420934, 'CTAS': 392.5234143874102, 'CVX': 198.22645512615028, 'DLR': 281.6058998040531, 'DPZ': 185.55191316749938, 'EA': 331.2106916200879, 'EBAY': 7.781010344699425, 'EOG': 220.69250317485074, 'EPAM': 916.9932939683288, 'ETR': 132.2566866546357, 'FITB': 384.9810336912532, 'GEN': 75.97380448371992, 'GNRC': 385.499064995586, 'GOOG': 311.94717767625275, 'GS': 222.5010710022079, 'GWW': 267.3481286058685, 'HCA': 30.488968889864644, 'HON': 311.34864045432613, 'HPQ': 17.58030788443707, 'HST': 164.81726732069004, 'HUM': 286.2886281132741, 'IEX': 370.7427871483703, 'IR': 522.8716239008347, 'JCI': 175.15624480258595, 'JPM': 156.92406815842426, 'KEY': 208.51992163420516, 'KHC': 57.50076120360406, 'LYV': 161.86433491441818, 'MCHP': 479.2171986706579, 'MDT': 202.6639952850748, 'MNST': 28.191205041805837, 'MSI': 180.57427836765885, 'NRG': 133.716497932773, 'O': 47.37112701018046, 'OKE': 180.08784689892713, 'ORCL': 86.39965438279499, 'PCAR': 165.10570003915325, 'PG': 155.80369795677933, 'PHM': 124.03158118189455, 'PKI': 37.68239840997748, 'PM': 331.58148669543056, 'PSA': 2.2405011649358695, 'QRVO': 167.25507271550833, 'RE': 27.493206616134653, 'REGN': 207.99892256637077, 'RJF': 57.1303558496651, 'RL': 205.9766065292535, 'RMD': 185.16466224049643, 'ROK': 173.35965338352227, 'ROL': 98.19331607931088, 'RSG': 7.3617617608162575, 'SBNY': 111.07798335748917, 'SCHW': 352.7945557719422, 'SEDG': 783.3078313456753, 'SNPS': 826.6386103580924, 'STE': 174.89591312610682, 'STLD': 197.52653851308324, 'STZ': 315.0857618273143, 'SWK': 91.52741200732048, 'TECH': 483.9358147579018, 'TFC': 106.18839438169029, 'TPR': 92.6914838710341, 'TRMB': 180.41988920670468, 'TSCO': 258.7425159185466, 'TXN': 167.15784507609777, 'TXT': 47.258846723085234, 'UHS': 140.96949600992687, 'URI': 450.84426117689026, 'VRSK': 198.9033813458118, 'VRSN': 241.5164487936834, 'VTRS': 101.26737509214996, 'WBD': 34.60410635807129, 'WM': 81.19019855951485, 'WST': 939.0227961095777, 'ZBH': 29.626937027914757}\n",
            "prezzi iniziali\n",
            "{'A': 64.26227569580078, 'ADI': 81.78874969482422, 'AEE': 58.77775955200195, 'AKAM': 59.0099983215332, 'ALGN': 202.1199951171875, 'AMAT': 31.840408325195312, 'AMT': 148.21009826660156, 'APA': 25.0228271484375, 'APTV': 60.35228729248047, 'ARE': 103.10299682617188, 'AXP': 91.34648895263672, 'AZO': 838.47998046875, 'BAX': 62.796810150146484, 'BSX': 34.459999084472656, 'CAG': 18.5882625579834, 'CAH': 40.19853591918945, 'CDAY': 33.7599983215332, 'CE': 85.03978729248047, 'CMA': 60.58652114868164, 'CMCSA': 32.68009567260742, 'CMG': 443.3599853515625, 'CMI': 118.92050170898438, 'CMS': 44.18773651123047, 'COST': 194.75961303710938, 'CRM': 135.5500030517578, 'CSX': 19.987531661987305, 'CTAS': 160.5909881591797, 'CVX': 94.65721130371094, 'DLR': 93.47411346435547, 'DPZ': 236.94032287597656, 'EA': 80.06830596923828, 'EBAY': 27.844934463500977, 'EOG': 75.77672576904297, 'EPAM': 114.31999969482422, 'ETR': 74.71674346923828, 'FITB': 21.860998153686523, 'GEN': 18.940000534057617, 'GNRC': 50.9900016784668, 'GOOG': 52.29249954223633, 'GS': 160.8035888671875, 'GWW': 261.5401611328125, 'HCA': 117.3603286743164, 'HON': 123.45482635498047, 'HPQ': 18.737422943115234, 'HST': 14.860939979553223, 'HUM': 275.7031555175781, 'IEX': 120.52173614501953, 'IR': 18.76026153564453, 'JCI': 28.425704956054688, 'JPM': 90.1119155883789, 'KEY': 13.099259376525879, 'KHC': 38.1847038269043, 'LYV': 48.310001373291016, 'MCHP': 33.21294403076172, 'MDT': 82.35047149658203, 'MNST': 48.7599983215332, 'MSI': 109.68832397460938, 'NRG': 33.87062454223633, 'O': 50.23440170288086, 'OKE': 39.956787109375, 'ORCL': 42.87077331542969, 'PCAR': 34.31721115112305, 'PG': 84.06419372558594, 'PHM': 25.28008270263672, 'PKI': 76.29217529296875, 'PM': 56.64529037475586, 'PSA': 176.42019653320312, 'QRVO': 61.18000030517578, 'RE': 198.17286682128906, 'REGN': 372.44000244140625, 'RJF': 45.97819900512695, 'RL': 100.1009750366211, 'RMD': 108.45964813232422, 'ROK': 139.21148681640625, 'ROL': 23.12676239013672, 'RSG': 66.88887786865234, 'SBNY': 99.66227722167969, 'SCHW': 39.67640686035156, 'SEDG': 36.150001525878906, 'SNPS': 84.05000305175781, 'STE': 101.13458251953125, 'STLD': 28.183807373046875, 'STZ': 156.17442321777344, 'SWK': 110.94886016845703, 'TECH': 33.64956283569336, 'TFC': 39.516441345214844, 'TPR': 31.67054557800293, 'TRMB': 32.470001220703125, 'TSCO': 79.63890838623047, 'TXN': 87.73341369628906, 'TXT': 45.80577850341797, 'UHS': 115.91934967041016, 'URI': 105.62000274658203, 'VRSK': 106.85496520996094, 'VRSN': 147.75999450683594, 'VTRS': 27.72300148010254, 'WBD': 25.829999923706055, 'WM': 84.09362030029297, 'WST': 95.38622283935547, 'ZBH': 97.10166931152344}\n",
            "quantita finali\n",
            "{'A': 156.47999572753906, 'ADI': 177.14999389648438, 'AEE': 88.58000183105469, 'AKAM': 117.51000213623047, 'ALGN': 648.0499877929688, 'AMAT': 159.92999267578125, 'AMT': 286.3800048828125, 'APA': 27.951675415039062, 'APTV': 166.02999877929688, 'ARE': 219.8300018310547, 'AXP': 167.7888946533203, 'AZO': 2045.1099853515625, 'BAX': 86.58631134033203, 'BSX': 43.119998931884766, 'CAG': 33.75907516479492, 'CAH': 52.0099983215332, 'CDAY': 104.94000244140625, 'CE': 166.74525451660156, 'CMA': 88.61000061035156, 'CMCSA': 50.7400016784668, 'CMG': 1690.6700439453125, 'CMI': 218.1045379638672, 'CMS': 64.25077819824219, 'COST': 566.7100219726562, 'CRM': 255.4600067138672, 'CSX': 37.08000183105469, 'CTAS': 424.0899963378906, 'CVX': 118.02088928222656, 'DLR': 175.08999633789062, 'DPZ': 553.219970703125, 'EA': 134.9499969482422, 'EBAY': 66.80000305175781, 'EOG': 90.4947280883789, 'EPAM': 642.2000122070312, 'ETR': 110.39063262939453, 'FITB': 44.66999816894531, 'GEN': 26.329999923706055, 'GNRC': 347.9100036621094, 'GOOG': 145.07449340820312, 'GS': 393.0133056640625, 'GWW': 508.45452880859375, 'HCA': 254.0800018310547, 'HON': 205.6675567626953, 'HPQ': 38.02000045776367, 'HST': 17.65999984741211, 'HUM': 465.45001220703125, 'IEX': 230.14105224609375, 'IR': 59.630001068115234, 'JCI': 79.3499984741211, 'JPM': 155.60302734375, 'KEY': 23.398256301879883, 'KHC': 36.13999938964844, 'LYV': 121.13999938964844, 'MCHP': 88.0, 'MDT': 106.0999984741211, 'MNST': 96.54000091552734, 'MSI': 267.42999267578125, 'NRG': 42.58315658569336, 'O': 70.68795776367188, 'OKE': 59.05780029296875, 'ORCL': 87.57466888427734, 'PCAR': 58.98666763305664, 'PG': 162.02536010742188, 'PHM': 56.09000015258789, 'PKI': 192.1239013671875, 'PM': 95.7300033569336, 'PSA': 365.2799987792969, 'QRVO': 159.42999267578125, 'RE': 266.6205749511719, 'REGN': 627.0999755859375, 'RJF': 102.86000061035156, 'RL': 120.91999816894531, 'RMD': 259.057861328125, 'ROK': 338.28826904296875, 'ROL': 33.48950958251953, 'RSG': 135.41000366210938, 'SBNY': 327.3399963378906, 'SCHW': 85.57853698730469, 'SEDG': 282.45001220703125, 'SNPS': 361.1000061035156, 'STE': 242.1063232421875, 'STLD': 61.65999984741211, 'STZ': 252.0113983154297, 'SWK': 185.92999267578125, 'TECH': 121.94750213623047, 'TFC': 59.957374572753906, 'TPR': 40.56326675415039, 'TRMB': 86.68000030517578, 'TSCO': 235.72000122070312, 'TXN': 190.60000610351562, 'TXT': 76.33999633789062, 'UHS': 131.83767700195312, 'URI': 330.6400146484375, 'VRSK': 221.66000366210938, 'VRSN': 252.11000061035156, 'VTRS': 14.210000038146973, 'WBD': 25.329999923706055, 'WM': 162.74000549316406, 'WST': 445.7086486816406, 'ZBH': 125.36893463134766}\n",
            "\n",
            "\n",
            "['AAL', 'ABBV', 'ABT', 'ADP', 'AEP', 'AMAT', 'AMP', 'ANET', 'APA', 'ARE', 'AVGO', 'AVY', 'CB', 'CDNS', 'CF', 'CHD', 'CHRW', 'CI', 'CINF', 'CMI', 'COP', 'CSCO', 'CSGP', 'CSX', 'CTAS', 'CVS', 'CVX', 'DG', 'DIS', 'DLR', 'DTE', 'DUK', 'EIX', 'EQR', 'EVRG', 'FCX', 'FDS', 'FRT', 'GIS', 'GNRC', 'GOOGL', 'GRMN', 'HES', 'HLT', 'HRL', 'HUM', 'IBM', 'INCY', 'IP', 'IT', 'JKHY', 'KEY', 'KLAC', 'KMI', 'KMX', 'LDOS', 'MAA', 'MET', 'MPWR', 'NTRS', 'NWSA', 'NXPI', 'OKE', 'ORLY', 'PAYX', 'PFE', 'PHM', 'PKI', 'PLD', 'PM', 'PNC', 'PPL', 'PWR', 'RJF', 'RSG', 'SBAC', 'SEDG', 'SEE', 'SJM', 'STLD', 'SYK', 'TJX', 'TSLA', 'TT', 'TYL', 'UAL', 'URI', 'VICI', 'VMC', 'VRTX', 'VTR', 'VTRS', 'WAB', 'WBA', 'WMB', 'WRB', 'WYNN', 'XRAY', 'XYL', 'ZION']\n",
            "quantita iniziali\n",
            "{'AAL': 153.35462816616652, 'ABBV': 12.772506184230885, 'ABT': 28.621702446781693, 'ADP': 70.20916998441773, 'AEP': 33.97697058713025, 'AMAT': 18.425507747498184, 'AMP': 50.59638433314527, 'ANET': 159.68371348755593, 'APA': 80.01776770923412, 'ARE': 26.64360737704987, 'AVGO': 33.667474022061256, 'AVY': 75.68712273449941, 'CB': 43.15523891052829, 'CDNS': 129.9623370974261, 'CF': 105.27591873296467, 'CHD': 130.36466561064023, 'CHRW': 117.43169616664896, 'CI': 120.12172503128974, 'CINF': 133.1160267174439, 'CMI': 194.69606877971918, 'COP': 3.5096568371466894, 'CSCO': 163.50246510407993, 'CSGP': 22.65772112804716, 'CSX': 150.1696282200922, 'CTAS': 33.89372302080898, 'CVS': 32.240982813965395, 'CVX': 91.00236886620407, 'DG': 142.2361249049029, 'DIS': 61.43259266789346, 'DLR': 122.75636097037302, 'DTE': 36.02425098456648, 'DUK': 166.21121508663725, 'EIX': 35.10385911400064, 'EQR': 160.7415338865869, 'EVRG': 107.67328223492636, 'FCX': 134.83644069105023, 'FDS': 114.13062224365994, 'FRT': 151.547240778864, 'GIS': 74.15966263547531, 'GNRC': 183.16799176757334, 'GOOGL': 197.01422617867107, 'GRMN': 51.2730488945982, 'HES': 77.74572397445732, 'HLT': 108.37261991579722, 'HRL': 119.30586713864196, 'HUM': 139.45344845393907, 'IBM': 26.50182359069246, 'INCY': 117.59368179110899, 'IP': 108.43163145508207, 'IT': 198.3303373576513, 'JKHY': 76.43476229284786, 'KEY': 197.42900330018867, 'KLAC': 95.18276748980499, 'KMI': 17.769543825504716, 'KMX': 56.328741153550006, 'LDOS': 12.101870478100356, 'MAA': 80.39049894600525, 'MET': 51.09612770605521, 'MPWR': 59.81146438662794, 'NTRS': 30.18278648309636, 'NWSA': 105.03894661445514, 'NXPI': 197.52717634656165, 'OKE': 53.241104541439256, 'ORLY': 124.66267198568173, 'PAYX': 156.23176730153824, 'PFE': 81.69774111182568, 'PHM': 92.9707964924753, 'PKI': 116.65726186590491, 'PLD': 99.85563070573107, 'PM': 183.73884627654735, 'PNC': 198.12971941649317, 'PPL': 2.511998650511797, 'PWR': 183.932237430788, 'RJF': 150.2585582473434, 'RSG': 102.2819237285767, 'SBAC': 150.2525414305251, 'SEDG': 129.62858586003787, 'SEE': 161.9431936842271, 'SJM': 162.27114898434832, 'STLD': 149.31860429603896, 'SYK': 188.8658961195716, 'TJX': 70.55422461547946, 'TSLA': 17.545795681987343, 'TT': 23.121254510214797, 'TYL': 141.24528512015044, 'UAL': 138.7865662782337, 'URI': 3.2719036567515567, 'VICI': 85.7548268109696, 'VMC': 126.04164727902256, 'VRTX': 61.557001529171245, 'VTR': 178.16059885128902, 'VTRS': 66.81349515166136, 'WAB': 24.973396694489164, 'WBA': 135.14900037642133, 'WMB': 58.53492324535639, 'WRB': 27.816570266081655, 'WYNN': 122.54311968588175, 'XRAY': 94.87557557989007, 'XYL': 161.78255975806204, 'ZION': 144.9279732225548}\n",
            "quantita finali\n",
            "{'AAL': 89.95979488867272, 'ABBV': 22.984077020422212, 'ABT': 60.041209401131965, 'ADP': 138.9745082503951, 'AEP': 45.577733455220056, 'AMAT': 91.17007296538841, 'AMP': 153.05546225733045, 'ANET': 431.50628267728564, 'APA': 87.793123878038, 'ARE': 56.807895393744815, 'AVGO': 97.15505090449386, 'AVY': 186.7182738597307, 'CB': 69.13160326653768, 'CDNS': 550.6338744103872, 'CF': 193.1943665115102, 'CHD': 213.41362964422586, 'CHRW': 162.01251765000399, 'CI': 153.07982382386592, 'CINF': 212.68626627407903, 'CMI': 357.0796232897986, 'COP': 4.490976113097594, 'CSCO': 261.45996050595255, 'CSGP': 53.36802832951521, 'CSX': 278.588181048874, 'CTAS': 87.9454528336343, 'CVS': 56.02655684383253, 'CVX': 117.35812986099761, 'DG': 319.46130115122895, 'DIS': 89.4545696158906, 'DLR': 229.93971267725888, 'DTE': 51.677555747656655, 'DUK': 221.22956601469136, 'EIX': 45.32602509233857, 'EQR': 253.90850857435004, 'EVRG': 145.4386096476189, 'FCX': 555.3581730616564, 'FDS': 280.5757087158063, 'FRT': 200.60325417013604, 'GIS': 144.55148265034467, 'GNRC': 1249.7739672275652, 'GOOGL': 541.6882412704024, 'GRMN': 116.43815665232016, 'HES': 148.9699084466466, 'HLT': 237.90109295586618, 'HRL': 154.14746222877395, 'HUM': 236.99554740900683, 'IBM': 38.15378529970206, 'INCY': 136.85343923372733, 'IP': 156.4234414037111, 'IT': 507.3852562189959, 'JKHY': 108.52840637569275, 'KEY': 352.6530995271935, 'KLAC': 477.9156604045033, 'KMI': 22.065403401614045, 'KMX': 113.6146322940102, 'LDOS': 21.96879216074561, 'MAA': 217.08856754871846, 'MET': 87.1194210627185, 'MPWR': 262.2852508289761, 'NTRS': 46.67314320177722, 'NWSA': 217.46156230843474, 'NXPI': 627.7323841083155, 'OKE': 74.16266620303506, 'ORLY': 254.30966377913109, 'PAYX': 364.1910314896098, 'PFE': 126.65567677159807, 'PHM': 206.2782804466561, 'PKI': 293.7738789911903, 'PLD': 310.35933766872097, 'PM': 310.5169071335843, 'PNC': 383.24248863433706, 'PPL': 3.1780190049546433, 'PWR': 698.1785386112251, 'RJF': 336.15051758136195, 'RSG': 204.10736628654038, 'SBAC': 356.7400284319108, 'SEDG': 1012.8241801687647, 'SEE': 315.3748715066652, 'SJM': 259.1949936407116, 'STLD': 326.67641373799984, 'SYK': 343.29984706223377, 'TJX': 121.42547461051342, 'TSLA': 339.4023929058157, 'TT': 66.69314126068826, 'TYL': 406.01040897463673, 'UAL': 74.99882525609016, 'URI': 10.242588949673358, 'VICI': 162.92508745477377, 'VMC': 279.06723340112865, 'VRTX': 83.4853688583458, 'VTR': 187.21696438091388, 'VTRS': 34.24664422917056, 'WAB': 33.155744250553525, 'WBA': 115.58819440582984, 'WMB': 84.96709113357835, 'WRB': 51.126881965926316, 'WYNN': 107.28730897150474, 'XRAY': 145.29934982448697, 'XYL': 294.5292894158328, 'ZION': 241.85391584228913}\n",
            "prezzi iniziali\n",
            "{'AAL': 31.963159561157227, 'ABBV': 74.48151397705078, 'ABT': 66.04753112792969, 'ADP': 123.27252960205078, 'AEP': 65.48514556884766, 'AMAT': 32.32191467285156, 'AMP': 100.22479248046875, 'ANET': 52.63750076293945, 'APA': 25.47614860534668, 'ARE': 103.10299682617188, 'AVGO': 229.86256408691406, 'AVY': 85.12303161621094, 'CB': 119.50596618652344, 'CDNS': 43.22999954223633, 'CF': 38.31568908691406, 'CHD': 61.96341323852539, 'CHRW': 78.20926666259766, 'CI': 183.77671813964844, 'CINF': 70.79325866699219, 'CMI': 118.92052459716797, 'COP': 57.36204528808594, 'CSCO': 39.49673843383789, 'CSGP': 33.47200012207031, 'CSX': 19.987531661987305, 'CTAS': 163.4420928955078, 'CVS': 59.621131896972656, 'CVX': 91.51628875732422, 'DG': 104.8445053100586, 'DIS': 107.65434265136719, 'DLR': 93.47411346435547, 'DTE': 83.0799789428711, 'DUK': 74.06322479248047, 'EIX': 50.0282096862793, 'EQR': 57.64723587036133, 'EVRG': 50.46123123168945, 'FCX': 10.054276466369629, 'FDS': 193.22787475585938, 'FRT': 103.2861557006836, 'GIS': 34.2496452331543, 'GNRC': 50.9900016784668, 'GOOGL': 52.73400115966797, 'GRMN': 58.80817794799805, 'HES': 40.07583999633789, 'HLT': 70.37126922607422, 'HRL': 37.8255729675293, 'HUM': 273.8811340332031, 'IBM': 93.36942291259766, 'INCY': 63.560001373291016, 'IP': 32.11238479614258, 'IT': 125.8499984741211, 'JKHY': 120.78461456298828, 'KEY': 13.099259376525879, 'KLAC': 86.65351104736328, 'KMI': 12.963479995727539, 'KMX': 62.970001220703125, 'LDOS': 49.72120666503906, 'MAA': 83.31847381591797, 'MET': 36.82680130004883, 'MPWR': 112.84547424316406, 'NTRS': 78.0547866821289, 'NWSA': 10.998435020446777, 'NXPI': 72.75749206542969, 'OKE': 42.397377014160156, 'ORLY': 341.1499938964844, 'PAYX': 57.7025032043457, 'PFE': 36.26567840576172, 'PHM': 25.28008270263672, 'PKI': 76.29217529296875, 'PLD': 53.05525207519531, 'PM': 56.64529037475586, 'PNC': 107.05192565917969, 'PPL': 23.823532104492188, 'PWR': 29.577064514160156, 'RJF': 45.97819900512695, 'RSG': 67.8564224243164, 'SBAC': 158.57525634765625, 'SEDG': 36.150001525878906, 'SEE': 33.713905334472656, 'SJM': 85.02383422851562, 'STLD': 28.183807373046875, 'SYK': 147.67086791992188, 'TJX': 42.964019775390625, 'TSLA': 20.674667358398438, 'TT': 66.1192398071289, 'TYL': 182.24000549316406, 'UAL': 84.18000030517578, 'URI': 105.62000274658203, 'VICI': 15.764037132263184, 'VMC': 93.69401550292969, 'VRTX': 164.0800018310547, 'VTR': 49.4179573059082, 'VTRS': 27.72300148010254, 'WAB': 69.400146484375, 'WBA': 62.03926086425781, 'WMB': 18.25619125366211, 'WRB': 29.474050521850586, 'WYNN': 100.25052642822266, 'XRAY': 37.14725112915039, 'XYL': 63.99513244628906, 'ZION': 38.495025634765625}\n",
            "quantita finali\n",
            "{'AAL': 18.75, 'ABBV': 134.02920532226562, 'ABT': 138.55128479003906, 'ADP': 244.00999450683594, 'AEP': 87.84375, 'AMAT': 159.92999267578125, 'AMP': 303.1827697753906, 'ANET': 142.24000549316406, 'APA': 27.951675415039062, 'ARE': 219.8300018310547, 'AVGO': 663.3200073242188, 'AVY': 209.99642944335938, 'CB': 191.44000244140625, 'CDNS': 183.16000366210938, 'CF': 70.31404113769531, 'CHD': 101.4372787475586, 'CHRW': 107.9000015258789, 'CI': 234.1999969482422, 'CINF': 113.11000061035156, 'CMI': 218.1045379638672, 'COP': 73.40078735351562, 'CSCO': 63.15999984741211, 'CSGP': 78.83999633789062, 'CSX': 37.08000183105469, 'CTAS': 424.0899963378906, 'CVS': 103.60623168945312, 'CVX': 118.02088928222656, 'DG': 235.47999572753906, 'DIS': 156.75999450683594, 'DLR': 175.08999633789062, 'DTE': 119.18000030517578, 'DUK': 98.57923889160156, 'EIX': 64.5963134765625, 'EQR': 91.05999755859375, 'EVRG': 68.16000366210938, 'FCX': 41.411094665527344, 'FDS': 475.02630615234375, 'FRT': 136.72000122070312, 'GIS': 66.75916290283203, 'GNRC': 347.9100036621094, 'GOOGL': 144.9915008544922, 'GRMN': 133.5500030517578, 'HES': 76.79000091552734, 'HLT': 154.47999572753906, 'HRL': 48.87199783325195, 'HUM': 465.45001220703125, 'IBM': 134.4208221435547, 'INCY': 73.97000122070312, 'IP': 46.3253173828125, 'IT': 321.9599914550781, 'JKHY': 171.5, 'KEY': 23.398256301879883, 'KLAC': 435.0899963378906, 'KMI': 16.097454071044922, 'KMX': 127.01000213623047, 'LDOS': 90.26000213623047, 'MAA': 224.99534606933594, 'MET': 62.79007339477539, 'MPWR': 494.8500061035156, 'NTRS': 120.69999694824219, 'NWSA': 22.770000457763672, 'NXPI': 231.22000122070312, 'OKE': 59.05780029296875, 'ORLY': 695.9400024414062, 'PAYX': 134.50999450683594, 'PFE': 56.2225341796875, 'PHM': 56.09000015258789, 'PKI': 192.1239013671875, 'PLD': 164.89999389648438, 'PM': 95.7300033569336, 'PNC': 207.0706329345703, 'PPL': 30.139999389648438, 'PWR': 112.2699966430664, 'RJF': 102.86000061035156, 'RSG': 135.41000366210938, 'SBAC': 376.5003967285156, 'SEDG': 282.45001220703125, 'SEE': 65.65585327148438, 'SJM': 135.80819702148438, 'STLD': 61.65999984741211, 'SYK': 268.4200134277344, 'TJX': 73.94208526611328, 'TSLA': 399.9266662597656, 'TT': 190.72061157226562, 'TYL': 523.8499755859375, 'UAL': 45.4900016784668, 'URI': 330.6400146484375, 'VICI': 29.950000762939453, 'VMC': 207.44674682617188, 'VRTX': 222.52999877929688, 'VTR': 51.93000030517578, 'VTRS': 14.210000038146973, 'WAB': 92.13858795166016, 'WBA': 53.060001373291016, 'WMB': 26.5, 'WRB': 54.17333221435547, 'WYNN': 87.7699966430664, 'XRAY': 56.88999938964844, 'XYL': 116.50477600097656, 'ZION': 64.23999786376953}\n",
            "\n",
            "\n",
            "['ABT', 'ACN', 'ALGN', 'APA', 'APH', 'ARE', 'AVGO', 'BAX', 'BDX', 'BIIB', 'BSX', 'BXP', 'C', 'CAG', 'CE', 'CF', 'CHRW', 'CLX', 'COF', 'CPB', 'CPRT', 'CRL', 'DG', 'DISH', 'DOV', 'DPZ', 'EFX', 'ENPH', 'ETR', 'ETSY', 'EW', 'EXR', 'FIS', 'FISV', 'FMC', 'GM', 'GPC', 'HBAN', 'HCA', 'HSIC', 'IFF', 'ILMN', 'INCY', 'JBHT', 'K', 'KEY', 'KIM', 'KO', 'LIN', 'LUMN', 'MA', 'MRNA', 'MRO', 'MSFT', 'MSI', 'MTD', 'NEE', 'NTAP', 'NTRS', 'NUE', 'NVR', 'ON', 'PARA', 'PCG', 'PG', 'PKG', 'PTC', 'PYPL', 'RL', 'RMD', 'ROL', 'ROST', 'SEDG', 'SLB', 'SNA', 'SO', 'SWK', 'SYY', 'T', 'TECH', 'TFX', 'TRV', 'TSN', 'TT', 'TTWO', 'UHS', 'UNH', 'UNP', 'URI', 'VFC', 'VICI', 'VTR', 'WBA', 'WBD', 'WM', 'WY', 'XEL', 'XOM', 'XRAY', 'YUM']\n",
            "quantita iniziali\n",
            "{'ABT': 127.06577574538652, 'ACN': 155.55363878536804, 'ALGN': 82.04586358938438, 'APA': 134.05280880098667, 'APH': 32.738261191752784, 'ARE': 42.54915801548734, 'AVGO': 23.81124128615917, 'BAX': 50.304681677106565, 'BDX': 142.28087185003577, 'BIIB': 59.498927610576864, 'BSX': 160.06154083257462, 'BXP': 176.9233802919172, 'C': 89.00409066109671, 'CAG': 126.66363086819705, 'CE': 74.93427915814205, 'CF': 115.82660903392545, 'CHRW': 130.03081563259244, 'CLX': 168.4289638301624, 'COF': 86.32270799756516, 'CPB': 76.59086777795575, 'CPRT': 173.68473700083084, 'CRL': 150.79916483884463, 'DG': 114.36596457129258, 'DISH': 52.38765209131068, 'DOV': 167.8259149876561, 'DPZ': 65.08471168494121, 'EFX': 108.02273066695682, 'ENPH': 30.18503995486468, 'ETR': 138.0950284187147, 'ETSY': 174.9667623535356, 'EW': 82.28753578816365, 'EXR': 57.280862726281704, 'FIS': 103.8735349728278, 'FISV': 2.25562646058764, 'FMC': 150.90609916918984, 'GM': 123.189807967108, 'GPC': 172.05977070226658, 'HBAN': 37.82642173189991, 'HCA': 79.02781077873334, 'HSIC': 24.172278856474822, 'IFF': 132.97705379632356, 'ILMN': 166.60679159307819, 'INCY': 159.77288959109828, 'JBHT': 117.32946071416654, 'K': 3.330474488856413, 'KEY': 59.28223406822944, 'KIM': 63.292828379441964, 'KO': 96.22534433931364, 'LIN': 71.37119626574929, 'LUMN': 86.27078654924732, 'MA': 145.78707288070999, 'MRNA': 166.12977868366778, 'MRO': 26.65132174333484, 'MSFT': 21.606909268309384, 'MSI': 129.3183712745048, 'MTD': 11.072838590905736, 'NEE': 128.72526138763658, 'NTAP': 106.78024397622283, 'NTRS': 26.98667610520702, 'NUE': 119.34501597328763, 'NVR': 130.5391638848167, 'ON': 104.56761214859901, 'PARA': 168.70193208031583, 'PCG': 123.53713794806919, 'PG': 44.35088457914569, 'PKG': 84.8510083729547, 'PTC': 126.51591888281206, 'PYPL': 128.5502682979257, 'RL': 131.13596278494256, 'RMD': 120.73237004160417, 'ROL': 166.9423516998483, 'ROST': 54.645025218655526, 'SEDG': 99.03733742030495, 'SLB': 93.78330438116743, 'SNA': 54.5210723058515, 'SO': 126.0750913708217, 'SWK': 26.83310261636824, 'SYY': 83.75058212627175, 'T': 151.3823269195276, 'TECH': 146.61658306329088, 'TFX': 31.31869760725559, 'TRV': 0.5324943499481054, 'TSN': 75.9381509184914, 'TT': 120.86842722894501, 'TTWO': 138.0593563070398, 'UHS': 154.67792683871002, 'UNH': 167.72188676682336, 'UNP': 137.19394113689097, 'URI': 174.57175731759497, 'VFC': 60.63909004626452, 'VICI': 145.91773600482782, 'VTR': 171.34610484813254, 'WBA': 124.92367041993275, 'WBD': 77.78129250087143, 'WM': 165.72833755386205, 'WY': 55.32110742843063, 'XEL': 54.6676007179701, 'XOM': 31.454189533927057, 'XRAY': 35.219608833697365, 'YUM': 7.201467468945861}\n",
            "quantita finali\n",
            "{'ABT': 266.55229203598174, 'ACN': 462.28210030046375, 'ALGN': 263.0606678311896, 'APA': 144.46428213371246, 'APH': 72.58004240299059, 'ARE': 87.97332704656291, 'AVGO': 66.57164154193659, 'BAX': 67.90667095324132, 'BDX': 168.11705633548044, 'BIIB': 47.67490903586318, 'BSX': 200.28594466348537, 'BXP': 216.6826915107642, 'C': 115.68071705538891, 'CAG': 213.84559728411, 'CE': 143.45501949967525, 'CF': 209.07923510568543, 'CHRW': 174.52666817340523, 'CLX': 202.95123346683238, 'COF': 169.60267775353304, 'CPB': 114.36003395446104, 'CPRT': 535.2972191457338, 'CRL': 491.54636034673166, 'DG': 254.51471841290555, 'DISH': 67.38736640787438, 'DOV': 435.75357900078325, 'DPZ': 150.1602413303313, 'EFX': 336.7151681257316, 'ENPH': 1131.632203500137, 'ETR': 196.55398938827918, 'ETSY': 781.5057689230401, 'EW': 212.29125287204465, 'EXR': 152.6638608869342, 'FIS': 117.96971864899618, 'FISV': 3.3617300784027244, 'FMC': 265.15986701455813, 'GM': 234.66436981571593, 'GPC': 268.0664448865196, 'HBAN': 53.09448915418016, 'HCA': 167.6292756747937, 'HSIC': 31.239244476879904, 'IFF': 153.80913900954218, 'ILMN': 215.45406175334435, 'INCY': 185.94085246598337, 'JBHT': 257.01294394647937, 'K': 4.11033015753663, 'KEY': 101.47953969898992, 'KIM': 117.90798086135825, 'KO': 129.97875803064807, 'LIN': 159.2241045111276, 'LUMN': 73.79781427152295, 'MA': 289.56481684851923, 'MRNA': 2547.2149498317704, 'MRO': 31.36052755620208, 'MSFT': 73.6933027269171, 'MSI': 310.9095049231195, 'MTD': 33.96354667503101, 'NEE': 289.7559450967828, 'NTAP': 172.88364969155126, 'NTRS': 40.52532212767066, 'NUE': 276.8762234355146, 'NVR': 310.4382895300124, 'ON': 437.2770472433764, 'PARA': 114.48065462291504, 'PCG': 63.37766837864775, 'PG': 83.33850769324872, 'PKG': 142.7654192764378, 'PTC': 189.92832613138327, 'PYPL': 292.2401121380882, 'RL': 153.75778553707337, 'RMD': 286.0610618643091, 'ROL': 238.77754037453425, 'ROST': 74.13441619713171, 'SEDG': 773.8062512470918, 'SLB': 87.51082310998383, 'SNA': 85.23833363816931, 'SO': 214.9781497342739, 'SWK': 44.96736495721748, 'SYY': 112.40106560991299, 'T': 164.104342616962, 'TECH': 528.9036440332012, 'TFX': 41.75387973818239, 'TRV': 0.743655125643544, 'TSN': 131.04196370878952, 'TT': 342.73511794410643, 'TTWO': 237.0808692222454, 'UHS': 174.77699142543744, 'UNH': 358.0667261121312, 'UNP': 256.22151341443765, 'URI': 544.7096069853142, 'VFC': 68.20667982588093, 'VICI': 263.9727945052246, 'VTR': 173.46468186741004, 'WBA': 100.78443914845583, 'WBD': 76.27565384948518, 'WM': 315.65042023551234, 'WY': 110.14194167146537, 'XEL': 80.11789337671742, 'XOM': 33.24461525887604, 'XRAY': 53.17190637078961, 'YUM': 11.116064362180177}\n",
            "prezzi iniziali\n",
            "{'ABT': 64.89285278320312, 'ACN': 134.62754821777344, 'ALGN': 202.1199951171875, 'APA': 25.47614860534668, 'APH': 38.5795783996582, 'ARE': 103.10299682617188, 'AVGO': 229.86256408691406, 'BAX': 62.796810150146484, 'BDX': 206.21917724609375, 'BIIB': 304.69000244140625, 'BSX': 34.459999084472656, 'BXP': 97.93209838867188, 'C': 48.16938018798828, 'CAG': 19.279685974121094, 'CE': 85.03978729248047, 'CF': 38.31568908691406, 'CHRW': 78.20926666259766, 'CLX': 139.6090545654297, 'COF': 73.59353637695312, 'CPB': 28.18126678466797, 'CPRT': 23.84000015258789, 'CRL': 111.08999633789062, 'DG': 104.8445053100586, 'DISH': 25.8799991607666, 'DOV': 67.456787109375, 'DPZ': 236.94032287597656, 'EFX': 90.2308578491211, 'ENPH': 4.920000076293945, 'ETR': 74.71674346923828, 'ETSY': 47.0, 'EW': 49.746665954589844, 'EXR': 79.47898864746094, 'FIS': 98.1015625, 'FISV': 72.20999908447266, 'FMC': 61.53533935546875, 'GM': 31.893360137939453, 'GPC': 85.91089630126953, 'HBAN': 10.763242721557617, 'HCA': 118.56621551513672, 'HSIC': 59.913726806640625, 'IFF': 125.21749114990234, 'ILMN': 294.5199890136719, 'INCY': 63.560001373291016, 'JBHT': 91.1193618774414, 'K': 50.23929214477539, 'KEY': 13.099259376525879, 'KIM': 12.709395408630371, 'KO': 42.63923645019531, 'LIN': 149.48851013183594, 'LUMN': 13.870148658752441, 'MA': 185.3733367919922, 'MRNA': 15.329999923706055, 'MRO': 14.108701705932617, 'MSFT': 98.14884948730469, 'MSI': 109.68832397460938, 'MTD': 546.0399780273438, 'NEE': 39.613983154296875, 'NTAP': 55.09035873413086, 'NTRS': 78.0547866821289, 'NUE': 47.9292106628418, 'NVR': 2420.820068359375, 'ON': 16.780000686645508, 'PARA': 45.65999984741211, 'PCG': 23.799999237060547, 'PG': 84.06419372558594, 'PKG': 77.18315887451172, 'PTC': 81.91999816894531, 'PYPL': 85.75, 'RL': 100.1009750366211, 'RMD': 108.45964813232422, 'ROL': 23.12676239013672, 'ROST': 82.29998016357422, 'SEDG': 36.150001525878906, 'SLB': 33.33763885498047, 'SNA': 132.0314483642578, 'SO': 38.06173324584961, 'SWK': 110.9488754272461, 'SYY': 57.073753356933594, 'T': 16.254467010498047, 'TECH': 33.64956283569336, 'TFX': 249.4222412109375, 'TRV': 109.18746185302734, 'TSN': 49.31455612182617, 'TT': 67.25924682617188, 'TTWO': 104.01000213623047, 'UHS': 115.91934967041016, 'UNH': 232.29779052734375, 'UNP': 128.8439483642578, 'URI': 105.62000274658203, 'VFC': 62.3684196472168, 'VICI': 15.764037132263184, 'VTR': 49.4179573059082, 'WBA': 62.03926086425781, 'WBD': 25.829999923706055, 'WM': 84.09362030029297, 'WY': 18.661184310913086, 'XEL': 45.1014404296875, 'XOM': 57.382545471191406, 'XRAY': 37.14725112915039, 'YUM': 86.38433837890625}\n",
            "quantita finali\n",
            "{'ABT': 136.12901306152344, 'ACN': 400.0928955078125, 'ALGN': 648.0499877929688, 'APA': 27.454803466796875, 'APH': 85.53012084960938, 'ARE': 213.17257690429688, 'AVGO': 642.6514282226562, 'BAX': 84.76988983154297, 'BDX': 243.6656494140625, 'BIIB': 244.13999938964844, 'BSX': 43.119998931884766, 'BXP': 119.94000244140625, 'C': 62.60688018798828, 'CAG': 32.549800872802734, 'CE': 162.80111694335938, 'CF': 69.16385650634766, 'CHRW': 104.97206115722656, 'CLX': 168.22421264648438, 'COF': 144.593017578125, 'CPB': 42.07826232910156, 'CPRT': 73.4749984741211, 'CRL': 362.1099853515625, 'DG': 233.3252716064453, 'DISH': 33.290000915527344, 'DOV': 175.1489715576172, 'DPZ': 546.6570434570312, 'EFX': 281.25653076171875, 'ENPH': 184.4499969482422, 'ETR': 106.34614562988281, 'ETSY': 209.92999267578125, 'EW': 128.33999633789062, 'EXR': 211.8258819580078, 'FIS': 111.41445922851562, 'FISV': 107.62000274658203, 'FMC': 108.12487030029297, 'GM': 60.75368881225586, 'GPC': 133.84783935546875, 'HBAN': 15.107664108276367, 'HCA': 251.49588012695312, 'HSIC': 77.43000030517578, 'IFF': 144.83396911621094, 'ILMN': 380.8699951171875, 'INCY': 73.97000122070312, 'JBHT': 199.59910583496094, 'K': 62.00320053100586, 'KEY': 22.423358917236328, 'KIM': 23.676286697387695, 'KO': 57.59600067138672, 'LIN': 333.4983215332031, 'LUMN': 11.864811897277832, 'MA': 368.1917419433594, 'MRNA': 235.0500030517578, 'MRO': 16.601665496826172, 'MSFT': 334.75, 'MSI': 263.714599609375, 'MTD': 1674.8599853515625, 'NEE': 89.1696548461914, 'NTAP': 89.19461059570312, 'NTRS': 117.21322631835938, 'NUE': 111.19407653808594, 'NVR': 5757.009765625, 'ON': 70.16999816894531, 'PARA': 30.9847469329834, 'PCG': 12.210000038146973, 'PG': 157.96267700195312, 'PKG': 129.8639373779297, 'PTC': 122.9800033569336, 'PYPL': 194.94000244140625, 'RL': 117.36905670166016, 'RMD': 256.9822998046875, 'ROL': 33.07819366455078, 'ROST': 111.65263366699219, 'SEDG': 282.45001220703125, 'SLB': 31.107927322387695, 'SNA': 206.41818237304688, 'SO': 64.90132904052734, 'SWK': 185.92999267578125, 'SYY': 76.59828186035156, 'T': 17.62047576904297, 'TECH': 121.38719940185547, 'TFX': 332.528076171875, 'TRV': 152.48577880859375, 'TSN': 85.09920501708984, 'TT': 190.7206573486328, 'TTWO': 178.61000061035156, 'UHS': 130.98207092285156, 'UNH': 495.92877197265625, 'UNP': 240.62718200683594, 'URI': 329.56207275390625, 'VFC': 70.15182495117188, 'VICI': 28.51796531677246, 'VTR': 50.02897644042969, 'WBA': 50.051300048828125, 'WBD': 25.329999923706055, 'WM': 160.16685485839844, 'WY': 37.15361404418945, 'XEL': 66.0982437133789, 'XOM': 60.64885711669922, 'XRAY': 56.082115173339844, 'YUM': 133.34141540527344}\n",
            "\n",
            "\n",
            "['AAL', 'ABT', 'ACN', 'ADM', 'AES', 'AIZ', 'ALL', 'ALLE', 'AMP', 'AMT', 'ANSS', 'AON', 'APA', 'AWK', 'BAX', 'CCL', 'CHTR', 'CI', 'COP', 'CPRT', 'CRL', 'CRM', 'CSGP', 'CTSH', 'CVS', 'DHR', 'DVA', 'ED', 'EQIX', 'EQR', 'ETN', 'EXC', 'F', 'FDX', 'FIS', 'FLT', 'FTNT', 'GD', 'GNRC', 'GRMN', 'HIG', 'HII', 'HSIC', 'HST', 'IDXX', 'INTC', 'JKHY', 'KEYS', 'KMI', 'LNT', 'LW', 'MAR', 'MAS', 'MCD', 'MGM', 'MMC', 'MOH', 'MPWR', 'MRK', 'MSFT', 'NDAQ', 'NDSN', 'NEE', 'NI', 'NKE', 'NSC', 'OKE', 'PNC', 'PPL', 'PSX', 'PTC', 'PYPL', 'QCOM', 'RF', 'RHI', 'ROP', 'SBAC', 'SJM', 'SNA', 'SO', 'SYK', 'SYY', 'TAP', 'TDG', 'TEL', 'TFC', 'UDR', 'UNH', 'UPS', 'VFC', 'VMC', 'VRSK', 'VTR', 'WBD', 'WMT', 'WRB', 'WY', 'YUM', 'ZION', 'ZTS']\n",
            "quantita iniziali\n",
            "{'AAL': 99.4782291117733, 'ABT': 111.75508980041886, 'ACN': 67.9270731193319, 'ADM': 175.47392405496632, 'AES': 130.06504268176002, 'AIZ': 119.92253095762209, 'ALL': 166.1063828599083, 'ALLE': 115.14936056069088, 'AMP': 188.49957091191587, 'AMT': 106.13988715100622, 'ANSS': 135.8348646683436, 'AON': 109.3356837317464, 'APA': 61.2884528001358, 'AWK': 61.54563464769643, 'BAX': 27.85387057044972, 'CCL': 116.08446824770708, 'CHTR': 107.7993332593042, 'CI': 69.69851016728292, 'COP': 32.09443515680576, 'CPRT': 92.52448736400218, 'CRL': 162.9105860415534, 'CRM': 7.239298539398006, 'CSGP': 78.66003913958382, 'CTSH': 80.98855790955945, 'CVS': 13.174090261136735, 'DHR': 1.7602712234280653, 'DVA': 108.61581839405677, 'ED': 27.557318426107397, 'EQIX': 180.90292267828534, 'EQR': 31.79630896425487, 'ETN': 79.66668200786057, 'EXC': 178.74789994232188, 'F': 153.36432092825765, 'FDX': 87.05057531576948, 'FIS': 122.64249762345204, 'FLT': 94.41597252352413, 'FTNT': 88.699656145331, 'GD': 104.16689738271062, 'GNRC': 62.12933256516886, 'GRMN': 153.38955947062922, 'HIG': 166.4193297442904, 'HII': 185.48733047336228, 'HSIC': 80.27177060759735, 'HST': 9.86482566960981, 'IDXX': 138.61838995007804, 'INTC': 59.181101896208546, 'JKHY': 58.75523428476948, 'KEYS': 127.29239614797339, 'KMI': 14.831142338351622, 'LNT': 121.14297707432763, 'LW': 159.13026702646985, 'MAR': 100.74759472219327, 'MAS': 5.4158190272669815, 'MCD': 43.718140475092206, 'MGM': 90.65652347965928, 'MMC': 54.960006703322705, 'MOH': 43.28707149221582, 'MPWR': 36.94275611531162, 'MRK': 76.98972056684906, 'MSFT': 72.0684031990839, 'NDAQ': 97.24612652514938, 'NDSN': 186.24081885135047, 'NEE': 187.3799577201583, 'NI': 177.6852060823866, 'NKE': 162.98002742240203, 'NSC': 164.2798755576993, 'OKE': 175.8713570334312, 'PNC': 43.983465617578226, 'PPL': 98.46468867549267, 'PSX': 60.45556856929959, 'PTC': 27.894146318672355, 'PYPL': 66.27511006910531, 'QCOM': 9.365034605385757, 'RF': 158.9681369652224, 'RHI': 181.98729356885335, 'ROP': 88.325681942765, 'SBAC': 87.42313579559251, 'SJM': 140.39453729182623, 'SNA': 35.84866109648514, 'SO': 14.413736451078806, 'SYK': 134.16717129267022, 'SYY': 158.02474579202897, 'TAP': 4.113267453342601, 'TDG': 108.97762373075669, 'TEL': 16.558667655068113, 'TFC': 36.221829975298384, 'UDR': 57.14015417824991, 'UNH': 119.47436633668958, 'UPS': 65.22019831534347, 'VFC': 166.49371541837147, 'VMC': 166.09172981416845, 'VRSK': 103.80565358438325, 'VTR': 187.62620900462846, 'WBD': 187.91540492230857, 'WMT': 162.68971595790399, 'WRB': 159.4339282934476, 'WY': 138.71535088707952, 'YUM': 21.616524483701216, 'ZION': 173.6767980084141, 'ZTS': 108.31814043692056}\n",
            "quantita finali\n",
            "{'AAL': 58.35520710263035, 'ABT': 230.33576144456964, 'ACN': 201.86908049252054, 'ADM': 312.86282091185154, 'AES': 244.80619737345688, 'AIZ': 216.74892547420467, 'ALL': 250.74833385665346, 'ALLE': 187.7936608810519, 'AMP': 560.6727592297906, 'AMT': 199.8444081258897, 'ANSS': 375.6473768594052, 'AON': 226.92286982570184, 'APA': 66.04854942067414, 'AWK': 133.90853999869873, 'BAX': 37.60015431519079, 'CCL': 52.52536148579049, 'CHTR': 242.3997237456814, 'CI': 88.82186956597903, 'COP': 39.12652201292708, 'CPRT': 285.16092803593926, 'CRL': 531.0248615518271, 'CRM': 13.643313993671807, 'CSGP': 185.27596722892048, 'CTSH': 116.46429451116536, 'CVS': 22.353208367666912, 'DHR': 5.576325782724904, 'DVA': 242.36466385692304, 'ED': 33.82807114482387, 'EQIX': 443.0446252968743, 'EQR': 48.47984308867452, 'ETN': 345.8001122731854, 'EXC': 251.2803641795574, 'F': 429.2842437459436, 'FDX': 140.85254890798464, 'FIS': 139.28572800409188, 'FLT': 117.59889576208704, 'FTNT': 424.04750249350934, 'GD': 145.34213235068884, 'GNRC': 423.91479915170413, 'GRMN': 338.21417545669004, 'HIG': 280.59896564540395, 'HII': 186.7128149849519, 'HSIC': 103.73988656560027, 'HST': 11.343147694747817, 'IDXX': 479.3904876549923, 'INTC': 67.58329081898283, 'JKHY': 82.55847922918716, 'KEYS': 420.0110426338351, 'KMI': 17.326727647269077, 'LNT': 186.74389916148218, 'LW': 143.48641605922748, 'MAR': 155.17605563042736, 'MAS': 12.9333607384079, 'MCD': 71.60860190035082, 'MGM': 167.9907620205945, 'MMC': 120.68090554880405, 'MOH': 121.38709020660416, 'MPWR': 160.7842896743522, 'MRK': 87.34730521511088, 'MSFT': 242.9088627057034, 'NDAQ': 272.61690883889014, 'NDSN': 403.43713696189957, 'NEE': 421.785562181926, 'NI': 207.7051656442925, 'NKE': 367.48146586279574, 'NSC': 332.184245618032, 'OKE': 230.8792590805564, 'PNC': 82.03842884620512, 'PPL': 120.6669040863972, 'PSX': 57.08168546155608, 'PTC': 41.87527202862593, 'PYPL': 150.6667069233336, 'QCOM': 31.746332484862023, 'RF': 285.99569319202703, 'RHI': 366.3767482506759, 'ROP': 159.00906741964397, 'SBAC': 207.5660860867841, 'SJM': 224.25153296568095, 'SNA': 54.592304669925305, 'SO': 24.57771789068049, 'SYK': 237.82469062829773, 'SYY': 212.08393908588104, 'TAP': 3.503608097261662, 'TDG': 224.14432747774651, 'TEL': 36.792156419452496, 'TFC': 57.79316474963328, 'UDR': 98.49847405854848, 'UNH': 255.06388005266592, 'UPS': 151.2518089329624, 'VFC': 187.27168839313822, 'VMC': 364.3187457235339, 'VRSK': 213.83899682462308, 'VTR': 189.946092824736, 'WBD': 184.27786319800825, 'WMT': 261.56927532537486, 'WRB': 287.11610735215316, 'WY': 276.17628779588927, 'YUM': 33.36690452100865, 'ZION': 279.8691234892482, 'ZTS': 302.9339291945322}\n",
            "prezzi iniziali\n",
            "{'AAL': 31.963159561157227, 'ABT': 66.04753112792969, 'ACN': 134.62754821777344, 'ADM': 37.164451599121094, 'AES': 12.519083023071289, 'AIZ': 84.48968505859375, 'ALL': 75.7677993774414, 'ALLE': 78.37000274658203, 'AMP': 100.22479248046875, 'AMT': 148.21009826660156, 'ANSS': 143.00999450683594, 'AON': 139.9848175048828, 'APA': 25.47614860534668, 'AWK': 82.8388442993164, 'BAX': 62.796810150146484, 'CCL': 47.3174934387207, 'CHTR': 287.989990234375, 'CI': 180.78834533691406, 'COP': 57.36204528808594, 'CPRT': 23.84000015258789, 'CRL': 111.08999633789062, 'CRM': 135.5500030517578, 'CSGP': 33.47200012207031, 'CTSH': 61.07221221923828, 'CVS': 59.621131896972656, 'DHR': 99.29794311523438, 'DVA': 51.72999954223633, 'ED': 66.39954376220703, 'EQIX': 335.1985778808594, 'EQR': 57.64723587036133, 'ETN': 37.83238220214844, 'EXC': 27.816621780395508, 'F': 7.085236549377441, 'FDX': 156.52789306640625, 'FIS': 98.1015625, 'FLT': 185.5500030517578, 'FTNT': 13.935999870300293, 'GD': 144.64712524414062, 'GNRC': 50.9900016784668, 'GRMN': 58.80817794799805, 'HIG': 40.09379196166992, 'HII': 179.71034240722656, 'HSIC': 59.913726806640625, 'HST': 15.358419418334961, 'IDXX': 182.4600067138672, 'INTC': 44.27648162841797, 'JKHY': 120.78461456298828, 'KEYS': 61.41999816894531, 'KMI': 12.963479995727539, 'LNT': 37.98423767089844, 'LW': 69.74932861328125, 'MAR': 105.51872253417969, 'MAS': 28.296783447265625, 'MCD': 159.4595184326172, 'MGM': 24.535112380981445, 'MMC': 74.8405990600586, 'MOH': 112.88999938964844, 'MPWR': 112.84547424316406, 'MRK': 65.6446304321289, 'MSFT': 98.14884948730469, 'NDAQ': 23.756113052368164, 'NDSN': 114.40863800048828, 'NEE': 39.613983154296875, 'NI': 22.564550399780273, 'NKE': 72.05028533935547, 'NSC': 141.00405883789062, 'OKE': 42.397377014160156, 'PNC': 107.05192565917969, 'PPL': 23.823532104492188, 'PSX': 76.2591552734375, 'PTC': 81.91999816894531, 'PYPL': 85.75, 'QCOM': 53.443572998046875, 'RF': 12.178787231445312, 'RHI': 52.9882926940918, 'ROP': 261.90203857421875, 'SBAC': 158.57525634765625, 'SJM': 82.65786743164062, 'SNA': 135.54685974121094, 'SO': 38.06173324584961, 'SYK': 149.53729248046875, 'SYY': 57.073753356933594, 'TAP': 53.59748077392578, 'TDG': 303.3089599609375, 'TEL': 70.9722671508789, 'TFC': 37.85566329956055, 'UDR': 34.53604507446289, 'UNH': 232.29779052734375, 'UPS': 88.33463287353516, 'VFC': 62.3684196472168, 'VMC': 93.69401550292969, 'VRSK': 106.85496520996094, 'VTR': 49.4179573059082, 'WBD': 25.829999923706055, 'WMT': 88.576416015625, 'WRB': 29.474050521850586, 'WY': 18.661184310913086, 'YUM': 86.38433837890625, 'ZION': 38.495025634765625, 'ZTS': 82.87638092041016}\n",
            "quantita finali\n",
            "{'AAL': 18.75, 'ABT': 136.12899780273438, 'ACN': 400.0928955078125, 'ADM': 66.2626953125, 'AES': 23.563203811645508, 'AIZ': 152.7073211669922, 'ALL': 114.37639617919922, 'ALLE': 127.8113021850586, 'AMP': 298.1084289550781, 'AMT': 279.0558776855469, 'ANSS': 395.489990234375, 'AON': 290.5342102050781, 'APA': 27.45480728149414, 'AWK': 180.23745727539062, 'BAX': 84.7698974609375, 'CCL': 21.40999984741211, 'CHTR': 647.5800170898438, 'CI': 230.39170837402344, 'COP': 69.930419921875, 'CPRT': 73.4749984741211, 'CRL': 362.1099853515625, 'CRM': 255.4600067138672, 'CSGP': 78.83999633789062, 'CTSH': 87.82391357421875, 'CVS': 101.1624755859375, 'DHR': 314.5638427734375, 'DVA': 115.43000030517578, 'ED': 81.50896453857422, 'EQIX': 820.9260864257812, 'EQR': 87.89476013183594, 'ETN': 164.2147216796875, 'EXC': 39.10407257080078, 'F': 19.832386016845703, 'FDX': 253.27061462402344, 'FIS': 111.41445922851562, 'FLT': 231.11000061035156, 'FTNT': 66.6240005493164, 'GD': 201.8234405517578, 'GNRC': 347.9100036621094, 'GRMN': 129.66827392578125, 'HIG': 67.60198211669922, 'HII': 180.8976593017578, 'HSIC': 77.43000030517578, 'HST': 17.65999984741211, 'IDXX': 631.010009765625, 'INTC': 50.562599182128906, 'JKHY': 169.71754455566406, 'KEYS': 202.66000366210938, 'KMI': 15.144800186157227, 'LNT': 58.55332946777344, 'LW': 62.89237976074219, 'MAR': 162.52476501464844, 'MAS': 67.5747299194336, 'MCD': 261.1884460449219, 'MGM': 45.46470642089844, 'MMC': 164.33460998535156, 'MOH': 316.57000732421875, 'MPWR': 491.13226318359375, 'MRK': 74.47593688964844, 'MSFT': 330.8138427734375, 'NDAQ': 66.59718322753906, 'NDSN': 247.83338928222656, 'NEE': 89.1696548461914, 'NI': 26.3768367767334, 'NKE': 162.4563751220703, 'NSC': 285.11907958984375, 'OKE': 55.65815353393555, 'PNC': 199.6743927001953, 'PPL': 29.195358276367188, 'PSX': 72.00331115722656, 'PTC': 122.9800033569336, 'PYPL': 194.94000244140625, 'QCOM': 181.167236328125, 'RF': 21.910558700561523, 'RHI': 106.67601013183594, 'ROP': 471.49139404296875, 'SBAC': 376.5003967285156, 'SJM': 132.02902221679688, 'SNA': 206.41818237304688, 'SO': 64.90132141113281, 'SYK': 265.06976318359375, 'SYY': 76.59829711914062, 'TAP': 45.65338134765625, 'TDG': 623.843505859375, 'TEL': 157.69522094726562, 'TFC': 60.400001525878906, 'UDR': 59.53340148925781, 'UNH': 495.92877197265625, 'UPS': 204.8563690185547, 'VFC': 70.1518325805664, 'VMC': 205.515869140625, 'VRSK': 220.1205596923828, 'VTR': 50.02898025512695, 'WBD': 25.329999923706055, 'WMT': 142.41139221191406, 'WRB': 53.07825469970703, 'WY': 37.15361404418945, 'YUM': 133.34141540527344, 'ZION': 62.03228759765625, 'ZTS': 231.78082275390625}\n",
            "\n",
            "\n",
            "['AAP', 'AAPL', 'ADBE', 'ADSK', 'AES', 'AKAM', 'AMAT', 'AME', 'AMT', 'ANET', 'AVB', 'AXP', 'BALL', 'BIO', 'BRO', 'BWA', 'CBOE', 'CDW', 'CHD', 'CHRW', 'CME', 'COF', 'CPB', 'CTLT', 'CTSH', 'CVX', 'DISH', 'DLR', 'DOV', 'DUK', 'DVA', 'ED', 'ELV', 'EMR', 'ENPH', 'ETN', 'EVRG', 'EXC', 'EXR', 'FMC', 'FTNT', 'HON', 'HSIC', 'IP', 'IPG', 'IVZ', 'JKHY', 'JPM', 'KDP', 'KEYS', 'KO', 'L', 'LDOS', 'LIN', 'LUV', 'LW', 'MA', 'MCD', 'MCK', 'MDLZ', 'MHK', 'MMM', 'MOH', 'MRNA', 'MSI', 'NCLH', 'NDAQ', 'NI', 'NRG', 'NWSA', 'ON', 'ORCL', 'ORLY', 'PAYC', 'PEAK', 'PFE', 'PFG', 'PG', 'PGR', 'PHM', 'PNW', 'PTC', 'QCOM', 'RE', 'REGN', 'RMD', 'SBNY', 'SBUX', 'SWKS', 'SYK', 'T', 'TAP', 'TMUS', 'TTWO', 'TXT', 'VTRS', 'WBA', 'WEC', 'WMT', 'XEL']\n",
            "quantita iniziali\n",
            "{'AAP': 73.80492125930894, 'AAPL': 118.22444869565216, 'ADBE': 106.93506154499426, 'ADSK': 88.5319104494812, 'AES': 68.53091494799435, 'AKAM': 159.4969180305687, 'AMAT': 48.17871698890479, 'AME': 46.90402868980371, 'AMT': 84.57022390661211, 'ANET': 157.12202477854586, 'AVB': 103.14041465139333, 'AXP': 159.9973757930974, 'BALL': 169.904132348512, 'BIO': 130.9416491769975, 'BRO': 185.95225213387326, 'BWA': 134.60965263277373, 'CBOE': 130.85261814163195, 'CDW': 71.83570763704026, 'CHD': 11.315497663390293, 'CHRW': 28.95769675790372, 'CME': 15.13644981072782, 'COF': 129.06725092006795, 'CPB': 22.451243442115565, 'CTLT': 16.19388590468195, 'CTSH': 77.9582940373829, 'CVX': 37.122676736124355, 'DISH': 73.49970841136634, 'DLR': 100.71846473384765, 'DOV': 87.2387850482572, 'DUK': 100.99000331401687, 'DVA': 145.37247125638444, 'ED': 96.40526092650884, 'ELV': 138.9905720475473, 'EMR': 67.24568990762738, 'ENPH': 105.69234833636426, 'ETN': 129.46647786620858, 'EVRG': 190.11887802804367, 'EXC': 76.49449548156969, 'EXR': 65.93508421244836, 'FMC': 125.62471187829995, 'FTNT': 84.05292697520558, 'HON': 187.55348191562302, 'HSIC': 3.80618390609258, 'IP': 48.73996100994519, 'IPG': 146.76190910735315, 'IVZ': 138.0807633557376, 'JKHY': 46.76024753860312, 'JPM': 109.6008621192171, 'KDP': 0.11485866097543504, 'KEYS': 74.4770367449428, 'KO': 168.24242372713474, 'L': 23.739137644781945, 'LDOS': 44.35253843000222, 'LIN': 112.56562583020971, 'LUV': 119.02681746721804, 'LW': 45.89385682177779, 'MA': 101.13395361005722, 'MCD': 179.2651799272099, 'MCK': 177.09263308265358, 'MDLZ': 115.57101776465979, 'MHK': 154.05970909431565, 'MMM': 185.25818810855975, 'MOH': 162.2471428937451, 'MRNA': 74.69783495761692, 'MSI': 105.04608807676225, 'NCLH': 82.96009432468863, 'NDAQ': 86.03950181187923, 'NI': 83.70564843738374, 'NRG': 86.59756834637226, 'NWSA': 70.06864052994423, 'ON': 104.34965811248995, 'ORCL': 18.03203401139444, 'ORLY': 82.54243534223751, 'PAYC': 185.9820497463712, 'PEAK': 84.54038751370003, 'PFE': 188.31098302091107, 'PFG': 159.86164336164308, 'PG': 117.07510619440822, 'PGR': 66.13433904003082, 'PHM': 121.17362403742557, 'PNW': 168.61218158781904, 'PTC': 129.2407004073912, 'QCOM': 42.36537530672433, 'RE': 74.72436316807718, 'REGN': 83.90084279189296, 'RMD': 101.05933185430027, 'SBNY': 163.06232177158407, 'SBUX': 73.94255353115611, 'SWKS': 88.44842181991011, 'SYK': 54.22485526763531, 'T': 121.91644036227113, 'TAP': 47.31791890698148, 'TMUS': 151.4049725628026, 'TTWO': 13.9041067090895, 'TXT': 157.7695851810414, 'VTRS': 186.49451845443213, 'WBA': 38.50883707198215, 'WEC': 86.19249630838534, 'WMT': 37.14298062167933, 'XEL': 152.72418518549563}\n",
            "quantita finali\n",
            "{'AAP': 109.68331126867386, 'AAPL': 555.7075380845874, 'ADBE': 268.7399839412839, 'ADSK': 194.77568574053896, 'AES': 125.56153755509932, 'AKAM': 317.61538233521736, 'AMAT': 235.64802159459003, 'AME': 101.18659315842473, 'AMT': 159.2321868370353, 'ANET': 424.58394383596453, 'AVB': 164.76043514244836, 'AXP': 289.85010988334346, 'BALL': 368.9979134229814, 'BIO': 422.2075790375746, 'BRO': 481.08114183710353, 'BWA': 179.45121660892394, 'CBOE': 183.06720205222285, 'CDW': 188.6639200034373, 'CHD': 18.29348159667999, 'CHRW': 39.95096307248729, 'CME': 18.786120539133915, 'COF': 253.58511316626925, 'CPB': 32.52176247130773, 'CTLT': 65.22086158627943, 'CTSH': 112.10666249619376, 'CVX': 44.74959452440463, 'DISH': 94.54425964644817, 'DLR': 181.27700725174606, 'DOV': 226.5121539987562, 'DUK': 134.41917618697684, 'DVA': 324.38323120006714, 'ED': 118.34258617567629, 'ELV': 250.71963354475733, 'EMR': 109.4285032771596, 'ENPH': 3962.3888263798094, 'ETN': 561.9603740665278, 'EVRG': 247.65685902567103, 'EXC': 114.1956179932442, 'EXR': 181.87131562917497, 'FMC': 220.73749456922738, 'FTNT': 401.8328290101427, 'HON': 306.18331467738824, 'HSIC': 4.918953246915007, 'IP': 64.72400994475467, 'IPG': 299.40240062845936, 'IVZ': 214.5527910522947, 'JKHY': 66.39407247260276, 'JPM': 189.25603968692056, 'KDP': 0.18167686097685423, 'KEYS': 245.74270578706435, 'KO': 233.98110353860727, 'L': 31.220457969275067, 'LDOS': 79.3599774167369, 'LIN': 251.12594813054065, 'LUV': 112.46869080648217, 'LW': 41.382107146132434, 'MA': 202.11360016880658, 'MCD': 287.13690816575536, 'MCK': 403.38121592264326, 'MDLZ': 196.85932868399914, 'MHK': 238.97441176044208, 'MMM': 182.3534561920295, 'MOH': 454.97900161133487, 'MRNA': 1145.3180966815653, 'MSI': 252.55365433523255, 'NCLH': 43.41800073297728, 'NDAQ': 241.20053400495536, 'NI': 97.84773139061285, 'NRG': 100.89773949437999, 'NWSA': 143.5557101592733, 'ON': 436.3656149615614, 'ORCL': 36.20562786437807, 'ORLY': 168.38511998047076, 'PAYC': 629.1693700787455, 'PEAK': 135.1353212293004, 'PFE': 282.3129825884762, 'PFG': 284.414619790066, 'PG': 219.99258128318073, 'PGR': 130.91792042103725, 'PHM': 268.8530856973163, 'PNW': 151.7516572248768, 'PTC': 194.01882477066036, 'QCOM': 143.61348857800982, 'RE': 100.533694192822, 'REGN': 141.26897250977527, 'RMD': 239.44812622809187, 'SBNY': 526.8753358611057, 'SBUX': 140.62404772499755, 'SWKS': 210.74600302612765, 'SYK': 97.33380789391575, 'T': 132.1621874406021, 'TAP': 40.304558810257994, 'TMUS': 265.48070011398516, 'TTWO': 23.876670097017584, 'TXT': 262.32527770984115, 'VTRS': 91.7475429216415, 'WBA': 32.93525615003564, 'WEC': 129.4254451459693, 'WMT': 59.71773585356516, 'XEL': 230.06097844126543}\n",
            "prezzi iniziali\n",
            "{'AAP': 153.79019165039062, 'AAPL': 38.439735412597656, 'ADBE': 224.57000732421875, 'ADSK': 128.9600067138672, 'AES': 12.860688209533691, 'AKAM': 59.0099983215332, 'AMAT': 32.32191467285156, 'AME': 66.14523315429688, 'AMT': 148.21009826660156, 'ANET': 52.63750076293945, 'AVB': 153.04348754882812, 'AXP': 91.34648895263672, 'BALL': 42.94132614135742, 'BIO': 228.0800018310547, 'BRO': 26.35720443725586, 'BWA': 33.211299896240234, 'CBOE': 91.8205337524414, 'CDW': 76.9123764038086, 'CHD': 61.96341323852539, 'CHRW': 78.20926666259766, 'CME': 173.39979553222656, 'COF': 73.59353637695312, 'CPB': 29.048524856567383, 'CTLT': 30.90999984741211, 'CTSH': 61.07221221923828, 'CVX': 94.65721130371094, 'DISH': 25.8799991607666, 'DLR': 93.47411346435547, 'DOV': 67.456787109375, 'DUK': 74.06322479248047, 'DVA': 51.72999954223633, 'ED': 66.39954376220703, 'ELV': 255.02000427246094, 'EMR': 54.77216339111328, 'ENPH': 4.920000076293945, 'ETN': 37.83238220214844, 'EVRG': 50.46123123168945, 'EXC': 27.26720428466797, 'EXR': 79.47898864746094, 'FMC': 61.53533935546875, 'FTNT': 13.935999870300293, 'HON': 123.45482635498047, 'HSIC': 59.913726806640625, 'IP': 33.35224533081055, 'IPG': 17.654645919799805, 'IVZ': 14.266519546508789, 'JKHY': 120.78461456298828, 'JPM': 90.1119155883789, 'KDP': 23.091787338256836, 'KEYS': 61.41999816894531, 'KO': 42.63923645019531, 'L': 44.13274383544922, 'LDOS': 49.72120666503906, 'LIN': 149.48851013183594, 'LUV': 46.32673645019531, 'LW': 70.61882781982422, 'MA': 185.37335205078125, 'MCD': 163.06504821777344, 'MCK': 108.73509979248047, 'MDLZ': 37.82316589355469, 'MHK': 118.5999984741211, 'MMM': 170.96270751953125, 'MOH': 112.88999938964844, 'MRNA': 15.329999923706055, 'MSI': 109.68832397460938, 'NCLH': 42.380001068115234, 'NDAQ': 23.756113052368164, 'NI': 22.564550399780273, 'NRG': 35.18379592895508, 'NWSA': 10.998435020446777, 'ON': 16.780000686645508, 'ORCL': 42.87077331542969, 'ORLY': 341.1499938964844, 'PAYC': 119.69999694824219, 'PEAK': 22.399837493896484, 'PFE': 36.26567840576172, 'PFG': 39.75344467163086, 'PG': 84.06419372558594, 'PGR': 51.3060188293457, 'PHM': 24.929044723510742, 'PNW': 73.05392456054688, 'PTC': 81.91999816894531, 'QCOM': 53.443572998046875, 'RE': 198.17286682128906, 'REGN': 372.44000244140625, 'RMD': 108.45964813232422, 'SBNY': 99.66227722167969, 'SBUX': 61.352359771728516, 'SWKS': 65.22920989990234, 'SYK': 147.67086791992188, 'T': 16.254467010498047, 'TAP': 53.59748077392578, 'TMUS': 65.26000213623047, 'TTWO': 104.01000213623047, 'TXT': 45.859336853027344, 'VTRS': 27.72300148010254, 'WBA': 62.03926086425781, 'WEC': 61.571800231933594, 'WMT': 88.576416015625, 'XEL': 45.1014404296875}\n",
            "quantita finali\n",
            "{'AAP': 228.5513916015625, 'AAPL': 180.68386840820312, 'ADBE': 564.3699951171875, 'ADSK': 283.7200012207031, 'AES': 23.563201904296875, 'AKAM': 117.51000213623047, 'AMAT': 158.0904541015625, 'AME': 142.69586181640625, 'AMT': 279.0558776855469, 'ANET': 142.24000549316406, 'AVB': 244.47750854492188, 'AXP': 165.48265075683594, 'BALL': 93.26000213623047, 'BIO': 735.4199829101562, 'BRO': 68.18930053710938, 'BWA': 44.27474594116211, 'CBOE': 128.4600067138672, 'CDW': 201.9969024658203, 'CHD': 100.17469787597656, 'CHRW': 107.9000015258789, 'CME': 215.20960998535156, 'COF': 144.59303283691406, 'CPB': 42.0782585144043, 'CTLT': 124.48999786376953, 'CTSH': 87.82390594482422, 'CVX': 114.10469818115234, 'DISH': 33.290000915527344, 'DLR': 168.23834228515625, 'DOV': 175.14895629882812, 'DUK': 98.57923889160156, 'DVA': 115.43000030517578, 'ED': 81.50897216796875, 'ELV': 460.02056884765625, 'EMR': 89.13040924072266, 'ENPH': 184.4499969482422, 'ETN': 164.21470642089844, 'EVRG': 65.73292541503906, 'EXC': 40.70613479614258, 'EXR': 219.22999572753906, 'FMC': 108.1248779296875, 'FTNT': 66.6240005493164, 'HON': 201.54148864746094, 'HSIC': 77.43000030517578, 'IP': 44.28996276855469, 'IPG': 36.01645278930664, 'IVZ': 22.167617797851562, 'JKHY': 171.5, 'JPM': 155.60301208496094, 'KDP': 36.5252685546875, 'KEYS': 202.66000366210938, 'KO': 59.29999923706055, 'L': 58.04104995727539, 'LDOS': 88.96613311767578, 'LIN': 333.498291015625, 'LUV': 43.77423095703125, 'LW': 63.67640686035156, 'MA': 370.4638671875, 'MCD': 261.1884460449219, 'MCK': 247.67657470703125, 'MDLZ': 64.42655944824219, 'MHK': 183.97000122070312, 'MMM': 168.28211975097656, 'MOH': 316.57000732421875, 'MRNA': 235.0500030517578, 'MSI': 263.714599609375, 'NCLH': 22.18000030517578, 'NDAQ': 66.59716796875, 'NI': 26.376834869384766, 'NRG': 40.99382400512695, 'NWSA': 22.533449172973633, 'ON': 70.16999816894531, 'ORCL': 86.0781021118164, 'ORLY': 695.9400024414062, 'PAYC': 404.94000244140625, 'PEAK': 35.80548095703125, 'PFE': 54.36895751953125, 'PFG': 70.7265396118164, 'PG': 157.9626922607422, 'PGR': 101.56414031982422, 'PHM': 55.311134338378906, 'PNW': 65.74883270263672, 'PTC': 122.9800033569336, 'QCOM': 181.167236328125, 'RE': 266.62054443359375, 'REGN': 627.0999755859375, 'RMD': 256.9822998046875, 'SBNY': 322.0216369628906, 'SBUX': 116.68000030517578, 'SWKS': 155.42160034179688, 'SYK': 265.0697326660156, 'T': 17.6204776763916, 'TAP': 45.653377532958984, 'TMUS': 114.43000030517578, 'TTWO': 178.61000061035156, 'TXT': 76.25083923339844, 'VTRS': 13.63856315612793, 'WBA': 53.060001373291016, 'WEC': 92.45535278320312, 'WMT': 142.411376953125, 'XEL': 67.94000244140625}\n",
            "\n",
            "\n",
            "['A', 'AAP', 'AKAM', 'ALB', 'AMT', 'APH', 'AWK', 'AXP', 'AZO', 'BA', 'BAC', 'BKNG', 'BLK', 'BMY', 'BSX', 'C', 'CB', 'CBOE', 'CFG', 'CHRW', 'CINF', 'CLX', 'CME', 'CMG', 'CNP', 'COO', 'COST', 'CPRT', 'CTAS', 'DISH', 'DOV', 'DVN', 'FDS', 'FIS', 'FISV', 'FRC', 'GIS', 'GL', 'GWW', 'HCA', 'HSY', 'INTU', 'IRM', 'ISRG', 'JBHT', 'K', 'KHC', 'LDOS', 'LIN', 'LKQ', 'LMT', 'LNC', 'MCO', 'META', 'MGM', 'MOH', 'MPWR', 'MRNA', 'MRO', 'MS', 'MTCH', 'NDSN', 'NOC', 'NVDA', 'NWL', 'OKE', 'ON', 'PAYC', 'PEP', 'PFG', 'PKG', 'PNC', 'PWR', 'QRVO', 'REGN', 'RJF', 'RL', 'RMD', 'ROP', 'SRE', 'SYF', 'SYY', 'TAP', 'TEL', 'TER', 'TPR', 'TRGP', 'TSCO', 'TT', 'TXT', 'TYL', 'UDR', 'UNP', 'VFC', 'VLO', 'VRTX', 'WDC', 'WFC', 'WTW', 'YUM']\n",
            "quantita iniziali\n",
            "{'A': 135.09125149265276, 'AAP': 182.59413216861327, 'AKAM': 167.45279446442112, 'ALB': 116.35942489545063, 'AMT': 42.46497885308293, 'APH': 12.001919185949982, 'AWK': 91.94340194743768, 'AXP': 193.71615396699397, 'AZO': 174.55818893242602, 'BA': 51.950247252264475, 'BAC': 178.69262219796855, 'BKNG': 116.22202442818086, 'BLK': 52.033083710954045, 'BMY': 124.88793554802521, 'BSX': 107.4395006113967, 'C': 23.3361445128904, 'CB': 126.73375296490303, 'CBOE': 61.91618877967012, 'CFG': 19.70327755887522, 'CHRW': 69.38536776783009, 'CINF': 177.97306239660435, 'CLX': 187.82301187214378, 'CME': 108.57976638739198, 'CMG': 102.61979540739316, 'CNP': 29.823562466035064, 'COO': 106.79413133679024, 'COST': 127.84416160499075, 'CPRT': 40.20814989913621, 'CTAS': 118.84764378207964, 'DISH': 73.86389488735482, 'DOV': 135.41012713492648, 'DVN': 21.801665468116315, 'FDS': 77.62887764493061, 'FIS': 95.93991921611335, 'FISV': 49.9186549463148, 'FRC': 184.36167142787005, 'GIS': 185.9138124564198, 'GL': 125.08089398431922, 'GWW': 48.65329143277729, 'HCA': 100.11409198766479, 'HSY': 22.63446318431238, 'INTU': 164.98813932515944, 'IRM': 22.87099483675033, 'ISRG': 138.59685726734511, 'JBHT': 28.565595564463802, 'K': 133.23974580524717, 'KHC': 83.94533210261635, 'LDOS': 112.4426751355445, 'LIN': 10.415486180046612, 'LKQ': 16.603256133077025, 'LMT': 187.67437931614725, 'LNC': 76.67019112222914, 'MCO': 149.31391484480594, 'META': 92.52761677979034, 'MGM': 40.46550257244893, 'MOH': 152.55917361448465, 'MPWR': 105.41106846739899, 'MRNA': 61.14865786185318, 'MRO': 121.03030370129477, 'MS': 109.41802243007702, 'MTCH': 123.38173100823434, 'NDSN': 162.6023907569279, 'NOC': 153.44947266883761, 'NVDA': 182.79220679963663, 'NWL': 159.86476922003817, 'OKE': 175.06098169711774, 'ON': 44.938842795886096, 'PAYC': 34.717596074759726, 'PEP': 14.308854848043472, 'PFG': 32.24691408435534, 'PKG': 66.46448343938359, 'PNC': 161.55667261654227, 'PWR': 31.117477866487384, 'QRVO': 92.37306759457176, 'REGN': 115.39359399373741, 'RJF': 112.9921171780364, 'RL': 148.9703374114815, 'RMD': 48.3057451404504, 'ROP': 151.75911827248066, 'SRE': 120.29145430163122, 'SYF': 10.904648189527673, 'SYY': 100.3261462582828, 'TAP': 136.7751241737968, 'TEL': 14.934240886472248, 'TER': 141.70492434729488, 'TPR': 36.03832385895894, 'TRGP': 24.993463658702513, 'TSCO': 32.63760681180514, 'TT': 166.52822242550062, 'TXT': 9.129096453306841, 'TYL': 121.34218107076249, 'UDR': 43.42136343727039, 'UNP': 157.71149350372204, 'VFC': 130.15203357569567, 'VLO': 25.524923077169664, 'VRTX': 147.38275456776597, 'WDC': 161.28522929426742, 'WFC': 178.8036356345379, 'WTW': 131.03040129096206, 'YUM': 118.58240649110647}\n",
            "quantita finali\n",
            "{'A': 331.1143601952414, 'AAP': 290.730273136422, 'AKAM': 333.4583764604423, 'ALB': 371.27276906397753, 'AMT': 84.20684007026448, 'APH': 26.789339921657653, 'AWK': 203.58634486881627, 'AXP': 360.78454160798424, 'AZO': 425.75935445830726, 'BA': 34.3192282283439, 'BAC': 362.6990198062502, 'BKNG': 166.1562492892289, 'BLK': 135.01775974692342, 'BMY': 167.04453115505032, 'BSX': 134.43967715289781, 'C': 31.611986767314942, 'CB': 203.0184092503625, 'CBOE': 82.946648002504, 'CFG': 37.712285817835316, 'CHRW': 100.03027427126352, 'CINF': 294.6135517366497, 'CLX': 241.5251804609203, 'CME': 151.32018642868712, 'CMG': 391.3213184394673, 'CNP': 33.29333226008613, 'COO': 179.77495687548824, 'COST': 375.7476698653332, 'CPRT': 123.92171701247112, 'CTAS': 313.8538903840018, 'DISH': 95.01272056268569, 'DOV': 362.13195982845065, 'DVN': 48.95239871817097, 'FDS': 192.46103670582045, 'FIS': 113.83526977877167, 'FISV': 74.39753289767421, 'FRC': 427.1393139195933, 'GIS': 372.5703593660999, 'GL': 160.79865007183554, 'GWW': 95.7522290569419, 'HCA': 216.7426361979156, 'HSY': 45.00343073404961, 'INTU': 551.5193883256167, 'IRM': 47.68342655486114, 'ISRG': 321.1909133313887, 'JBHT': 64.19979623249716, 'K': 175.79721748631286, 'KHC': 84.67013124240184, 'LDOS': 207.08827559794676, 'LIN': 23.958230579699727, 'LKQ': 42.06714488081414, 'LMT': 279.30381987913273, 'LNC': 118.71763684962619, 'MCO': 421.33693849860555, 'META': 230.86897012239325, 'MGM': 75.04170570998593, 'MOH': 427.8116659547319, 'MPWR': 466.8806865684137, 'MRNA': 937.5728824899295, 'MRO': 146.08794695993996, 'MS': 305.1892293280993, 'MTCH': 390.7864277651423, 'NDSN': 362.9234214680143, 'NOC': 256.08720528653043, 'NVDA': 1628.6961796847395, 'NWL': 234.9194575416502, 'OKE': 258.747492433404, 'ON': 187.92362262603916, 'PAYC': 117.44815202753779, 'PEP': 25.53475385958636, 'PFG': 62.61840460768718, 'PKG': 120.15261004101032, 'PNC': 324.07461398323363, 'PWR': 118.37989386264336, 'QRVO': 240.71653181727962, 'REGN': 194.2952408492447, 'RJF': 250.9133244572417, 'RL': 185.39927165683252, 'RMD': 116.31103703710369, 'ROP': 276.5249721720507, 'SRE': 168.93820895581, 'SYF': 23.510058300071663, 'SYY': 141.37012384137603, 'TAP': 125.32270983524747, 'TEL': 34.35758531558697, 'TER': 757.3687632782778, 'TPR': 47.292139733248504, 'TRGP': 42.67414399451875, 'TSCO': 99.31204435667411, 'TT': 488.63170275410107, 'TXT': 15.214570532856946, 'TYL': 348.7988184561798, 'UDR': 77.48459351519377, 'UNP': 309.248882919231, 'VFC': 161.62180847673076, 'VLO': 31.52662886584993, 'VRTX': 199.8847137253445, 'WDC': 292.83426239404827, 'WFC': 217.3134818278539, 'WTW': 217.98503942714737, 'YUM': 190.13119005051297}\n",
            "prezzi iniziali\n",
            "{'A': 63.842227935791016, 'AAP': 148.71047973632812, 'AKAM': 59.0099983215332, 'ALB': 74.17399597167969, 'AMT': 144.4196319580078, 'APH': 38.31843566894531, 'AWK': 82.83885192871094, 'AXP': 90.0909423828125, 'AZO': 838.47998046875, 'BA': 314.6451416015625, 'BAC': 22.641016006469727, 'BKNG': 1721.699951171875, 'BLK': 351.3620910644531, 'BMY': 45.861602783203125, 'BSX': 34.459999084472656, 'C': 46.21674728393555, 'CB': 117.59587860107422, 'CBOE': 95.88999938964844, 'CFG': 25.480539321899414, 'CHRW': 74.84415435791016, 'CINF': 68.32860565185547, 'CLX': 135.14321899414062, 'CME': 161.77877807617188, 'CMG': 443.3599853515625, 'CNP': 24.585079193115234, 'COO': 250.42984008789062, 'COST': 192.81707763671875, 'CPRT': 23.84000015258789, 'CTAS': 160.59095764160156, 'DISH': 25.8799991607666, 'DOV': 66.4674072265625, 'DVN': 18.78489112854004, 'FDS': 191.60116577148438, 'FIS': 95.97761535644531, 'FISV': 72.20999908447266, 'FRC': 85.0739974975586, 'GIS': 33.31303787231445, 'GL': 73.70155334472656, 'GWW': 258.3541564941406, 'HCA': 117.36033630371094, 'HSY': 96.74287414550781, 'INTU': 188.905517578125, 'IRM': 24.615249633789062, 'ISRG': 155.3433380126953, 'JBHT': 89.80838012695312, 'K': 48.58919143676758, 'KHC': 35.830631256103516, 'LDOS': 49.008453369140625, 'LIN': 147.21873474121094, 'LKQ': 23.13246726989746, 'LMT': 236.47921752929688, 'LNC': 44.741004943847656, 'MCO': 135.63870239257812, 'META': 135.67999267578125, 'MGM': 24.524642944335938, 'MOH': 112.88999938964844, 'MPWR': 111.72590637207031, 'MRNA': 15.329999923706055, 'MRO': 13.930258750915527, 'MS': 35.672054290771484, 'MTCH': 42.380001068115234, 'NDSN': 112.47022247314453, 'NOC': 230.0955352783203, 'NVDA': 33.80546951293945, 'NWL': 15.046051025390625, 'OKE': 39.95677947998047, 'ON': 16.780000686645508, 'PAYC': 119.69999694824219, 'PEP': 96.93242645263672, 'PFG': 37.70132064819336, 'PKG': 74.46183776855469, 'PNC': 103.22821044921875, 'PWR': 29.511423110961914, 'QRVO': 61.18000030517578, 'REGN': 372.44000244140625, 'RJF': 46.320255279541016, 'RL': 97.16053771972656, 'RMD': 107.5906753540039, 'ROP': 260.3245849609375, 'SRE': 93.98270416259766, 'SYF': 21.690916061401367, 'SYY': 55.70010757446289, 'TAP': 51.677001953125, 'TEL': 69.74832916259766, 'TER': 31.079450607299805, 'TPR': 30.91067886352539, 'TRGP': 30.992679595947266, 'TSCO': 77.46630096435547, 'TT': 66.11925506591797, 'TXT': 45.8057746887207, 'TYL': 182.24000549316406, 'UDR': 33.36174774169922, 'UNP': 125.74244689941406, 'VFC': 59.35774612426758, 'VLO': 61.74773025512695, 'VRTX': 164.0800018310547, 'WDC': 36.312469482421875, 'WFC': 41.553627014160156, 'WTW': 141.60069274902344, 'YUM': 84.75853729248047}\n",
            "quantita finali\n",
            "{'A': 156.47999572753906, 'AAP': 236.77999877929688, 'AKAM': 117.51000213623047, 'ALB': 236.6699981689453, 'AMT': 286.3800048828125, 'APH': 85.53012084960938, 'AWK': 183.42652893066406, 'AXP': 167.7888946533203, 'AZO': 2045.1099853515625, 'BA': 207.86000061035156, 'BAC': 45.95530700683594, 'BKNG': 2461.419921875, 'BLK': 911.72998046875, 'BMY': 61.34243392944336, 'BSX': 43.119998931884766, 'C': 62.60688018798828, 'CB': 188.38018798828125, 'CBOE': 128.4600067138672, 'CFG': 48.77002716064453, 'CHRW': 107.9000015258789, 'CINF': 113.11000061035156, 'CLX': 173.78323364257812, 'CME': 225.4600067138672, 'CMG': 1690.6700439453125, 'CNP': 27.44538688659668, 'COO': 421.5682373046875, 'COST': 566.7100219726562, 'CPRT': 73.4749984741211, 'CTAS': 424.0899963378906, 'DISH': 33.290000915527344, 'DOV': 177.75607299804688, 'DVN': 42.178680419921875, 'FDS': 475.02630615234375, 'FIS': 113.87999725341797, 'FISV': 107.62000274658203, 'FRC': 197.10414123535156, 'GIS': 66.75916290283203, 'GL': 94.74756622314453, 'GWW': 508.45452880859375, 'HCA': 254.0800018310547, 'HSY': 192.35098266601562, 'INTU': 631.469970703125, 'IRM': 51.31999969482422, 'ISRG': 360.0, 'JBHT': 201.83999633789062, 'K': 64.10883331298828, 'KHC': 36.13999938964844, 'LDOS': 90.26000213623047, 'LIN': 338.6400146484375, 'LKQ': 58.61000061035156, 'LMT': 351.93695068359375, 'LNC': 69.2778549194336, 'MCO': 382.7479553222656, 'META': 338.5400085449219, 'MGM': 45.47999954223633, 'MOH': 316.57000732421875, 'MPWR': 494.8500061035156, 'MRNA': 235.0500030517578, 'MRO': 16.8143253326416, 'MS': 99.49665069580078, 'MTCH': 134.22999572753906, 'NDSN': 251.02999877929688, 'NOC': 383.99951171875, 'NVDA': 301.2099914550781, 'NWL': 22.110000610351562, 'OKE': 59.05780029296875, 'ON': 70.16999816894531, 'PAYC': 404.94000244140625, 'PEP': 172.97999572753906, 'PFG': 73.20999908447266, 'PKG': 134.61000061035156, 'PNC': 207.0706329345703, 'PWR': 112.2699966430664, 'QRVO': 159.42999267578125, 'REGN': 627.0999755859375, 'RJF': 102.86000061035156, 'RL': 120.91999816894531, 'RMD': 259.057861328125, 'ROP': 474.345458984375, 'SRE': 131.99000549316406, 'SYF': 46.764892578125, 'SYY': 78.4873275756836, 'TAP': 47.349998474121094, 'TEL': 160.46240234375, 'TER': 166.11000061035156, 'TPR': 40.56326675415039, 'TRGP': 52.91727828979492, 'TSCO': 235.72000122070312, 'TT': 194.00894165039062, 'TXT': 76.33999633789062, 'TYL': 523.8499755859375, 'UDR': 59.53340148925781, 'UNP': 246.56231689453125, 'VFC': 73.70999908447266, 'VLO': 76.26654815673828, 'VRTX': 222.52999877929688, 'WDC': 65.93000030517578, 'WFC': 50.50324249267578, 'WTW': 235.57000732421875, 'YUM': 135.8990936279297}\n",
            "\n",
            "\n",
            "['AAL', 'AAPL', 'AIZ', 'AMAT', 'AMD', 'AME', 'AMGN', 'APA', 'AWK', 'BSX', 'CB', 'CBOE', 'CDAY', 'CL', 'CME', 'CSGP', 'CSX', 'D', 'DD', 'DFS', 'DGX', 'DUK', 'DVA', 'EA', 'ED', 'EPAM', 'EQIX', 'EXPE', 'FIS', 'FRT', 'GD', 'GEN', 'GIS', 'GL', 'GM', 'GNRC', 'GPC', 'HAL', 'HD', 'HIG', 'HRL', 'HSIC', 'HST', 'ICE', 'ISRG', 'IT', 'IVZ', 'JNJ', 'KO', 'LNT', 'LOW', 'MCHP', 'MCK', 'MDT', 'MET', 'MMM', 'MOH', 'MPC', 'MTB', 'MU', 'NDSN', 'NEE', 'NEM', 'NKE', 'NWL', 'NWS', 'O', 'ODFL', 'OMC', 'PCG', 'POOL', 'PPL', 'PWR', 'REGN', 'RF', 'RHI', 'RL', 'RMD', 'SCHW', 'SHW', 'SJM', 'SLB', 'SRE', 'STLD', 'STT', 'TDY', 'TECH', 'TER', 'TMUS', 'TSCO', 'TXN', 'TXT', 'ULTA', 'UNH', 'UNP', 'URI', 'VFC', 'WMB', 'ZION', 'ZTS']\n",
            "quantita iniziali\n",
            "{'AAL': 33.18973712894554, 'AAPL': 120.41409236242818, 'AIZ': 99.40861146756544, 'AMAT': 69.73032624791192, 'AMD': 109.0891973554685, 'AME': 148.11939148115303, 'AMGN': 145.80170723632915, 'APA': 164.59103224408793, 'AWK': 190.38289561930236, 'BSX': 165.74108876383974, 'CB': 48.20751814427639, 'CBOE': 119.54025480234023, 'CDAY': 0.6494772918053979, 'CL': 122.65392435783946, 'CME': 101.2843417493716, 'CSGP': 154.85763445842824, 'CSX': 160.443670257658, 'D': 25.147328818979297, 'DD': 170.5451168844319, 'DFS': 97.68217085661963, 'DGX': 143.51262722686943, 'DUK': 11.411079860218992, 'DVA': 159.36681908311868, 'EA': 182.73645203237191, 'ED': 103.80708784612587, 'EPAM': 51.23460466689509, 'EQIX': 185.3245933714281, 'EXPE': 77.13816843368522, 'FIS': 101.3430527249978, 'FRT': 39.18898967018721, 'GD': 0.4155506205721058, 'GEN': 138.82151459350294, 'GIS': 54.055373864370516, 'GL': 143.93341195963154, 'GM': 174.35553246755458, 'GNRC': 89.13835232608547, 'GPC': 9.630007432521465, 'HAL': 171.26690068823405, 'HD': 82.49889536773065, 'HIG': 116.08742267056846, 'HRL': 117.28520319762913, 'HSIC': 76.40011601330237, 'HST': 18.373791121709406, 'ICE': 168.4627914889501, 'ISRG': 147.71268781259587, 'IT': 44.63371242120709, 'IVZ': 94.07026283898243, 'JNJ': 88.31116167877818, 'KO': 154.13174883823098, 'LNT': 5.064768215195731, 'LOW': 131.2576898874267, 'MCHP': 1.625691420822858, 'MCK': 163.42953780376877, 'MDT': 23.167190515253683, 'MET': 68.99720680170876, 'MMM': 190.3629847876963, 'MOH': 171.18064701328186, 'MPC': 18.324827158541986, 'MTB': 82.9507788551458, 'MU': 152.41991027950036, 'NDSN': 148.38363526853567, 'NEE': 87.90766874689285, 'NEM': 10.391682491956118, 'NKE': 22.444480536053952, 'NWL': 181.20315262589008, 'NWS': 77.35450830438326, 'O': 104.57238877726367, 'ODFL': 59.23574134462611, 'OMC': 29.74734788652188, 'PCG': 155.70143754985406, 'POOL': 127.2417058703256, 'PPL': 26.19244813978035, 'PWR': 166.23769416115115, 'REGN': 12.819862207201112, 'RF': 73.1369699025271, 'RHI': 63.68079728636275, 'RL': 76.67413559851794, 'RMD': 183.17317968524202, 'SCHW': 119.097574355584, 'SHW': 133.96275086822922, 'SJM': 23.481926763511122, 'SLB': 131.83038039253378, 'SRE': 137.6154139100967, 'STLD': 138.38316947156716, 'STT': 141.39276910116487, 'TDY': 182.57575218821515, 'TECH': 133.3420938340347, 'TER': 23.23378075882934, 'TMUS': 154.66107948318663, 'TSCO': 37.63397284523044, 'TXN': 8.466937402758715, 'TXT': 5.555816228325724, 'ULTA': 158.39722020942733, 'UNH': 148.90109128878322, 'UNP': 58.31504042275304, 'URI': 39.593370861052705, 'VFC': 98.20719393579184, 'WMB': 185.48263906267033, 'ZION': 109.0388946885471, 'ZTS': 23.82363295943598}\n",
            "quantita finali\n",
            "{'AAL': 19.469528481606567, 'AAPL': 576.0386209340015, 'AIZ': 186.591422476794, 'AMAT': 350.24573529354575, 'AMD': 870.3962653391615, 'AME': 323.91729774974226, 'AMGN': 195.6689309664145, 'APA': 183.85590008943691, 'AWK': 421.5566691465955, 'BSX': 207.39279629541392, 'CB': 78.47934384283859, 'CBOE': 160.1433103788689, 'CDAY': 2.0188433642256496, 'CL': 192.7420833832061, 'CME': 141.15302596996096, 'CSGP': 364.7518908063907, 'CSX': 304.073709517169, 'D': 32.56785996706631, 'DD': 191.63622318353634, 'DFS': 213.87311603520376, 'DGX': 305.6599888403715, 'DUK': 16.40947705703544, 'DVA': 355.61013218992235, 'EA': 311.0536561551172, 'ED': 136.36939680766343, 'EPAM': 287.8137144011216, 'EQIX': 474.17220358294, 'EXPE': 129.36241221113295, 'FIS': 120.24622205613957, 'FRT': 54.12685652543464, 'GD': 0.6057875712745661, 'GEN': 364.0375679381776, 'GIS': 108.32671390253796, 'GL': 185.0346220775002, 'GM': 336.69737132007924, 'GNRC': 608.2001071456973, 'GPC': 15.705036857558845, 'HAL': 162.19665740997257, 'HD': 215.17636054181983, 'HIG': 204.69304492181774, 'HRL': 151.5366613305388, 'HSIC': 98.73632173336605, 'HST': 21.83449553185852, 'ICE': 315.18858410243615, 'ISRG': 342.3163702597192, 'IT': 114.18569601886209, 'IVZ': 158.38574129185503, 'JNJ': 131.87066869478062, 'KO': 220.6986717274519, 'LNT': 8.492115875941446, 'LOW': 390.47347655308187, 'MCHP': 4.2672960171845995, 'MCK': 372.25952545945336, 'MDT': 30.770465999770447, 'MET': 121.14130775818573, 'MMM': 205.04898301012398, 'MOH': 480.0306401961785, 'MPC': 23.631420008136494, 'MTB': 102.28630274985623, 'MU': 445.62462318357734, 'NDSN': 331.1876064726585, 'NEE': 206.787067369726, 'NEM': 21.021313996948823, 'NKE': 51.995526551045174, 'NWL': 266.275968916704, 'NWS': 158.54856285120061, 'O': 147.1503039328892, 'ODFL': 253.4374000274946, 'OMC': 35.20992063169698, 'PCG': 79.87876551957639, 'POOL': 498.09095164836634, 'PPL': 34.20918692166701, 'PWR': 632.4163528640377, 'REGN': 21.585584857834064, 'RF': 136.1395910579048, 'RHI': 133.95215331709258, 'RL': 95.42389618045948, 'RMD': 441.0461098128098, 'SCHW': 260.01003453494104, 'SHW': 360.1740035585915, 'SJM': 38.581180901870844, 'SLB': 127.10873700681904, 'SRE': 193.26810608165485, 'STLD': 310.6026787177167, 'STT': 236.46452570779942, 'TDY': 392.2908082532202, 'TECH': 467.1916911957874, 'TER': 124.17732694007117, 'TMUS': 271.19011328739316, 'TSCO': 114.51536683628797, 'TXN': 19.166572821432535, 'TXT': 9.259335285303642, 'ULTA': 263.96130469462884, 'UNH': 326.08085721384975, 'UNP': 114.34715826656333, 'URI': 124.35118443552065, 'VFC': 121.95298016868503, 'WMB': 283.06379725484504, 'ZION': 190.85165148304642, 'ZTS': 67.70942575386749}\n",
            "prezzi iniziali\n",
            "{'AAL': 31.96315574645996, 'AAPL': 38.04704666137695, 'AIZ': 82.90828704833984, 'AMAT': 31.840417861938477, 'AMD': 18.829999923706055, 'AME': 65.69674682617188, 'AMGN': 168.91690063476562, 'APA': 25.022830963134766, 'AWK': 82.83885955810547, 'BSX': 34.459999084472656, 'CB': 117.59587860107422, 'CBOE': 95.88999938964844, 'CDAY': 33.7599983215332, 'CL': 53.53910827636719, 'CME': 161.77880859375, 'CSGP': 33.47200012207031, 'CSX': 19.565162658691406, 'D': 59.99431228637695, 'DD': 71.4692611694336, 'DFS': 53.97394561767578, 'DGX': 75.33600616455078, 'DUK': 71.25414276123047, 'DVA': 51.72999954223633, 'EA': 79.27983856201172, 'ED': 64.18599700927734, 'EPAM': 114.31999969482422, 'EQIX': 326.78369140625, 'EXPE': 110.29669952392578, 'FIS': 95.97762298583984, 'FRT': 98.98817443847656, 'GD': 141.51174926757812, 'GEN': 10.040640830993652, 'GIS': 33.31303405761719, 'GL': 73.7015609741211, 'GM': 31.676301956176758, 'GNRC': 50.9900016784668, 'GPC': 83.96989440917969, 'HAL': 25.24089241027832, 'HD': 156.67311096191406, 'HIG': 39.20661163330078, 'HRL': 37.82558059692383, 'HSIC': 59.913726806640625, 'HST': 14.860940933227539, 'ICE': 71.59393310546875, 'ISRG': 155.3433380126953, 'IT': 125.8499984741211, 'IVZ': 13.7296142578125, 'JNJ': 114.14421081542969, 'KO': 41.41399002075195, 'LNT': 36.29144287109375, 'LOW': 85.60740661621094, 'MCHP': 33.524940490722656, 'MCK': 108.73507690429688, 'MDT': 79.883056640625, 'MET': 35.7626953125, 'MMM': 163.4301300048828, 'MOH': 112.88999938964844, 'MPC': 50.54255676269531, 'MTB': 127.4527816772461, 'MU': 32.75, 'NDSN': 112.47022247314453, 'NEE': 38.75114440917969, 'NEM': 30.14487075805664, 'NKE': 71.08174133300781, 'NWL': 15.046051025390625, 'NWS': 11.049090385437012, 'O': 50.23440933227539, 'ODFL': 80.9568099975586, 'OMC': 62.426483154296875, 'PCG': 23.799999237060547, 'POOL': 140.56619262695312, 'PPL': 23.076852798461914, 'PWR': 29.51142120361328, 'REGN': 372.44000244140625, 'RF': 12.178787231445312, 'RHI': 51.83853530883789, 'RL': 97.16053009033203, 'RMD': 107.59068298339844, 'SCHW': 39.199241638183594, 'SHW': 125.83967590332031, 'SJM': 82.65786743164062, 'SLB': 32.79616928100586, 'SRE': 93.98270416259766, 'STLD': 27.471450805664062, 'STT': 56.47589874267578, 'TDY': 205.7899932861328, 'TECH': 34.805274963378906, 'TER': 31.079452514648438, 'TMUS': 65.26000213623047, 'TSCO': 77.4662857055664, 'TXN': 84.1985855102539, 'TXT': 45.80577087402344, 'ULTA': 247.97000122070312, 'UNH': 229.36041259765625, 'UNP': 125.74244689941406, 'URI': 105.2756576538086, 'VFC': 59.357730865478516, 'WMB': 17.364601135253906, 'ZION': 36.702110290527344, 'ZTS': 82.21167755126953}\n",
            "quantita finali\n",
            "{'AAL': 18.75, 'AAPL': 182.00999450683594, 'AIZ': 155.6200714111328, 'AMAT': 159.92999267578125, 'AMD': 150.24000549316406, 'AME': 143.6699981689453, 'AMGN': 226.69000244140625, 'APA': 27.951675415039062, 'AWK': 183.42652893066406, 'BSX': 43.119998931884766, 'CB': 191.44000244140625, 'CBOE': 128.4600067138672, 'CDAY': 104.94000244140625, 'CL': 84.13297271728516, 'CME': 225.4600067138672, 'CSGP': 78.83999633789062, 'CSX': 37.08000183105469, 'D': 77.69757080078125, 'DD': 80.30777740478516, 'DFS': 118.17485046386719, 'DGX': 160.45419311523438, 'DUK': 102.46560668945312, 'DVA': 115.43000030517578, 'EA': 134.9499969482422, 'ED': 84.3199234008789, 'EPAM': 642.2000122070312, 'EQIX': 836.1099853515625, 'EXPE': 184.97000122070312, 'FIS': 113.87999725341797, 'FRT': 136.72000122070312, 'GD': 206.29510498046875, 'GEN': 26.329999923706055, 'GIS': 66.75916290283203, 'GL': 94.74756622314453, 'GM': 61.16999816894531, 'GNRC': 347.9100036621094, 'GPC': 136.9417724609375, 'HAL': 23.904142379760742, 'HD': 408.6400146484375, 'HIG': 69.13169860839844, 'HRL': 48.87199783325195, 'HSIC': 77.43000030517578, 'HST': 17.65999984741211, 'ICE': 133.9499969482422, 'ISRG': 360.0, 'IT': 321.9599914550781, 'IVZ': 23.116498947143555, 'JNJ': 170.4458770751953, 'KO': 59.29999923706055, 'LNT': 60.849998474121094, 'LOW': 254.67019653320312, 'MCHP': 88.0, 'MCK': 247.67657470703125, 'MDT': 106.0999984741211, 'MET': 62.79007339477539, 'MMM': 176.038330078125, 'MOH': 316.57000732421875, 'MPC': 65.17891693115234, 'MTB': 157.16156005859375, 'MU': 95.75, 'NDSN': 251.02999877929688, 'NEE': 91.15513610839844, 'NEM': 60.97999954223633, 'NKE': 164.6699981689453, 'NWL': 22.110000610351562, 'NWS': 22.646610260009766, 'O': 70.68795776367188, 'ODFL': 346.3699951171875, 'OMC': 73.88999938964844, 'PCG': 12.210000038146973, 'POOL': 550.25, 'PPL': 30.139999389648438, 'PWR': 112.2699966430664, 'REGN': 627.0999755859375, 'RF': 22.670000076293945, 'RHI': 109.04203033447266, 'RL': 120.91999816894531, 'RMD': 259.057861328125, 'SCHW': 85.57853698730469, 'SHW': 338.3341979980469, 'SJM': 135.80819702148438, 'SLB': 31.621540069580078, 'SRE': 131.99000549316406, 'STLD': 61.65999984741211, 'STT': 94.44999694824219, 'TDY': 442.1700134277344, 'TECH': 121.94750213623047, 'TER': 166.11000061035156, 'TMUS': 114.43000030517578, 'TSCO': 235.72000122070312, 'TXN': 190.60000610351562, 'TXT': 76.33999633789062, 'ULTA': 413.2300109863281, 'UNH': 502.2799987792969, 'UNP': 246.56231689453125, 'URI': 330.6400146484375, 'VFC': 73.70999908447266, 'WMB': 26.5, 'ZION': 64.23999786376953, 'ZTS': 233.65476989746094}\n",
            "\n",
            "\n"
          ]
        }
      ],
      "source": [
        "for i in range(n):\n",
        "  print(portfolios[i])\n",
        "  #print(initial_weights[i])\n",
        "  print(\"quantita iniziali\")\n",
        "  print(portfolio_quantities[i])\n",
        "  print(\"quantita finali\")\n",
        "  print(portfolio_quantities_tf[i])\n",
        "  print(\"prezzi iniziali\")\n",
        "  print(close_prices_t0[i])\n",
        "  print(\"quantita finali\")\n",
        "  print(close_prices_tf[i])\n",
        "  #print(portfolio_stocks[i])\n",
        "  print(\"\\n\")"
      ]
    },
    {
      "cell_type": "markdown",
      "metadata": {
        "id": "_IdCKa6mpWZ1"
      },
      "source": [
        "#Portfolio optimization using PyPortfolioOpt library"
      ]
    },
    {
      "cell_type": "code",
      "execution_count": null,
      "metadata": {
        "colab": {
          "background_save": true
        },
        "id": "bcRcupOmm-K9",
        "outputId": "e9af0897-745b-4634-b5c7-955e51a24080"
      },
      "outputs": [
        {
          "name": "stderr",
          "output_type": "stream",
          "text": [
            "/usr/local/lib/python3.8/dist-packages/pypfopt/risk_models.py:68: UserWarning: The covariance matrix is non positive semidefinite. Amending eigenvalues.\n",
            "  warnings.warn(\n",
            "/usr/local/lib/python3.8/dist-packages/pypfopt/risk_models.py:87: UserWarning: Could not fix matrix. Please try a different risk model.\n",
            "  warnings.warn(\n"
          ]
        }
      ],
      "source": [
        "#Initialize empty arrays\n",
        "frontiers_sharpe = []\n",
        "cleaned_weights_sharpe = []\n",
        "\n",
        "#Calculate the expected returns and the annualised sample covariance matrix of asset returns\n",
        "for data in historicalDF:\n",
        "  mu = expected_returns.mean_historical_return(data)\n",
        "  S = risk_models.sample_cov(data)\n",
        "\n",
        "  #Optimize for maximal Sharpe Ratio\n",
        "  ef = EfficientFrontier(mu,S)\n",
        "  weights = ef.max_sharpe()\n",
        "  cw = ef.clean_weights()\n",
        "  frontiers_sharpe.append(ef)\n",
        "  cleaned_weights_sharpe.append(cw)\n"
      ]
    },
    {
      "cell_type": "code",
      "execution_count": null,
      "metadata": {
        "colab": {
          "background_save": true
        },
        "id": "fISpiO6fgghA"
      },
      "outputs": [],
      "source": [
        "from pypfopt.efficient_frontier.efficient_semivariance import EfficientFrontier\n",
        "\n",
        "#Initialize empty arrays\n",
        "frontiers_vol = []\n",
        "cleaned_weights_vol = []\n",
        "\n",
        "#Calculate the expected returns and the annualised sample covariance matrix of asset returns\n",
        "for data in historicalDF:\n",
        "  mu = expected_returns.mean_historical_return(data)\n",
        "  S = risk_models.sample_cov(data)\n",
        "\n",
        "  #Optimize for maximal Sharpe Ratio\n",
        "  ef = EfficientFrontier(mu,S)\n",
        "  weights = ef.min_volatility()\n",
        "  cw = ef.clean_weights()\n",
        "  frontiers_vol.append(ef)\n",
        "  cleaned_weights_vol.append(cw)"
      ]
    },
    {
      "cell_type": "code",
      "execution_count": null,
      "metadata": {
        "colab": {
          "background_save": true
        },
        "id": "FNb5GZChMjP7",
        "outputId": "9cfe65f2-90c0-47a6-f8e3-54e1582c3f12"
      },
      "outputs": [
        {
          "name": "stdout",
          "output_type": "stream",
          "text": [
            "Portfolio 1\n",
            "Pesi ottimizzazione sharpe\n",
            "OrderedDict([('AAPL', 0.0), ('ABBV', 0.0), ('ABT', 0.29365), ('ADM', 0.0), ('ADP', 0.0), ('ALL', 0.0), ('AMCR', 0.0), ('AMD', 0.0), ('AON', 0.0), ('AOS', 0.0), ('APH', 0.0), ('APTV', 0.0), ('ATO', 0.02523), ('AXP', 0.0), ('BAC', 0.0), ('BKR', 0.0), ('BMY', 0.0), ('C', 0.0), ('CBRE', 0.0), ('CHRW', 0.0), ('CINF', 0.0), ('CL', 0.0), ('CMCSA', 0.0), ('CMI', 0.0), ('COO', 0.0), ('CSGP', 0.0981), ('CSX', 0.04106), ('CVX', 0.0), ('DE', 0.0), ('DHI', 0.0), ('DLR', 0.0), ('DPZ', 0.0121), ('DRI', 0.00481), ('DUK', 0.09458), ('DVA', 0.0), ('EXR', 0.0), ('FDX', 0.0), ('FIS', 0.0), ('FISV', 0.0), ('FMC', 0.0), ('FRT', 0.0), ('GL', 0.0), ('GOOG', 0.0), ('GPN', 0.0), ('GWW', 0.0), ('HD', 0.0), ('HIG', 0.0), ('HII', 0.0), ('HPE', 0.0), ('IEX', 0.0), ('IPG', 0.0), ('ISRG', 0.11079), ('ITW', 0.0), ('JBHT', 0.0), ('KIM', 0.0), ('KLAC', 0.0), ('KO', 0.0), ('L', 0.0), ('LNC', 0.0), ('LYB', 0.0), ('MA', 0.0), ('MCO', 0.0), ('META', 0.0), ('MKTX', 0.05584), ('MMM', 0.0), ('MSFT', 0.0), ('MTD', 0.0), ('MU', 0.0), ('NTRS', 0.0), ('ODFL', 0.0), ('PAYX', 0.0), ('PFG', 0.0), ('PGR', 0.1476), ('PH', 0.0), ('PNC', 0.0), ('PRU', 0.0), ('PXD', 0.0), ('RL', 0.0), ('ROL', 0.0), ('RSG', 0.0), ('SCHW', 0.0), ('SNPS', 0.0), ('STX', 0.0), ('SYY', 0.0), ('TAP', 0.0), ('TGT', 0.0), ('TRV', 0.0), ('TT', 0.0), ('TXN', 0.0), ('TXT', 0.0), ('UNH', 0.0), ('URI', 0.0), ('VFC', 0.0), ('VRSK', 0.0), ('VRTX', 0.06109), ('WEC', 0.05514), ('WELL', 0.0), ('WM', 0.0), ('ZBH', 0.0), ('ZION', 0.0)])\n",
            "Pesi ottimizzazione volatilità\n",
            "OrderedDict([('AAPL', 0.0), ('ABBV', 0.0), ('ABT', 0.0), ('ADM', 0.02368), ('ADP', 0.0), ('ALL', 0.0), ('AMCR', 0.17602), ('AMD', 0.0), ('AON', 0.01629), ('AOS', 0.0), ('APH', 0.0), ('APTV', 0.0), ('ATO', 0.0), ('AXP', 0.0), ('BAC', 0.0), ('BKR', 0.01501), ('BMY', 0.02761), ('C', 0.01064), ('CBRE', 0.0), ('CHRW', 0.01782), ('CINF', 0.0), ('CL', 0.0), ('CMCSA', 0.0), ('CMI', 0.0), ('COO', 0.0), ('CSGP', 0.0613), ('CSX', 0.0), ('CVX', 0.00575), ('DE', 0.0), ('DHI', 0.0), ('DLR', 0.0), ('DPZ', 0.01874), ('DRI', 0.00929), ('DUK', 0.22488), ('DVA', 0.0), ('EXR', 0.03264), ('FDX', 0.0), ('FIS', 0.0), ('FISV', 0.0), ('FMC', 0.0), ('FRT', 0.0), ('GL', 0.0), ('GOOG', 0.0), ('GPN', 0.0), ('GWW', 0.0), ('HD', 0.0), ('HIG', 0.00094), ('HII', 0.0), ('HPE', 0.0), ('IEX', 0.0), ('IPG', 0.00814), ('ISRG', 0.0), ('ITW', 0.0), ('JBHT', 0.00336), ('KIM', 0.0), ('KLAC', 0.0), ('KO', 0.1343), ('L', 0.0), ('LNC', 0.0), ('LYB', 0.0079), ('MA', 0.0), ('MCO', 0.0), ('META', 0.0013), ('MKTX', 0.05324), ('MMM', 0.0), ('MSFT', 0.0), ('MTD', 0.0), ('MU', 0.0), ('NTRS', 0.0), ('ODFL', 0.0), ('PAYX', 0.0), ('PFG', 0.0), ('PGR', 0.0), ('PH', 0.0), ('PNC', 0.02763), ('PRU', 0.0), ('PXD', 0.00343), ('RL', 0.0), ('ROL', 0.0), ('RSG', 0.0662), ('SCHW', 0.0), ('SNPS', 0.0), ('STX', 0.0), ('SYY', 0.02205), ('TAP', 0.0), ('TGT', 0.02035), ('TRV', 0.0), ('TT', 0.0), ('TXN', 0.0), ('TXT', 0.0), ('UNH', 0.0), ('URI', 0.0), ('VFC', 0.00926), ('VRSK', 0.0), ('VRTX', 0.0), ('WEC', 0.0), ('WELL', 0.0), ('WM', 0.0), ('ZBH', 0.0), ('ZION', 0.00223)])\n",
            "Portfolio 2\n",
            "Pesi ottimizzazione sharpe\n",
            "OrderedDict([('ACGL', 0.0), ('AEP', 0.21286), ('AFL', 0.01132), ('APD', 0.0), ('APTV', 0.0), ('BAX', 0.0), ('BIIB', 0.0), ('BIO', 0.0), ('CAG', 0.0), ('CCI', 0.02108), ('CDAY', 0.0), ('CE', 0.0), ('CFG', 0.0), ('CHRW', 0.0), ('CINF', 0.0), ('CNC', 0.12395), ('CNP', 0.0), ('COF', 0.0), ('CSGP', 0.14825), ('CTRA', 0.0), ('CTSH', 0.0), ('DD', 0.0), ('DHI', 0.0), ('DLR', 0.0), ('DOV', 0.0), ('DXCM', 0.01178), ('EA', 0.0), ('ED', 0.0), ('EIX', 0.0), ('EL', 0.12838), ('EOG', 0.0), ('EQR', 0.0), ('ESS', 0.0), ('F', 0.0), ('FANG', 0.0), ('FRT', 0.0), ('GE', 0.0), ('GIS', 0.0), ('GOOG', 0.0), ('GOOGL', 0.0), ('HAS', 0.0), ('HBAN', 0.0), ('IBM', 0.0), ('ICE', 0.0), ('IEX', 0.0), ('ILMN', 0.06942), ('INCY', 0.0), ('IP', 0.0), ('IRM', 0.0), ('JPM', 0.0), ('KEYS', 0.0575), ('KMB', 0.0), ('KMI', 0.0), ('LNC', 0.0), ('LOW', 0.0), ('MA', 0.01038), ('MCHP', 0.0), ('MCO', 0.0), ('MDT', 0.0), ('MGM', 0.0), ('MKC', 0.13113), ('MKTX', 0.07394), ('MNST', 0.0), ('MO', 0.0), ('MSI', 0.0), ('MTB', 0.0), ('NTRS', 0.0), ('OMC', 0.0), ('ORCL', 0.0), ('OXY', 0.0), ('PCAR', 0.0), ('PEAK', 0.0), ('PG', 0.0), ('PHM', 0.0), ('RCL', 0.0), ('RJF', 0.0), ('ROK', 0.0), ('SBUX', 0.0), ('SIVB', 0.0), ('SJM', 0.0), ('SO', 0.0), ('SPGI', 0.0), ('STT', 0.0), ('SYF', 0.0), ('TEL', 0.0), ('TFC', 0.0), ('TRV', 0.0), ('TSLA', 0.0), ('TXN', 0.0), ('TYL', 0.0), ('UAL', 0.0), ('UNH', 0.0), ('V', 0.0), ('VLO', 0.0), ('WEC', 0.0), ('WELL', 0.0), ('WMB', 0.0), ('WY', 0.0), ('XYL', 0.0), ('ZTS', 0.0)])\n",
            "Pesi ottimizzazione volatilità\n",
            "OrderedDict([('ACGL', 0.07879), ('AEP', 0.21664), ('AFL', 0.00516), ('APD', 0.0), ('APTV', 0.0), ('BAX', 0.00772), ('BIIB', 0.00108), ('BIO', 0.01006), ('CAG', 0.0), ('CCI', 0.02995), ('CDAY', 0.0), ('CE', 0.0), ('CFG', 0.0), ('CHRW', 0.036), ('CINF', 0.0), ('CNC', 0.0), ('CNP', 0.0), ('COF', 0.0), ('CSGP', 0.04952), ('CTRA', 0.00983), ('CTSH', 0.0), ('DD', 0.0), ('DHI', 0.0), ('DLR', 0.0), ('DOV', 0.0), ('DXCM', 0.0), ('EA', 0.0), ('ED', 0.0), ('EIX', 0.0), ('EL', 0.0), ('EOG', 0.0), ('EQR', 0.0), ('ESS', 0.0), ('F', 0.02858), ('FANG', 0.0), ('FRT', 0.0), ('GE', 0.01782), ('GIS', 0.02173), ('GOOG', 0.0), ('GOOGL', 0.0), ('HAS', 0.03272), ('HBAN', 0.0), ('IBM', 0.0), ('ICE', 0.04738), ('IEX', 0.0), ('ILMN', 0.0), ('INCY', 0.0), ('IP', 0.0), ('IRM', 0.0), ('JPM', 0.0), ('KEYS', 0.00876), ('KMB', 0.0), ('KMI', 0.0), ('LNC', 0.0), ('LOW', 0.0), ('MA', 0.0), ('MCHP', 0.0), ('MCO', 0.0), ('MDT', 0.00248), ('MGM', 0.0), ('MKC', 0.0), ('MKTX', 0.058), ('MNST', 0.0), ('MO', 0.03086), ('MSI', 0.00563), ('MTB', 0.02232), ('NTRS', 0.0), ('OMC', 0.03825), ('ORCL', 0.0), ('OXY', 0.03317), ('PCAR', 0.0), ('PEAK', 0.0), ('PG', 0.0296), ('PHM', 0.0), ('RCL', 0.0), ('RJF', 0.0), ('ROK', 0.0), ('SBUX', 0.02182), ('SIVB', 0.0), ('SJM', 0.01699), ('SO', 0.10735), ('SPGI', 0.0), ('STT', 0.0), ('SYF', 0.0), ('TEL', 0.0), ('TFC', 0.0), ('TRV', 0.0), ('TSLA', 0.0), ('TXN', 0.0), ('TYL', 0.01495), ('UAL', 0.0), ('UNH', 0.0), ('V', 0.0), ('VLO', 0.01138), ('WEC', 0.0), ('WELL', 0.0), ('WMB', 0.00545), ('WY', 0.0), ('XYL', 0.0), ('ZTS', 0.0)])\n",
            "Portfolio 3\n",
            "Pesi ottimizzazione sharpe\n",
            "OrderedDict([('A', 0.0), ('AAP', 0.0), ('AAPL', 0.0), ('ACN', 0.0), ('ADP', 0.0), ('AFL', 0.01025), ('ALB', 0.0), ('AMD', 0.0), ('AME', 0.0), ('ANET', 0.0179), ('APD', 0.0), ('ARE', 0.0), ('ATO', 0.0), ('ATVI', 0.0), ('BBY', 0.0), ('BEN', 0.0), ('BLK', 0.0), ('BR', 0.0), ('CBRE', 0.0), ('CDNS', 0.02654), ('CHD', 0.22122), ('CHRW', 0.0), ('CMCSA', 0.0), ('CMS', 0.0), ('COST', 0.0), ('CSCO', 0.0), ('CTSH', 0.0), ('CVX', 0.0), ('CZR', 0.07318), ('DD', 0.0), ('DRI', 0.0), ('DTE', 0.0), ('DXC', 0.0), ('ECL', 0.0), ('EFX', 0.0), ('EPAM', 0.0), ('ETN', 0.0), ('EVRG', 0.0), ('EW', 0.0), ('FDX', 0.0), ('FITB', 0.0), ('FTNT', 0.17002), ('GD', 0.0), ('GE', 0.0), ('GILD', 0.0), ('GL', 0.0), ('GLW', 0.0), ('GPN', 0.0), ('GWW', 0.0), ('HIG', 0.0), ('HPE', 0.0), ('HRL', 0.0), ('HST', 0.0), ('IDXX', 0.0), ('IFF', 0.0), ('INTC', 0.0), ('IP', 0.0), ('IQV', 0.0), ('IRM', 0.0), ('JNJ', 0.0), ('JPM', 0.0), ('K', 0.0), ('KLAC', 0.0), ('LEN', 0.0), ('LH', 0.0), ('MA', 0.07854), ('MAR', 0.0), ('MCK', 0.0), ('MCO', 0.0), ('MET', 0.0), ('META', 0.0), ('MHK', 0.0), ('MKTX', 0.07244), ('MMC', 0.0), ('MMM', 0.0), ('MPC', 0.0), ('MRNA', 0.0), ('MTCH', 0.08305), ('MU', 0.0), ('NCLH', 0.0), ('NFLX', 0.0), ('NI', 0.0), ('NWL', 0.0), ('NXPI', 0.0), ('ORLY', 0.0), ('PCG', 0.0), ('PRU', 0.0), ('PXD', 0.0), ('REGN', 0.0), ('RHI', 0.0), ('SJM', 0.0), ('STX', 0.0), ('TER', 0.0), ('TFX', 0.05721), ('TGT', 0.0), ('TRV', 0.0), ('TSN', 0.0), ('VFC', 0.0), ('WYNN', 0.0), ('XEL', 0.18965)])\n",
            "Pesi ottimizzazione volatilità\n",
            "OrderedDict([('A', 0.0), ('AAP', 0.0), ('AAPL', 0.0), ('ACN', 0.0), ('ADP', 0.0), ('AFL', 0.0), ('ALB', 0.0), ('AMD', 0.0), ('AME', 0.0), ('ANET', 0.0), ('APD', 0.0), ('ARE', 0.0), ('ATO', 0.0), ('ATVI', 0.0), ('BBY', 0.0), ('BEN', 0.0), ('BLK', 0.0), ('BR', 0.00998), ('CBRE', 0.0), ('CDNS', 0.0), ('CHD', 0.00516), ('CHRW', 0.04371), ('CMCSA', 0.0), ('CMS', 0.0), ('COST', 0.0), ('CSCO', 0.0), ('CTSH', 0.0), ('CVX', 0.05514), ('CZR', 0.0), ('DD', 0.0), ('DRI', 0.0018), ('DTE', 0.16538), ('DXC', 0.0), ('ECL', 0.0), ('EFX', 0.03709), ('EPAM', 0.0), ('ETN', 0.0), ('EVRG', 0.13912), ('EW', 0.0), ('FDX', 0.0), ('FITB', 0.053), ('FTNT', 0.0), ('GD', 0.0), ('GE', 0.03958), ('GILD', 0.01338), ('GL', 0.0), ('GLW', 0.0), ('GPN', 0.0), ('GWW', 0.00548), ('HIG', 0.0084), ('HPE', 0.0), ('HRL', 0.0), ('HST', 0.0), ('IDXX', 0.0), ('IFF', 0.0), ('INTC', 0.0), ('IP', 0.0), ('IQV', 0.01405), ('IRM', 0.0), ('JNJ', 0.0), ('JPM', 0.0), ('K', 0.03494), ('KLAC', 0.0), ('LEN', 0.0), ('LH', 0.02967), ('MA', 0.0), ('MAR', 0.06027), ('MCK', 0.0), ('MCO', 0.0), ('MET', 0.0), ('META', 0.0018), ('MHK', 0.0), ('MKTX', 0.06266), ('MMC', 0.0576), ('MMM', 0.0), ('MPC', 0.0), ('MRNA', 0.0), ('MTCH', 0.0), ('MU', 0.0), ('NCLH', 0.0), ('NFLX', 0.0), ('NI', 0.04454), ('NWL', 0.0), ('NXPI', 0.01571), ('ORLY', 0.00047), ('PCG', 0.0), ('PRU', 0.0), ('PXD', 0.0), ('REGN', 0.0), ('RHI', 0.0), ('SJM', 0.04067), ('STX', 0.0), ('TER', 0.0), ('TFX', 0.0), ('TGT', 0.0), ('TRV', 0.0), ('TSN', 0.0), ('VFC', 0.02964), ('WYNN', 0.0), ('XEL', 0.0307)])\n",
            "Portfolio 4\n",
            "Pesi ottimizzazione sharpe\n",
            "OrderedDict([('A', 0.0), ('ADI', 0.0), ('AEE', 0.02425), ('AKAM', 0.0), ('ALGN', 0.0), ('AMAT', 0.0), ('AMT', 0.14094), ('APA', 0.0), ('APTV', 0.0), ('ARE', 0.0), ('AXP', 0.0), ('AZO', 0.0), ('BAX', 0.0), ('BSX', 0.0), ('CAG', 0.0), ('CAH', 0.0), ('CDAY', 0.0), ('CE', 0.0), ('CMA', 0.0), ('CMCSA', 0.0), ('CMG', 0.0), ('CMI', 0.0), ('CMS', 0.0), ('COST', 0.0), ('CRM', 0.0), ('CSX', 0.03647), ('CTAS', 0.0), ('CVX', 0.0), ('DLR', 0.0), ('DPZ', 0.01291), ('EA', 0.0), ('EBAY', 0.0), ('EOG', 0.0), ('EPAM', 0.0), ('ETR', 0.0), ('FITB', 0.0), ('GEN', 0.0), ('GNRC', 0.0), ('GOOG', 0.0), ('GS', 0.0), ('GWW', 0.0), ('HCA', 0.07535), ('HON', 0.0), ('HPQ', 0.0), ('HST', 0.0), ('HUM', 0.03213), ('IEX', 0.0), ('IR', 0.0), ('JCI', 0.0), ('JPM', 0.0), ('KEY', 0.0), ('KHC', 0.0), ('LYV', 0.0), ('MCHP', 0.0), ('MDT', 0.0), ('MNST', 0.0), ('MSI', 0.0), ('NRG', 0.27357), ('O', 0.0), ('OKE', 0.0), ('ORCL', 0.0), ('PCAR', 0.0), ('PG', 0.0), ('PHM', 0.0), ('PKI', 0.0), ('PM', 0.0), ('PSA', 0.0), ('QRVO', 0.0), ('RE', 0.0), ('REGN', 0.0), ('RJF', 0.0), ('RL', 0.0), ('RMD', 0.12724), ('ROK', 0.0), ('ROL', 0.07688), ('RSG', 0.0), ('SBNY', 0.0), ('SCHW', 0.0), ('SEDG', 0.04859), ('SNPS', 0.0), ('STE', 0.04174), ('STLD', 0.0), ('STZ', 0.0), ('SWK', 0.0), ('TECH', 0.0), ('TFC', 0.0), ('TPR', 0.0), ('TRMB', 0.0), ('TSCO', 0.0), ('TXN', 0.0), ('TXT', 0.0), ('UHS', 0.0), ('URI', 0.0), ('VRSK', 0.0), ('VRSN', 0.10994), ('VTRS', 0.0), ('WBD', 0.0), ('WM', 0.0), ('WST', 0.0), ('ZBH', 0.0)])\n",
            "Pesi ottimizzazione volatilità\n",
            "OrderedDict([('A', 0.0), ('ADI', 0.0), ('AEE', 0.0), ('AKAM', 0.0), ('ALGN', 0.0), ('AMAT', 0.0), ('AMT', 0.02344), ('APA', 0.0), ('APTV', 0.0), ('ARE', 0.0), ('AXP', 0.0), ('AZO', 0.057), ('BAX', 0.0), ('BSX', 0.0), ('CAG', 0.0), ('CAH', 0.0), ('CDAY', 0.0), ('CE', 0.0), ('CMA', 0.0), ('CMCSA', 0.0), ('CMG', 0.00973), ('CMI', 0.0), ('CMS', 0.20197), ('COST', 0.0), ('CRM', 0.0), ('CSX', 0.0), ('CTAS', 0.0), ('CVX', 0.01155), ('DLR', 0.0), ('DPZ', 0.00136), ('EA', 0.0), ('EBAY', 0.03372), ('EOG', 0.0), ('EPAM', 0.0), ('ETR', 0.03058), ('FITB', 0.03739), ('GEN', 0.00019), ('GNRC', 0.0), ('GOOG', 0.0), ('GS', 0.0), ('GWW', 0.00089), ('HCA', 0.0), ('HON', 0.0), ('HPQ', 0.0), ('HST', 0.0), ('HUM', 0.04613), ('IEX', 0.0), ('IR', 0.0), ('JCI', 0.0), ('JPM', 0.0), ('KEY', 0.0), ('KHC', 0.0), ('LYV', 0.0), ('MCHP', 0.0), ('MDT', 0.00837), ('MNST', 0.0), ('MSI', 0.05046), ('NRG', 0.0), ('O', 0.0), ('OKE', 0.0), ('ORCL', 0.0), ('PCAR', 0.0), ('PG', 0.06937), ('PHM', 0.0), ('PKI', 0.0), ('PM', 0.01793), ('PSA', 0.10759), ('QRVO', 0.0), ('RE', 0.05298), ('REGN', 0.0), ('RJF', 0.0), ('RL', 0.0), ('RMD', 0.0), ('ROK', 0.0), ('ROL', 0.0), ('RSG', 0.08946), ('SBNY', 0.0), ('SCHW', 0.0), ('SEDG', 0.0), ('SNPS', 0.0), ('STE', 0.00307), ('STLD', 0.00321), ('STZ', 0.05961), ('SWK', 0.0), ('TECH', 0.0088), ('TFC', 0.02524), ('TPR', 0.0), ('TRMB', 0.0), ('TSCO', 0.0), ('TXN', 0.0), ('TXT', 0.0), ('UHS', 0.02994), ('URI', 0.0), ('VRSK', 0.0), ('VRSN', 0.0), ('VTRS', 0.0), ('WBD', 0.00984), ('WM', 0.0), ('WST', 0.01011), ('ZBH', 0.0)])\n",
            "Portfolio 5\n",
            "Pesi ottimizzazione sharpe\n",
            "OrderedDict([('AAL', 0.0), ('ABBV', 0.0), ('ABT', 0.3308), ('ADP', 0.0), ('AEP', 0.13025), ('AMAT', 0.0), ('AMP', 0.0), ('ANET', 0.00198), ('APA', 0.0), ('ARE', 0.0), ('AVGO', 0.0), ('AVY', 0.0), ('CB', 0.0), ('CDNS', 0.0), ('CF', 0.0), ('CHD', 0.15043), ('CHRW', 0.0), ('CI', 0.0), ('CINF', 0.0), ('CMI', 0.0), ('COP', 0.0), ('CSCO', 0.0), ('CSGP', 0.12587), ('CSX', 0.05013), ('CTAS', 0.0), ('CVS', 0.0), ('CVX', 0.0), ('DG', 0.0), ('DIS', 0.0), ('DLR', 0.0), ('DTE', 0.0), ('DUK', 0.0), ('EIX', 0.0), ('EQR', 0.0), ('EVRG', 0.0), ('FCX', 0.0), ('FDS', 0.0), ('FRT', 0.0), ('GIS', 0.0), ('GNRC', 0.0), ('GOOGL', 0.0), ('GRMN', 0.0), ('HES', 0.0), ('HLT', 0.0), ('HRL', 0.0), ('HUM', 0.0), ('IBM', 0.0), ('INCY', 0.0), ('IP', 0.0), ('IT', 0.0), ('JKHY', 0.0), ('KEY', 0.0), ('KLAC', 0.0), ('KMI', 0.0), ('KMX', 0.0), ('LDOS', 0.0), ('MAA', 0.0), ('MET', 0.0), ('MPWR', 0.0), ('NTRS', 0.0), ('NWSA', 0.0), ('NXPI', 0.0), ('OKE', 0.0), ('ORLY', 0.0), ('PAYX', 0.0), ('PFE', 0.0), ('PHM', 0.0), ('PKI', 0.0), ('PLD', 0.0), ('PM', 0.0), ('PNC', 0.0), ('PPL', 0.0), ('PWR', 0.0), ('RJF', 0.0), ('RSG', 0.0), ('SBAC', 0.09227), ('SEDG', 0.05479), ('SEE', 0.0), ('SJM', 0.0), ('STLD', 0.0), ('SYK', 0.0), ('TJX', 0.0), ('TSLA', 0.0), ('TT', 0.0), ('TYL', 0.0), ('UAL', 0.0), ('URI', 0.0), ('VICI', 0.0), ('VMC', 0.0), ('VRTX', 0.06348), ('VTR', 0.0), ('VTRS', 0.0), ('WAB', 0.0), ('WBA', 0.0), ('WMB', 0.0), ('WRB', 0.0), ('WYNN', 0.0), ('XRAY', 0.0), ('XYL', 0.0), ('ZION', 0.0)])\n",
            "Pesi ottimizzazione volatilità\n",
            "OrderedDict([('AAL', 0.0), ('ABBV', 0.0), ('ABT', 0.0), ('ADP', 0.0), ('AEP', 0.04843), ('AMAT', 0.0), ('AMP', 0.0), ('ANET', 0.0), ('APA', 0.0), ('ARE', 0.0), ('AVGO', 0.0), ('AVY', 0.00016), ('CB', 0.0), ('CDNS', 0.0), ('CF', 0.0), ('CHD', 0.0), ('CHRW', 0.0269), ('CI', 0.0058), ('CINF', 0.0), ('CMI', 0.0), ('COP', 0.0), ('CSCO', 0.0), ('CSGP', 0.03659), ('CSX', 0.0), ('CTAS', 0.0), ('CVS', 0.0), ('CVX', 0.02347), ('DG', 0.0), ('DIS', 0.03097), ('DLR', 0.0), ('DTE', 0.0165), ('DUK', 0.21665), ('EIX', 0.0), ('EQR', 0.0), ('EVRG', 0.08168), ('FCX', 0.0), ('FDS', 0.0), ('FRT', 0.0), ('GIS', 0.03285), ('GNRC', 0.0), ('GOOGL', 0.0), ('GRMN', 0.04456), ('HES', 0.0), ('HLT', 0.03254), ('HRL', 0.0), ('HUM', 0.02135), ('IBM', 0.0), ('INCY', 0.0), ('IP', 0.0), ('IT', 0.0), ('JKHY', 0.03912), ('KEY', 0.0), ('KLAC', 0.0), ('KMI', 0.0), ('KMX', 0.0), ('LDOS', 0.0), ('MAA', 0.0), ('MET', 0.0), ('MPWR', 0.0), ('NTRS', 0.0), ('NWSA', 0.0), ('NXPI', 0.01919), ('OKE', 0.0), ('ORLY', 0.0), ('PAYX', 0.0), ('PFE', 0.0), ('PHM', 0.0), ('PKI', 0.0), ('PLD', 0.0), ('PM', 0.03488), ('PNC', 0.02603), ('PPL', 0.00159), ('PWR', 0.0), ('RJF', 0.0), ('RSG', 0.0584), ('SBAC', 0.0), ('SEDG', 0.0), ('SEE', 0.0), ('SJM', 0.00935), ('STLD', 0.0), ('SYK', 0.0), ('TJX', 0.05648), ('TSLA', 0.0), ('TT', 0.0), ('TYL', 0.01772), ('UAL', 0.0), ('URI', 0.0), ('VICI', 0.0), ('VMC', 0.0), ('VRTX', 0.0), ('VTR', 0.00523), ('VTRS', 0.0), ('WAB', 0.0), ('WBA', 0.0), ('WMB', 0.01927), ('WRB', 0.06986), ('WYNN', 0.0), ('XRAY', 0.01999), ('XYL', 0.0), ('ZION', 0.00445)])\n",
            "Portfolio 6\n",
            "Pesi ottimizzazione sharpe\n",
            "OrderedDict([('ABT', 0.2831), ('ACN', 0.0), ('ALGN', 0.0), ('APA', 0.0), ('APH', 0.0), ('ARE', 0.0), ('AVGO', 0.0), ('BAX', 0.0), ('BDX', 0.0), ('BIIB', 0.0), ('BSX', 0.0), ('BXP', 0.0), ('C', 0.0), ('CAG', 0.0), ('CE', 0.0), ('CF', 0.0), ('CHRW', 0.0), ('CLX', 0.0), ('COF', 0.0), ('CPB', 0.0), ('CPRT', 0.0), ('CRL', 0.0), ('DG', 0.0), ('DISH', 0.0), ('DOV', 0.0), ('DPZ', 0.02138), ('EFX', 0.0), ('ENPH', 0.04077), ('ETR', 0.0), ('ETSY', 0.10778), ('EW', 0.0), ('EXR', 0.0), ('FIS', 0.0), ('FISV', 0.0), ('FMC', 0.0), ('GM', 0.0), ('GPC', 0.0), ('HBAN', 0.0), ('HCA', 0.03221), ('HSIC', 0.0), ('IFF', 0.0), ('ILMN', 0.01346), ('INCY', 0.0), ('JBHT', 0.0), ('K', 0.0), ('KEY', 0.0), ('KIM', 0.0), ('KO', 0.0), ('LIN', 0.0), ('LUMN', 0.0), ('MA', 0.0), ('MRNA', 0.0), ('MRO', 0.0), ('MSFT', 0.0), ('MSI', 0.0), ('MTD', 0.0), ('NEE', 0.35645), ('NTAP', 0.0), ('NTRS', 0.0), ('NUE', 0.0), ('NVR', 0.01169), ('ON', 0.0), ('PARA', 0.0), ('PCG', 0.0), ('PG', 0.0), ('PKG', 0.0), ('PTC', 0.0), ('PYPL', 0.0), ('RL', 0.0), ('RMD', 0.03811), ('ROL', 0.0), ('ROST', 0.0), ('SEDG', 0.04159), ('SLB', 0.0), ('SNA', 0.0), ('SO', 0.0), ('SWK', 0.0), ('SYY', 0.0), ('T', 0.0), ('TECH', 0.0), ('TFX', 0.0), ('TRV', 0.0), ('TSN', 0.0), ('TT', 0.0), ('TTWO', 0.01244), ('UHS', 0.0), ('UNH', 0.0), ('UNP', 0.0), ('URI', 0.0), ('VFC', 0.0), ('VICI', 0.0), ('VTR', 0.0), ('WBA', 0.0), ('WBD', 0.0), ('WM', 0.0), ('WY', 0.0), ('XEL', 0.0), ('XOM', 0.0), ('XRAY', 0.0), ('YUM', 0.04101)])\n",
            "Pesi ottimizzazione volatilità\n",
            "OrderedDict([('ABT', 0.0), ('ACN', 0.0), ('ALGN', 0.0), ('APA', 0.0), ('APH', 0.0), ('ARE', 0.0), ('AVGO', 0.0), ('BAX', 0.0), ('BDX', 0.0), ('BIIB', 0.0), ('BSX', 0.0), ('BXP', 0.0), ('C', 0.01846), ('CAG', 0.0), ('CE', 0.0), ('CF', 0.0), ('CHRW', 0.01919), ('CLX', 0.0), ('COF', 0.0), ('CPB', 0.02328), ('CPRT', 0.0), ('CRL', 0.0), ('DG', 0.0), ('DISH', 0.0), ('DOV', 0.0), ('DPZ', 0.02728), ('EFX', 0.01693), ('ENPH', 0.0), ('ETR', 0.0), ('ETSY', 0.0), ('EW', 0.0), ('EXR', 0.01036), ('FIS', 0.0), ('FISV', 0.0), ('FMC', 0.0), ('GM', 0.01768), ('GPC', 0.0), ('HBAN', 0.04386), ('HCA', 0.0), ('HSIC', 0.0), ('IFF', 0.0), ('ILMN', 0.0), ('INCY', 0.0), ('JBHT', 0.00387), ('K', 0.0111), ('KEY', 0.0), ('KIM', 0.0), ('KO', 0.16541), ('LIN', 0.0), ('LUMN', 0.0), ('MA', 0.0), ('MRNA', 0.0), ('MRO', 0.0), ('MSFT', 0.0), ('MSI', 0.01751), ('MTD', 0.0), ('NEE', 0.12551), ('NTAP', 0.0), ('NTRS', 0.0), ('NUE', 0.0), ('NVR', 0.00883), ('ON', 0.0), ('PARA', 0.0), ('PCG', 0.0), ('PG', 0.0), ('PKG', 0.0), ('PTC', 0.0), ('PYPL', 0.0), ('RL', 0.0), ('RMD', 0.0), ('ROL', 0.0), ('ROST', 0.0), ('SEDG', 0.0), ('SLB', 0.0864), ('SNA', 0.0), ('SO', 0.12777), ('SWK', 0.0), ('SYY', 0.01855), ('T', 0.00055), ('TECH', 0.02633), ('TFX', 0.0), ('TRV', 0.0), ('TSN', 0.0), ('TT', 0.0), ('TTWO', 0.0), ('UHS', 0.03181), ('UNH', 0.0), ('UNP', 0.0), ('URI', 0.0), ('VFC', 0.0225), ('VICI', 0.0), ('VTR', 0.03688), ('WBA', 0.0), ('WBD', 0.00985), ('WM', 0.0), ('WY', 0.0), ('XEL', 0.03949), ('XOM', 0.0), ('XRAY', 0.02591), ('YUM', 0.0647)])\n",
            "Portfolio 7\n",
            "Pesi ottimizzazione sharpe\n",
            "OrderedDict([('AAL', 0.0), ('ABT', 0.1996), ('ACN', 0.0), ('ADM', 0.0), ('AES', 0.0), ('AIZ', 0.0), ('ALL', 0.0), ('ALLE', 0.0), ('AMP', 0.0), ('AMT', 0.02395), ('ANSS', 0.0), ('AON', 0.0), ('APA', 0.0), ('AWK', 0.0), ('BAX', 0.0), ('CCL', 0.0), ('CHTR', 0.0), ('CI', 0.0), ('COP', 0.0), ('CPRT', 0.0), ('CRL', 0.0), ('CRM', 0.0), ('CSGP', 0.05425), ('CTSH', 0.0), ('CVS', 0.0), ('DHR', 0.0), ('DVA', 0.0), ('ED', 0.0), ('EQIX', 0.0), ('EQR', 0.0), ('ETN', 0.0), ('EXC', 0.0), ('F', 0.0), ('FDX', 0.0), ('FIS', 0.0), ('FLT', 0.0), ('FTNT', 0.08378), ('GD', 0.0), ('GNRC', 0.0), ('GRMN', 0.0), ('HIG', 0.0), ('HII', 0.0), ('HSIC', 0.0), ('HST', 0.0), ('IDXX', 0.0), ('INTC', 0.0), ('JKHY', 0.0), ('KEYS', 0.0), ('KMI', 0.0), ('LNT', 0.0), ('LW', 0.27675), ('MAR', 0.0), ('MAS', 0.0), ('MCD', 0.07091), ('MGM', 0.0), ('MMC', 0.0), ('MOH', 0.03085), ('MPWR', 0.0), ('MRK', 0.0), ('MSFT', 0.0), ('NDAQ', 0.0), ('NDSN', 0.0), ('NEE', 0.25993), ('NI', 0.0), ('NKE', 0.0), ('NSC', 0.0), ('OKE', 0.0), ('PNC', 0.0), ('PPL', 0.0), ('PSX', 0.0), ('PTC', 0.0), ('PYPL', 0.0), ('QCOM', 0.0), ('RF', 0.0), ('RHI', 0.0), ('ROP', 0.0), ('SBAC', 0.0), ('SJM', 0.0), ('SNA', 0.0), ('SO', 0.0), ('SYK', 0.0), ('SYY', 0.0), ('TAP', 0.0), ('TDG', 0.0), ('TEL', 0.0), ('TFC', 0.0), ('UDR', 0.0), ('UNH', 0.0), ('UPS', 0.0), ('VFC', 0.0), ('VMC', 0.0), ('VRSK', 0.0), ('VTR', 0.0), ('WBD', 0.0), ('WMT', 0.0), ('WRB', 0.0), ('WY', 0.0), ('YUM', 0.0), ('ZION', 0.0), ('ZTS', 0.0)])\n",
            "Pesi ottimizzazione volatilità\n",
            "OrderedDict([('AAL', 0.0), ('ABT', 0.0), ('ACN', 0.0), ('ADM', 0.00616), ('AES', 0.0), ('AIZ', 0.0), ('ALL', 0.0), ('ALLE', 0.0), ('AMP', 0.0), ('AMT', 0.01571), ('ANSS', 0.0), ('AON', 0.0), ('APA', 0.0), ('AWK', 0.0), ('BAX', 0.0), ('CCL', 0.0233), ('CHTR', 0.0), ('CI', 0.0), ('COP', 0.0), ('CPRT', 0.0), ('CRL', 0.0), ('CRM', 0.0), ('CSGP', 0.04124), ('CTSH', 0.0), ('CVS', 0.0), ('DHR', 0.0), ('DVA', 0.0), ('ED', 0.01512), ('EQIX', 0.0), ('EQR', 0.0), ('ETN', 0.0), ('EXC', 0.03707), ('F', 0.02716), ('FDX', 0.0), ('FIS', 0.0), ('FLT', 0.00192), ('FTNT', 0.0), ('GD', 0.0), ('GNRC', 0.0), ('GRMN', 0.02986), ('HIG', 0.0), ('HII', 0.0), ('HSIC', 0.0), ('HST', 0.0), ('IDXX', 0.0), ('INTC', 0.0), ('JKHY', 0.05503), ('KEYS', 0.0), ('KMI', 0.0), ('LNT', 0.0), ('LW', 0.0341), ('MAR', 0.01338), ('MAS', 0.0), ('MCD', 0.08506), ('MGM', 0.0), ('MMC', 0.05133), ('MOH', 0.0), ('MPWR', 0.0), ('MRK', 0.02586), ('MSFT', 0.0), ('NDAQ', 0.01937), ('NDSN', 0.0), ('NEE', 0.13166), ('NI', 0.0), ('NKE', 0.0), ('NSC', 0.0), ('OKE', 0.0), ('PNC', 0.00153), ('PPL', 0.01464), ('PSX', 0.0), ('PTC', 0.0), ('PYPL', 0.0), ('QCOM', 0.0), ('RF', 0.0004), ('RHI', 0.0), ('ROP', 0.0), ('SBAC', 0.0), ('SJM', 0.03144), ('SNA', 0.0007), ('SO', 0.13449), ('SYK', 0.0), ('SYY', 0.0322), ('TAP', 0.0), ('TDG', 0.0), ('TEL', 0.0), ('TFC', 0.03676), ('UDR', 0.0), ('UNH', 0.0), ('UPS', 0.0), ('VFC', 0.01764), ('VMC', 0.0), ('VRSK', 0.0), ('VTR', 0.01484), ('WBD', 0.02043), ('WMT', 0.0), ('WRB', 0.07103), ('WY', 0.0), ('YUM', 0.01056), ('ZION', 0.0), ('ZTS', 0.0)])\n",
            "Portfolio 8\n",
            "Pesi ottimizzazione sharpe\n",
            "OrderedDict([('AAP', 0.0), ('AAPL', 0.0), ('ADBE', 0.0), ('ADSK', 0.0), ('AES', 0.0), ('AKAM', 0.0), ('AMAT', 0.0), ('AME', 0.0), ('AMT', 0.04019), ('ANET', 0.0), ('AVB', 0.0), ('AXP', 0.0), ('BALL', 0.0), ('BIO', 0.0), ('BRO', 0.0), ('BWA', 0.0), ('CBOE', 0.0), ('CDW', 0.0), ('CHD', 0.02931), ('CHRW', 0.0), ('CME', 0.16403), ('COF', 0.0), ('CPB', 0.0), ('CTLT', 0.0), ('CTSH', 0.0), ('CVX', 0.0), ('DISH', 0.0), ('DLR', 0.0), ('DOV', 0.0), ('DUK', 0.0), ('DVA', 0.0), ('ED', 0.0), ('ELV', 0.08714), ('EMR', 0.0), ('ENPH', 0.0361), ('ETN', 0.0), ('EVRG', 0.0), ('EXC', 0.00781), ('EXR', 0.0), ('FMC', 0.0), ('FTNT', 0.0403), ('HON', 0.0), ('HSIC', 0.0), ('IP', 0.0), ('IPG', 0.0), ('IVZ', 0.0), ('JKHY', 0.0), ('JPM', 0.0), ('KDP', 0.14849), ('KEYS', 0.0), ('KO', 0.0), ('L', 0.0), ('LDOS', 0.0), ('LIN', 0.0), ('LUV', 0.0), ('LW', 0.22475), ('MA', 0.0), ('MCD', 0.02073), ('MCK', 0.0), ('MDLZ', 0.0), ('MHK', 0.0), ('MMM', 0.0), ('MOH', 0.01835), ('MRNA', 0.0), ('MSI', 0.0), ('NCLH', 0.0), ('NDAQ', 0.0), ('NI', 0.0), ('NRG', 0.13964), ('NWSA', 0.0), ('ON', 0.0), ('ORCL', 0.0), ('ORLY', 0.0), ('PAYC', 0.01076), ('PEAK', 0.0), ('PFE', 0.0), ('PFG', 0.0), ('PG', 0.0), ('PGR', 0.02425), ('PHM', 0.0), ('PNW', 0.0), ('PTC', 0.0), ('QCOM', 0.0), ('RE', 0.0), ('REGN', 0.0), ('RMD', 0.00813), ('SBNY', 0.0), ('SBUX', 0.0), ('SWKS', 0.0), ('SYK', 0.0), ('T', 0.0), ('TAP', 0.0), ('TMUS', 0.0), ('TTWO', 0.0), ('TXT', 0.0), ('VTRS', 0.0), ('WBA', 0.0), ('WEC', 0.0), ('WMT', 0.0), ('XEL', 0.0)])\n",
            "Pesi ottimizzazione volatilità\n",
            "OrderedDict([('AAP', 0.0), ('AAPL', 0.0033), ('ADBE', 0.0), ('ADSK', 0.0), ('AES', 0.0), ('AKAM', 0.0), ('AMAT', 0.0), ('AME', 0.0), ('AMT', 0.02494), ('ANET', 0.0), ('AVB', 0.0), ('AXP', 0.0), ('BALL', 0.0), ('BIO', 0.00618), ('BRO', 0.08419), ('BWA', 0.0), ('CBOE', 0.03378), ('CDW', 0.0), ('CHD', 0.0), ('CHRW', 0.02198), ('CME', 0.03973), ('COF', 0.0), ('CPB', 0.01214), ('CTLT', 0.0), ('CTSH', 0.0), ('CVX', 0.02804), ('DISH', 0.0), ('DLR', 0.0), ('DOV', 0.0), ('DUK', 0.17406), ('DVA', 0.0), ('ED', 0.0), ('ELV', 0.00768), ('EMR', 0.0), ('ENPH', 0.00038), ('ETN', 0.0), ('EVRG', 0.09494), ('EXC', 0.0089), ('EXR', 0.0), ('FMC', 0.0), ('FTNT', 0.0), ('HON', 0.0), ('HSIC', 0.0), ('IP', 0.0), ('IPG', 0.0), ('IVZ', 0.0), ('JKHY', 0.03543), ('JPM', 0.0), ('KDP', 0.08709), ('KEYS', 0.0), ('KO', 0.07795), ('L', 0.0), ('LDOS', 0.0), ('LIN', 0.0), ('LUV', 0.00405), ('LW', 0.04137), ('MA', 0.0), ('MCD', 0.04209), ('MCK', 0.01814), ('MDLZ', 0.0), ('MHK', 0.0), ('MMM', 0.0), ('MOH', 0.0), ('MRNA', 0.0), ('MSI', 0.0), ('NCLH', 0.0), ('NDAQ', 0.0), ('NI', 0.0), ('NRG', 0.0), ('NWSA', 0.0), ('ON', 0.0), ('ORCL', 0.0), ('ORLY', 0.0), ('PAYC', 0.0), ('PEAK', 0.0), ('PFE', 0.0), ('PFG', 0.0), ('PG', 0.0), ('PGR', 0.0), ('PHM', 0.02157), ('PNW', 0.0), ('PTC', 0.0), ('QCOM', 0.0), ('RE', 0.04296), ('REGN', 0.0), ('RMD', 0.0), ('SBNY', 0.02201), ('SBUX', 0.02709), ('SWKS', 0.0), ('SYK', 0.0), ('T', 0.02491), ('TAP', 0.0), ('TMUS', 0.01509), ('TTWO', 0.0), ('TXT', 0.0), ('VTRS', 0.0), ('WBA', 0.0), ('WEC', 0.0), ('WMT', 0.0), ('XEL', 0.0)])\n",
            "Portfolio 9\n",
            "Pesi ottimizzazione sharpe\n",
            "OrderedDict([('A', 0.0), ('AAP', 0.0), ('AKAM', 0.0), ('ALB', 0.0), ('AMT', 0.21376), ('APH', 0.0), ('AWK', 0.0), ('AXP', 0.0), ('AZO', 0.0), ('BA', 0.13461), ('BAC', 0.0), ('BKNG', 0.0), ('BLK', 0.0), ('BMY', 0.0), ('BSX', 0.0), ('C', 0.0), ('CB', 0.0), ('CBOE', 0.0), ('CFG', 0.0), ('CHRW', 0.0), ('CINF', 0.0), ('CLX', 0.0), ('CME', 0.29798), ('CMG', 0.0), ('CNP', 0.0), ('COO', 0.0), ('COST', 0.0), ('CPRT', 0.0), ('CTAS', 0.0), ('DISH', 0.0), ('DOV', 0.0), ('DVN', 0.0), ('FDS', 0.0), ('FIS', 0.0), ('FISV', 0.0), ('FRC', 0.0), ('GIS', 0.0), ('GL', 0.0), ('GWW', 0.0), ('HCA', 0.03206), ('HSY', 0.0), ('INTU', 0.0), ('IRM', 0.0), ('ISRG', 0.07116), ('JBHT', 0.0), ('K', 0.0), ('KHC', 0.0), ('LDOS', 0.0), ('LIN', 0.0), ('LKQ', 0.0), ('LMT', 0.0), ('LNC', 0.0), ('MCO', 0.0), ('META', 0.0), ('MGM', 0.0), ('MOH', 0.04033), ('MPWR', 0.0), ('MRNA', 0.0), ('MRO', 0.0), ('MS', 0.0), ('MTCH', 0.0464), ('NDSN', 0.0), ('NOC', 0.0), ('NVDA', 0.0), ('NWL', 0.0), ('OKE', 0.0), ('ON', 0.0), ('PAYC', 0.04305), ('PEP', 0.0), ('PFG', 0.0), ('PKG', 0.0), ('PNC', 0.0), ('PWR', 0.0), ('QRVO', 0.0), ('REGN', 0.0), ('RJF', 0.0), ('RL', 0.0), ('RMD', 0.06602), ('ROP', 0.0), ('SRE', 0.0), ('SYF', 0.0), ('SYY', 0.0), ('TAP', 0.0), ('TEL', 0.0), ('TER', 0.0), ('TPR', 0.0), ('TRGP', 0.0), ('TSCO', 0.0), ('TT', 0.0), ('TXT', 0.0), ('TYL', 0.0), ('UDR', 0.0), ('UNP', 0.0), ('VFC', 0.0), ('VLO', 0.0), ('VRTX', 0.05463), ('WDC', 0.0), ('WFC', 0.0), ('WTW', 0.0), ('YUM', 0.0)])\n",
            "Pesi ottimizzazione volatilità\n",
            "OrderedDict([('A', 0.0), ('AAP', 0.0), ('AKAM', 0.0), ('ALB', 0.0), ('AMT', 0.04645), ('APH', 0.0), ('AWK', 0.00535), ('AXP', 0.0), ('AZO', 0.03915), ('BA', 0.0), ('BAC', 0.0), ('BKNG', 0.02803), ('BLK', 0.0), ('BMY', 0.0234), ('BSX', 0.0), ('C', 0.0), ('CB', 0.0), ('CBOE', 0.0509), ('CFG', 0.0), ('CHRW', 0.01887), ('CINF', 0.0), ('CLX', 0.0), ('CME', 0.0638), ('CMG', 0.00898), ('CNP', 0.08194), ('COO', 0.0), ('COST', 0.0), ('CPRT', 0.0), ('CTAS', 0.0), ('DISH', 0.0), ('DOV', 0.0), ('DVN', 0.0), ('FDS', 0.0), ('FIS', 0.0), ('FISV', 0.0), ('FRC', 0.03183), ('GIS', 0.01836), ('GL', 0.0), ('GWW', 0.00796), ('HCA', 0.0), ('HSY', 0.07747), ('INTU', 0.0), ('IRM', 0.0), ('ISRG', 0.0), ('JBHT', 0.0), ('K', 0.00318), ('KHC', 0.0), ('LDOS', 0.0), ('LIN', 0.0), ('LKQ', 0.04523), ('LMT', 0.0), ('LNC', 0.0), ('MCO', 0.0), ('META', 0.01168), ('MGM', 0.0), ('MOH', 0.0), ('MPWR', 0.0), ('MRNA', 0.0), ('MRO', 0.0), ('MS', 0.0), ('MTCH', 0.0), ('NDSN', 0.0), ('NOC', 0.0), ('NVDA', 0.0), ('NWL', 0.0), ('OKE', 0.0), ('ON', 0.0), ('PAYC', 0.0), ('PEP', 0.10999), ('PFG', 0.0), ('PKG', 0.0), ('PNC', 0.00489), ('PWR', 0.0), ('QRVO', 0.0), ('REGN', 0.0), ('RJF', 0.0), ('RL', 0.0), ('RMD', 0.0), ('ROP', 0.0), ('SRE', 0.09085), ('SYF', 0.0), ('SYY', 0.01077), ('TAP', 0.0), ('TEL', 0.0), ('TER', 0.0), ('TPR', 0.01121), ('TRGP', 0.0), ('TSCO', 0.0), ('TT', 0.0), ('TXT', 0.0), ('TYL', 0.00766), ('UDR', 0.03926), ('UNP', 0.0), ('VFC', 0.00775), ('VLO', 0.02403), ('VRTX', 0.0), ('WDC', 0.0), ('WFC', 0.0), ('WTW', 0.07214), ('YUM', 0.05887)])\n",
            "Portfolio 10\n",
            "Pesi ottimizzazione sharpe\n",
            "OrderedDict([('AAL', 0.0), ('AAPL', 0.0), ('AIZ', 0.0), ('AMAT', 0.0), ('AMD', 0.0), ('AME', 0.0), ('AMGN', 0.0), ('APA', 0.0), ('AWK', 0.0), ('BSX', 0.0), ('CB', 0.0), ('CBOE', 0.0), ('CDAY', 0.0), ('CL', 0.0), ('CME', 0.29019), ('CSGP', 0.0955), ('CSX', 0.0249), ('D', 0.0), ('DD', 0.0), ('DFS', 0.0), ('DGX', 0.0), ('DUK', 0.0), ('DVA', 0.0), ('EA', 0.0), ('ED', 0.0), ('EPAM', 0.0), ('EQIX', 0.0), ('EXPE', 0.0), ('FIS', 0.0), ('FRT', 0.0), ('GD', 0.0), ('GEN', 0.0), ('GIS', 0.0), ('GL', 0.0), ('GM', 0.0), ('GNRC', 0.0), ('GPC', 0.0), ('HAL', 0.0), ('HD', 0.0), ('HIG', 0.0), ('HRL', 0.0), ('HSIC', 0.0), ('HST', 0.0), ('ICE', 0.0), ('ISRG', 0.10133), ('IT', 0.0), ('IVZ', 0.0), ('JNJ', 0.0), ('KO', 0.0), ('LNT', 0.0), ('LOW', 0.0), ('MCHP', 0.0), ('MCK', 0.0), ('MDT', 0.0), ('MET', 0.0), ('MMM', 0.0), ('MOH', 0.04385), ('MPC', 0.0), ('MTB', 0.0), ('MU', 0.0), ('NDSN', 0.0), ('NEE', 0.39369), ('NEM', 0.0), ('NKE', 0.0), ('NWL', 0.0), ('NWS', 0.0), ('O', 0.0), ('ODFL', 0.0), ('OMC', 0.0), ('PCG', 0.0), ('POOL', 0.0), ('PPL', 0.0), ('PWR', 0.0), ('REGN', 0.0), ('RF', 0.0), ('RHI', 0.0), ('RL', 0.0), ('RMD', 0.05054), ('SCHW', 0.0), ('SHW', 0.0), ('SJM', 0.0), ('SLB', 0.0), ('SRE', 0.0), ('STLD', 0.0), ('STT', 0.0), ('TDY', 0.0), ('TECH', 0.0), ('TER', 0.0), ('TMUS', 0.0), ('TSCO', 0.0), ('TXN', 0.0), ('TXT', 0.0), ('ULTA', 0.0), ('UNH', 0.0), ('UNP', 0.0), ('URI', 0.0), ('VFC', 0.0), ('WMB', 0.0), ('ZION', 0.0), ('ZTS', 0.0)])\n",
            "Pesi ottimizzazione volatilità\n",
            "OrderedDict([('AAL', 0.0), ('AAPL', 0.0), ('AIZ', 0.00357), ('AMAT', 0.0), ('AMD', 0.0), ('AME', 0.0), ('AMGN', 0.0), ('APA', 0.0), ('AWK', 0.0), ('BSX', 0.0), ('CB', 0.0), ('CBOE', 0.03165), ('CDAY', 0.0), ('CL', 0.00522), ('CME', 0.07235), ('CSGP', 0.04547), ('CSX', 0.0), ('D', 0.02036), ('DD', 0.0), ('DFS', 0.0), ('DGX', 0.00254), ('DUK', 0.21966), ('DVA', 0.0), ('EA', 0.0), ('ED', 0.0), ('EPAM', 0.0), ('EQIX', 0.0), ('EXPE', 0.03241), ('FIS', 0.0), ('FRT', 0.0), ('GD', 0.0), ('GEN', 0.0), ('GIS', 0.02182), ('GL', 0.0), ('GM', 0.00513), ('GNRC', 0.0), ('GPC', 0.0), ('HAL', 0.0), ('HD', 0.0), ('HIG', 0.0), ('HRL', 0.0), ('HSIC', 0.0), ('HST', 0.00365), ('ICE', 0.0), ('ISRG', 0.0), ('IT', 0.0), ('IVZ', 0.0), ('JNJ', 0.0), ('KO', 0.10662), ('LNT', 0.0), ('LOW', 0.0), ('MCHP', 0.0), ('MCK', 0.0), ('MDT', 0.0), ('MET', 0.0), ('MMM', 0.0), ('MOH', 0.00281), ('MPC', 0.0), ('MTB', 0.05181), ('MU', 0.0), ('NDSN', 0.0), ('NEE', 0.08697), ('NEM', 0.08739), ('NKE', 0.0), ('NWL', 0.0), ('NWS', 0.0), ('O', 0.0), ('ODFL', 0.0), ('OMC', 0.04572), ('PCG', 0.0), ('POOL', 0.0), ('PPL', 0.0), ('PWR', 0.0), ('REGN', 0.0), ('RF', 0.00707), ('RHI', 0.0), ('RL', 0.0), ('RMD', 0.0), ('SCHW', 0.0), ('SHW', 0.0), ('SJM', 0.00193), ('SLB', 0.04438), ('SRE', 0.01528), ('STLD', 0.0), ('STT', 0.0), ('TDY', 0.0), ('TECH', 0.01087), ('TER', 0.0), ('TMUS', 0.01678), ('TSCO', 0.00184), ('TXN', 0.0), ('TXT', 0.0), ('ULTA', 0.03537), ('UNH', 0.0), ('UNP', 0.0), ('URI', 0.0), ('VFC', 0.02133), ('WMB', 0.0), ('ZION', 0.0), ('ZTS', 0.0)])\n"
          ]
        }
      ],
      "source": [
        "for i in range(n):\n",
        "  print(f\"Portfolio {i+1}\")\n",
        "  print(\"Pesi ottimizzazione sharpe\")\n",
        "  print(cleaned_weights_sharpe[i])\n",
        "  print(\"Pesi ottimizzazione volatilità\")\n",
        "  print(cleaned_weights_vol[i])"
      ]
    },
    {
      "cell_type": "markdown",
      "metadata": {
        "id": "yrIdF5AdLPA4"
      },
      "source": [
        "#performance dopo 1 ottimizzazione"
      ]
    },
    {
      "cell_type": "code",
      "execution_count": null,
      "metadata": {
        "colab": {
          "background_save": true
        },
        "id": "1YyjYxRVKWgb"
      },
      "outputs": [],
      "source": [
        "# Capitale iniziale\n",
        "capital = 10000\n",
        "\n",
        "# Array vuoto per i dizionari delle quantità\n",
        "portfolio_quantities_opt1 = []\n",
        "\n",
        "# Loop sui portfoli per creare i dizionari delle quantità\n",
        "for i, portfolio in enumerate(portfolios):\n",
        "    # Accedi ai pesi normalizzati per questo portfolio\n",
        "    weights_dict = cleaned_weights_sharpe[i]\n",
        "    # Calcola le quantità di denaro da allocare per ogni stock\n",
        "    amounts = [weights_dict[stock] * capital for stock in portfolio]\n",
        "    # Crea un dizionario delle quantità per questo portfolio\n",
        "    portfolio_dict = dict(zip(portfolio, amounts))\n",
        "    # Aggiungi il dizionario alla lista di dizionari delle quantità\n",
        "    portfolio_quantities_opt1.append(portfolio_dict)"
      ]
    },
    {
      "cell_type": "code",
      "execution_count": null,
      "metadata": {
        "colab": {
          "background_save": true
        },
        "id": "27b2HOzVLbAH"
      },
      "outputs": [],
      "source": [
        "# Array vuoto per i nuovi dizionari contenenti le azioni e il numero di azioni acquistabili\n",
        "portfolio_stocks_opt1 = []\n",
        "\n",
        "# Loop sui portfoli per creare i nuovi dizionari\n",
        "for i, portfolio_dict in enumerate(portfolio_quantities_opt1):\n",
        "    # Crea un nuovo dizionario per questo portfolio\n",
        "    new_dict = {}\n",
        "    for stock, investment in portfolio_dict.items():\n",
        "        # Accedi al prezzo di chiusura per questa azione\n",
        "        closing_price = close_prices_t0[i][stock]\n",
        "        # Calcola la quantità di azioni acquistabile in base all'investimento e il prezzo di chiusura\n",
        "        quantity = (investment / closing_price)\n",
        "        # Aggiungi l'azione e il numero di azioni acquistabili al dizionario\n",
        "        new_dict[stock] = quantity\n",
        "    # Aggiungi il nuovo dizionario alla lista di nuovi dizionari\n",
        "    portfolio_stocks_opt1.append(new_dict)"
      ]
    },
    {
      "cell_type": "code",
      "execution_count": null,
      "metadata": {
        "colab": {
          "background_save": true
        },
        "id": "2RFcW2qDLpCu"
      },
      "outputs": [],
      "source": [
        "# Array vuoto per i nuovi dizionari contenenti le azioni e il numero di azioni acquistabili\n",
        "portfolio_quantities_tf_opt1 = []\n",
        "\n",
        "# Loop sui portfoli per creare i nuovi portfolio_stocks_opt1\n",
        "for i, portfolio_dict in enumerate(portfolio_stocks_opt1):\n",
        "    # Crea un nuovo dizionario per questo portfolio\n",
        "    new_dict = {}\n",
        "    for stock, investment in portfolio_dict.items():\n",
        "        # Accedi al prezzo di chiusura per questa azione\n",
        "        closing_price = close_prices_tf[i][stock]\n",
        "        # Calcola la quantità di azioni acquistabile in base all'investimento e il prezzo di chiusura\n",
        "        quantity = (investment * closing_price)\n",
        "        # Aggiungi l'azione e il numero di azioni acquistabili al dizionario\n",
        "        new_dict[stock] = quantity\n",
        "    # Aggiungi il nuovo dizionario alla lista di nuovi dizionari\n",
        "    portfolio_quantities_tf_opt1.append(new_dict)"
      ]
    },
    {
      "cell_type": "code",
      "execution_count": null,
      "metadata": {
        "colab": {
          "background_save": true
        },
        "id": "gvZ_MabgLyMt",
        "outputId": "3bccf3f7-ccc0-4300-9d00-16298978ad41"
      },
      "outputs": [
        {
          "name": "stdout",
          "output_type": "stream",
          "text": [
            "['AAPL', 'ABBV', 'ABT', 'ADM', 'ADP', 'ALL', 'AMCR', 'AMD', 'AON', 'AOS', 'APH', 'APTV', 'ATO', 'AXP', 'BAC', 'BKR', 'BMY', 'C', 'CBRE', 'CHRW', 'CINF', 'CL', 'CMCSA', 'CMI', 'COO', 'CSGP', 'CSX', 'CVX', 'DE', 'DHI', 'DLR', 'DPZ', 'DRI', 'DUK', 'DVA', 'EXR', 'FDX', 'FIS', 'FISV', 'FMC', 'FRT', 'GL', 'GOOG', 'GPN', 'GWW', 'HD', 'HIG', 'HII', 'HPE', 'IEX', 'IPG', 'ISRG', 'ITW', 'JBHT', 'KIM', 'KLAC', 'KO', 'L', 'LNC', 'LYB', 'MA', 'MCO', 'META', 'MKTX', 'MMM', 'MSFT', 'MTD', 'MU', 'NTRS', 'ODFL', 'PAYX', 'PFG', 'PGR', 'PH', 'PNC', 'PRU', 'PXD', 'RL', 'ROL', 'RSG', 'SCHW', 'SNPS', 'STX', 'SYY', 'TAP', 'TGT', 'TRV', 'TT', 'TXN', 'TXT', 'UNH', 'URI', 'VFC', 'VRSK', 'VRTX', 'WEC', 'WELL', 'WM', 'ZBH', 'ZION']\n",
            "quantita iniziali\n",
            "{'AAPL': 0.0, 'ABBV': 0.0, 'ABT': 2936.5, 'ADM': 0.0, 'ADP': 0.0, 'ALL': 0.0, 'AMCR': 0.0, 'AMD': 0.0, 'AON': 0.0, 'AOS': 0.0, 'APH': 0.0, 'APTV': 0.0, 'ATO': 252.29999999999998, 'AXP': 0.0, 'BAC': 0.0, 'BKR': 0.0, 'BMY': 0.0, 'C': 0.0, 'CBRE': 0.0, 'CHRW': 0.0, 'CINF': 0.0, 'CL': 0.0, 'CMCSA': 0.0, 'CMI': 0.0, 'COO': 0.0, 'CSGP': 981.0000000000001, 'CSX': 410.59999999999997, 'CVX': 0.0, 'DE': 0.0, 'DHI': 0.0, 'DLR': 0.0, 'DPZ': 121.0, 'DRI': 48.1, 'DUK': 945.8, 'DVA': 0.0, 'EXR': 0.0, 'FDX': 0.0, 'FIS': 0.0, 'FISV': 0.0, 'FMC': 0.0, 'FRT': 0.0, 'GL': 0.0, 'GOOG': 0.0, 'GPN': 0.0, 'GWW': 0.0, 'HD': 0.0, 'HIG': 0.0, 'HII': 0.0, 'HPE': 0.0, 'IEX': 0.0, 'IPG': 0.0, 'ISRG': 1107.9, 'ITW': 0.0, 'JBHT': 0.0, 'KIM': 0.0, 'KLAC': 0.0, 'KO': 0.0, 'L': 0.0, 'LNC': 0.0, 'LYB': 0.0, 'MA': 0.0, 'MCO': 0.0, 'META': 0.0, 'MKTX': 558.4, 'MMM': 0.0, 'MSFT': 0.0, 'MTD': 0.0, 'MU': 0.0, 'NTRS': 0.0, 'ODFL': 0.0, 'PAYX': 0.0, 'PFG': 0.0, 'PGR': 1476.0, 'PH': 0.0, 'PNC': 0.0, 'PRU': 0.0, 'PXD': 0.0, 'RL': 0.0, 'ROL': 0.0, 'RSG': 0.0, 'SCHW': 0.0, 'SNPS': 0.0, 'STX': 0.0, 'SYY': 0.0, 'TAP': 0.0, 'TGT': 0.0, 'TRV': 0.0, 'TT': 0.0, 'TXN': 0.0, 'TXT': 0.0, 'UNH': 0.0, 'URI': 0.0, 'VFC': 0.0, 'VRSK': 0.0, 'VRTX': 610.9, 'WEC': 551.4, 'WELL': 0.0, 'WM': 0.0, 'ZBH': 0.0, 'ZION': 0.0}\n",
            "quantita finali\n",
            "{'AAPL': 0.0, 'ABBV': 0.0, 'ABT': 6160.0464566246865, 'ADM': 0.0, 'ADP': 0.0, 'ALL': 0.0, 'AMCR': 0.0, 'AMD': 0.0, 'AON': 0.0, 'AOS': 0.0, 'APH': 0.0, 'APTV': 0.0, 'ATO': 316.18377854276, 'AXP': 0.0, 'BAC': 0.0, 'BKR': 0.0, 'BMY': 0.0, 'C': 0.0, 'CBRE': 0.0, 'CHRW': 0.0, 'CINF': 0.0, 'CL': 0.0, 'CMCSA': 0.0, 'CMI': 0.0, 'COO': 0.0, 'CSGP': 2310.648784817432, 'CSX': 765.853145793061, 'CVX': 0.0, 'DE': 0.0, 'DHI': 0.0, 'DLR': 0.0, 'DPZ': 285.9085268357283, 'DRI': 76.23414060530877, 'DUK': 1308.5029236712935, 'DVA': 0.0, 'EXR': 0.0, 'FDX': 0.0, 'FIS': 0.0, 'FISV': 0.0, 'FMC': 0.0, 'FRT': 0.0, 'GL': 0.0, 'GOOG': 0.0, 'GPN': 0.0, 'GWW': 0.0, 'HD': 0.0, 'HIG': 0.0, 'HII': 0.0, 'HPE': 0.0, 'IEX': 0.0, 'IPG': 0.0, 'ISRG': 2567.4998690153343, 'ITW': 0.0, 'JBHT': 0.0, 'KIM': 0.0, 'KLAC': 0.0, 'KO': 0.0, 'L': 0.0, 'LNC': 0.0, 'LYB': 0.0, 'MA': 0.0, 'MCO': 0.0, 'META': 0.0, 'MKTX': 1078.165765751955, 'MMM': 0.0, 'MSFT': 0.0, 'MTD': 0.0, 'MU': 0.0, 'NTRS': 0.0, 'ODFL': 0.0, 'PAYX': 0.0, 'PFG': 0.0, 'PGR': 2931.539890899936, 'PH': 0.0, 'PNC': 0.0, 'PRU': 0.0, 'PXD': 0.0, 'RL': 0.0, 'ROL': 0.0, 'RSG': 0.0, 'SCHW': 0.0, 'SNPS': 0.0, 'STX': 0.0, 'SYY': 0.0, 'TAP': 0.0, 'TGT': 0.0, 'TRV': 0.0, 'TT': 0.0, 'TXN': 0.0, 'TXT': 0.0, 'UNH': 0.0, 'URI': 0.0, 'VFC': 0.0, 'VRSK': 0.0, 'VRTX': 828.5200800658635, 'WEC': 853.7474559014983, 'WELL': 0.0, 'WM': 0.0, 'ZBH': 0.0, 'ZION': 0.0}\n",
            "prezzi iniziali\n",
            "{'AAPL': 38.047054290771484, 'ABBV': 72.80840301513672, 'ABT': 64.89282989501953, 'ADM': 36.46630096435547, 'ADP': 119.88691711425781, 'ALL': 73.79255676269531, 'AMCR': 7.701457500457764, 'AMD': 18.829999923706055, 'AON': 138.95541381835938, 'AOS': 40.1462516784668, 'APH': 38.31843566894531, 'APTV': 60.35228729248047, 'ATO': 81.24024963378906, 'AXP': 90.0909423828125, 'BAC': 22.641014099121094, 'BKR': 18.36278533935547, 'BMY': 45.861595153808594, 'C': 46.21674728393555, 'CBRE': 39.93000030517578, 'CHRW': 78.20926666259766, 'CINF': 68.32861328125, 'CL': 54.88182830810547, 'CMCSA': 31.451847076416016, 'CMI': 118.92054748535156, 'COO': 250.4298553466797, 'CSGP': 33.47200012207031, 'CSX': 19.565160751342773, 'CVX': 94.65721130371094, 'DE': 139.66070556640625, 'DHI': 33.98639678955078, 'DLR': 89.81627655029297, 'DPZ': 234.12948608398438, 'DRI': 89.84027099609375, 'DUK': 71.25413513183594, 'DVA': 51.72999954223633, 'EXR': 76.79471588134766, 'FDX': 153.33169555664062, 'FIS': 95.97760772705078, 'FISV': 72.20999908447266, 'FMC': 60.40400314331055, 'FRT': 98.9881820678711, 'GL': 73.70155334472656, 'GOOG': 52.29249954223633, 'GPN': 100.07086944580078, 'GWW': 258.3540954589844, 'HD': 156.673095703125, 'HIG': 39.20661163330078, 'HII': 175.85031127929688, 'HPE': 11.727640151977539, 'IEX': 119.07335662841797, 'IPG': 17.020347595214844, 'ISRG': 155.3433380126953, 'ITW': 114.7796401977539, 'JBHT': 89.80838012695312, 'KIM': 12.242120742797852, 'KLAC': 84.77450561523438, 'KO': 41.41399002075195, 'L': 44.13274383544922, 'LNC': 44.74101257324219, 'LYB': 64.88760375976562, 'MA': 185.37332153320312, 'MCO': 135.63868713378906, 'META': 135.67999267578125, 'MKTX': 203.0525665283203, 'MMM': 163.4301300048828, 'MSFT': 96.6326675415039, 'MTD': 546.0399780273438, 'MU': 32.418785095214844, 'NTRS': 74.8942642211914, 'ODFL': 80.95679473876953, 'PAYX': 57.702510833740234, 'PFG': 37.70132064819336, 'PGR': 51.13649368286133, 'PH': 139.9230194091797, 'PNC': 103.22821044921875, 'PRU': 66.99622344970703, 'PXD': 109.55769348144531, 'RL': 97.16051483154297, 'ROL': 22.68752098083496, 'RSG': 66.8888931274414, 'SCHW': 39.199241638183594, 'SNPS': 84.05000305175781, 'STX': 32.749446868896484, 'SYY': 55.70010757446289, 'TAP': 51.677001953125, 'TGT': 60.58796310424805, 'TRV': 106.89910888671875, 'TT': 66.1192626953125, 'TXN': 84.19861602783203, 'TXT': 45.80577850341797, 'UNH': 229.3604278564453, 'URI': 105.62000274658203, 'VFC': 59.35774230957031, 'VRSK': 105.82852172851562, 'VRTX': 164.0800018310547, 'WEC': 59.713069915771484, 'WELL': 57.29283142089844, 'WM': 82.76399230957031, 'ZBH': 96.36150360107422, 'ZION': 36.702110290527344}\n",
            "prezzi finali\n",
            "{'AAPL': 180.68386840820312, 'ABBV': 129.1144256591797, 'ABT': 136.12901306152344, 'ADM': 66.2626953125, 'ADP': 239.45204162597656, 'ALL': 114.37638854980469, 'AMCR': 11.291619300842285, 'AMD': 150.24000549316406, 'AON': 290.5342102050781, 'AOS': 81.62281036376953, 'APH': 85.5301284790039, 'APTV': 166.02999877929688, 'ATO': 101.81073760986328, 'AXP': 165.482666015625, 'BAC': 44.83839416503906, 'BKR': 24.25055503845215, 'BMY': 59.544921875, 'C': 60.06900405883789, 'CBRE': 108.66999816894531, 'CHRW': 104.9720687866211, 'CINF': 113.11000061035156, 'CL': 84.13297271728516, 'CMCSA': 49.04894256591797, 'CMI': 212.38616943359375, 'COO': 421.5682373046875, 'CSGP': 78.83999633789062, 'CSX': 36.49303436279297, 'CVX': 114.10469818115234, 'DE': 350.1099853515625, 'DHI': 103.7665023803711, 'DLR': 168.2383575439453, 'DPZ': 553.219970703125, 'DRI': 142.38868713378906, 'DUK': 98.57923889160156, 'DVA': 115.43000030517578, 'EXR': 219.22999572753906, 'FDX': 258.54998779296875, 'FIS': 111.41445922851562, 'FISV': 107.62000274658203, 'FMC': 108.12487030029297, 'FRT': 131.03077697753906, 'GL': 94.74756622314453, 'GOOG': 145.07449340820312, 'GPN': 140.51988220214844, 'GWW': 502.2606201171875, 'HD': 398.6114807128906, 'HIG': 67.60198211669922, 'HII': 184.8684844970703, 'HPE': 15.632475852966309, 'IEX': 230.14105224609375, 'IPG': 36.01645278930664, 'ISRG': 360.0, 'ITW': 237.4156494140625, 'JBHT': 199.5990753173828, 'KIM': 24.579999923706055, 'KLAC': 428.10931396484375, 'KO': 59.29999923706055, 'L': 57.797576904296875, 'LNC': 69.2778549194336, 'LYB': 93.16000366210938, 'MA': 370.4638671875, 'MCO': 379.0545959472656, 'META': 338.5400085449219, 'MKTX': 392.05645751953125, 'MMM': 168.28211975097656, 'MSFT': 334.75, 'MTD': 1674.8599853515625, 'MU': 95.01532745361328, 'NTRS': 117.21322631835938, 'ODFL': 344.5047607421875, 'PAYX': 130.25059509277344, 'PFG': 70.72653198242188, 'PGR': 101.56414031982422, 'PH': 309.3494567871094, 'PNC': 207.0706329345703, 'PRU': 103.78736877441406, 'PXD': 183.76275634765625, 'RL': 117.36905670166016, 'ROL': 33.07819366455078, 'RSG': 133.4792938232422, 'SCHW': 84.5493392944336, 'SNPS': 361.1000061035156, 'STX': 108.45710754394531, 'SYY': 76.5982894897461, 'TAP': 45.653377532958984, 'TGT': 230.94911193847656, 'TRV': 155.75, 'TT': 194.00894165039062, 'TXN': 184.04725646972656, 'TXT': 76.2508544921875, 'UNH': 495.92877197265625, 'URI': 329.56207275390625, 'VFC': 70.15182495117188, 'VRSK': 220.1205596923828, 'VRTX': 222.52999877929688, 'WEC': 92.45535278320312, 'WELL': 84.94094848632812, 'WM': 160.16683959960938, 'ZBH': 124.33207702636719, 'ZION': 62.03228759765625}\n",
            "\n",
            "\n",
            "['ACGL', 'AEP', 'AFL', 'APD', 'APTV', 'BAX', 'BIIB', 'BIO', 'CAG', 'CCI', 'CDAY', 'CE', 'CFG', 'CHRW', 'CINF', 'CNC', 'CNP', 'COF', 'CSGP', 'CTRA', 'CTSH', 'DD', 'DHI', 'DLR', 'DOV', 'DXCM', 'EA', 'ED', 'EIX', 'EL', 'EOG', 'EQR', 'ESS', 'F', 'FANG', 'FRT', 'GE', 'GIS', 'GOOG', 'GOOGL', 'HAS', 'HBAN', 'IBM', 'ICE', 'IEX', 'ILMN', 'INCY', 'IP', 'IRM', 'JPM', 'KEYS', 'KMB', 'KMI', 'LNC', 'LOW', 'MA', 'MCHP', 'MCO', 'MDT', 'MGM', 'MKC', 'MKTX', 'MNST', 'MO', 'MSI', 'MTB', 'NTRS', 'OMC', 'ORCL', 'OXY', 'PCAR', 'PEAK', 'PG', 'PHM', 'RCL', 'RJF', 'ROK', 'SBUX', 'SIVB', 'SJM', 'SO', 'SPGI', 'STT', 'SYF', 'TEL', 'TFC', 'TRV', 'TSLA', 'TXN', 'TYL', 'UAL', 'UNH', 'V', 'VLO', 'WEC', 'WELL', 'WMB', 'WY', 'XYL', 'ZTS']\n",
            "quantita iniziali\n",
            "{'ACGL': 0.0, 'AEP': 2128.6, 'AFL': 113.2, 'APD': 0.0, 'APTV': 0.0, 'BAX': 0.0, 'BIIB': 0.0, 'BIO': 0.0, 'CAG': 0.0, 'CCI': 210.8, 'CDAY': 0.0, 'CE': 0.0, 'CFG': 0.0, 'CHRW': 0.0, 'CINF': 0.0, 'CNC': 1239.5, 'CNP': 0.0, 'COF': 0.0, 'CSGP': 1482.5, 'CTRA': 0.0, 'CTSH': 0.0, 'DD': 0.0, 'DHI': 0.0, 'DLR': 0.0, 'DOV': 0.0, 'DXCM': 117.80000000000001, 'EA': 0.0, 'ED': 0.0, 'EIX': 0.0, 'EL': 1283.8, 'EOG': 0.0, 'EQR': 0.0, 'ESS': 0.0, 'F': 0.0, 'FANG': 0.0, 'FRT': 0.0, 'GE': 0.0, 'GIS': 0.0, 'GOOG': 0.0, 'GOOGL': 0.0, 'HAS': 0.0, 'HBAN': 0.0, 'IBM': 0.0, 'ICE': 0.0, 'IEX': 0.0, 'ILMN': 694.1999999999999, 'INCY': 0.0, 'IP': 0.0, 'IRM': 0.0, 'JPM': 0.0, 'KEYS': 575.0, 'KMB': 0.0, 'KMI': 0.0, 'LNC': 0.0, 'LOW': 0.0, 'MA': 103.8, 'MCHP': 0.0, 'MCO': 0.0, 'MDT': 0.0, 'MGM': 0.0, 'MKC': 1311.3, 'MKTX': 739.4000000000001, 'MNST': 0.0, 'MO': 0.0, 'MSI': 0.0, 'MTB': 0.0, 'NTRS': 0.0, 'OMC': 0.0, 'ORCL': 0.0, 'OXY': 0.0, 'PCAR': 0.0, 'PEAK': 0.0, 'PG': 0.0, 'PHM': 0.0, 'RCL': 0.0, 'RJF': 0.0, 'ROK': 0.0, 'SBUX': 0.0, 'SIVB': 0.0, 'SJM': 0.0, 'SO': 0.0, 'SPGI': 0.0, 'STT': 0.0, 'SYF': 0.0, 'TEL': 0.0, 'TFC': 0.0, 'TRV': 0.0, 'TSLA': 0.0, 'TXN': 0.0, 'TYL': 0.0, 'UAL': 0.0, 'UNH': 0.0, 'V': 0.0, 'VLO': 0.0, 'WEC': 0.0, 'WELL': 0.0, 'WMB': 0.0, 'WY': 0.0, 'XYL': 0.0, 'ZTS': 0.0}\n",
            "quantita finali\n",
            "{'ACGL': 0.0, 'AEP': 2954.863982242165, 'AFL': 159.82667654684852, 'APD': 0.0, 'APTV': 0.0, 'BAX': 0.0, 'BIIB': 0.0, 'BIO': 0.0, 'CAG': 0.0, 'CCI': 471.6445320853111, 'CDAY': 0.0, 'CE': 0.0, 'CFG': 0.0, 'CHRW': 0.0, 'CINF': 0.0, 'CNC': 1813.1801219703877, 'CNP': 0.0, 'COF': 0.0, 'CSGP': 3491.8825927541725, 'CTRA': 0.0, 'CTSH': 0.0, 'DD': 0.0, 'DHI': 0.0, 'DLR': 0.0, 'DOV': 0.0, 'DXCM': 532.6363886879091, 'EA': 0.0, 'ED': 0.0, 'EIX': 0.0, 'EL': 3728.845145057739, 'EOG': 0.0, 'EQR': 0.0, 'ESS': 0.0, 'F': 0.0, 'FANG': 0.0, 'FRT': 0.0, 'GE': 0.0, 'GIS': 0.0, 'GOOG': 0.0, 'GOOGL': 0.0, 'HAS': 0.0, 'HBAN': 0.0, 'IBM': 0.0, 'ICE': 0.0, 'IEX': 0.0, 'ILMN': 897.7317685492575, 'INCY': 0.0, 'IP': 0.0, 'IRM': 0.0, 'JPM': 0.0, 'KEYS': 1897.2566847882388, 'KMB': 0.0, 'KMI': 0.0, 'LNC': 0.0, 'LOW': 0.0, 'MA': 207.44164225307108, 'MCHP': 0.0, 'MCO': 0.0, 'MDT': 0.0, 'MGM': 0.0, 'MKC': 1972.3813312809145, 'MKTX': 1445.0257156832342, 'MNST': 0.0, 'MO': 0.0, 'MSI': 0.0, 'MTB': 0.0, 'NTRS': 0.0, 'OMC': 0.0, 'ORCL': 0.0, 'OXY': 0.0, 'PCAR': 0.0, 'PEAK': 0.0, 'PG': 0.0, 'PHM': 0.0, 'RCL': 0.0, 'RJF': 0.0, 'ROK': 0.0, 'SBUX': 0.0, 'SIVB': 0.0, 'SJM': 0.0, 'SO': 0.0, 'SPGI': 0.0, 'STT': 0.0, 'SYF': 0.0, 'TEL': 0.0, 'TFC': 0.0, 'TRV': 0.0, 'TSLA': 0.0, 'TXN': 0.0, 'TYL': 0.0, 'UAL': 0.0, 'UNH': 0.0, 'V': 0.0, 'VLO': 0.0, 'WEC': 0.0, 'WELL': 0.0, 'WMB': 0.0, 'WY': 0.0, 'XYL': 0.0, 'ZTS': 0.0}\n",
            "prezzi iniziali\n",
            "{'ACGL': 26.190000534057617, 'AEP': 63.2801399230957, 'AFL': 41.013675689697266, 'APD': 145.88426208496094, 'APTV': 60.35228729248047, 'BAX': 61.47945785522461, 'BIIB': 304.69000244140625, 'BIO': 228.0800018310547, 'CAG': 18.588260650634766, 'CCI': 92.84872436523438, 'CDAY': 33.7599983215332, 'CE': 83.02827453613281, 'CFG': 25.48054313659668, 'CHRW': 74.84416198730469, 'CINF': 68.32860565185547, 'CNC': 56.5, 'CNP': 24.585081100463867, 'COF': 71.74319458007812, 'CSGP': 33.47200012207031, 'CTRA': 19.53957176208496, 'CTSH': 59.51731872558594, 'DD': 71.46926879882812, 'DHI': 33.59330749511719, 'DLR': 93.47411346435547, 'DOV': 66.4674072265625, 'DXCM': 28.795000076293945, 'EA': 79.27983856201172, 'ED': 64.18599700927734, 'EIX': 47.86687088012695, 'EL': 127.22579193115234, 'EOG': 75.7767105102539, 'EQR': 57.64723587036133, 'ESS': 209.00262451171875, 'F': 6.602705001831055, 'FANG': 82.0255355834961, 'FRT': 98.98817443847656, 'GE': 47.54778289794922, 'GIS': 33.31303787231445, 'GOOG': 52.29249954223633, 'GOOGL': 52.73400115966797, 'HAS': 69.9336166381836, 'HBAN': 10.087220191955566, 'IBM': 89.48931121826172, 'ICE': 71.59394836425781, 'IEX': 119.0733413696289, 'ILMN': 294.5199890136719, 'INCY': 63.560001373291016, 'IP': 32.11239242553711, 'IRM': 24.615249633789062, 'JPM': 87.2339859008789, 'KEYS': 61.41999816894531, 'KMB': 98.12295532226562, 'KMI': 12.195344924926758, 'LNC': 44.74101638793945, 'LOW': 85.6073989868164, 'MA': 185.3733367919922, 'MCHP': 33.52494430541992, 'MCO': 135.638671875, 'MDT': 79.883056640625, 'MGM': 24.535112380981445, 'MKC': 63.70409393310547, 'MKTX': 203.05250549316406, 'MNST': 48.7599983215332, 'MO': 36.352195739746094, 'MSI': 108.1644058227539, 'MTB': 127.45280456542969, 'NTRS': 74.89427947998047, 'OMC': 62.426490783691406, 'ORCL': 42.13814926147461, 'OXY': 55.67412567138672, 'PCAR': 33.24282455444336, 'PEAK': 22.39983558654785, 'PG': 81.95574951171875, 'PHM': 24.92904281616211, 'RCL': 94.46607208251953, 'RJF': 46.32025909423828, 'ROK': 139.2114715576172, 'SBUX': 61.352359771728516, 'SIVB': 195.83999633789062, 'SJM': 82.65785217285156, 'SO': 36.609657287597656, 'SPGI': 163.58572387695312, 'STT': 56.475894927978516, 'SYF': 21.690919876098633, 'TEL': 69.74835205078125, 'TFC': 37.85566329956055, 'TRV': 106.89910125732422, 'TSLA': 20.674667358398438, 'TXN': 84.19857788085938, 'TYL': 182.24000549316406, 'UAL': 84.18000030517578, 'UNH': 229.36041259765625, 'V': 129.23057556152344, 'VLO': 61.74772644042969, 'WEC': 61.571800231933594, 'WELL': 57.29282760620117, 'WMB': 17.364606857299805, 'WY': 17.784011840820312, 'XYL': 63.18722915649414, 'ZTS': 82.21170806884766}\n",
            "prezzi finali\n",
            "{'ACGL': 44.54999923706055, 'AEP': 87.84375, 'AFL': 57.90706253051758, 'APD': 295.80999755859375, 'APTV': 166.02999877929688, 'BAX': 86.58631134033203, 'BIIB': 244.13999938964844, 'BIO': 735.4199829101562, 'CAG': 32.5498046875, 'CCI': 207.74000549316406, 'CDAY': 104.94000244140625, 'CE': 166.74525451660156, 'CFG': 48.77002716064453, 'CHRW': 107.9000015258789, 'CINF': 113.11000061035156, 'CNC': 82.6500015258789, 'CNP': 27.44538688659668, 'COF': 147.77493286132812, 'CSGP': 78.83999633789062, 'CTRA': 19.56999969482422, 'CTSH': 89.56999969482422, 'DD': 80.30777740478516, 'DHI': 104.98074340820312, 'DLR': 175.08999633789062, 'DOV': 177.75607299804688, 'DXCM': 130.19749450683594, 'EA': 133.96011352539062, 'ED': 84.3199234008789, 'EIX': 67.51000213623047, 'EL': 369.5320739746094, 'EOG': 90.4947280883789, 'EQR': 91.05999755859375, 'ESS': 353.8599853515625, 'F': 21.658645629882812, 'FANG': 102.66694641113281, 'FRT': 136.72000122070312, 'GE': 75.1288070678711, 'GIS': 66.75916290283203, 'GOOG': 145.07449340820312, 'GOOGL': 144.9915008544922, 'HAS': 102.16999816894531, 'HBAN': 15.107664108276367, 'IBM': 134.4208221435547, 'ICE': 133.9499969482422, 'IEX': 230.14105224609375, 'ILMN': 380.8699951171875, 'INCY': 73.97000122070312, 'IP': 46.3253173828125, 'IRM': 51.31999969482422, 'JPM': 160.73651123046875, 'KEYS': 202.66000366210938, 'KMB': 141.15731811523438, 'KMI': 16.097454071044922, 'LNC': 69.2778549194336, 'LOW': 254.67019653320312, 'MA': 370.4638671875, 'MCHP': 88.0, 'MCO': 382.7479553222656, 'MDT': 106.0999984741211, 'MGM': 45.47999954223633, 'MKC': 95.81999969482422, 'MKTX': 396.8299865722656, 'MNST': 96.54000091552734, 'MO': 47.970001220703125, 'MSI': 267.42999267578125, 'MTB': 152.6815643310547, 'NTRS': 120.69999694824219, 'OMC': 73.88999938964844, 'ORCL': 87.57466888427734, 'OXY': 31.059999465942383, 'PCAR': 58.98666763305664, 'PEAK': 35.80548095703125, 'PG': 157.96267700195312, 'PHM': 56.09000015258789, 'RCL': 80.83000183105469, 'RJF': 101.40607452392578, 'ROK': 338.28826904296875, 'SBUX': 116.68000030517578, 'SIVB': 688.1699829101562, 'SJM': 135.80819702148438, 'SO': 67.47557067871094, 'SPGI': 460.2118835449219, 'STT': 94.44999694824219, 'SYF': 46.764892578125, 'TEL': 160.46240234375, 'TFC': 59.957374572753906, 'TRV': 155.75, 'TSLA': 399.9266662597656, 'TXN': 190.60000610351562, 'TYL': 523.8499755859375, 'UAL': 45.4900016784668, 'UNH': 502.2799987792969, 'V': 221.07032775878906, 'VLO': 76.26654815673828, 'WEC': 95.33015441894531, 'WELL': 84.94094848632812, 'WMB': 26.5, 'WY': 38.986167907714844, 'XYL': 116.50477600097656, 'ZTS': 233.65476989746094}\n",
            "\n",
            "\n",
            "['A', 'AAP', 'AAPL', 'ACN', 'ADP', 'AFL', 'ALB', 'AMD', 'AME', 'ANET', 'APD', 'ARE', 'ATO', 'ATVI', 'BBY', 'BEN', 'BLK', 'BR', 'CBRE', 'CDNS', 'CHD', 'CHRW', 'CMCSA', 'CMS', 'COST', 'CSCO', 'CTSH', 'CVX', 'CZR', 'DD', 'DRI', 'DTE', 'DXC', 'ECL', 'EFX', 'EPAM', 'ETN', 'EVRG', 'EW', 'FDX', 'FITB', 'FTNT', 'GD', 'GE', 'GILD', 'GL', 'GLW', 'GPN', 'GWW', 'HIG', 'HPE', 'HRL', 'HST', 'IDXX', 'IFF', 'INTC', 'IP', 'IQV', 'IRM', 'JNJ', 'JPM', 'K', 'KLAC', 'LEN', 'LH', 'MA', 'MAR', 'MCK', 'MCO', 'MET', 'META', 'MHK', 'MKTX', 'MMC', 'MMM', 'MPC', 'MRNA', 'MTCH', 'MU', 'NCLH', 'NFLX', 'NI', 'NWL', 'NXPI', 'ORLY', 'PCG', 'PRU', 'PXD', 'REGN', 'RHI', 'SJM', 'STX', 'TER', 'TFX', 'TGT', 'TRV', 'TSN', 'VFC', 'WYNN', 'XEL']\n",
            "quantita iniziali\n",
            "{'A': 0.0, 'AAP': 0.0, 'AAPL': 0.0, 'ACN': 0.0, 'ADP': 0.0, 'AFL': 102.5, 'ALB': 0.0, 'AMD': 0.0, 'AME': 0.0, 'ANET': 179.0, 'APD': 0.0, 'ARE': 0.0, 'ATO': 0.0, 'ATVI': 0.0, 'BBY': 0.0, 'BEN': 0.0, 'BLK': 0.0, 'BR': 0.0, 'CBRE': 0.0, 'CDNS': 265.40000000000003, 'CHD': 2212.2, 'CHRW': 0.0, 'CMCSA': 0.0, 'CMS': 0.0, 'COST': 0.0, 'CSCO': 0.0, 'CTSH': 0.0, 'CVX': 0.0, 'CZR': 731.8, 'DD': 0.0, 'DRI': 0.0, 'DTE': 0.0, 'DXC': 0.0, 'ECL': 0.0, 'EFX': 0.0, 'EPAM': 0.0, 'ETN': 0.0, 'EVRG': 0.0, 'EW': 0.0, 'FDX': 0.0, 'FITB': 0.0, 'FTNT': 1700.2, 'GD': 0.0, 'GE': 0.0, 'GILD': 0.0, 'GL': 0.0, 'GLW': 0.0, 'GPN': 0.0, 'GWW': 0.0, 'HIG': 0.0, 'HPE': 0.0, 'HRL': 0.0, 'HST': 0.0, 'IDXX': 0.0, 'IFF': 0.0, 'INTC': 0.0, 'IP': 0.0, 'IQV': 0.0, 'IRM': 0.0, 'JNJ': 0.0, 'JPM': 0.0, 'K': 0.0, 'KLAC': 0.0, 'LEN': 0.0, 'LH': 0.0, 'MA': 785.4, 'MAR': 0.0, 'MCK': 0.0, 'MCO': 0.0, 'MET': 0.0, 'META': 0.0, 'MHK': 0.0, 'MKTX': 724.4000000000001, 'MMC': 0.0, 'MMM': 0.0, 'MPC': 0.0, 'MRNA': 0.0, 'MTCH': 830.5, 'MU': 0.0, 'NCLH': 0.0, 'NFLX': 0.0, 'NI': 0.0, 'NWL': 0.0, 'NXPI': 0.0, 'ORLY': 0.0, 'PCG': 0.0, 'PRU': 0.0, 'PXD': 0.0, 'REGN': 0.0, 'RHI': 0.0, 'SJM': 0.0, 'STX': 0.0, 'TER': 0.0, 'TFX': 572.1, 'TGT': 0.0, 'TRV': 0.0, 'TSN': 0.0, 'VFC': 0.0, 'WYNN': 0.0, 'XEL': 1896.5000000000002}\n",
            "quantita finali\n",
            "{'A': 0.0, 'AAP': 0.0, 'AAPL': 0.0, 'ACN': 0.0, 'ADP': 0.0, 'AFL': 141.09464683284702, 'ALB': 0.0, 'AMD': 0.0, 'AME': 0.0, 'ANET': 483.7038349891167, 'APD': 0.0, 'ARE': 0.0, 'ATO': 0.0, 'ATVI': 0.0, 'BBY': 0.0, 'BEN': 0.0, 'BLK': 0.0, 'BR': 0.0, 'CBRE': 0.0, 'CDNS': 1124.4660070937664, 'CHD': 3621.4846199891067, 'CHRW': 0.0, 'CMCSA': 0.0, 'CMS': 0.0, 'COST': 0.0, 'CSCO': 0.0, 'CTSH': 0.0, 'CVX': 0.0, 'CZR': 1802.4069965265649, 'DD': 0.0, 'DRI': 0.0, 'DTE': 0.0, 'DXC': 0.0, 'ECL': 0.0, 'EFX': 0.0, 'EPAM': 0.0, 'ETN': 0.0, 'EVRG': 0.0, 'EW': 0.0, 'FDX': 0.0, 'FITB': 0.0, 'FTNT': 8128.166388358823, 'GD': 0.0, 'GE': 0.0, 'GILD': 0.0, 'GL': 0.0, 'GLW': 0.0, 'GPN': 0.0, 'GWW': 0.0, 'HIG': 0.0, 'HPE': 0.0, 'HRL': 0.0, 'HST': 0.0, 'IDXX': 0.0, 'IFF': 0.0, 'INTC': 0.0, 'IP': 0.0, 'IQV': 0.0, 'IRM': 0.0, 'JNJ': 0.0, 'JPM': 0.0, 'K': 0.0, 'KLAC': 0.0, 'LEN': 0.0, 'LH': 0.0, 'MA': 1569.6020486269022, 'MAR': 0.0, 'MCK': 0.0, 'MCO': 0.0, 'MET': 0.0, 'META': 0.0, 'MHK': 0.0, 'MKTX': 1415.7106723244344, 'MMC': 0.0, 'MMM': 0.0, 'MPC': 0.0, 'MRNA': 0.0, 'MTCH': 2630.4390901866236, 'MU': 0.0, 'NCLH': 0.0, 'NFLX': 0.0, 'NI': 0.0, 'NWL': 0.0, 'NXPI': 0.0, 'ORLY': 0.0, 'PCG': 0.0, 'PRU': 0.0, 'PXD': 0.0, 'REGN': 0.0, 'RHI': 0.0, 'SJM': 0.0, 'STX': 0.0, 'TER': 0.0, 'TFX': 772.8544383696905, 'TGT': 0.0, 'TRV': 0.0, 'TSN': 0.0, 'VFC': 0.0, 'WYNN': 0.0, 'XEL': 2976.9575292814898}\n",
            "prezzi iniziali\n",
            "{'A': 63.84223937988281, 'AAP': 148.71051025390625, 'AAPL': 38.04703903198242, 'ACN': 132.6175079345703, 'ADP': 119.88690948486328, 'AFL': 42.06732177734375, 'ALB': 74.17398834228516, 'AMD': 18.829999923706055, 'AME': 65.69671630859375, 'ANET': 52.63750076293945, 'APD': 145.88426208496094, 'ARE': 99.9805679321289, 'ATO': 81.24028778076172, 'ATVI': 45.85447692871094, 'BBY': 47.341243743896484, 'BEN': 25.180570602416992, 'BLK': 351.3620300292969, 'BR': 88.75749969482422, 'CBRE': 39.93000030517578, 'CDNS': 43.22999954223633, 'CHD': 61.96341323852539, 'CHRW': 74.84416961669922, 'CMCSA': 31.451839447021484, 'CMS': 42.89973068237305, 'COST': 192.8170623779297, 'CSCO': 37.73624038696289, 'CTSH': 59.51731872558594, 'CVX': 91.51629638671875, 'CZR': 37.95000076293945, 'DD': 71.46926879882812, 'DRI': 89.84027862548828, 'DTE': 80.6864013671875, 'DXC': 52.396484375, 'ECL': 139.00559997558594, 'EFX': 89.52393341064453, 'EPAM': 114.31999969482422, 'ETN': 61.87193298339844, 'EVRG': 48.66401290893555, 'EW': 49.746665954589844, 'FDX': 153.3317108154297, 'FITB': 20.810060501098633, 'FTNT': 13.935999870300293, 'GD': 141.5117645263672, 'GE': 47.54777908325195, 'GILD': 53.84405517578125, 'GL': 73.7015609741211, 'GLW': 26.49085235595703, 'GPN': 100.07087707519531, 'GWW': 258.3541259765625, 'HIG': 39.20661926269531, 'HPE': 11.727642059326172, 'HRL': 37.82556915283203, 'HST': 15.358419418334961, 'IDXX': 182.4600067138672, 'IFF': 121.61846923828125, 'INTC': 44.27648162841797, 'IP': 32.11239242553711, 'IQV': 114.30999755859375, 'IRM': 24.615251541137695, 'JNJ': 114.14421844482422, 'JPM': 87.2339859008789, 'K': 48.58918762207031, 'KLAC': 84.77450561523438, 'LEN': 38.17822265625, 'LH': 124.97916412353516, 'MA': 185.37330627441406, 'MAR': 104.6269760131836, 'MCK': 108.73511505126953, 'MCO': 135.63868713378906, 'MET': 36.82680130004883, 'META': 135.67999267578125, 'MHK': 118.5999984741211, 'MKTX': 203.0525360107422, 'MMC': 73.7968521118164, 'MMM': 163.43014526367188, 'MPC': 50.54256057739258, 'MRNA': 15.329999923706055, 'MTCH': 42.380001068115234, 'MU': 32.41878890991211, 'NCLH': 42.380001068115234, 'NFLX': 267.6600036621094, 'NI': 21.80179786682129, 'NWL': 15.046052932739258, 'NXPI': 70.94361114501953, 'ORLY': 341.1499938964844, 'PCG': 23.799999237060547, 'PRU': 66.99622344970703, 'PXD': 109.55770111083984, 'REGN': 372.44000244140625, 'RHI': 51.83854675292969, 'SJM': 82.6578598022461, 'STX': 32.74945068359375, 'TER': 31.295156478881836, 'TFX': 247.78150939941406, 'TGT': 60.58795166015625, 'TRV': 106.89910125732422, 'TSN': 48.23834991455078, 'VFC': 59.357730865478516, 'WYNN': 100.25052642822266, 'XEL': 43.28184509277344}\n",
            "prezzi finali\n",
            "{'A': 156.47999572753906, 'AAP': 236.77999877929688, 'AAPL': 182.00999450683594, 'ACN': 406.156982421875, 'ADP': 244.00999450683594, 'AFL': 57.90706253051758, 'ALB': 236.6699981689453, 'AMD': 150.24000549316406, 'AME': 143.6699981689453, 'ANET': 142.24000549316406, 'APD': 295.80999755859375, 'ARE': 219.8300018310547, 'ATO': 104.33692169189453, 'ATVI': 67.41999816894531, 'BBY': 102.12000274658203, 'BEN': 33.40999984741211, 'BLK': 911.72998046875, 'BR': 180.9499969482422, 'CBRE': 108.66999816894531, 'CDNS': 183.16000366210938, 'CHD': 101.4372787475586, 'CHRW': 107.9000015258789, 'CMCSA': 50.7400016784668, 'CMS': 62.37952423095703, 'COST': 566.7100219726562, 'CSCO': 63.15999984741211, 'CTSH': 89.56999969482422, 'CVX': 118.02088928222656, 'CZR': 93.47000122070312, 'DD': 80.30777740478516, 'DRI': 147.6698455810547, 'DTE': 119.18000030517578, 'DXC': 33.22999954223633, 'ECL': 229.8300018310547, 'EFX': 283.4775390625, 'EPAM': 642.2000122070312, 'ETN': 168.66000366210938, 'EVRG': 68.16000366210938, 'EW': 128.33999633789062, 'FDX': 258.54998779296875, 'FITB': 44.66999816894531, 'FTNT': 66.6240005493164, 'GD': 206.29510498046875, 'GE': 75.1288070678711, 'GILD': 72.58000183105469, 'GL': 94.74756622314453, 'GLW': 36.9421272277832, 'GPN': 141.6999969482422, 'GWW': 508.45452880859375, 'HIG': 69.13169860839844, 'HPE': 16.139999389648438, 'HRL': 48.87199783325195, 'HST': 17.65999984741211, 'IDXX': 631.010009765625, 'IFF': 149.1199951171875, 'INTC': 53.209999084472656, 'IP': 46.3253173828125, 'IQV': 273.5799865722656, 'IRM': 51.31999969482422, 'JNJ': 170.4458770751953, 'JPM': 160.73651123046875, 'K': 64.10883331298828, 'KLAC': 435.0899963378906, 'LEN': 111.3819351196289, 'LH': 298.17999267578125, 'MA': 370.4638671875, 'MAR': 163.91000366210938, 'MCK': 247.67657470703125, 'MCO': 382.7479553222656, 'MET': 62.79007339477539, 'META': 338.5400085449219, 'MHK': 183.97000122070312, 'MKTX': 396.8299865722656, 'MMC': 166.6588592529297, 'MMM': 176.038330078125, 'MPC': 65.17891693115234, 'MRNA': 235.0500030517578, 'MTCH': 134.22999572753906, 'MU': 95.75, 'NCLH': 22.18000030517578, 'NFLX': 597.3699951171875, 'NI': 27.299652099609375, 'NWL': 22.110000610351562, 'NXPI': 231.22000122070312, 'ORLY': 695.9400024414062, 'PCG': 12.210000038146973, 'PRU': 108.81951141357422, 'PXD': 183.76275634765625, 'REGN': 627.0999755859375, 'RHI': 109.04203033447266, 'SJM': 135.80819702148438, 'STX': 113.16000366210938, 'TER': 166.11000061035156, 'TFX': 334.7300109863281, 'TGT': 230.94911193847656, 'TRV': 155.75, 'TSN': 87.36744689941406, 'VFC': 73.70999908447266, 'WYNN': 87.7699966430664, 'XEL': 67.94000244140625}\n",
            "\n",
            "\n",
            "['A', 'ADI', 'AEE', 'AKAM', 'ALGN', 'AMAT', 'AMT', 'APA', 'APTV', 'ARE', 'AXP', 'AZO', 'BAX', 'BSX', 'CAG', 'CAH', 'CDAY', 'CE', 'CMA', 'CMCSA', 'CMG', 'CMI', 'CMS', 'COST', 'CRM', 'CSX', 'CTAS', 'CVX', 'DLR', 'DPZ', 'EA', 'EBAY', 'EOG', 'EPAM', 'ETR', 'FITB', 'GEN', 'GNRC', 'GOOG', 'GS', 'GWW', 'HCA', 'HON', 'HPQ', 'HST', 'HUM', 'IEX', 'IR', 'JCI', 'JPM', 'KEY', 'KHC', 'LYV', 'MCHP', 'MDT', 'MNST', 'MSI', 'NRG', 'O', 'OKE', 'ORCL', 'PCAR', 'PG', 'PHM', 'PKI', 'PM', 'PSA', 'QRVO', 'RE', 'REGN', 'RJF', 'RL', 'RMD', 'ROK', 'ROL', 'RSG', 'SBNY', 'SCHW', 'SEDG', 'SNPS', 'STE', 'STLD', 'STZ', 'SWK', 'TECH', 'TFC', 'TPR', 'TRMB', 'TSCO', 'TXN', 'TXT', 'UHS', 'URI', 'VRSK', 'VRSN', 'VTRS', 'WBD', 'WM', 'WST', 'ZBH']\n",
            "quantita iniziali\n",
            "{'A': 0.0, 'ADI': 0.0, 'AEE': 242.5, 'AKAM': 0.0, 'ALGN': 0.0, 'AMAT': 0.0, 'AMT': 1409.4, 'APA': 0.0, 'APTV': 0.0, 'ARE': 0.0, 'AXP': 0.0, 'AZO': 0.0, 'BAX': 0.0, 'BSX': 0.0, 'CAG': 0.0, 'CAH': 0.0, 'CDAY': 0.0, 'CE': 0.0, 'CMA': 0.0, 'CMCSA': 0.0, 'CMG': 0.0, 'CMI': 0.0, 'CMS': 0.0, 'COST': 0.0, 'CRM': 0.0, 'CSX': 364.70000000000005, 'CTAS': 0.0, 'CVX': 0.0, 'DLR': 0.0, 'DPZ': 129.1, 'EA': 0.0, 'EBAY': 0.0, 'EOG': 0.0, 'EPAM': 0.0, 'ETR': 0.0, 'FITB': 0.0, 'GEN': 0.0, 'GNRC': 0.0, 'GOOG': 0.0, 'GS': 0.0, 'GWW': 0.0, 'HCA': 753.5, 'HON': 0.0, 'HPQ': 0.0, 'HST': 0.0, 'HUM': 321.3, 'IEX': 0.0, 'IR': 0.0, 'JCI': 0.0, 'JPM': 0.0, 'KEY': 0.0, 'KHC': 0.0, 'LYV': 0.0, 'MCHP': 0.0, 'MDT': 0.0, 'MNST': 0.0, 'MSI': 0.0, 'NRG': 2735.7, 'O': 0.0, 'OKE': 0.0, 'ORCL': 0.0, 'PCAR': 0.0, 'PG': 0.0, 'PHM': 0.0, 'PKI': 0.0, 'PM': 0.0, 'PSA': 0.0, 'QRVO': 0.0, 'RE': 0.0, 'REGN': 0.0, 'RJF': 0.0, 'RL': 0.0, 'RMD': 1272.3999999999999, 'ROK': 0.0, 'ROL': 768.8000000000001, 'RSG': 0.0, 'SBNY': 0.0, 'SCHW': 0.0, 'SEDG': 485.90000000000003, 'SNPS': 0.0, 'STE': 417.4, 'STLD': 0.0, 'STZ': 0.0, 'SWK': 0.0, 'TECH': 0.0, 'TFC': 0.0, 'TPR': 0.0, 'TRMB': 0.0, 'TSCO': 0.0, 'TXN': 0.0, 'TXT': 0.0, 'UHS': 0.0, 'URI': 0.0, 'VRSK': 0.0, 'VRSN': 1099.3999999999999, 'VTRS': 0.0, 'WBD': 0.0, 'WM': 0.0, 'WST': 0.0, 'ZBH': 0.0}\n",
            "quantita finali\n",
            "{'A': 0.0, 'ADI': 0.0, 'AEE': 365.4554138802512, 'AKAM': 0.0, 'ALGN': 0.0, 'AMAT': 0.0, 'AMT': 2723.323063694309, 'APA': 0.0, 'APTV': 0.0, 'ARE': 0.0, 'AXP': 0.0, 'AZO': 0.0, 'BAX': 0.0, 'BSX': 0.0, 'CAG': 0.0, 'CAH': 0.0, 'CDAY': 0.0, 'CE': 0.0, 'CMA': 0.0, 'CMCSA': 0.0, 'CMG': 0.0, 'CMI': 0.0, 'CMS': 0.0, 'COST': 0.0, 'CRM': 0.0, 'CSX': 676.575622066636, 'CTAS': 0.0, 'CVX': 0.0, 'DLR': 0.0, 'DPZ': 301.4290575401879, 'EA': 0.0, 'EBAY': 0.0, 'EOG': 0.0, 'EPAM': 0.0, 'ETR': 0.0, 'FITB': 0.0, 'GEN': 0.0, 'GNRC': 0.0, 'GOOG': 0.0, 'GS': 0.0, 'GWW': 0.0, 'HCA': 1631.294693379614, 'HON': 0.0, 'HPQ': 0.0, 'HST': 0.0, 'HUM': 542.4279190471009, 'IEX': 0.0, 'IR': 0.0, 'JCI': 0.0, 'JPM': 0.0, 'KEY': 0.0, 'KHC': 0.0, 'LYV': 0.0, 'MCHP': 0.0, 'MDT': 0.0, 'MNST': 0.0, 'MSI': 0.0, 'NRG': 3439.4034076995995, 'O': 0.0, 'OKE': 0.0, 'ORCL': 0.0, 'PCAR': 0.0, 'PG': 0.0, 'PHM': 0.0, 'PKI': 0.0, 'PM': 0.0, 'PSA': 0.0, 'QRVO': 0.0, 'RE': 0.0, 'REGN': 0.0, 'RJF': 0.0, 'RL': 0.0, 'RMD': 3039.1507664837063, 'ROK': 0.0, 'ROL': 1113.2874776290212, 'RSG': 0.0, 'SBNY': 0.0, 'SCHW': 0.0, 'SEDG': 3796.4717880619714, 'SNPS': 0.0, 'STE': 999.2148758983915, 'STLD': 0.0, 'STZ': 0.0, 'SWK': 0.0, 'TECH': 0.0, 'TFC': 0.0, 'TPR': 0.0, 'TRMB': 0.0, 'TSCO': 0.0, 'TXN': 0.0, 'TXT': 0.0, 'UHS': 0.0, 'URI': 0.0, 'VRSK': 0.0, 'VRSN': 1875.8104018351025, 'VTRS': 0.0, 'WBD': 0.0, 'WM': 0.0, 'WST': 0.0, 'ZBH': 0.0}\n",
            "prezzi iniziali\n",
            "{'A': 64.26227569580078, 'ADI': 81.78874969482422, 'AEE': 58.77775955200195, 'AKAM': 59.0099983215332, 'ALGN': 202.1199951171875, 'AMAT': 31.840408325195312, 'AMT': 148.21009826660156, 'APA': 25.0228271484375, 'APTV': 60.35228729248047, 'ARE': 103.10299682617188, 'AXP': 91.34648895263672, 'AZO': 838.47998046875, 'BAX': 62.796810150146484, 'BSX': 34.459999084472656, 'CAG': 18.5882625579834, 'CAH': 40.19853591918945, 'CDAY': 33.7599983215332, 'CE': 85.03978729248047, 'CMA': 60.58652114868164, 'CMCSA': 32.68009567260742, 'CMG': 443.3599853515625, 'CMI': 118.92050170898438, 'CMS': 44.18773651123047, 'COST': 194.75961303710938, 'CRM': 135.5500030517578, 'CSX': 19.987531661987305, 'CTAS': 160.5909881591797, 'CVX': 94.65721130371094, 'DLR': 93.47411346435547, 'DPZ': 236.94032287597656, 'EA': 80.06830596923828, 'EBAY': 27.844934463500977, 'EOG': 75.77672576904297, 'EPAM': 114.31999969482422, 'ETR': 74.71674346923828, 'FITB': 21.860998153686523, 'GEN': 18.940000534057617, 'GNRC': 50.9900016784668, 'GOOG': 52.29249954223633, 'GS': 160.8035888671875, 'GWW': 261.5401611328125, 'HCA': 117.3603286743164, 'HON': 123.45482635498047, 'HPQ': 18.737422943115234, 'HST': 14.860939979553223, 'HUM': 275.7031555175781, 'IEX': 120.52173614501953, 'IR': 18.76026153564453, 'JCI': 28.425704956054688, 'JPM': 90.1119155883789, 'KEY': 13.099259376525879, 'KHC': 38.1847038269043, 'LYV': 48.310001373291016, 'MCHP': 33.21294403076172, 'MDT': 82.35047149658203, 'MNST': 48.7599983215332, 'MSI': 109.68832397460938, 'NRG': 33.87062454223633, 'O': 50.23440170288086, 'OKE': 39.956787109375, 'ORCL': 42.87077331542969, 'PCAR': 34.31721115112305, 'PG': 84.06419372558594, 'PHM': 25.28008270263672, 'PKI': 76.29217529296875, 'PM': 56.64529037475586, 'PSA': 176.42019653320312, 'QRVO': 61.18000030517578, 'RE': 198.17286682128906, 'REGN': 372.44000244140625, 'RJF': 45.97819900512695, 'RL': 100.1009750366211, 'RMD': 108.45964813232422, 'ROK': 139.21148681640625, 'ROL': 23.12676239013672, 'RSG': 66.88887786865234, 'SBNY': 99.66227722167969, 'SCHW': 39.67640686035156, 'SEDG': 36.150001525878906, 'SNPS': 84.05000305175781, 'STE': 101.13458251953125, 'STLD': 28.183807373046875, 'STZ': 156.17442321777344, 'SWK': 110.94886016845703, 'TECH': 33.64956283569336, 'TFC': 39.516441345214844, 'TPR': 31.67054557800293, 'TRMB': 32.470001220703125, 'TSCO': 79.63890838623047, 'TXN': 87.73341369628906, 'TXT': 45.80577850341797, 'UHS': 115.91934967041016, 'URI': 105.62000274658203, 'VRSK': 106.85496520996094, 'VRSN': 147.75999450683594, 'VTRS': 27.72300148010254, 'WBD': 25.829999923706055, 'WM': 84.09362030029297, 'WST': 95.38622283935547, 'ZBH': 97.10166931152344}\n",
            "prezzi finali\n",
            "{'A': 156.47999572753906, 'ADI': 177.14999389648438, 'AEE': 88.58000183105469, 'AKAM': 117.51000213623047, 'ALGN': 648.0499877929688, 'AMAT': 159.92999267578125, 'AMT': 286.3800048828125, 'APA': 27.951675415039062, 'APTV': 166.02999877929688, 'ARE': 219.8300018310547, 'AXP': 167.7888946533203, 'AZO': 2045.1099853515625, 'BAX': 86.58631134033203, 'BSX': 43.119998931884766, 'CAG': 33.75907516479492, 'CAH': 52.0099983215332, 'CDAY': 104.94000244140625, 'CE': 166.74525451660156, 'CMA': 88.61000061035156, 'CMCSA': 50.7400016784668, 'CMG': 1690.6700439453125, 'CMI': 218.1045379638672, 'CMS': 64.25077819824219, 'COST': 566.7100219726562, 'CRM': 255.4600067138672, 'CSX': 37.08000183105469, 'CTAS': 424.0899963378906, 'CVX': 118.02088928222656, 'DLR': 175.08999633789062, 'DPZ': 553.219970703125, 'EA': 134.9499969482422, 'EBAY': 66.80000305175781, 'EOG': 90.4947280883789, 'EPAM': 642.2000122070312, 'ETR': 110.39063262939453, 'FITB': 44.66999816894531, 'GEN': 26.329999923706055, 'GNRC': 347.9100036621094, 'GOOG': 145.07449340820312, 'GS': 393.0133056640625, 'GWW': 508.45452880859375, 'HCA': 254.0800018310547, 'HON': 205.6675567626953, 'HPQ': 38.02000045776367, 'HST': 17.65999984741211, 'HUM': 465.45001220703125, 'IEX': 230.14105224609375, 'IR': 59.630001068115234, 'JCI': 79.3499984741211, 'JPM': 155.60302734375, 'KEY': 23.398256301879883, 'KHC': 36.13999938964844, 'LYV': 121.13999938964844, 'MCHP': 88.0, 'MDT': 106.0999984741211, 'MNST': 96.54000091552734, 'MSI': 267.42999267578125, 'NRG': 42.58315658569336, 'O': 70.68795776367188, 'OKE': 59.05780029296875, 'ORCL': 87.57466888427734, 'PCAR': 58.98666763305664, 'PG': 162.02536010742188, 'PHM': 56.09000015258789, 'PKI': 192.1239013671875, 'PM': 95.7300033569336, 'PSA': 365.2799987792969, 'QRVO': 159.42999267578125, 'RE': 266.6205749511719, 'REGN': 627.0999755859375, 'RJF': 102.86000061035156, 'RL': 120.91999816894531, 'RMD': 259.057861328125, 'ROK': 338.28826904296875, 'ROL': 33.48950958251953, 'RSG': 135.41000366210938, 'SBNY': 327.3399963378906, 'SCHW': 85.57853698730469, 'SEDG': 282.45001220703125, 'SNPS': 361.1000061035156, 'STE': 242.1063232421875, 'STLD': 61.65999984741211, 'STZ': 252.0113983154297, 'SWK': 185.92999267578125, 'TECH': 121.94750213623047, 'TFC': 59.957374572753906, 'TPR': 40.56326675415039, 'TRMB': 86.68000030517578, 'TSCO': 235.72000122070312, 'TXN': 190.60000610351562, 'TXT': 76.33999633789062, 'UHS': 131.83767700195312, 'URI': 330.6400146484375, 'VRSK': 221.66000366210938, 'VRSN': 252.11000061035156, 'VTRS': 14.210000038146973, 'WBD': 25.329999923706055, 'WM': 162.74000549316406, 'WST': 445.7086486816406, 'ZBH': 125.36893463134766}\n",
            "\n",
            "\n",
            "['AAL', 'ABBV', 'ABT', 'ADP', 'AEP', 'AMAT', 'AMP', 'ANET', 'APA', 'ARE', 'AVGO', 'AVY', 'CB', 'CDNS', 'CF', 'CHD', 'CHRW', 'CI', 'CINF', 'CMI', 'COP', 'CSCO', 'CSGP', 'CSX', 'CTAS', 'CVS', 'CVX', 'DG', 'DIS', 'DLR', 'DTE', 'DUK', 'EIX', 'EQR', 'EVRG', 'FCX', 'FDS', 'FRT', 'GIS', 'GNRC', 'GOOGL', 'GRMN', 'HES', 'HLT', 'HRL', 'HUM', 'IBM', 'INCY', 'IP', 'IT', 'JKHY', 'KEY', 'KLAC', 'KMI', 'KMX', 'LDOS', 'MAA', 'MET', 'MPWR', 'NTRS', 'NWSA', 'NXPI', 'OKE', 'ORLY', 'PAYX', 'PFE', 'PHM', 'PKI', 'PLD', 'PM', 'PNC', 'PPL', 'PWR', 'RJF', 'RSG', 'SBAC', 'SEDG', 'SEE', 'SJM', 'STLD', 'SYK', 'TJX', 'TSLA', 'TT', 'TYL', 'UAL', 'URI', 'VICI', 'VMC', 'VRTX', 'VTR', 'VTRS', 'WAB', 'WBA', 'WMB', 'WRB', 'WYNN', 'XRAY', 'XYL', 'ZION']\n",
            "quantita iniziali\n",
            "{'AAL': 0.0, 'ABBV': 0.0, 'ABT': 3308.0, 'ADP': 0.0, 'AEP': 1302.5, 'AMAT': 0.0, 'AMP': 0.0, 'ANET': 19.8, 'APA': 0.0, 'ARE': 0.0, 'AVGO': 0.0, 'AVY': 0.0, 'CB': 0.0, 'CDNS': 0.0, 'CF': 0.0, 'CHD': 1504.3000000000002, 'CHRW': 0.0, 'CI': 0.0, 'CINF': 0.0, 'CMI': 0.0, 'COP': 0.0, 'CSCO': 0.0, 'CSGP': 1258.7, 'CSX': 501.3, 'CTAS': 0.0, 'CVS': 0.0, 'CVX': 0.0, 'DG': 0.0, 'DIS': 0.0, 'DLR': 0.0, 'DTE': 0.0, 'DUK': 0.0, 'EIX': 0.0, 'EQR': 0.0, 'EVRG': 0.0, 'FCX': 0.0, 'FDS': 0.0, 'FRT': 0.0, 'GIS': 0.0, 'GNRC': 0.0, 'GOOGL': 0.0, 'GRMN': 0.0, 'HES': 0.0, 'HLT': 0.0, 'HRL': 0.0, 'HUM': 0.0, 'IBM': 0.0, 'INCY': 0.0, 'IP': 0.0, 'IT': 0.0, 'JKHY': 0.0, 'KEY': 0.0, 'KLAC': 0.0, 'KMI': 0.0, 'KMX': 0.0, 'LDOS': 0.0, 'MAA': 0.0, 'MET': 0.0, 'MPWR': 0.0, 'NTRS': 0.0, 'NWSA': 0.0, 'NXPI': 0.0, 'OKE': 0.0, 'ORLY': 0.0, 'PAYX': 0.0, 'PFE': 0.0, 'PHM': 0.0, 'PKI': 0.0, 'PLD': 0.0, 'PM': 0.0, 'PNC': 0.0, 'PPL': 0.0, 'PWR': 0.0, 'RJF': 0.0, 'RSG': 0.0, 'SBAC': 922.7, 'SEDG': 547.9, 'SEE': 0.0, 'SJM': 0.0, 'STLD': 0.0, 'SYK': 0.0, 'TJX': 0.0, 'TSLA': 0.0, 'TT': 0.0, 'TYL': 0.0, 'UAL': 0.0, 'URI': 0.0, 'VICI': 0.0, 'VMC': 0.0, 'VRTX': 634.8, 'VTR': 0.0, 'VTRS': 0.0, 'WAB': 0.0, 'WBA': 0.0, 'WMB': 0.0, 'WRB': 0.0, 'WYNN': 0.0, 'XRAY': 0.0, 'XYL': 0.0, 'ZION': 0.0}\n",
            "quantita finali\n",
            "{'AAL': 0.0, 'ABBV': 0.0, 'ABT': 6939.360824823247, 'ADP': 0.0, 'AEP': 1747.2127973619374, 'AMAT': 0.0, 'AMP': 0.0, 'ANET': 53.504670015555924, 'APA': 0.0, 'ARE': 0.0, 'AVGO': 0.0, 'AVY': 0.0, 'CB': 0.0, 'CDNS': 0.0, 'CF': 0.0, 'CHD': 2462.6160897973123, 'CHRW': 0.0, 'CI': 0.0, 'CINF': 0.0, 'CMI': 0.0, 'COP': 0.0, 'CSCO': 0.0, 'CSGP': 2964.7437568294617, 'CSX': 929.9900173896482, 'CTAS': 0.0, 'CVS': 0.0, 'CVX': 0.0, 'DG': 0.0, 'DIS': 0.0, 'DLR': 0.0, 'DTE': 0.0, 'DUK': 0.0, 'EIX': 0.0, 'EQR': 0.0, 'EVRG': 0.0, 'FCX': 0.0, 'FDS': 0.0, 'FRT': 0.0, 'GIS': 0.0, 'GNRC': 0.0, 'GOOGL': 0.0, 'GRMN': 0.0, 'HES': 0.0, 'HLT': 0.0, 'HRL': 0.0, 'HUM': 0.0, 'IBM': 0.0, 'INCY': 0.0, 'IP': 0.0, 'IT': 0.0, 'JKHY': 0.0, 'KEY': 0.0, 'KLAC': 0.0, 'KMI': 0.0, 'KMX': 0.0, 'LDOS': 0.0, 'MAA': 0.0, 'MET': 0.0, 'MPWR': 0.0, 'NTRS': 0.0, 'NWSA': 0.0, 'NXPI': 0.0, 'OKE': 0.0, 'ORLY': 0.0, 'PAYX': 0.0, 'PFE': 0.0, 'PHM': 0.0, 'PKI': 0.0, 'PLD': 0.0, 'PM': 0.0, 'PNC': 0.0, 'PPL': 0.0, 'PWR': 0.0, 'RJF': 0.0, 'RSG': 0.0, 'SBAC': 2190.738480029807, 'SEDG': 4280.895025065145, 'SEE': 0.0, 'SJM': 0.0, 'STLD': 0.0, 'SYK': 0.0, 'TJX': 0.0, 'TSLA': 0.0, 'TT': 0.0, 'TYL': 0.0, 'UAL': 0.0, 'URI': 0.0, 'VICI': 0.0, 'VMC': 0.0, 'VRTX': 860.9339447140451, 'VTR': 0.0, 'VTRS': 0.0, 'WAB': 0.0, 'WBA': 0.0, 'WMB': 0.0, 'WRB': 0.0, 'WYNN': 0.0, 'XRAY': 0.0, 'XYL': 0.0, 'ZION': 0.0}\n",
            "prezzi iniziali\n",
            "{'AAL': 31.963159561157227, 'ABBV': 74.48151397705078, 'ABT': 66.04753112792969, 'ADP': 123.27252960205078, 'AEP': 65.48514556884766, 'AMAT': 32.32191467285156, 'AMP': 100.22479248046875, 'ANET': 52.63750076293945, 'APA': 25.47614860534668, 'ARE': 103.10299682617188, 'AVGO': 229.86256408691406, 'AVY': 85.12303161621094, 'CB': 119.50596618652344, 'CDNS': 43.22999954223633, 'CF': 38.31568908691406, 'CHD': 61.96341323852539, 'CHRW': 78.20926666259766, 'CI': 183.77671813964844, 'CINF': 70.79325866699219, 'CMI': 118.92052459716797, 'COP': 57.36204528808594, 'CSCO': 39.49673843383789, 'CSGP': 33.47200012207031, 'CSX': 19.987531661987305, 'CTAS': 163.4420928955078, 'CVS': 59.621131896972656, 'CVX': 91.51628875732422, 'DG': 104.8445053100586, 'DIS': 107.65434265136719, 'DLR': 93.47411346435547, 'DTE': 83.0799789428711, 'DUK': 74.06322479248047, 'EIX': 50.0282096862793, 'EQR': 57.64723587036133, 'EVRG': 50.46123123168945, 'FCX': 10.054276466369629, 'FDS': 193.22787475585938, 'FRT': 103.2861557006836, 'GIS': 34.2496452331543, 'GNRC': 50.9900016784668, 'GOOGL': 52.73400115966797, 'GRMN': 58.80817794799805, 'HES': 40.07583999633789, 'HLT': 70.37126922607422, 'HRL': 37.8255729675293, 'HUM': 273.8811340332031, 'IBM': 93.36942291259766, 'INCY': 63.560001373291016, 'IP': 32.11238479614258, 'IT': 125.8499984741211, 'JKHY': 120.78461456298828, 'KEY': 13.099259376525879, 'KLAC': 86.65351104736328, 'KMI': 12.963479995727539, 'KMX': 62.970001220703125, 'LDOS': 49.72120666503906, 'MAA': 83.31847381591797, 'MET': 36.82680130004883, 'MPWR': 112.84547424316406, 'NTRS': 78.0547866821289, 'NWSA': 10.998435020446777, 'NXPI': 72.75749206542969, 'OKE': 42.397377014160156, 'ORLY': 341.1499938964844, 'PAYX': 57.7025032043457, 'PFE': 36.26567840576172, 'PHM': 25.28008270263672, 'PKI': 76.29217529296875, 'PLD': 53.05525207519531, 'PM': 56.64529037475586, 'PNC': 107.05192565917969, 'PPL': 23.823532104492188, 'PWR': 29.577064514160156, 'RJF': 45.97819900512695, 'RSG': 67.8564224243164, 'SBAC': 158.57525634765625, 'SEDG': 36.150001525878906, 'SEE': 33.713905334472656, 'SJM': 85.02383422851562, 'STLD': 28.183807373046875, 'SYK': 147.67086791992188, 'TJX': 42.964019775390625, 'TSLA': 20.674667358398438, 'TT': 66.1192398071289, 'TYL': 182.24000549316406, 'UAL': 84.18000030517578, 'URI': 105.62000274658203, 'VICI': 15.764037132263184, 'VMC': 93.69401550292969, 'VRTX': 164.0800018310547, 'VTR': 49.4179573059082, 'VTRS': 27.72300148010254, 'WAB': 69.400146484375, 'WBA': 62.03926086425781, 'WMB': 18.25619125366211, 'WRB': 29.474050521850586, 'WYNN': 100.25052642822266, 'XRAY': 37.14725112915039, 'XYL': 63.99513244628906, 'ZION': 38.495025634765625}\n",
            "prezzi finali\n",
            "{'AAL': 18.75, 'ABBV': 134.02920532226562, 'ABT': 138.55128479003906, 'ADP': 244.00999450683594, 'AEP': 87.84375, 'AMAT': 159.92999267578125, 'AMP': 303.1827697753906, 'ANET': 142.24000549316406, 'APA': 27.951675415039062, 'ARE': 219.8300018310547, 'AVGO': 663.3200073242188, 'AVY': 209.99642944335938, 'CB': 191.44000244140625, 'CDNS': 183.16000366210938, 'CF': 70.31404113769531, 'CHD': 101.4372787475586, 'CHRW': 107.9000015258789, 'CI': 234.1999969482422, 'CINF': 113.11000061035156, 'CMI': 218.1045379638672, 'COP': 73.40078735351562, 'CSCO': 63.15999984741211, 'CSGP': 78.83999633789062, 'CSX': 37.08000183105469, 'CTAS': 424.0899963378906, 'CVS': 103.60623168945312, 'CVX': 118.02088928222656, 'DG': 235.47999572753906, 'DIS': 156.75999450683594, 'DLR': 175.08999633789062, 'DTE': 119.18000030517578, 'DUK': 98.57923889160156, 'EIX': 64.5963134765625, 'EQR': 91.05999755859375, 'EVRG': 68.16000366210938, 'FCX': 41.411094665527344, 'FDS': 475.02630615234375, 'FRT': 136.72000122070312, 'GIS': 66.75916290283203, 'GNRC': 347.9100036621094, 'GOOGL': 144.9915008544922, 'GRMN': 133.5500030517578, 'HES': 76.79000091552734, 'HLT': 154.47999572753906, 'HRL': 48.87199783325195, 'HUM': 465.45001220703125, 'IBM': 134.4208221435547, 'INCY': 73.97000122070312, 'IP': 46.3253173828125, 'IT': 321.9599914550781, 'JKHY': 171.5, 'KEY': 23.398256301879883, 'KLAC': 435.0899963378906, 'KMI': 16.097454071044922, 'KMX': 127.01000213623047, 'LDOS': 90.26000213623047, 'MAA': 224.99534606933594, 'MET': 62.79007339477539, 'MPWR': 494.8500061035156, 'NTRS': 120.69999694824219, 'NWSA': 22.770000457763672, 'NXPI': 231.22000122070312, 'OKE': 59.05780029296875, 'ORLY': 695.9400024414062, 'PAYX': 134.50999450683594, 'PFE': 56.2225341796875, 'PHM': 56.09000015258789, 'PKI': 192.1239013671875, 'PLD': 164.89999389648438, 'PM': 95.7300033569336, 'PNC': 207.0706329345703, 'PPL': 30.139999389648438, 'PWR': 112.2699966430664, 'RJF': 102.86000061035156, 'RSG': 135.41000366210938, 'SBAC': 376.5003967285156, 'SEDG': 282.45001220703125, 'SEE': 65.65585327148438, 'SJM': 135.80819702148438, 'STLD': 61.65999984741211, 'SYK': 268.4200134277344, 'TJX': 73.94208526611328, 'TSLA': 399.9266662597656, 'TT': 190.72061157226562, 'TYL': 523.8499755859375, 'UAL': 45.4900016784668, 'URI': 330.6400146484375, 'VICI': 29.950000762939453, 'VMC': 207.44674682617188, 'VRTX': 222.52999877929688, 'VTR': 51.93000030517578, 'VTRS': 14.210000038146973, 'WAB': 92.13858795166016, 'WBA': 53.060001373291016, 'WMB': 26.5, 'WRB': 54.17333221435547, 'WYNN': 87.7699966430664, 'XRAY': 56.88999938964844, 'XYL': 116.50477600097656, 'ZION': 64.23999786376953}\n",
            "\n",
            "\n",
            "['ABT', 'ACN', 'ALGN', 'APA', 'APH', 'ARE', 'AVGO', 'BAX', 'BDX', 'BIIB', 'BSX', 'BXP', 'C', 'CAG', 'CE', 'CF', 'CHRW', 'CLX', 'COF', 'CPB', 'CPRT', 'CRL', 'DG', 'DISH', 'DOV', 'DPZ', 'EFX', 'ENPH', 'ETR', 'ETSY', 'EW', 'EXR', 'FIS', 'FISV', 'FMC', 'GM', 'GPC', 'HBAN', 'HCA', 'HSIC', 'IFF', 'ILMN', 'INCY', 'JBHT', 'K', 'KEY', 'KIM', 'KO', 'LIN', 'LUMN', 'MA', 'MRNA', 'MRO', 'MSFT', 'MSI', 'MTD', 'NEE', 'NTAP', 'NTRS', 'NUE', 'NVR', 'ON', 'PARA', 'PCG', 'PG', 'PKG', 'PTC', 'PYPL', 'RL', 'RMD', 'ROL', 'ROST', 'SEDG', 'SLB', 'SNA', 'SO', 'SWK', 'SYY', 'T', 'TECH', 'TFX', 'TRV', 'TSN', 'TT', 'TTWO', 'UHS', 'UNH', 'UNP', 'URI', 'VFC', 'VICI', 'VTR', 'WBA', 'WBD', 'WM', 'WY', 'XEL', 'XOM', 'XRAY', 'YUM']\n",
            "quantita iniziali\n",
            "{'ABT': 2831.0, 'ACN': 0.0, 'ALGN': 0.0, 'APA': 0.0, 'APH': 0.0, 'ARE': 0.0, 'AVGO': 0.0, 'BAX': 0.0, 'BDX': 0.0, 'BIIB': 0.0, 'BSX': 0.0, 'BXP': 0.0, 'C': 0.0, 'CAG': 0.0, 'CE': 0.0, 'CF': 0.0, 'CHRW': 0.0, 'CLX': 0.0, 'COF': 0.0, 'CPB': 0.0, 'CPRT': 0.0, 'CRL': 0.0, 'DG': 0.0, 'DISH': 0.0, 'DOV': 0.0, 'DPZ': 213.79999999999998, 'EFX': 0.0, 'ENPH': 407.7, 'ETR': 0.0, 'ETSY': 1077.8, 'EW': 0.0, 'EXR': 0.0, 'FIS': 0.0, 'FISV': 0.0, 'FMC': 0.0, 'GM': 0.0, 'GPC': 0.0, 'HBAN': 0.0, 'HCA': 322.1, 'HSIC': 0.0, 'IFF': 0.0, 'ILMN': 134.6, 'INCY': 0.0, 'JBHT': 0.0, 'K': 0.0, 'KEY': 0.0, 'KIM': 0.0, 'KO': 0.0, 'LIN': 0.0, 'LUMN': 0.0, 'MA': 0.0, 'MRNA': 0.0, 'MRO': 0.0, 'MSFT': 0.0, 'MSI': 0.0, 'MTD': 0.0, 'NEE': 3564.5, 'NTAP': 0.0, 'NTRS': 0.0, 'NUE': 0.0, 'NVR': 116.9, 'ON': 0.0, 'PARA': 0.0, 'PCG': 0.0, 'PG': 0.0, 'PKG': 0.0, 'PTC': 0.0, 'PYPL': 0.0, 'RL': 0.0, 'RMD': 381.09999999999997, 'ROL': 0.0, 'ROST': 0.0, 'SEDG': 415.90000000000003, 'SLB': 0.0, 'SNA': 0.0, 'SO': 0.0, 'SWK': 0.0, 'SYY': 0.0, 'T': 0.0, 'TECH': 0.0, 'TFX': 0.0, 'TRV': 0.0, 'TSN': 0.0, 'TT': 0.0, 'TTWO': 124.39999999999999, 'UHS': 0.0, 'UNH': 0.0, 'UNP': 0.0, 'URI': 0.0, 'VFC': 0.0, 'VICI': 0.0, 'VTR': 0.0, 'WBA': 0.0, 'WBD': 0.0, 'WM': 0.0, 'WY': 0.0, 'XEL': 0.0, 'XOM': 0.0, 'XRAY': 0.0, 'YUM': 410.09999999999997}\n",
            "quantita finali\n",
            "{'ABT': 5938.731608312418, 'ACN': 0.0, 'ALGN': 0.0, 'APA': 0.0, 'APH': 0.0, 'ARE': 0.0, 'AVGO': 0.0, 'BAX': 0.0, 'BDX': 0.0, 'BIIB': 0.0, 'BSX': 0.0, 'BXP': 0.0, 'C': 0.0, 'CAG': 0.0, 'CE': 0.0, 'CF': 0.0, 'CHRW': 0.0, 'CLX': 0.0, 'COF': 0.0, 'CPB': 0.0, 'CPRT': 0.0, 'CRL': 0.0, 'DG': 0.0, 'DISH': 0.0, 'DOV': 0.0, 'DPZ': 493.2688301952309, 'EFX': 0.0, 'ENPH': 15284.606217413704, 'ETR': 0.0, 'ETSY': 4814.09672565866, 'EW': 0.0, 'EXR': 0.0, 'FIS': 0.0, 'FISV': 0.0, 'FMC': 0.0, 'GM': 0.0, 'GPC': 0.0, 'HBAN': 0.0, 'HCA': 683.2201115380113, 'HSIC': 0.0, 'IFF': 0.0, 'ILMN': 174.0632325651542, 'INCY': 0.0, 'JBHT': 0.0, 'K': 0.0, 'KEY': 0.0, 'KIM': 0.0, 'KO': 0.0, 'LIN': 0.0, 'LUMN': 0.0, 'MA': 0.0, 'MRNA': 0.0, 'MRO': 0.0, 'MSFT': 0.0, 'MSI': 0.0, 'MTD': 0.0, 'NEE': 8023.561616140411, 'NTAP': 0.0, 'NTRS': 0.0, 'NUE': 0.0, 'NVR': 278.00266959025197, 'ON': 0.0, 'PARA': 0.0, 'PCG': 0.0, 'PG': 0.0, 'PKG': 0.0, 'PTC': 0.0, 'PYPL': 0.0, 'RL': 0.0, 'RMD': 902.9713459523805, 'ROL': 0.0, 'ROST': 0.0, 'SEDG': 3249.542326929356, 'SLB': 0.0, 'SNA': 0.0, 'SO': 0.0, 'SWK': 0.0, 'SYY': 0.0, 'T': 0.0, 'TECH': 0.0, 'TFX': 0.0, 'TRV': 0.0, 'TSN': 0.0, 'TT': 0.0, 'TTWO': 213.62449398689145, 'UHS': 0.0, 'UNH': 0.0, 'UNP': 0.0, 'URI': 0.0, 'VFC': 0.0, 'VICI': 0.0, 'VTR': 0.0, 'WBA': 0.0, 'WBD': 0.0, 'WM': 0.0, 'WY': 0.0, 'XEL': 0.0, 'XOM': 0.0, 'XRAY': 0.0, 'YUM': 633.023479532205}\n",
            "prezzi iniziali\n",
            "{'ABT': 64.89285278320312, 'ACN': 134.62754821777344, 'ALGN': 202.1199951171875, 'APA': 25.47614860534668, 'APH': 38.5795783996582, 'ARE': 103.10299682617188, 'AVGO': 229.86256408691406, 'BAX': 62.796810150146484, 'BDX': 206.21917724609375, 'BIIB': 304.69000244140625, 'BSX': 34.459999084472656, 'BXP': 97.93209838867188, 'C': 48.16938018798828, 'CAG': 19.279685974121094, 'CE': 85.03978729248047, 'CF': 38.31568908691406, 'CHRW': 78.20926666259766, 'CLX': 139.6090545654297, 'COF': 73.59353637695312, 'CPB': 28.18126678466797, 'CPRT': 23.84000015258789, 'CRL': 111.08999633789062, 'DG': 104.8445053100586, 'DISH': 25.8799991607666, 'DOV': 67.456787109375, 'DPZ': 236.94032287597656, 'EFX': 90.2308578491211, 'ENPH': 4.920000076293945, 'ETR': 74.71674346923828, 'ETSY': 47.0, 'EW': 49.746665954589844, 'EXR': 79.47898864746094, 'FIS': 98.1015625, 'FISV': 72.20999908447266, 'FMC': 61.53533935546875, 'GM': 31.893360137939453, 'GPC': 85.91089630126953, 'HBAN': 10.763242721557617, 'HCA': 118.56621551513672, 'HSIC': 59.913726806640625, 'IFF': 125.21749114990234, 'ILMN': 294.5199890136719, 'INCY': 63.560001373291016, 'JBHT': 91.1193618774414, 'K': 50.23929214477539, 'KEY': 13.099259376525879, 'KIM': 12.709395408630371, 'KO': 42.63923645019531, 'LIN': 149.48851013183594, 'LUMN': 13.870148658752441, 'MA': 185.3733367919922, 'MRNA': 15.329999923706055, 'MRO': 14.108701705932617, 'MSFT': 98.14884948730469, 'MSI': 109.68832397460938, 'MTD': 546.0399780273438, 'NEE': 39.613983154296875, 'NTAP': 55.09035873413086, 'NTRS': 78.0547866821289, 'NUE': 47.9292106628418, 'NVR': 2420.820068359375, 'ON': 16.780000686645508, 'PARA': 45.65999984741211, 'PCG': 23.799999237060547, 'PG': 84.06419372558594, 'PKG': 77.18315887451172, 'PTC': 81.91999816894531, 'PYPL': 85.75, 'RL': 100.1009750366211, 'RMD': 108.45964813232422, 'ROL': 23.12676239013672, 'ROST': 82.29998016357422, 'SEDG': 36.150001525878906, 'SLB': 33.33763885498047, 'SNA': 132.0314483642578, 'SO': 38.06173324584961, 'SWK': 110.9488754272461, 'SYY': 57.073753356933594, 'T': 16.254467010498047, 'TECH': 33.64956283569336, 'TFX': 249.4222412109375, 'TRV': 109.18746185302734, 'TSN': 49.31455612182617, 'TT': 67.25924682617188, 'TTWO': 104.01000213623047, 'UHS': 115.91934967041016, 'UNH': 232.29779052734375, 'UNP': 128.8439483642578, 'URI': 105.62000274658203, 'VFC': 62.3684196472168, 'VICI': 15.764037132263184, 'VTR': 49.4179573059082, 'WBA': 62.03926086425781, 'WBD': 25.829999923706055, 'WM': 84.09362030029297, 'WY': 18.661184310913086, 'XEL': 45.1014404296875, 'XOM': 57.382545471191406, 'XRAY': 37.14725112915039, 'YUM': 86.38433837890625}\n",
            "prezzi finali\n",
            "{'ABT': 136.12901306152344, 'ACN': 400.0928955078125, 'ALGN': 648.0499877929688, 'APA': 27.454803466796875, 'APH': 85.53012084960938, 'ARE': 213.17257690429688, 'AVGO': 642.6514282226562, 'BAX': 84.76988983154297, 'BDX': 243.6656494140625, 'BIIB': 244.13999938964844, 'BSX': 43.119998931884766, 'BXP': 119.94000244140625, 'C': 62.60688018798828, 'CAG': 32.549800872802734, 'CE': 162.80111694335938, 'CF': 69.16385650634766, 'CHRW': 104.97206115722656, 'CLX': 168.22421264648438, 'COF': 144.593017578125, 'CPB': 42.07826232910156, 'CPRT': 73.4749984741211, 'CRL': 362.1099853515625, 'DG': 233.3252716064453, 'DISH': 33.290000915527344, 'DOV': 175.1489715576172, 'DPZ': 546.6570434570312, 'EFX': 281.25653076171875, 'ENPH': 184.4499969482422, 'ETR': 106.34614562988281, 'ETSY': 209.92999267578125, 'EW': 128.33999633789062, 'EXR': 211.8258819580078, 'FIS': 111.41445922851562, 'FISV': 107.62000274658203, 'FMC': 108.12487030029297, 'GM': 60.75368881225586, 'GPC': 133.84783935546875, 'HBAN': 15.107664108276367, 'HCA': 251.49588012695312, 'HSIC': 77.43000030517578, 'IFF': 144.83396911621094, 'ILMN': 380.8699951171875, 'INCY': 73.97000122070312, 'JBHT': 199.59910583496094, 'K': 62.00320053100586, 'KEY': 22.423358917236328, 'KIM': 23.676286697387695, 'KO': 57.59600067138672, 'LIN': 333.4983215332031, 'LUMN': 11.864811897277832, 'MA': 368.1917419433594, 'MRNA': 235.0500030517578, 'MRO': 16.601665496826172, 'MSFT': 334.75, 'MSI': 263.714599609375, 'MTD': 1674.8599853515625, 'NEE': 89.1696548461914, 'NTAP': 89.19461059570312, 'NTRS': 117.21322631835938, 'NUE': 111.19407653808594, 'NVR': 5757.009765625, 'ON': 70.16999816894531, 'PARA': 30.9847469329834, 'PCG': 12.210000038146973, 'PG': 157.96267700195312, 'PKG': 129.8639373779297, 'PTC': 122.9800033569336, 'PYPL': 194.94000244140625, 'RL': 117.36905670166016, 'RMD': 256.9822998046875, 'ROL': 33.07819366455078, 'ROST': 111.65263366699219, 'SEDG': 282.45001220703125, 'SLB': 31.107927322387695, 'SNA': 206.41818237304688, 'SO': 64.90132904052734, 'SWK': 185.92999267578125, 'SYY': 76.59828186035156, 'T': 17.62047576904297, 'TECH': 121.38719940185547, 'TFX': 332.528076171875, 'TRV': 152.48577880859375, 'TSN': 85.09920501708984, 'TT': 190.7206573486328, 'TTWO': 178.61000061035156, 'UHS': 130.98207092285156, 'UNH': 495.92877197265625, 'UNP': 240.62718200683594, 'URI': 329.56207275390625, 'VFC': 70.15182495117188, 'VICI': 28.51796531677246, 'VTR': 50.02897644042969, 'WBA': 50.051300048828125, 'WBD': 25.329999923706055, 'WM': 160.16685485839844, 'WY': 37.15361404418945, 'XEL': 66.0982437133789, 'XOM': 60.64885711669922, 'XRAY': 56.082115173339844, 'YUM': 133.34141540527344}\n",
            "\n",
            "\n",
            "['AAL', 'ABT', 'ACN', 'ADM', 'AES', 'AIZ', 'ALL', 'ALLE', 'AMP', 'AMT', 'ANSS', 'AON', 'APA', 'AWK', 'BAX', 'CCL', 'CHTR', 'CI', 'COP', 'CPRT', 'CRL', 'CRM', 'CSGP', 'CTSH', 'CVS', 'DHR', 'DVA', 'ED', 'EQIX', 'EQR', 'ETN', 'EXC', 'F', 'FDX', 'FIS', 'FLT', 'FTNT', 'GD', 'GNRC', 'GRMN', 'HIG', 'HII', 'HSIC', 'HST', 'IDXX', 'INTC', 'JKHY', 'KEYS', 'KMI', 'LNT', 'LW', 'MAR', 'MAS', 'MCD', 'MGM', 'MMC', 'MOH', 'MPWR', 'MRK', 'MSFT', 'NDAQ', 'NDSN', 'NEE', 'NI', 'NKE', 'NSC', 'OKE', 'PNC', 'PPL', 'PSX', 'PTC', 'PYPL', 'QCOM', 'RF', 'RHI', 'ROP', 'SBAC', 'SJM', 'SNA', 'SO', 'SYK', 'SYY', 'TAP', 'TDG', 'TEL', 'TFC', 'UDR', 'UNH', 'UPS', 'VFC', 'VMC', 'VRSK', 'VTR', 'WBD', 'WMT', 'WRB', 'WY', 'YUM', 'ZION', 'ZTS']\n",
            "quantita iniziali\n",
            "{'AAL': 0.0, 'ABT': 1996.0, 'ACN': 0.0, 'ADM': 0.0, 'AES': 0.0, 'AIZ': 0.0, 'ALL': 0.0, 'ALLE': 0.0, 'AMP': 0.0, 'AMT': 239.5, 'ANSS': 0.0, 'AON': 0.0, 'APA': 0.0, 'AWK': 0.0, 'BAX': 0.0, 'CCL': 0.0, 'CHTR': 0.0, 'CI': 0.0, 'COP': 0.0, 'CPRT': 0.0, 'CRL': 0.0, 'CRM': 0.0, 'CSGP': 542.5, 'CTSH': 0.0, 'CVS': 0.0, 'DHR': 0.0, 'DVA': 0.0, 'ED': 0.0, 'EQIX': 0.0, 'EQR': 0.0, 'ETN': 0.0, 'EXC': 0.0, 'F': 0.0, 'FDX': 0.0, 'FIS': 0.0, 'FLT': 0.0, 'FTNT': 837.8, 'GD': 0.0, 'GNRC': 0.0, 'GRMN': 0.0, 'HIG': 0.0, 'HII': 0.0, 'HSIC': 0.0, 'HST': 0.0, 'IDXX': 0.0, 'INTC': 0.0, 'JKHY': 0.0, 'KEYS': 0.0, 'KMI': 0.0, 'LNT': 0.0, 'LW': 2767.5, 'MAR': 0.0, 'MAS': 0.0, 'MCD': 709.1, 'MGM': 0.0, 'MMC': 0.0, 'MOH': 308.5, 'MPWR': 0.0, 'MRK': 0.0, 'MSFT': 0.0, 'NDAQ': 0.0, 'NDSN': 0.0, 'NEE': 2599.2999999999997, 'NI': 0.0, 'NKE': 0.0, 'NSC': 0.0, 'OKE': 0.0, 'PNC': 0.0, 'PPL': 0.0, 'PSX': 0.0, 'PTC': 0.0, 'PYPL': 0.0, 'QCOM': 0.0, 'RF': 0.0, 'RHI': 0.0, 'ROP': 0.0, 'SBAC': 0.0, 'SJM': 0.0, 'SNA': 0.0, 'SO': 0.0, 'SYK': 0.0, 'SYY': 0.0, 'TAP': 0.0, 'TDG': 0.0, 'TEL': 0.0, 'TFC': 0.0, 'UDR': 0.0, 'UNH': 0.0, 'UPS': 0.0, 'VFC': 0.0, 'VMC': 0.0, 'VRSK': 0.0, 'VTR': 0.0, 'WBD': 0.0, 'WMT': 0.0, 'WRB': 0.0, 'WY': 0.0, 'YUM': 0.0, 'ZION': 0.0, 'ZTS': 0.0}\n",
            "quantita finali\n",
            "{'AAL': 0.0, 'ABT': 4113.9081957199405, 'ACN': 0.0, 'ADM': 0.0, 'AES': 0.0, 'AIZ': 0.0, 'ALL': 0.0, 'ALLE': 0.0, 'AMP': 0.0, 'AMT': 450.9401416458623, 'ANSS': 0.0, 'AON': 0.0, 'APA': 0.0, 'AWK': 0.0, 'BAX': 0.0, 'CCL': 0.0, 'CHTR': 0.0, 'CI': 0.0, 'COP': 0.0, 'CPRT': 0.0, 'CRL': 0.0, 'CRM': 0.0, 'CSGP': 1277.8052658139213, 'CTSH': 0.0, 'CVS': 0.0, 'DHR': 0.0, 'DVA': 0.0, 'ED': 0.0, 'EQIX': 0.0, 'EQR': 0.0, 'ETN': 0.0, 'EXC': 0.0, 'F': 0.0, 'FDX': 0.0, 'FIS': 0.0, 'FLT': 0.0, 'FTNT': 4005.2804376938134, 'GD': 0.0, 'GNRC': 0.0, 'GRMN': 0.0, 'HIG': 0.0, 'HII': 0.0, 'HSIC': 0.0, 'HST': 0.0, 'IDXX': 0.0, 'INTC': 0.0, 'JKHY': 0.0, 'KEYS': 0.0, 'KMI': 0.0, 'LNT': 0.0, 'LW': 2495.4313460547282, 'MAR': 0.0, 'MAS': 0.0, 'MCD': 1161.4780284735261, 'MGM': 0.0, 'MMC': 0.0, 'MOH': 865.1062785679904, 'MPWR': 0.0, 'MRK': 0.0, 'MSFT': 0.0, 'NDAQ': 0.0, 'NDSN': 0.0, 'NEE': 5850.9310447001735, 'NI': 0.0, 'NKE': 0.0, 'NSC': 0.0, 'OKE': 0.0, 'PNC': 0.0, 'PPL': 0.0, 'PSX': 0.0, 'PTC': 0.0, 'PYPL': 0.0, 'QCOM': 0.0, 'RF': 0.0, 'RHI': 0.0, 'ROP': 0.0, 'SBAC': 0.0, 'SJM': 0.0, 'SNA': 0.0, 'SO': 0.0, 'SYK': 0.0, 'SYY': 0.0, 'TAP': 0.0, 'TDG': 0.0, 'TEL': 0.0, 'TFC': 0.0, 'UDR': 0.0, 'UNH': 0.0, 'UPS': 0.0, 'VFC': 0.0, 'VMC': 0.0, 'VRSK': 0.0, 'VTR': 0.0, 'WBD': 0.0, 'WMT': 0.0, 'WRB': 0.0, 'WY': 0.0, 'YUM': 0.0, 'ZION': 0.0, 'ZTS': 0.0}\n",
            "prezzi iniziali\n",
            "{'AAL': 31.963159561157227, 'ABT': 66.04753112792969, 'ACN': 134.62754821777344, 'ADM': 37.164451599121094, 'AES': 12.519083023071289, 'AIZ': 84.48968505859375, 'ALL': 75.7677993774414, 'ALLE': 78.37000274658203, 'AMP': 100.22479248046875, 'AMT': 148.21009826660156, 'ANSS': 143.00999450683594, 'AON': 139.9848175048828, 'APA': 25.47614860534668, 'AWK': 82.8388442993164, 'BAX': 62.796810150146484, 'CCL': 47.3174934387207, 'CHTR': 287.989990234375, 'CI': 180.78834533691406, 'COP': 57.36204528808594, 'CPRT': 23.84000015258789, 'CRL': 111.08999633789062, 'CRM': 135.5500030517578, 'CSGP': 33.47200012207031, 'CTSH': 61.07221221923828, 'CVS': 59.621131896972656, 'DHR': 99.29794311523438, 'DVA': 51.72999954223633, 'ED': 66.39954376220703, 'EQIX': 335.1985778808594, 'EQR': 57.64723587036133, 'ETN': 37.83238220214844, 'EXC': 27.816621780395508, 'F': 7.085236549377441, 'FDX': 156.52789306640625, 'FIS': 98.1015625, 'FLT': 185.5500030517578, 'FTNT': 13.935999870300293, 'GD': 144.64712524414062, 'GNRC': 50.9900016784668, 'GRMN': 58.80817794799805, 'HIG': 40.09379196166992, 'HII': 179.71034240722656, 'HSIC': 59.913726806640625, 'HST': 15.358419418334961, 'IDXX': 182.4600067138672, 'INTC': 44.27648162841797, 'JKHY': 120.78461456298828, 'KEYS': 61.41999816894531, 'KMI': 12.963479995727539, 'LNT': 37.98423767089844, 'LW': 69.74932861328125, 'MAR': 105.51872253417969, 'MAS': 28.296783447265625, 'MCD': 159.4595184326172, 'MGM': 24.535112380981445, 'MMC': 74.8405990600586, 'MOH': 112.88999938964844, 'MPWR': 112.84547424316406, 'MRK': 65.6446304321289, 'MSFT': 98.14884948730469, 'NDAQ': 23.756113052368164, 'NDSN': 114.40863800048828, 'NEE': 39.613983154296875, 'NI': 22.564550399780273, 'NKE': 72.05028533935547, 'NSC': 141.00405883789062, 'OKE': 42.397377014160156, 'PNC': 107.05192565917969, 'PPL': 23.823532104492188, 'PSX': 76.2591552734375, 'PTC': 81.91999816894531, 'PYPL': 85.75, 'QCOM': 53.443572998046875, 'RF': 12.178787231445312, 'RHI': 52.9882926940918, 'ROP': 261.90203857421875, 'SBAC': 158.57525634765625, 'SJM': 82.65786743164062, 'SNA': 135.54685974121094, 'SO': 38.06173324584961, 'SYK': 149.53729248046875, 'SYY': 57.073753356933594, 'TAP': 53.59748077392578, 'TDG': 303.3089599609375, 'TEL': 70.9722671508789, 'TFC': 37.85566329956055, 'UDR': 34.53604507446289, 'UNH': 232.29779052734375, 'UPS': 88.33463287353516, 'VFC': 62.3684196472168, 'VMC': 93.69401550292969, 'VRSK': 106.85496520996094, 'VTR': 49.4179573059082, 'WBD': 25.829999923706055, 'WMT': 88.576416015625, 'WRB': 29.474050521850586, 'WY': 18.661184310913086, 'YUM': 86.38433837890625, 'ZION': 38.495025634765625, 'ZTS': 82.87638092041016}\n",
            "prezzi finali\n",
            "{'AAL': 18.75, 'ABT': 136.12899780273438, 'ACN': 400.0928955078125, 'ADM': 66.2626953125, 'AES': 23.563203811645508, 'AIZ': 152.7073211669922, 'ALL': 114.37639617919922, 'ALLE': 127.8113021850586, 'AMP': 298.1084289550781, 'AMT': 279.0558776855469, 'ANSS': 395.489990234375, 'AON': 290.5342102050781, 'APA': 27.45480728149414, 'AWK': 180.23745727539062, 'BAX': 84.7698974609375, 'CCL': 21.40999984741211, 'CHTR': 647.5800170898438, 'CI': 230.39170837402344, 'COP': 69.930419921875, 'CPRT': 73.4749984741211, 'CRL': 362.1099853515625, 'CRM': 255.4600067138672, 'CSGP': 78.83999633789062, 'CTSH': 87.82391357421875, 'CVS': 101.1624755859375, 'DHR': 314.5638427734375, 'DVA': 115.43000030517578, 'ED': 81.50896453857422, 'EQIX': 820.9260864257812, 'EQR': 87.89476013183594, 'ETN': 164.2147216796875, 'EXC': 39.10407257080078, 'F': 19.832386016845703, 'FDX': 253.27061462402344, 'FIS': 111.41445922851562, 'FLT': 231.11000061035156, 'FTNT': 66.6240005493164, 'GD': 201.8234405517578, 'GNRC': 347.9100036621094, 'GRMN': 129.66827392578125, 'HIG': 67.60198211669922, 'HII': 180.8976593017578, 'HSIC': 77.43000030517578, 'HST': 17.65999984741211, 'IDXX': 631.010009765625, 'INTC': 50.562599182128906, 'JKHY': 169.71754455566406, 'KEYS': 202.66000366210938, 'KMI': 15.144800186157227, 'LNT': 58.55332946777344, 'LW': 62.89237976074219, 'MAR': 162.52476501464844, 'MAS': 67.5747299194336, 'MCD': 261.1884460449219, 'MGM': 45.46470642089844, 'MMC': 164.33460998535156, 'MOH': 316.57000732421875, 'MPWR': 491.13226318359375, 'MRK': 74.47593688964844, 'MSFT': 330.8138427734375, 'NDAQ': 66.59718322753906, 'NDSN': 247.83338928222656, 'NEE': 89.1696548461914, 'NI': 26.3768367767334, 'NKE': 162.4563751220703, 'NSC': 285.11907958984375, 'OKE': 55.65815353393555, 'PNC': 199.6743927001953, 'PPL': 29.195358276367188, 'PSX': 72.00331115722656, 'PTC': 122.9800033569336, 'PYPL': 194.94000244140625, 'QCOM': 181.167236328125, 'RF': 21.910558700561523, 'RHI': 106.67601013183594, 'ROP': 471.49139404296875, 'SBAC': 376.5003967285156, 'SJM': 132.02902221679688, 'SNA': 206.41818237304688, 'SO': 64.90132141113281, 'SYK': 265.06976318359375, 'SYY': 76.59829711914062, 'TAP': 45.65338134765625, 'TDG': 623.843505859375, 'TEL': 157.69522094726562, 'TFC': 60.400001525878906, 'UDR': 59.53340148925781, 'UNH': 495.92877197265625, 'UPS': 204.8563690185547, 'VFC': 70.1518325805664, 'VMC': 205.515869140625, 'VRSK': 220.1205596923828, 'VTR': 50.02898025512695, 'WBD': 25.329999923706055, 'WMT': 142.41139221191406, 'WRB': 53.07825469970703, 'WY': 37.15361404418945, 'YUM': 133.34141540527344, 'ZION': 62.03228759765625, 'ZTS': 231.78082275390625}\n",
            "\n",
            "\n",
            "['AAP', 'AAPL', 'ADBE', 'ADSK', 'AES', 'AKAM', 'AMAT', 'AME', 'AMT', 'ANET', 'AVB', 'AXP', 'BALL', 'BIO', 'BRO', 'BWA', 'CBOE', 'CDW', 'CHD', 'CHRW', 'CME', 'COF', 'CPB', 'CTLT', 'CTSH', 'CVX', 'DISH', 'DLR', 'DOV', 'DUK', 'DVA', 'ED', 'ELV', 'EMR', 'ENPH', 'ETN', 'EVRG', 'EXC', 'EXR', 'FMC', 'FTNT', 'HON', 'HSIC', 'IP', 'IPG', 'IVZ', 'JKHY', 'JPM', 'KDP', 'KEYS', 'KO', 'L', 'LDOS', 'LIN', 'LUV', 'LW', 'MA', 'MCD', 'MCK', 'MDLZ', 'MHK', 'MMM', 'MOH', 'MRNA', 'MSI', 'NCLH', 'NDAQ', 'NI', 'NRG', 'NWSA', 'ON', 'ORCL', 'ORLY', 'PAYC', 'PEAK', 'PFE', 'PFG', 'PG', 'PGR', 'PHM', 'PNW', 'PTC', 'QCOM', 'RE', 'REGN', 'RMD', 'SBNY', 'SBUX', 'SWKS', 'SYK', 'T', 'TAP', 'TMUS', 'TTWO', 'TXT', 'VTRS', 'WBA', 'WEC', 'WMT', 'XEL']\n",
            "quantita iniziali\n",
            "{'AAP': 0.0, 'AAPL': 0.0, 'ADBE': 0.0, 'ADSK': 0.0, 'AES': 0.0, 'AKAM': 0.0, 'AMAT': 0.0, 'AME': 0.0, 'AMT': 401.9, 'ANET': 0.0, 'AVB': 0.0, 'AXP': 0.0, 'BALL': 0.0, 'BIO': 0.0, 'BRO': 0.0, 'BWA': 0.0, 'CBOE': 0.0, 'CDW': 0.0, 'CHD': 293.09999999999997, 'CHRW': 0.0, 'CME': 1640.3000000000002, 'COF': 0.0, 'CPB': 0.0, 'CTLT': 0.0, 'CTSH': 0.0, 'CVX': 0.0, 'DISH': 0.0, 'DLR': 0.0, 'DOV': 0.0, 'DUK': 0.0, 'DVA': 0.0, 'ED': 0.0, 'ELV': 871.4, 'EMR': 0.0, 'ENPH': 361.0, 'ETN': 0.0, 'EVRG': 0.0, 'EXC': 78.1, 'EXR': 0.0, 'FMC': 0.0, 'FTNT': 403.0, 'HON': 0.0, 'HSIC': 0.0, 'IP': 0.0, 'IPG': 0.0, 'IVZ': 0.0, 'JKHY': 0.0, 'JPM': 0.0, 'KDP': 1484.9, 'KEYS': 0.0, 'KO': 0.0, 'L': 0.0, 'LDOS': 0.0, 'LIN': 0.0, 'LUV': 0.0, 'LW': 2247.5, 'MA': 0.0, 'MCD': 207.29999999999998, 'MCK': 0.0, 'MDLZ': 0.0, 'MHK': 0.0, 'MMM': 0.0, 'MOH': 183.50000000000003, 'MRNA': 0.0, 'MSI': 0.0, 'NCLH': 0.0, 'NDAQ': 0.0, 'NI': 0.0, 'NRG': 1396.3999999999999, 'NWSA': 0.0, 'ON': 0.0, 'ORCL': 0.0, 'ORLY': 0.0, 'PAYC': 107.60000000000001, 'PEAK': 0.0, 'PFE': 0.0, 'PFG': 0.0, 'PG': 0.0, 'PGR': 242.5, 'PHM': 0.0, 'PNW': 0.0, 'PTC': 0.0, 'QCOM': 0.0, 'RE': 0.0, 'REGN': 0.0, 'RMD': 81.3, 'SBNY': 0.0, 'SBUX': 0.0, 'SWKS': 0.0, 'SYK': 0.0, 'T': 0.0, 'TAP': 0.0, 'TMUS': 0.0, 'TTWO': 0.0, 'TXT': 0.0, 'VTRS': 0.0, 'WBA': 0.0, 'WEC': 0.0, 'WMT': 0.0, 'XEL': 0.0}\n",
            "quantita finali\n",
            "{'AAP': 0.0, 'AAPL': 0.0, 'ADBE': 0.0, 'ADSK': 0.0, 'AES': 0.0, 'AKAM': 0.0, 'AMAT': 0.0, 'AME': 0.0, 'AMT': 756.7133316387142, 'ANET': 0.0, 'AVB': 0.0, 'AXP': 0.0, 'BALL': 0.0, 'BIO': 0.0, 'BRO': 0.0, 'BWA': 0.0, 'CBOE': 0.0, 'CDW': 0.0, 'CHD': 473.84742726202126, 'CHRW': 0.0, 'CME': 2035.8058795597897, 'COF': 0.0, 'CPB': 0.0, 'CTLT': 0.0, 'CTSH': 0.0, 'CVX': 0.0, 'DISH': 0.0, 'DLR': 0.0, 'DOV': 0.0, 'DUK': 0.0, 'DVA': 0.0, 'ED': 0.0, 'ELV': 1571.8842325230714, 'EMR': 0.0, 'ENPH': 13533.830867025627, 'ETN': 0.0, 'EVRG': 0.0, 'EXC': 116.59241242294625, 'EXR': 0.0, 'FMC': 0.0, 'FTNT': 1926.6268994874752, 'HON': 0.0, 'HSIC': 0.0, 'IP': 0.0, 'IPG': 0.0, 'IVZ': 0.0, 'JKHY': 0.0, 'JPM': 0.0, 'KDP': 2348.729896147991, 'KEYS': 0.0, 'KO': 0.0, 'L': 0.0, 'LDOS': 0.0, 'LIN': 0.0, 'LUV': 0.0, 'LW': 2026.5519669028736, 'MA': 0.0, 'MCD': 332.04151016349306, 'MCK': 0.0, 'MDLZ': 0.0, 'MHK': 0.0, 'MMM': 0.0, 'MOH': 514.5769922762603, 'MRNA': 0.0, 'MSI': 0.0, 'NCLH': 0.0, 'NDAQ': 0.0, 'NI': 0.0, 'NRG': 1626.992606379051, 'NWSA': 0.0, 'ON': 0.0, 'ORCL': 0.0, 'ORLY': 0.0, 'PAYC': 364.0062270138192, 'PEAK': 0.0, 'PFE': 0.0, 'PFG': 0.0, 'PG': 0.0, 'PGR': 480.04707029558205, 'PHM': 0.0, 'PNW': 0.0, 'PTC': 0.0, 'QCOM': 0.0, 'RE': 0.0, 'REGN': 0.0, 'RMD': 192.63072796097754, 'SBNY': 0.0, 'SBUX': 0.0, 'SWKS': 0.0, 'SYK': 0.0, 'T': 0.0, 'TAP': 0.0, 'TMUS': 0.0, 'TTWO': 0.0, 'TXT': 0.0, 'VTRS': 0.0, 'WBA': 0.0, 'WEC': 0.0, 'WMT': 0.0, 'XEL': 0.0}\n",
            "prezzi iniziali\n",
            "{'AAP': 153.79019165039062, 'AAPL': 38.439735412597656, 'ADBE': 224.57000732421875, 'ADSK': 128.9600067138672, 'AES': 12.860688209533691, 'AKAM': 59.0099983215332, 'AMAT': 32.32191467285156, 'AME': 66.14523315429688, 'AMT': 148.21009826660156, 'ANET': 52.63750076293945, 'AVB': 153.04348754882812, 'AXP': 91.34648895263672, 'BALL': 42.94132614135742, 'BIO': 228.0800018310547, 'BRO': 26.35720443725586, 'BWA': 33.211299896240234, 'CBOE': 91.8205337524414, 'CDW': 76.9123764038086, 'CHD': 61.96341323852539, 'CHRW': 78.20926666259766, 'CME': 173.39979553222656, 'COF': 73.59353637695312, 'CPB': 29.048524856567383, 'CTLT': 30.90999984741211, 'CTSH': 61.07221221923828, 'CVX': 94.65721130371094, 'DISH': 25.8799991607666, 'DLR': 93.47411346435547, 'DOV': 67.456787109375, 'DUK': 74.06322479248047, 'DVA': 51.72999954223633, 'ED': 66.39954376220703, 'ELV': 255.02000427246094, 'EMR': 54.77216339111328, 'ENPH': 4.920000076293945, 'ETN': 37.83238220214844, 'EVRG': 50.46123123168945, 'EXC': 27.26720428466797, 'EXR': 79.47898864746094, 'FMC': 61.53533935546875, 'FTNT': 13.935999870300293, 'HON': 123.45482635498047, 'HSIC': 59.913726806640625, 'IP': 33.35224533081055, 'IPG': 17.654645919799805, 'IVZ': 14.266519546508789, 'JKHY': 120.78461456298828, 'JPM': 90.1119155883789, 'KDP': 23.091787338256836, 'KEYS': 61.41999816894531, 'KO': 42.63923645019531, 'L': 44.13274383544922, 'LDOS': 49.72120666503906, 'LIN': 149.48851013183594, 'LUV': 46.32673645019531, 'LW': 70.61882781982422, 'MA': 185.37335205078125, 'MCD': 163.06504821777344, 'MCK': 108.73509979248047, 'MDLZ': 37.82316589355469, 'MHK': 118.5999984741211, 'MMM': 170.96270751953125, 'MOH': 112.88999938964844, 'MRNA': 15.329999923706055, 'MSI': 109.68832397460938, 'NCLH': 42.380001068115234, 'NDAQ': 23.756113052368164, 'NI': 22.564550399780273, 'NRG': 35.18379592895508, 'NWSA': 10.998435020446777, 'ON': 16.780000686645508, 'ORCL': 42.87077331542969, 'ORLY': 341.1499938964844, 'PAYC': 119.69999694824219, 'PEAK': 22.399837493896484, 'PFE': 36.26567840576172, 'PFG': 39.75344467163086, 'PG': 84.06419372558594, 'PGR': 51.3060188293457, 'PHM': 24.929044723510742, 'PNW': 73.05392456054688, 'PTC': 81.91999816894531, 'QCOM': 53.443572998046875, 'RE': 198.17286682128906, 'REGN': 372.44000244140625, 'RMD': 108.45964813232422, 'SBNY': 99.66227722167969, 'SBUX': 61.352359771728516, 'SWKS': 65.22920989990234, 'SYK': 147.67086791992188, 'T': 16.254467010498047, 'TAP': 53.59748077392578, 'TMUS': 65.26000213623047, 'TTWO': 104.01000213623047, 'TXT': 45.859336853027344, 'VTRS': 27.72300148010254, 'WBA': 62.03926086425781, 'WEC': 61.571800231933594, 'WMT': 88.576416015625, 'XEL': 45.1014404296875}\n",
            "prezzi finali\n",
            "{'AAP': 228.5513916015625, 'AAPL': 180.68386840820312, 'ADBE': 564.3699951171875, 'ADSK': 283.7200012207031, 'AES': 23.563201904296875, 'AKAM': 117.51000213623047, 'AMAT': 158.0904541015625, 'AME': 142.69586181640625, 'AMT': 279.0558776855469, 'ANET': 142.24000549316406, 'AVB': 244.47750854492188, 'AXP': 165.48265075683594, 'BALL': 93.26000213623047, 'BIO': 735.4199829101562, 'BRO': 68.18930053710938, 'BWA': 44.27474594116211, 'CBOE': 128.4600067138672, 'CDW': 201.9969024658203, 'CHD': 100.17469787597656, 'CHRW': 107.9000015258789, 'CME': 215.20960998535156, 'COF': 144.59303283691406, 'CPB': 42.0782585144043, 'CTLT': 124.48999786376953, 'CTSH': 87.82390594482422, 'CVX': 114.10469818115234, 'DISH': 33.290000915527344, 'DLR': 168.23834228515625, 'DOV': 175.14895629882812, 'DUK': 98.57923889160156, 'DVA': 115.43000030517578, 'ED': 81.50897216796875, 'ELV': 460.02056884765625, 'EMR': 89.13040924072266, 'ENPH': 184.4499969482422, 'ETN': 164.21470642089844, 'EVRG': 65.73292541503906, 'EXC': 40.70613479614258, 'EXR': 219.22999572753906, 'FMC': 108.1248779296875, 'FTNT': 66.6240005493164, 'HON': 201.54148864746094, 'HSIC': 77.43000030517578, 'IP': 44.28996276855469, 'IPG': 36.01645278930664, 'IVZ': 22.167617797851562, 'JKHY': 171.5, 'JPM': 155.60301208496094, 'KDP': 36.5252685546875, 'KEYS': 202.66000366210938, 'KO': 59.29999923706055, 'L': 58.04104995727539, 'LDOS': 88.96613311767578, 'LIN': 333.498291015625, 'LUV': 43.77423095703125, 'LW': 63.67640686035156, 'MA': 370.4638671875, 'MCD': 261.1884460449219, 'MCK': 247.67657470703125, 'MDLZ': 64.42655944824219, 'MHK': 183.97000122070312, 'MMM': 168.28211975097656, 'MOH': 316.57000732421875, 'MRNA': 235.0500030517578, 'MSI': 263.714599609375, 'NCLH': 22.18000030517578, 'NDAQ': 66.59716796875, 'NI': 26.376834869384766, 'NRG': 40.99382400512695, 'NWSA': 22.533449172973633, 'ON': 70.16999816894531, 'ORCL': 86.0781021118164, 'ORLY': 695.9400024414062, 'PAYC': 404.94000244140625, 'PEAK': 35.80548095703125, 'PFE': 54.36895751953125, 'PFG': 70.7265396118164, 'PG': 157.9626922607422, 'PGR': 101.56414031982422, 'PHM': 55.311134338378906, 'PNW': 65.74883270263672, 'PTC': 122.9800033569336, 'QCOM': 181.167236328125, 'RE': 266.62054443359375, 'REGN': 627.0999755859375, 'RMD': 256.9822998046875, 'SBNY': 322.0216369628906, 'SBUX': 116.68000030517578, 'SWKS': 155.42160034179688, 'SYK': 265.0697326660156, 'T': 17.6204776763916, 'TAP': 45.653377532958984, 'TMUS': 114.43000030517578, 'TTWO': 178.61000061035156, 'TXT': 76.25083923339844, 'VTRS': 13.63856315612793, 'WBA': 53.060001373291016, 'WEC': 92.45535278320312, 'WMT': 142.411376953125, 'XEL': 67.94000244140625}\n",
            "\n",
            "\n",
            "['A', 'AAP', 'AKAM', 'ALB', 'AMT', 'APH', 'AWK', 'AXP', 'AZO', 'BA', 'BAC', 'BKNG', 'BLK', 'BMY', 'BSX', 'C', 'CB', 'CBOE', 'CFG', 'CHRW', 'CINF', 'CLX', 'CME', 'CMG', 'CNP', 'COO', 'COST', 'CPRT', 'CTAS', 'DISH', 'DOV', 'DVN', 'FDS', 'FIS', 'FISV', 'FRC', 'GIS', 'GL', 'GWW', 'HCA', 'HSY', 'INTU', 'IRM', 'ISRG', 'JBHT', 'K', 'KHC', 'LDOS', 'LIN', 'LKQ', 'LMT', 'LNC', 'MCO', 'META', 'MGM', 'MOH', 'MPWR', 'MRNA', 'MRO', 'MS', 'MTCH', 'NDSN', 'NOC', 'NVDA', 'NWL', 'OKE', 'ON', 'PAYC', 'PEP', 'PFG', 'PKG', 'PNC', 'PWR', 'QRVO', 'REGN', 'RJF', 'RL', 'RMD', 'ROP', 'SRE', 'SYF', 'SYY', 'TAP', 'TEL', 'TER', 'TPR', 'TRGP', 'TSCO', 'TT', 'TXT', 'TYL', 'UDR', 'UNP', 'VFC', 'VLO', 'VRTX', 'WDC', 'WFC', 'WTW', 'YUM']\n",
            "quantita iniziali\n",
            "{'A': 0.0, 'AAP': 0.0, 'AKAM': 0.0, 'ALB': 0.0, 'AMT': 2137.6, 'APH': 0.0, 'AWK': 0.0, 'AXP': 0.0, 'AZO': 0.0, 'BA': 1346.1000000000001, 'BAC': 0.0, 'BKNG': 0.0, 'BLK': 0.0, 'BMY': 0.0, 'BSX': 0.0, 'C': 0.0, 'CB': 0.0, 'CBOE': 0.0, 'CFG': 0.0, 'CHRW': 0.0, 'CINF': 0.0, 'CLX': 0.0, 'CME': 2979.8, 'CMG': 0.0, 'CNP': 0.0, 'COO': 0.0, 'COST': 0.0, 'CPRT': 0.0, 'CTAS': 0.0, 'DISH': 0.0, 'DOV': 0.0, 'DVN': 0.0, 'FDS': 0.0, 'FIS': 0.0, 'FISV': 0.0, 'FRC': 0.0, 'GIS': 0.0, 'GL': 0.0, 'GWW': 0.0, 'HCA': 320.59999999999997, 'HSY': 0.0, 'INTU': 0.0, 'IRM': 0.0, 'ISRG': 711.6, 'JBHT': 0.0, 'K': 0.0, 'KHC': 0.0, 'LDOS': 0.0, 'LIN': 0.0, 'LKQ': 0.0, 'LMT': 0.0, 'LNC': 0.0, 'MCO': 0.0, 'META': 0.0, 'MGM': 0.0, 'MOH': 403.29999999999995, 'MPWR': 0.0, 'MRNA': 0.0, 'MRO': 0.0, 'MS': 0.0, 'MTCH': 463.99999999999994, 'NDSN': 0.0, 'NOC': 0.0, 'NVDA': 0.0, 'NWL': 0.0, 'OKE': 0.0, 'ON': 0.0, 'PAYC': 430.5, 'PEP': 0.0, 'PFG': 0.0, 'PKG': 0.0, 'PNC': 0.0, 'PWR': 0.0, 'QRVO': 0.0, 'REGN': 0.0, 'RJF': 0.0, 'RL': 0.0, 'RMD': 660.1999999999999, 'ROP': 0.0, 'SRE': 0.0, 'SYF': 0.0, 'SYY': 0.0, 'TAP': 0.0, 'TEL': 0.0, 'TER': 0.0, 'TPR': 0.0, 'TRGP': 0.0, 'TSCO': 0.0, 'TT': 0.0, 'TXT': 0.0, 'TYL': 0.0, 'UDR': 0.0, 'UNP': 0.0, 'VFC': 0.0, 'VLO': 0.0, 'VRTX': 546.3, 'WDC': 0.0, 'WFC': 0.0, 'WTW': 0.0, 'YUM': 0.0}\n",
            "quantita finali\n",
            "{'A': 0.0, 'AAP': 0.0, 'AKAM': 0.0, 'ALB': 0.0, 'AMT': 4238.799740297749, 'APH': 0.0, 'AWK': 0.0, 'AXP': 0.0, 'AZO': 0.0, 'BA': 889.2568478807391, 'BAC': 0.0, 'BKNG': 0.0, 'BLK': 0.0, 'BMY': 0.0, 'BSX': 0.0, 'C': 0.0, 'CB': 0.0, 'CBOE': 0.0, 'CFG': 0.0, 'CHRW': 0.0, 'CINF': 0.0, 'CLX': 0.0, 'CME': 4152.743246024885, 'CMG': 0.0, 'CNP': 0.0, 'COO': 0.0, 'COST': 0.0, 'CPRT': 0.0, 'CTAS': 0.0, 'DISH': 0.0, 'DOV': 0.0, 'DVN': 0.0, 'FDS': 0.0, 'FIS': 0.0, 'FISV': 0.0, 'FRC': 0.0, 'GIS': 0.0, 'GL': 0.0, 'GWW': 0.0, 'HCA': 694.084996282176, 'HSY': 0.0, 'INTU': 0.0, 'IRM': 0.0, 'ISRG': 1649.095502113288, 'JBHT': 0.0, 'K': 0.0, 'KHC': 0.0, 'LDOS': 0.0, 'LIN': 0.0, 'LKQ': 0.0, 'LMT': 0.0, 'LNC': 0.0, 'MCO': 0.0, 'META': 0.0, 'MGM': 0.0, 'MOH': 1130.9476892916389, 'MPWR': 0.0, 'MRNA': 0.0, 'MRO': 0.0, 'MS': 0.0, 'MTCH': 1469.625211133767, 'NDSN': 0.0, 'NOC': 0.0, 'NVDA': 0.0, 'NWL': 0.0, 'OKE': 0.0, 'ON': 0.0, 'PAYC': 1456.3632038052897, 'PEP': 0.0, 'PFG': 0.0, 'PKG': 0.0, 'PNC': 0.0, 'PWR': 0.0, 'QRVO': 0.0, 'REGN': 0.0, 'RJF': 0.0, 'RL': 0.0, 'RMD': 1589.6359000079774, 'ROP': 0.0, 'SRE': 0.0, 'SYF': 0.0, 'SYY': 0.0, 'TAP': 0.0, 'TEL': 0.0, 'TER': 0.0, 'TPR': 0.0, 'TRGP': 0.0, 'TSCO': 0.0, 'TT': 0.0, 'TXT': 0.0, 'TYL': 0.0, 'UDR': 0.0, 'UNP': 0.0, 'VFC': 0.0, 'VLO': 0.0, 'VRTX': 740.9077095105274, 'WDC': 0.0, 'WFC': 0.0, 'WTW': 0.0, 'YUM': 0.0}\n",
            "prezzi iniziali\n",
            "{'A': 63.842227935791016, 'AAP': 148.71047973632812, 'AKAM': 59.0099983215332, 'ALB': 74.17399597167969, 'AMT': 144.4196319580078, 'APH': 38.31843566894531, 'AWK': 82.83885192871094, 'AXP': 90.0909423828125, 'AZO': 838.47998046875, 'BA': 314.6451416015625, 'BAC': 22.641016006469727, 'BKNG': 1721.699951171875, 'BLK': 351.3620910644531, 'BMY': 45.861602783203125, 'BSX': 34.459999084472656, 'C': 46.21674728393555, 'CB': 117.59587860107422, 'CBOE': 95.88999938964844, 'CFG': 25.480539321899414, 'CHRW': 74.84415435791016, 'CINF': 68.32860565185547, 'CLX': 135.14321899414062, 'CME': 161.77877807617188, 'CMG': 443.3599853515625, 'CNP': 24.585079193115234, 'COO': 250.42984008789062, 'COST': 192.81707763671875, 'CPRT': 23.84000015258789, 'CTAS': 160.59095764160156, 'DISH': 25.8799991607666, 'DOV': 66.4674072265625, 'DVN': 18.78489112854004, 'FDS': 191.60116577148438, 'FIS': 95.97761535644531, 'FISV': 72.20999908447266, 'FRC': 85.0739974975586, 'GIS': 33.31303787231445, 'GL': 73.70155334472656, 'GWW': 258.3541564941406, 'HCA': 117.36033630371094, 'HSY': 96.74287414550781, 'INTU': 188.905517578125, 'IRM': 24.615249633789062, 'ISRG': 155.3433380126953, 'JBHT': 89.80838012695312, 'K': 48.58919143676758, 'KHC': 35.830631256103516, 'LDOS': 49.008453369140625, 'LIN': 147.21873474121094, 'LKQ': 23.13246726989746, 'LMT': 236.47921752929688, 'LNC': 44.741004943847656, 'MCO': 135.63870239257812, 'META': 135.67999267578125, 'MGM': 24.524642944335938, 'MOH': 112.88999938964844, 'MPWR': 111.72590637207031, 'MRNA': 15.329999923706055, 'MRO': 13.930258750915527, 'MS': 35.672054290771484, 'MTCH': 42.380001068115234, 'NDSN': 112.47022247314453, 'NOC': 230.0955352783203, 'NVDA': 33.80546951293945, 'NWL': 15.046051025390625, 'OKE': 39.95677947998047, 'ON': 16.780000686645508, 'PAYC': 119.69999694824219, 'PEP': 96.93242645263672, 'PFG': 37.70132064819336, 'PKG': 74.46183776855469, 'PNC': 103.22821044921875, 'PWR': 29.511423110961914, 'QRVO': 61.18000030517578, 'REGN': 372.44000244140625, 'RJF': 46.320255279541016, 'RL': 97.16053771972656, 'RMD': 107.5906753540039, 'ROP': 260.3245849609375, 'SRE': 93.98270416259766, 'SYF': 21.690916061401367, 'SYY': 55.70010757446289, 'TAP': 51.677001953125, 'TEL': 69.74832916259766, 'TER': 31.079450607299805, 'TPR': 30.91067886352539, 'TRGP': 30.992679595947266, 'TSCO': 77.46630096435547, 'TT': 66.11925506591797, 'TXT': 45.8057746887207, 'TYL': 182.24000549316406, 'UDR': 33.36174774169922, 'UNP': 125.74244689941406, 'VFC': 59.35774612426758, 'VLO': 61.74773025512695, 'VRTX': 164.0800018310547, 'WDC': 36.312469482421875, 'WFC': 41.553627014160156, 'WTW': 141.60069274902344, 'YUM': 84.75853729248047}\n",
            "prezzi finali\n",
            "{'A': 156.47999572753906, 'AAP': 236.77999877929688, 'AKAM': 117.51000213623047, 'ALB': 236.6699981689453, 'AMT': 286.3800048828125, 'APH': 85.53012084960938, 'AWK': 183.42652893066406, 'AXP': 167.7888946533203, 'AZO': 2045.1099853515625, 'BA': 207.86000061035156, 'BAC': 45.95530700683594, 'BKNG': 2461.419921875, 'BLK': 911.72998046875, 'BMY': 61.34243392944336, 'BSX': 43.119998931884766, 'C': 62.60688018798828, 'CB': 188.38018798828125, 'CBOE': 128.4600067138672, 'CFG': 48.77002716064453, 'CHRW': 107.9000015258789, 'CINF': 113.11000061035156, 'CLX': 173.78323364257812, 'CME': 225.4600067138672, 'CMG': 1690.6700439453125, 'CNP': 27.44538688659668, 'COO': 421.5682373046875, 'COST': 566.7100219726562, 'CPRT': 73.4749984741211, 'CTAS': 424.0899963378906, 'DISH': 33.290000915527344, 'DOV': 177.75607299804688, 'DVN': 42.178680419921875, 'FDS': 475.02630615234375, 'FIS': 113.87999725341797, 'FISV': 107.62000274658203, 'FRC': 197.10414123535156, 'GIS': 66.75916290283203, 'GL': 94.74756622314453, 'GWW': 508.45452880859375, 'HCA': 254.0800018310547, 'HSY': 192.35098266601562, 'INTU': 631.469970703125, 'IRM': 51.31999969482422, 'ISRG': 360.0, 'JBHT': 201.83999633789062, 'K': 64.10883331298828, 'KHC': 36.13999938964844, 'LDOS': 90.26000213623047, 'LIN': 338.6400146484375, 'LKQ': 58.61000061035156, 'LMT': 351.93695068359375, 'LNC': 69.2778549194336, 'MCO': 382.7479553222656, 'META': 338.5400085449219, 'MGM': 45.47999954223633, 'MOH': 316.57000732421875, 'MPWR': 494.8500061035156, 'MRNA': 235.0500030517578, 'MRO': 16.8143253326416, 'MS': 99.49665069580078, 'MTCH': 134.22999572753906, 'NDSN': 251.02999877929688, 'NOC': 383.99951171875, 'NVDA': 301.2099914550781, 'NWL': 22.110000610351562, 'OKE': 59.05780029296875, 'ON': 70.16999816894531, 'PAYC': 404.94000244140625, 'PEP': 172.97999572753906, 'PFG': 73.20999908447266, 'PKG': 134.61000061035156, 'PNC': 207.0706329345703, 'PWR': 112.2699966430664, 'QRVO': 159.42999267578125, 'REGN': 627.0999755859375, 'RJF': 102.86000061035156, 'RL': 120.91999816894531, 'RMD': 259.057861328125, 'ROP': 474.345458984375, 'SRE': 131.99000549316406, 'SYF': 46.764892578125, 'SYY': 78.4873275756836, 'TAP': 47.349998474121094, 'TEL': 160.46240234375, 'TER': 166.11000061035156, 'TPR': 40.56326675415039, 'TRGP': 52.91727828979492, 'TSCO': 235.72000122070312, 'TT': 194.00894165039062, 'TXT': 76.33999633789062, 'TYL': 523.8499755859375, 'UDR': 59.53340148925781, 'UNP': 246.56231689453125, 'VFC': 73.70999908447266, 'VLO': 76.26654815673828, 'VRTX': 222.52999877929688, 'WDC': 65.93000030517578, 'WFC': 50.50324249267578, 'WTW': 235.57000732421875, 'YUM': 135.8990936279297}\n",
            "\n",
            "\n",
            "['AAL', 'AAPL', 'AIZ', 'AMAT', 'AMD', 'AME', 'AMGN', 'APA', 'AWK', 'BSX', 'CB', 'CBOE', 'CDAY', 'CL', 'CME', 'CSGP', 'CSX', 'D', 'DD', 'DFS', 'DGX', 'DUK', 'DVA', 'EA', 'ED', 'EPAM', 'EQIX', 'EXPE', 'FIS', 'FRT', 'GD', 'GEN', 'GIS', 'GL', 'GM', 'GNRC', 'GPC', 'HAL', 'HD', 'HIG', 'HRL', 'HSIC', 'HST', 'ICE', 'ISRG', 'IT', 'IVZ', 'JNJ', 'KO', 'LNT', 'LOW', 'MCHP', 'MCK', 'MDT', 'MET', 'MMM', 'MOH', 'MPC', 'MTB', 'MU', 'NDSN', 'NEE', 'NEM', 'NKE', 'NWL', 'NWS', 'O', 'ODFL', 'OMC', 'PCG', 'POOL', 'PPL', 'PWR', 'REGN', 'RF', 'RHI', 'RL', 'RMD', 'SCHW', 'SHW', 'SJM', 'SLB', 'SRE', 'STLD', 'STT', 'TDY', 'TECH', 'TER', 'TMUS', 'TSCO', 'TXN', 'TXT', 'ULTA', 'UNH', 'UNP', 'URI', 'VFC', 'WMB', 'ZION', 'ZTS']\n",
            "quantita iniziali\n",
            "{'AAL': 0.0, 'AAPL': 0.0, 'AIZ': 0.0, 'AMAT': 0.0, 'AMD': 0.0, 'AME': 0.0, 'AMGN': 0.0, 'APA': 0.0, 'AWK': 0.0, 'BSX': 0.0, 'CB': 0.0, 'CBOE': 0.0, 'CDAY': 0.0, 'CL': 0.0, 'CME': 2901.9, 'CSGP': 955.0, 'CSX': 248.99999999999997, 'D': 0.0, 'DD': 0.0, 'DFS': 0.0, 'DGX': 0.0, 'DUK': 0.0, 'DVA': 0.0, 'EA': 0.0, 'ED': 0.0, 'EPAM': 0.0, 'EQIX': 0.0, 'EXPE': 0.0, 'FIS': 0.0, 'FRT': 0.0, 'GD': 0.0, 'GEN': 0.0, 'GIS': 0.0, 'GL': 0.0, 'GM': 0.0, 'GNRC': 0.0, 'GPC': 0.0, 'HAL': 0.0, 'HD': 0.0, 'HIG': 0.0, 'HRL': 0.0, 'HSIC': 0.0, 'HST': 0.0, 'ICE': 0.0, 'ISRG': 1013.3000000000001, 'IT': 0.0, 'IVZ': 0.0, 'JNJ': 0.0, 'KO': 0.0, 'LNT': 0.0, 'LOW': 0.0, 'MCHP': 0.0, 'MCK': 0.0, 'MDT': 0.0, 'MET': 0.0, 'MMM': 0.0, 'MOH': 438.5, 'MPC': 0.0, 'MTB': 0.0, 'MU': 0.0, 'NDSN': 0.0, 'NEE': 3936.8999999999996, 'NEM': 0.0, 'NKE': 0.0, 'NWL': 0.0, 'NWS': 0.0, 'O': 0.0, 'ODFL': 0.0, 'OMC': 0.0, 'PCG': 0.0, 'POOL': 0.0, 'PPL': 0.0, 'PWR': 0.0, 'REGN': 0.0, 'RF': 0.0, 'RHI': 0.0, 'RL': 0.0, 'RMD': 505.40000000000003, 'SCHW': 0.0, 'SHW': 0.0, 'SJM': 0.0, 'SLB': 0.0, 'SRE': 0.0, 'STLD': 0.0, 'STT': 0.0, 'TDY': 0.0, 'TECH': 0.0, 'TER': 0.0, 'TMUS': 0.0, 'TSCO': 0.0, 'TXN': 0.0, 'TXT': 0.0, 'ULTA': 0.0, 'UNH': 0.0, 'UNP': 0.0, 'URI': 0.0, 'VFC': 0.0, 'WMB': 0.0, 'ZION': 0.0, 'ZTS': 0.0}\n",
            "quantita finali\n",
            "{'AAL': 0.0, 'AAPL': 0.0, 'AIZ': 0.0, 'AMAT': 0.0, 'AMD': 0.0, 'AME': 0.0, 'AMGN': 0.0, 'APA': 0.0, 'AWK': 0.0, 'BSX': 0.0, 'CB': 0.0, 'CBOE': 0.0, 'CDAY': 0.0, 'CL': 0.0, 'CME': 4044.1785866152513, 'CSGP': 2249.408348114829, 'CSX': 471.9061434345443, 'D': 0.0, 'DD': 0.0, 'DFS': 0.0, 'DGX': 0.0, 'DUK': 0.0, 'DVA': 0.0, 'EA': 0.0, 'ED': 0.0, 'EPAM': 0.0, 'EQIX': 0.0, 'EXPE': 0.0, 'FIS': 0.0, 'FRT': 0.0, 'GD': 0.0, 'GEN': 0.0, 'GIS': 0.0, 'GL': 0.0, 'GM': 0.0, 'GNRC': 0.0, 'GPC': 0.0, 'HAL': 0.0, 'HD': 0.0, 'HIG': 0.0, 'HRL': 0.0, 'HSIC': 0.0, 'HST': 0.0, 'ICE': 0.0, 'ISRG': 2348.2693539789134, 'IT': 0.0, 'IVZ': 0.0, 'JNJ': 0.0, 'KO': 0.0, 'LNT': 0.0, 'LOW': 0.0, 'MCHP': 0.0, 'MCK': 0.0, 'MDT': 0.0, 'MET': 0.0, 'MMM': 0.0, 'MOH': 1229.6567363113902, 'MPC': 0.0, 'MTB': 0.0, 'MU': 0.0, 'NDSN': 0.0, 'NEE': 9260.853087480484, 'NEM': 0.0, 'NKE': 0.0, 'NWL': 0.0, 'NWS': 0.0, 'O': 0.0, 'ODFL': 0.0, 'OMC': 0.0, 'PCG': 0.0, 'POOL': 0.0, 'PPL': 0.0, 'PWR': 0.0, 'REGN': 0.0, 'RF': 0.0, 'RHI': 0.0, 'RL': 0.0, 'RMD': 1216.9068871459524, 'SCHW': 0.0, 'SHW': 0.0, 'SJM': 0.0, 'SLB': 0.0, 'SRE': 0.0, 'STLD': 0.0, 'STT': 0.0, 'TDY': 0.0, 'TECH': 0.0, 'TER': 0.0, 'TMUS': 0.0, 'TSCO': 0.0, 'TXN': 0.0, 'TXT': 0.0, 'ULTA': 0.0, 'UNH': 0.0, 'UNP': 0.0, 'URI': 0.0, 'VFC': 0.0, 'WMB': 0.0, 'ZION': 0.0, 'ZTS': 0.0}\n",
            "prezzi iniziali\n",
            "{'AAL': 31.96315574645996, 'AAPL': 38.04704666137695, 'AIZ': 82.90828704833984, 'AMAT': 31.840417861938477, 'AMD': 18.829999923706055, 'AME': 65.69674682617188, 'AMGN': 168.91690063476562, 'APA': 25.022830963134766, 'AWK': 82.83885955810547, 'BSX': 34.459999084472656, 'CB': 117.59587860107422, 'CBOE': 95.88999938964844, 'CDAY': 33.7599983215332, 'CL': 53.53910827636719, 'CME': 161.77880859375, 'CSGP': 33.47200012207031, 'CSX': 19.565162658691406, 'D': 59.99431228637695, 'DD': 71.4692611694336, 'DFS': 53.97394561767578, 'DGX': 75.33600616455078, 'DUK': 71.25414276123047, 'DVA': 51.72999954223633, 'EA': 79.27983856201172, 'ED': 64.18599700927734, 'EPAM': 114.31999969482422, 'EQIX': 326.78369140625, 'EXPE': 110.29669952392578, 'FIS': 95.97762298583984, 'FRT': 98.98817443847656, 'GD': 141.51174926757812, 'GEN': 10.040640830993652, 'GIS': 33.31303405761719, 'GL': 73.7015609741211, 'GM': 31.676301956176758, 'GNRC': 50.9900016784668, 'GPC': 83.96989440917969, 'HAL': 25.24089241027832, 'HD': 156.67311096191406, 'HIG': 39.20661163330078, 'HRL': 37.82558059692383, 'HSIC': 59.913726806640625, 'HST': 14.860940933227539, 'ICE': 71.59393310546875, 'ISRG': 155.3433380126953, 'IT': 125.8499984741211, 'IVZ': 13.7296142578125, 'JNJ': 114.14421081542969, 'KO': 41.41399002075195, 'LNT': 36.29144287109375, 'LOW': 85.60740661621094, 'MCHP': 33.524940490722656, 'MCK': 108.73507690429688, 'MDT': 79.883056640625, 'MET': 35.7626953125, 'MMM': 163.4301300048828, 'MOH': 112.88999938964844, 'MPC': 50.54255676269531, 'MTB': 127.4527816772461, 'MU': 32.75, 'NDSN': 112.47022247314453, 'NEE': 38.75114440917969, 'NEM': 30.14487075805664, 'NKE': 71.08174133300781, 'NWL': 15.046051025390625, 'NWS': 11.049090385437012, 'O': 50.23440933227539, 'ODFL': 80.9568099975586, 'OMC': 62.426483154296875, 'PCG': 23.799999237060547, 'POOL': 140.56619262695312, 'PPL': 23.076852798461914, 'PWR': 29.51142120361328, 'REGN': 372.44000244140625, 'RF': 12.178787231445312, 'RHI': 51.83853530883789, 'RL': 97.16053009033203, 'RMD': 107.59068298339844, 'SCHW': 39.199241638183594, 'SHW': 125.83967590332031, 'SJM': 82.65786743164062, 'SLB': 32.79616928100586, 'SRE': 93.98270416259766, 'STLD': 27.471450805664062, 'STT': 56.47589874267578, 'TDY': 205.7899932861328, 'TECH': 34.805274963378906, 'TER': 31.079452514648438, 'TMUS': 65.26000213623047, 'TSCO': 77.4662857055664, 'TXN': 84.1985855102539, 'TXT': 45.80577087402344, 'ULTA': 247.97000122070312, 'UNH': 229.36041259765625, 'UNP': 125.74244689941406, 'URI': 105.2756576538086, 'VFC': 59.357730865478516, 'WMB': 17.364601135253906, 'ZION': 36.702110290527344, 'ZTS': 82.21167755126953}\n",
            "prezzi finali\n",
            "{'AAL': 18.75, 'AAPL': 182.00999450683594, 'AIZ': 155.6200714111328, 'AMAT': 159.92999267578125, 'AMD': 150.24000549316406, 'AME': 143.6699981689453, 'AMGN': 226.69000244140625, 'APA': 27.951675415039062, 'AWK': 183.42652893066406, 'BSX': 43.119998931884766, 'CB': 191.44000244140625, 'CBOE': 128.4600067138672, 'CDAY': 104.94000244140625, 'CL': 84.13297271728516, 'CME': 225.4600067138672, 'CSGP': 78.83999633789062, 'CSX': 37.08000183105469, 'D': 77.69757080078125, 'DD': 80.30777740478516, 'DFS': 118.17485046386719, 'DGX': 160.45419311523438, 'DUK': 102.46560668945312, 'DVA': 115.43000030517578, 'EA': 134.9499969482422, 'ED': 84.3199234008789, 'EPAM': 642.2000122070312, 'EQIX': 836.1099853515625, 'EXPE': 184.97000122070312, 'FIS': 113.87999725341797, 'FRT': 136.72000122070312, 'GD': 206.29510498046875, 'GEN': 26.329999923706055, 'GIS': 66.75916290283203, 'GL': 94.74756622314453, 'GM': 61.16999816894531, 'GNRC': 347.9100036621094, 'GPC': 136.9417724609375, 'HAL': 23.904142379760742, 'HD': 408.6400146484375, 'HIG': 69.13169860839844, 'HRL': 48.87199783325195, 'HSIC': 77.43000030517578, 'HST': 17.65999984741211, 'ICE': 133.9499969482422, 'ISRG': 360.0, 'IT': 321.9599914550781, 'IVZ': 23.116498947143555, 'JNJ': 170.4458770751953, 'KO': 59.29999923706055, 'LNT': 60.849998474121094, 'LOW': 254.67019653320312, 'MCHP': 88.0, 'MCK': 247.67657470703125, 'MDT': 106.0999984741211, 'MET': 62.79007339477539, 'MMM': 176.038330078125, 'MOH': 316.57000732421875, 'MPC': 65.17891693115234, 'MTB': 157.16156005859375, 'MU': 95.75, 'NDSN': 251.02999877929688, 'NEE': 91.15513610839844, 'NEM': 60.97999954223633, 'NKE': 164.6699981689453, 'NWL': 22.110000610351562, 'NWS': 22.646610260009766, 'O': 70.68795776367188, 'ODFL': 346.3699951171875, 'OMC': 73.88999938964844, 'PCG': 12.210000038146973, 'POOL': 550.25, 'PPL': 30.139999389648438, 'PWR': 112.2699966430664, 'REGN': 627.0999755859375, 'RF': 22.670000076293945, 'RHI': 109.04203033447266, 'RL': 120.91999816894531, 'RMD': 259.057861328125, 'SCHW': 85.57853698730469, 'SHW': 338.3341979980469, 'SJM': 135.80819702148438, 'SLB': 31.621540069580078, 'SRE': 131.99000549316406, 'STLD': 61.65999984741211, 'STT': 94.44999694824219, 'TDY': 442.1700134277344, 'TECH': 121.94750213623047, 'TER': 166.11000061035156, 'TMUS': 114.43000030517578, 'TSCO': 235.72000122070312, 'TXN': 190.60000610351562, 'TXT': 76.33999633789062, 'ULTA': 413.2300109863281, 'UNH': 502.2799987792969, 'UNP': 246.56231689453125, 'URI': 330.6400146484375, 'VFC': 73.70999908447266, 'WMB': 26.5, 'ZION': 64.23999786376953, 'ZTS': 233.65476989746094}\n",
            "\n",
            "\n"
          ]
        }
      ],
      "source": [
        "for i in range(n):\n",
        "  print(portfolios[i])\n",
        "  #print(initial_weights[i])\n",
        "  print(\"quantita iniziali\")\n",
        "  print(portfolio_quantities_opt1[i])\n",
        "  print(\"quantita finali\")\n",
        "  print(portfolio_quantities_tf_opt1[i])\n",
        "  print(\"prezzi iniziali\")\n",
        "  print(close_prices_t0[i])\n",
        "  print(\"prezzi finali\")\n",
        "  print(close_prices_tf[i])\n",
        "  #print(portfolio_stocks[i])\n",
        "  print(\"\\n\")"
      ]
    },
    {
      "cell_type": "markdown",
      "metadata": {
        "id": "qh0X6rPTMbJR"
      },
      "source": [
        "#portfolio dopo 2 ottimizzazione"
      ]
    },
    {
      "cell_type": "code",
      "execution_count": null,
      "metadata": {
        "colab": {
          "background_save": true
        },
        "id": "W0JkcQCrMddV"
      },
      "outputs": [],
      "source": [
        "# Capitale iniziale\n",
        "capital = 10000\n",
        "\n",
        "# Array vuoto per i dizionari delle quantità\n",
        "portfolio_quantities_opt2 = []\n",
        "\n",
        "# Loop sui portfoli per creare i dizionari delle quantità\n",
        "for i, portfolio in enumerate(portfolios):\n",
        "    # Accedi ai pesi normalizzati per questo portfolio\n",
        "    weights_dict = cleaned_weights_vol[i]\n",
        "    # Calcola le quantità di denaro da allocare per ogni stock\n",
        "    amounts = [weights_dict[stock] * capital for stock in portfolio]\n",
        "    # Crea un dizionario delle quantità per questo portfolio\n",
        "    portfolio_dict = dict(zip(portfolio, amounts))\n",
        "    # Aggiungi il dizionario alla lista di dizionari delle quantità\n",
        "    portfolio_quantities_opt2.append(portfolio_dict)"
      ]
    },
    {
      "cell_type": "code",
      "execution_count": null,
      "metadata": {
        "colab": {
          "background_save": true
        },
        "id": "JtFhT_dfMqyr"
      },
      "outputs": [],
      "source": [
        "# Array vuoto per i nuovi dizionari contenenti le azioni e il numero di azioni acquistabili\n",
        "portfolio_stocks_opt2 = []\n",
        "\n",
        "# Loop sui portfoli per creare i nuovi dizionari\n",
        "for i, portfolio_dict in enumerate(portfolio_quantities_opt2):\n",
        "    # Crea un nuovo dizionario per questo portfolio\n",
        "    new_dict = {}\n",
        "    for stock, investment in portfolio_dict.items():\n",
        "        # Accedi al prezzo di chiusura per questa azione\n",
        "        closing_price = close_prices_t0[i][stock]\n",
        "        # Calcola la quantità di azioni acquistabile in base all'investimento e il prezzo di chiusura\n",
        "        quantity = (investment / closing_price)\n",
        "        # Aggiungi l'azione e il numero di azioni acquistabili al dizionario\n",
        "        new_dict[stock] = quantity\n",
        "    # Aggiungi il nuovo dizionario alla lista di nuovi dizionari\n",
        "    portfolio_stocks_opt2.append(new_dict)"
      ]
    },
    {
      "cell_type": "code",
      "execution_count": null,
      "metadata": {
        "colab": {
          "background_save": true
        },
        "id": "J1y6YtuEMxMt"
      },
      "outputs": [],
      "source": [
        "# Array vuoto per i nuovi dizionari contenenti le azioni e il numero di azioni acquistabili\n",
        "portfolio_quantities_tf_opt2 = []\n",
        "\n",
        "# Loop sui portfoli per creare i nuovi portfolio_stocks_opt1\n",
        "for i, portfolio_dict in enumerate(portfolio_stocks_opt2):\n",
        "    # Crea un nuovo dizionario per questo portfolio\n",
        "    new_dict = {}\n",
        "    for stock, investment in portfolio_dict.items():\n",
        "        # Accedi al prezzo di chiusura per questa azione\n",
        "        closing_price = close_prices_tf[i][stock]\n",
        "        # Calcola la quantità di azioni acquistabile in base all'investimento e il prezzo di chiusura\n",
        "        quantity = (investment * closing_price)\n",
        "        # Aggiungi l'azione e il numero di azioni acquistabili al dizionario\n",
        "        new_dict[stock] = quantity\n",
        "    # Aggiungi il nuovo dizionario alla lista di nuovi dizionari\n",
        "    portfolio_quantities_tf_opt2.append(new_dict)"
      ]
    },
    {
      "cell_type": "markdown",
      "metadata": {
        "id": "upTN7rC-zSWT"
      },
      "source": [
        "#Portfolio optimization using custom defined function and minimize libary"
      ]
    },
    {
      "cell_type": "code",
      "execution_count": null,
      "metadata": {
        "colab": {
          "background_save": true
        },
        "id": "jondfpxmzaPO"
      },
      "outputs": [],
      "source": [
        "#Define the lambda parameter\n",
        "lambd = 0.6\n",
        "\n",
        "#Define the objective function\n",
        "def objective_function(x, lambd, Q, a):\n",
        "    return -np.dot(a,x) + lambd*np.dot(x,np.dot(Q,x))\n",
        "\n",
        "#Define the optimization constraints\n",
        "cons = {'type':'eq', 'fun':lambda x: np.sum(x)-1}\n",
        "\n",
        "minimized_weights = []\n",
        "\n",
        "for i in range(n):\n",
        "  current_p = portfolios[i]\n",
        "  current_cm = cov_matrix_annual[i]\n",
        "  current_w = np.array(list(initial_weights[i].values()))\n",
        "  current_r = returns[i]\n",
        "  #Run the optimization\n",
        "  current_min = minimize(objective_function, current_w, args=(lambd,current_cm,np.mean(current_r, axis=0)), constraints=cons, bounds=[(0,1) for j in range(len(current_p))])\n",
        "  minimized_weights.append(current_min)"
      ]
    },
    {
      "cell_type": "code",
      "execution_count": null,
      "metadata": {
        "colab": {
          "background_save": true
        },
        "id": "GhIHphnpNpAB"
      },
      "outputs": [],
      "source": [
        "#Create array of dictionaries to contain the stocks of each portfolio and the minimized weights\n",
        "optimized_weights =[]\n",
        "\n",
        "for stocks, peso_portfolio in zip(portfolios, minimized_weights):\n",
        "    peso_dict = {}\n",
        "    for stock, peso in zip(stocks, peso_portfolio.x):\n",
        "        peso_dict[stock] = peso\n",
        "    optimized_weights.append(peso_dict)"
      ]
    },
    {
      "cell_type": "code",
      "execution_count": null,
      "metadata": {
        "colab": {
          "background_save": true
        },
        "id": "3--WPa9iO3ff"
      },
      "outputs": [],
      "source": [
        "# Capitale iniziale\n",
        "capital = 10000\n",
        "\n",
        "# Array vuoto per i dizionari delle quantità\n",
        "portfolio_quantities_opt3 = []\n",
        "\n",
        "# Loop sui portfoli per creare i dizionari delle quantità\n",
        "for i, portfolio in enumerate(portfolios):\n",
        "    # Accedi ai pesi normalizzati per questo portfolio\n",
        "    weights_dict = optimized_weights[i]\n",
        "    # Calcola le quantità di denaro da allocare per ogni stock\n",
        "    amounts = [weights_dict[stock] * capital for stock in portfolio]\n",
        "    # Crea un dizionario delle quantità per questo portfolio\n",
        "    portfolio_dict = dict(zip(portfolio, amounts))\n",
        "    # Aggiungi il dizionario alla lista di dizionari delle quantità\n",
        "    portfolio_quantities_opt3.append(portfolio_dict)"
      ]
    },
    {
      "cell_type": "code",
      "execution_count": null,
      "metadata": {
        "colab": {
          "background_save": true
        },
        "id": "93BWQkBXO9TK"
      },
      "outputs": [],
      "source": [
        "# Array vuoto per i nuovi dizionari contenenti le azioni e il numero di azioni acquistabili\n",
        "portfolio_stocks_opt3 = []\n",
        "\n",
        "# Loop sui portfoli per creare i nuovi dizionari\n",
        "for i, portfolio_dict in enumerate(portfolio_quantities_opt3):\n",
        "    # Crea un nuovo dizionario per questo portfolio\n",
        "    new_dict = {}\n",
        "    for stock, investment in portfolio_dict.items():\n",
        "        # Accedi al prezzo di chiusura per questa azione\n",
        "        closing_price = close_prices_t0[i][stock]\n",
        "        # Calcola la quantità di azioni acquistabile in base all'investimento e il prezzo di chiusura\n",
        "        quantity = (investment / closing_price)\n",
        "        # Aggiungi l'azione e il numero di azioni acquistabili al dizionario\n",
        "        new_dict[stock] = quantity\n",
        "    # Aggiungi il nuovo dizionario alla lista di nuovi dizionari\n",
        "    portfolio_stocks_opt3.append(new_dict)"
      ]
    },
    {
      "cell_type": "code",
      "execution_count": null,
      "metadata": {
        "colab": {
          "background_save": true
        },
        "id": "PDj4lTJvPD_H"
      },
      "outputs": [],
      "source": [
        "# Array vuoto per i nuovi dizionari contenenti le azioni e il numero di azioni acquistabili\n",
        "portfolio_quantities_tf_opt3 = []\n",
        "\n",
        "# Loop sui portfoli per creare i nuovi portfolio_stocks_opt1\n",
        "for i, portfolio_dict in enumerate(portfolio_stocks_opt3):\n",
        "    # Crea un nuovo dizionario per questo portfolio\n",
        "    new_dict = {}\n",
        "    for stock, investment in portfolio_dict.items():\n",
        "        # Accedi al prezzo di chiusura per questa azione\n",
        "        closing_price = close_prices_tf[i][stock]\n",
        "        # Calcola la quantità di azioni acquistabile in base all'investimento e il prezzo di chiusura\n",
        "        quantity = (investment * closing_price)\n",
        "        # Aggiungi l'azione e il numero di azioni acquistabili al dizionario\n",
        "        new_dict[stock] = quantity\n",
        "    # Aggiungi il nuovo dizionario alla lista di nuovi dizionari\n",
        "    portfolio_quantities_tf_opt3.append(new_dict)"
      ]
    },
    {
      "cell_type": "code",
      "execution_count": null,
      "metadata": {
        "colab": {
          "background_save": true
        },
        "id": "-dpF2csE0tLY"
      },
      "outputs": [],
      "source": [
        "#PERFOMANCES AFTER OPTIMIZATION 3: CUSTOM FUNCTION\n",
        "opt_returns = []\n",
        "opt_annual_return = []\n",
        "opt_risk = []\n",
        "opt_percentages = []\n",
        "\n",
        "for i in range(n):\n",
        "  current_min_w = minimized_weights[i]\n",
        "  current_r = returns[i]\n",
        "  current_cm = cov_matrix_annual[i]\n",
        "\n",
        "  #Calculate the expected return\n",
        "  expected_return = np.dot(current_min_w.x,np.mean(current_r, axis=0))*100\n",
        "  opt_returns.append(expected_return)\n",
        "\n",
        "  #Calculate the annual return\n",
        "  annual_return = expected_return*252\n",
        "  opt_annual_return.append(annual_return)\n",
        "  \n",
        "  #Calculate the expected risk\n",
        "  expected_risk = np.sqrt(np.dot(current_min_w.x,np.dot(current_cm,current_min_w.x)))*100\n",
        "  opt_risk.append(expected_risk)\n",
        "\n",
        "  #calculate percentage for each stock\n",
        "  percentages = current_min_w.x/np.sum(current_min_w.x)\n",
        "  opt_percentages.append(percentages)"
      ]
    },
    {
      "cell_type": "code",
      "execution_count": null,
      "metadata": {
        "colab": {
          "background_save": true
        },
        "id": "L661mNEkqpYK",
        "outputId": "f2eafd3c-cae3-49da-e1b5-09180aa350fb"
      },
      "outputs": [
        {
          "data": {
            "image/png": "[encoded data removed]",
            "text/plain": [
              "<Figure size 640x480 with 1 Axes>"
            ]
          },
          "metadata": {},
          "output_type": "display_data"
        }
      ],
      "source": [
        "import matplotlib.pyplot as plt\n",
        "from scipy.interpolate import interp1d\n",
        "\n",
        "# Plot the optimized portfolios\n",
        "plt.scatter(opt_risk, opt_returns, alpha=0.3, label='Optimized Portfolios')\n",
        "\n",
        "# Interpolate the efficient frontier\n",
        "f = interp1d(opt_risk, opt_returns, kind='cubic')\n",
        "x = np.linspace(min(opt_risk), max(opt_risk), num=100)\n",
        "y = f(x)\n",
        "\n",
        "# Plot the efficient frontier\n",
        "plt.plot(x, y, 'r-', label='Efficient Frontier')\n",
        "\n",
        "plt.xlabel('Expected Risk')\n",
        "plt.ylabel('Expected Return')\n",
        "plt.title('Efficient Frontier')\n",
        "plt.legend()\n",
        "plt.show()\n"
      ]
    },
    {
      "cell_type": "markdown",
      "metadata": {
        "id": "SVxgnNGINFGn"
      },
      "source": [
        "#Risultati dei portfoli in termini di investimento monetario, capitale iniziale di 10.000 euro"
      ]
    },
    {
      "cell_type": "code",
      "execution_count": null,
      "metadata": {
        "colab": {
          "background_save": true
        },
        "id": "nCP_ucdbbe_t",
        "outputId": "e83f9c84-bd71-4e39-8943-b721fa6f4b8b"
      },
      "outputs": [
        {
          "name": "stdout",
          "output_type": "stream",
          "text": [
            "PERFOMANCES WITHOUT ANY OPTIMIZATION\n",
            "\n",
            " Portfolio  Investimento iniziale  Ritorno finale\n",
            "         1                10000.0    19715.758220\n",
            "         2                10000.0    19115.863850\n",
            "         3                10000.0    23129.492418\n",
            "         4                10000.0    22468.928138\n",
            "         5                10000.0    21868.310177\n",
            "         6                10000.0    22532.087208\n",
            "         7                10000.0    19430.362408\n",
            "         8                10000.0    24423.784323\n",
            "         9                10000.0    22463.127701\n",
            "        10                10000.0    21107.524374\n"
          ]
        }
      ],
      "source": [
        "#NO OPTIMIZATION\n",
        "print(\"PERFOMANCES WITHOUT ANY OPTIMIZATION\\n\")\n",
        "# Creazione di una lista di dizionari con i dati di investimento e ritorno per ogni portfolio\n",
        "portfolio_data = []\n",
        "for i in range(n):\n",
        "    data = {\"Portfolio\": i+1,\n",
        "            \"Investimento iniziale\": sum(portfolio_quantities[i].values()),\n",
        "            \"Ritorno finale\": sum(portfolio_quantities_tf[i].values())}\n",
        "    portfolio_data.append(data)\n",
        "\n",
        "# Creazione di un dataframe pandas con la lista di dizionari\n",
        "df = pd.DataFrame(portfolio_data)\n",
        "\n",
        "# Visualizzazione della tabella\n",
        "print(df.to_string(index=False))"
      ]
    },
    {
      "cell_type": "code",
      "execution_count": null,
      "metadata": {
        "colab": {
          "background_save": true
        },
        "id": "sUsq4y0Jg8FA",
        "outputId": "2fa0ba30-2e80-439b-a6b7-8a81324fc563"
      },
      "outputs": [
        {
          "name": "stdout",
          "output_type": "stream",
          "text": [
            "dict_values([214.03618635792228, 119.30342936067758, 166.4101009441349, 176.13485147130916, 73.82228184799706, 195.51575943997307, 244.00241449845143, 1018.7097644405801, 73.90591086254936, 298.799092763783, 267.3054108662271, 257.4500103461477, 146.62339289464498, 109.54979378771948, 263.8887292611302, 229.88573078264307, 239.97962691611554, 0.08461580139542794, 323.78964874687, 128.25122146601706, 307.5216850811707, 187.35554479641334, 109.0271848826191, 23.22477790433629, 11.88736589716201, 13.670941699035764, 120.10484769538051, 189.85284152818724, 361.1902877028976, 188.33032806340438, 264.6758471378224, 372.7167071197726, 124.9524525613214, 110.59317096773698, 314.5776608260181, 317.96521581018317, 294.6851233143197, 209.2533606591606, 91.81131634146655, 120.02891706360637, 94.64044894790267, 221.05643977897597, 183.78177967468739, 143.8833970541941, 71.5352776536925, 172.96359849101293, 150.05773219466056, 67.79198995462328, 44.9357314561662, 56.846622044384446, 87.08370133103134, 256.2204505965283, 22.647578512082855, 169.46632906293323, 240.64536083871738, 154.99054352964546, 194.11961525090706, 146.9742021972233, 243.68893522613533, 92.21486619527347, 125.67732528298902, 193.84769086012204, 224.16893677023933, 348.5933709158421, 83.26825975214233, 135.56508291544202, 125.42139436765893, 434.67893114788467, 257.38527441155156, 116.04968609439133, 251.69458815862023, 361.0128141740862, 302.15701136776926, 203.17905258253094, 260.05968298850394, 135.31930797720275, 134.21551401823993, 111.89761087673637, 11.422552266596993, 303.1174394211344, 262.8430529515759, 460.31714253754683, 301.61970077725846, 182.81530994558324, 158.69956315365525, 291.7425884504073, 261.49234798868247, 171.9495898603533, 240.49369384524175, 216.48316511012393, 43.0473348441114, 352.22302935970555, 193.90932437418746, 282.27844356561457, 234.12162469216295, 284.50300562673556, 269.25114368985913, 95.90208749772282, 188.42455122603457, 8.491844374498179])\n"
          ]
        }
      ],
      "source": [
        "print(portfolio_quantities_tf[0].values())"
      ]
    },
    {
      "cell_type": "code",
      "execution_count": null,
      "metadata": {
        "colab": {
          "background_save": true
        },
        "id": "u56LgtQBf1k4",
        "outputId": "a2d581e9-dba3-4442-a368-6f7f2bc55d40"
      },
      "outputs": [
        {
          "data": {
            "application/javascript": [
              "\n",
              "    async function download(id, filename, size) {\n",
              "      if (!google.colab.kernel.accessAllowed) {\n",
              "        return;\n",
              "      }\n",
              "      const div = document.createElement('div');\n",
              "      const label = document.createElement('label');\n",
              "      label.textContent = `Downloading \"${filename}\": `;\n",
              "      div.appendChild(label);\n",
              "      const progress = document.createElement('progress');\n",
              "      progress.max = size;\n",
              "      div.appendChild(progress);\n",
              "      document.body.appendChild(div);\n",
              "\n",
              "      const buffers = [];\n",
              "      let downloaded = 0;\n",
              "\n",
              "      const channel = await google.colab.kernel.comms.open(id);\n",
              "      // Send a message to notify the kernel that we're ready.\n",
              "      channel.send({})\n",
              "\n",
              "      for await (const message of channel.messages) {\n",
              "        // Send a message to notify the kernel that we're ready.\n",
              "        channel.send({})\n",
              "        if (message.buffers) {\n",
              "          for (const buffer of message.buffers) {\n",
              "            buffers.push(buffer);\n",
              "            downloaded += buffer.byteLength;\n",
              "            progress.value = downloaded;\n",
              "          }\n",
              "        }\n",
              "      }\n",
              "      const blob = new Blob(buffers, {type: 'application/binary'});\n",
              "      const a = document.createElement('a');\n",
              "      a.href = window.URL.createObjectURL(blob);\n",
              "      a.download = filename;\n",
              "      div.appendChild(a);\n",
              "      a.click();\n",
              "      div.remove();\n",
              "    }\n",
              "  "
            ],
            "text/plain": [
              "<IPython.core.display.Javascript object>"
            ]
          },
          "metadata": {},
          "output_type": "display_data"
        },
        {
          "data": {
            "application/javascript": [
              "download(\"download_a822bd97-4f21-4872-9340-d483d12d9b9b\", \"fig2.pdf\", 16382)"
            ],
            "text/plain": [
              "<IPython.core.display.Javascript object>"
            ]
          },
          "metadata": {},
          "output_type": "display_data"
        },
        {
          "data": {
            "image/png": "[encoded data removed]",
            "text/plain": [
              "<Figure size 640x480 with 1 Axes>"
            ]
          },
          "metadata": {},
          "output_type": "display_data"
        }
      ],
      "source": [
        "import matplotlib.pyplot as plt\n",
        "i=9\n",
        "  # Definizione dei dati da visualizzare\n",
        "anni = ['Gen 2017', 'Gen 2019', 'Gen 2022']\n",
        "budget_2017 = 0\n",
        "budget_2019 = 10000\n",
        "budget_2022 = [sum(portfolio_quantities_tf[i].values()), sum(portfolio_quantities_tf_opt1[i].values()),\n",
        "               sum(portfolio_quantities_tf_opt2[i].values()),sum(portfolio_quantities_tf_opt3[i].values())]\n",
        "colors = ['blue', 'green', 'red', 'purple']\n",
        "color_2019 = 'black'\n",
        "color_2017 = 'yellow'\n",
        "\n",
        "plt.title(f\"Andamento del portafoglio {i+1}\")\n",
        "# Creazione del grafico\n",
        "plt.scatter([anni[0]]*1, [budget_2017], marker='o', s=100, color=(color_2017))\n",
        "plt.scatter([anni[1]]*1, [budget_2019], marker='o', s=100, color=color_2019)\n",
        "for i in range(len(budget_2022)):\n",
        "  plt.scatter([anni[2]]*1, [budget_2022[i]], marker='o', s=100, color=colors[i])\n",
        "  plt.xticks(anni)\n",
        "  plt.ylim(bottom=2000)\n",
        "  plt.xlabel('Anno')\n",
        "  plt.ylabel('Budget (€)')\n",
        "  plt.legend(['2017','Inital Budget', 'No opt', 'Opt 1', 'Opt 2','Opt 3'], loc='upper left')\n",
        "#Download plot\n",
        "plt.savefig(\"fig2.pdf\")\n",
        "from google.colab import files\n",
        "files.download(\"fig2.pdf\")\n",
        "plt.show()\n"
      ]
    },
    {
      "cell_type": "code",
      "execution_count": null,
      "metadata": {
        "colab": {
          "background_save": true
        },
        "id": "bBZ96x13bw17",
        "outputId": "268529b4-1cb1-4fd8-d594-6940282aa226"
      },
      "outputs": [
        {
          "name": "stdout",
          "output_type": "stream",
          "text": [
            "PERFOMANCES AFTER OPTIMIZATION 1: MAXIMIZE SHARPE RATIO\n",
            "\n",
            " Portfolio  Investimento iniziale  Ritorno finale\n",
            "         1                 9999.9    19482.850819\n",
            "         2                 9999.9    19572.716582\n",
            "         3                10000.0    24666.886273\n",
            "         4                10000.1    20503.844487\n",
            "         5                10000.0    22429.995606\n",
            "         6                 9999.9    40688.712658\n",
            "         7                10000.2    20220.880739\n",
            "         8                 9999.8    28300.878047\n",
            "         9                10000.0    18011.460046\n",
            "        10                10000.0    20821.179143\n"
          ]
        }
      ],
      "source": [
        "#PERFOMANCES AFTER OPTIMIZATION 1: MAXIMIZE SHARPE RATIO\n",
        "print(\"PERFOMANCES AFTER OPTIMIZATION 1: MAXIMIZE SHARPE RATIO\\n\")\n",
        "# Creazione di una lista di dizionari con i dati di investimento e ritorno per ogni portfolio\n",
        "portfolio_data_opt1 = []\n",
        "for i in range(n):\n",
        "    data = {\"Portfolio\": i+1,\n",
        "            \"Investimento iniziale\": sum(portfolio_quantities_opt1[i].values()),\n",
        "            \"Ritorno finale\": sum(portfolio_quantities_tf_opt1[i].values())}\n",
        "    portfolio_data_opt1.append(data)\n",
        "\n",
        "# Creazione di un dataframe pandas con la lista di dizionari\n",
        "df_opt1 = pd.DataFrame(portfolio_data_opt1)\n",
        "\n",
        "# Visualizzazione della tabella\n",
        "print(df_opt1.to_string(index=False))"
      ]
    },
    {
      "cell_type": "code",
      "execution_count": null,
      "metadata": {
        "colab": {
          "background_save": true
        },
        "id": "Q1uI94ZPcNH2",
        "outputId": "ae3264c3-0f4e-44e3-98ae-5cb26d038bc0"
      },
      "outputs": [
        {
          "name": "stdout",
          "output_type": "stream",
          "text": [
            "PERFOMANCES AFTER OPTIMIZATION 2: MINIMIZE VOLATILITY\n",
            "\n",
            " Portfolio  Investimento iniziale  Ritorno finale\n",
            "         1                10000.0    16950.860255\n",
            "         2                 9999.9    17138.930332\n",
            "         3                 9999.4    17041.093619\n",
            "         4                 9999.3    18596.748016\n",
            "         5                10000.1    16740.773028\n",
            "         6                10000.1    16383.696866\n",
            "         7                 9999.9    17269.945007\n",
            "         8                 9999.9    16033.123123\n",
            "         9                10000.0    17183.658161\n",
            "        10                10000.0    16242.423968\n"
          ]
        }
      ],
      "source": [
        "#PERFOMANCES AFTER OPTIMIZATION 2: MINIMIZE VOLATILITY\n",
        "print(\"PERFOMANCES AFTER OPTIMIZATION 2: MINIMIZE VOLATILITY\\n\")\n",
        "# Creazione di una lista di dizionari con i dati di investimento e ritorno per ogni portfolio\n",
        "portfolio_data_opt2 = []\n",
        "for i in range(n):\n",
        "    data = {\"Portfolio\": i+1,\n",
        "            \"Investimento iniziale\": sum(portfolio_quantities_opt2[i].values()),\n",
        "            \"Ritorno finale\": sum(portfolio_quantities_tf_opt2[i].values())}\n",
        "    portfolio_data_opt2.append(data)\n",
        "\n",
        "# Creazione di un dataframe pandas con la lista di dizionari\n",
        "df_opt2 = pd.DataFrame(portfolio_data_opt2)\n",
        "\n",
        "# Visualizzazione della tabella\n",
        "print(df_opt2.to_string(index=False))"
      ]
    },
    {
      "cell_type": "code",
      "execution_count": null,
      "metadata": {
        "colab": {
          "background_save": true
        },
        "id": "Mjf-qXLVcYJU",
        "outputId": "71a8a6bc-9a14-43c3-ea96-3dab0512e8f7"
      },
      "outputs": [
        {
          "name": "stdout",
          "output_type": "stream",
          "text": [
            "PERFOMANCES AFTER OPTIMIZATION 3: CUSTOM FUNCTION\n",
            "\n",
            " Portfolio  Investimento iniziale  Ritorno finale\n",
            "         1                10000.0    17391.055668\n",
            "         2                10000.0    17111.477766\n",
            "         3                10000.0    17585.136492\n",
            "         4                10000.0    18746.068011\n",
            "         5                10000.0    17145.214293\n",
            "         6                10000.0    17932.867984\n",
            "         7                10000.0    17326.563261\n",
            "         8                10000.0    17822.325525\n",
            "         9                10000.0    17200.343897\n",
            "        10                10000.0    17680.140148\n"
          ]
        }
      ],
      "source": [
        "#PERFOMANCES AFTER OPTIMIZATION 3: CUSTOM FUNCTION\n",
        "print(\"PERFOMANCES AFTER OPTIMIZATION 3: CUSTOM FUNCTION\\n\")\n",
        "# Creazione di una lista di dizionari con i dati di investimento e ritorno per ogni portfolio\n",
        "portfolio_data_opt3 = []\n",
        "for i in range(n):\n",
        "    data = {\"Portfolio\": i+1,\n",
        "            \"Investimento iniziale\": sum(portfolio_quantities_opt3[i].values()),\n",
        "            \"Ritorno finale\": sum(portfolio_quantities_tf_opt3[i].values())}\n",
        "    portfolio_data_opt3.append(data)\n",
        "\n",
        "# Creazione di un dataframe pandas con la lista di dizionari\n",
        "df_opt3 = pd.DataFrame(portfolio_data_opt3)\n",
        "\n",
        "# Visualizzazione della tabella\n",
        "print(df_opt3.to_string(index=False))"
      ]
    },
    {
      "cell_type": "markdown",
      "metadata": {
        "id": "ClyHYuBVPoGi"
      },
      "source": [
        "#risultati in termini di rendimento e volatilità "
      ]
    },
    {
      "cell_type": "code",
      "execution_count": null,
      "metadata": {
        "colab": {
          "background_save": true
        },
        "id": "Y8MS1rhkcvSQ",
        "outputId": "3b4072a0-856f-41c5-fdd0-eb5beb7b1090"
      },
      "outputs": [
        {
          "name": "stdout",
          "output_type": "stream",
          "text": [
            "Portfolio Exp. ann. return Ann. volatility (risk) Ann. variance\n",
            "        1            9.48%                 12.35%         1.52%\n",
            "        2            7.14%                 12.02%         1.45%\n",
            "        3            3.39%                 13.82%         1.91%\n",
            "        4           10.45%                 13.24%         1.75%\n",
            "        5            8.63%                 12.42%         1.54%\n",
            "        6            7.75%                 13.67%         1.87%\n",
            "        7           11.47%                 11.60%         1.34%\n",
            "        8           10.34%                 12.41%         1.54%\n",
            "        9            8.68%                 13.47%         1.82%\n",
            "       10            7.85%                 12.56%         1.58%\n"
          ]
        }
      ],
      "source": [
        "\n",
        "#RESULTS WITHOUT OPTIMIZATION\n",
        "# Creazione di una lista di dizionari con i dati di perfomance per ogni portfolio\n",
        "perf_data = []\n",
        "for j in range(len(percent_variances)):\n",
        "    data = {\"Portfolio\": f\"{j+1}\",\n",
        "            \"Exp. ann. return\": f\"{percent_returns[j]:.2f}%\",\n",
        "            \"Ann. volatility (risk)\": f\"{percent_volatilities[j]:.2f}%\",\n",
        "            \"Ann. variance\": f\"{percent_variances[j]:.2f}%\"}\n",
        "    perf_data.append(data)\n",
        "\n",
        "# Creazione di un dataframe pandas con la lista di dizionari\n",
        "df = pd.DataFrame(perf_data)\n",
        "\n",
        "# Visualizzazione della tabella\n",
        "print(df.to_string(index=False))\n",
        "\n",
        "# Salvataggio del dataframe in un file CSV\n",
        "df.to_csv('performance.csv', index=False)"
      ]
    },
    {
      "cell_type": "code",
      "execution_count": null,
      "metadata": {
        "colab": {
          "background_save": true
        },
        "id": "QkW4s2WEzRtp",
        "outputId": "0d5c09d4-5f4f-4b0b-b5eb-bd27ce944f7c"
      },
      "outputs": [
        {
          "name": "stdout",
          "output_type": "stream",
          "text": [
            "PERFOMANCES AFTER OPTIMIZATION 1: MAXIMIZE SHARPE RATIO\n",
            "\n",
            "Portfolio '0':\n",
            "Expected annual return: 33.3%\n",
            "Annual volatility: 13.3%\n",
            "Sharpe Ratio: 2.35\n",
            "\n",
            "\n",
            "Portfolio '1':\n",
            "Expected annual return: 28.5%\n",
            "Annual volatility: 11.9%\n",
            "Sharpe Ratio: 2.24\n",
            "\n",
            "\n",
            "Portfolio '2':\n",
            "Expected annual return: 33.1%\n",
            "Annual volatility: 14.6%\n",
            "Sharpe Ratio: 2.13\n",
            "\n",
            "\n",
            "Portfolio '3':\n",
            "Expected annual return: 46.1%\n",
            "Annual volatility: 15.9%\n",
            "Sharpe Ratio: 2.77\n",
            "\n",
            "\n",
            "Portfolio '4':\n",
            "Expected annual return: 33.3%\n",
            "Annual volatility: 12.8%\n",
            "Sharpe Ratio: 2.44\n",
            "\n",
            "\n",
            "Portfolio '5':\n",
            "Expected annual return: 43.4%\n",
            "Annual volatility: 14.7%\n",
            "Sharpe Ratio: 2.81\n",
            "\n",
            "\n",
            "Portfolio '6':\n",
            "Expected annual return: 36.1%\n",
            "Annual volatility: 11.5%\n",
            "Sharpe Ratio: 2.98\n",
            "\n",
            "\n",
            "Portfolio '7':\n",
            "Expected annual return: 45.8%\n",
            "Annual volatility: 12.4%\n",
            "Sharpe Ratio: 3.53\n",
            "\n",
            "\n",
            "Portfolio '8':\n",
            "Expected annual return: 38.7%\n",
            "Annual volatility: 14.0%\n",
            "Sharpe Ratio: 2.61\n",
            "\n",
            "\n",
            "Portfolio '9':\n",
            "Expected annual return: 32.5%\n",
            "Annual volatility: 11.1%\n",
            "Sharpe Ratio: 2.75\n",
            "\n",
            "\n"
          ]
        }
      ],
      "source": [
        "#PERFOMANCES AFTER OPTIMIZATION 1: MAXIMIZE SHARPE RATIO\n",
        "#Print the results\n",
        "print(\"PERFOMANCES AFTER OPTIMIZATION 1: MAXIMIZE SHARPE RATIO\\n\")\n",
        "for i in range(len(frontiers_sharpe)):\n",
        "  print(f\"Portfolio '{i}':\")\n",
        "  frontiers_sharpe[i].portfolio_performance(verbose=True)\n",
        "  print(\"\\n\")"
      ]
    },
    {
      "cell_type": "code",
      "execution_count": null,
      "metadata": {
        "colab": {
          "background_save": true
        },
        "id": "dog0602tgkl5",
        "outputId": "509a7608-05b9-4f89-a878-877f36d57f7d"
      },
      "outputs": [
        {
          "name": "stdout",
          "output_type": "stream",
          "text": [
            "PERFOMANCES AFTER OPTIMIZATION 2: MINIMIZE VOLATILITY\n",
            "\n",
            "Portfolio '0':\n",
            "Expected annual return: 8.5%\n",
            "Annual volatility: 8.0%\n",
            "Sharpe Ratio: 0.82\n",
            "\n",
            "\n",
            "Portfolio '1':\n",
            "Expected annual return: 6.0%\n",
            "Annual volatility: 8.7%\n",
            "Sharpe Ratio: 0.46\n",
            "\n",
            "\n",
            "Portfolio '2':\n",
            "Expected annual return: 3.8%\n",
            "Annual volatility: 9.1%\n",
            "Sharpe Ratio: 0.20\n",
            "\n",
            "\n",
            "Portfolio '3':\n",
            "Expected annual return: 8.0%\n",
            "Annual volatility: 8.9%\n",
            "Sharpe Ratio: 0.68\n",
            "\n",
            "\n",
            "Portfolio '4':\n",
            "Expected annual return: 7.9%\n",
            "Annual volatility: 8.7%\n",
            "Sharpe Ratio: 0.68\n",
            "\n",
            "\n",
            "Portfolio '5':\n",
            "Expected annual return: 5.2%\n",
            "Annual volatility: 8.9%\n",
            "Sharpe Ratio: 0.36\n",
            "\n",
            "\n",
            "Portfolio '6':\n",
            "Expected annual return: 12.8%\n",
            "Annual volatility: 8.8%\n",
            "Sharpe Ratio: 1.23\n",
            "\n",
            "\n",
            "Portfolio '7':\n",
            "Expected annual return: 13.6%\n",
            "Annual volatility: 8.5%\n",
            "Sharpe Ratio: 1.36\n",
            "\n",
            "\n",
            "Portfolio '8':\n",
            "Expected annual return: 9.7%\n",
            "Annual volatility: 9.4%\n",
            "Sharpe Ratio: 0.82\n",
            "\n",
            "\n",
            "Portfolio '9':\n",
            "Expected annual return: 8.8%\n",
            "Annual volatility: 8.2%\n",
            "Sharpe Ratio: 0.83\n",
            "\n",
            "\n"
          ]
        }
      ],
      "source": [
        "#PERFOMANCES AFTER OPTIMIZATION 2: MINIMIZE VOLATILITY\n",
        "#Print the results\n",
        "print(\"PERFOMANCES AFTER OPTIMIZATION 2: MINIMIZE VOLATILITY\\n\")\n",
        "for i in range(len(frontiers_vol)):\n",
        "  print(f\"Portfolio '{i}':\")\n",
        "  frontiers_vol[i].portfolio_performance(verbose=True)\n",
        "  print(\"\\n\")"
      ]
    },
    {
      "cell_type": "code",
      "execution_count": null,
      "metadata": {
        "colab": {
          "background_save": true
        },
        "id": "LiqMzBUhef8v",
        "outputId": "fa9f77bf-f70d-40a3-8345-088c7c96f2d0"
      },
      "outputs": [
        {
          "name": "stdout",
          "output_type": "stream",
          "text": [
            "PERFOMANCES AFTER OPTIMIZATION 3: CUSTOM FUNCTION\n",
            "\n",
            "Portfolio Exp. ann. return Ann. volatility (risk)\n",
            "        1           11.67%                  8.07%\n",
            "        2           11.56%                  8.76%\n",
            "        3           11.60%                  9.00%\n",
            "        4           11.43%                  8.92%\n",
            "        5           12.25%                  8.80%\n",
            "        6           12.09%                  8.93%\n",
            "        7           16.41%                  8.86%\n",
            "        8           19.07%                  8.46%\n",
            "        9           14.19%                  9.28%\n",
            "       10           15.31%                  8.34%\n"
          ]
        }
      ],
      "source": [
        "#PERFOMANCES AFTER OPTIMIZATION 3: CUSTOM FUNCTION\n",
        "# Creazione di una lista di dizionari con i dati di perfomance per ogni portfolio\n",
        "perf_data_opt3 = []\n",
        "for j in range(n):\n",
        "    data = {\"Portfolio\": f\"{j+1}\",\n",
        "            \"Exp. ann. return\": f\"{opt_annual_return[j]:.2f}%\",\n",
        "            \"Ann. volatility (risk)\": f\"{opt_risk[j]:.2f}%\"}\n",
        "    perf_data_opt3.append(data)\n",
        "\n",
        "# Creazione di un dataframe pandas con la lista di dizionari\n",
        "df_opt3 = pd.DataFrame(perf_data_opt3)\n",
        "\n",
        "# Visualizzazione della tabella\n",
        "print(\"PERFOMANCES AFTER OPTIMIZATION 3: CUSTOM FUNCTION\\n\")\n",
        "print(df_opt3.to_string(index=False))"
      ]
    }
  ],
  "metadata": {
    "colab": {
      "collapsed_sections": [
        "4f_McWuapdOA",
        "0MNRScz_phsx",
        "MOwEOHSEbMrl",
        "-Chrqj-UZk04",
        "_hb0OsvVHwez",
        "_IdCKa6mpWZ1",
        "yrIdF5AdLPA4",
        "qh0X6rPTMbJR",
        "upTN7rC-zSWT"
      ],
      "provenance": [],
      "authorship_tag": "ABX9TyMhiLrOqziUlH6qHCqgvYCa",
      "include_colab_link": true
    },
    "kernelspec": {
      "display_name": "Python 3",
      "name": "python3"
    },
    "language_info": {
      "name": "python"
    }
  },
  "nbformat": 4,
  "nbformat_minor": 0
}